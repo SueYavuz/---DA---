{
  "nbformat": 4,
  "nbformat_minor": 0,
  "metadata": {
    "colab": {
      "name": "age_calculator.ipynb",
      "provenance": [],
      "authorship_tag": "ABX9TyNWztw1foHQRdIJte6kK11y",
      "include_colab_link": true
    },
    "kernelspec": {
      "name": "python3",
      "display_name": "Python 3"
    },
    "language_info": {
      "name": "python"
    }
  },
  "cells": [
    {
      "cell_type": "markdown",
      "metadata": {
        "id": "view-in-github",
        "colab_type": "text"
      },
      "source": [
        "<a href=\"https://colab.research.google.com/github/SueYavuz/ITF/blob/master/age_calculator.ipynb\" target=\"_parent\"><img src=\"https://colab.research.google.com/assets/colab-badge.svg\" alt=\"Open In Colab\"/></a>"
      ]
    },
    {
      "cell_type": "code",
      "execution_count": 2,
      "metadata": {
        "colab": {
          "base_uri": "https://localhost:8080/"
        },
        "id": "UCJ5mK0sG4xk",
        "outputId": "3b7ba67f-9c7d-494c-d5ac-6a5b0239d710"
      },
      "outputs": [
        {
          "output_type": "stream",
          "name": "stdout",
          "text": [
            "Your Birth Date: (DAY.MOON.YEAR) 01.01.2001\n",
            "Your Life Day: 7786\n",
            "Your Age (Gregorian): 0022-04-26\n"
          ]
        }
      ],
      "source": [
        "from datetime import date, datetime\n",
        "\n",
        "\n",
        "def age_calculator():\n",
        "\n",
        "    birth = input(\"Your Birth Date: (DAY.MOON.YEAR) \")\n",
        "\n",
        "    to_ordinal_date1 = datetime.strptime(birth, \"%d.%m.%Y\").toordinal()\n",
        "    to_ordinal_date2 = datetime.today().toordinal()\n",
        "\n",
        "    ordinal = (to_ordinal_date2 - to_ordinal_date1)     # ordinal\n",
        "    gregorian = date.fromordinal(ordinal)               # Gregorian Ordinal\n",
        "\n",
        "    print(f\"Your Life Day: {ordinal}\")\n",
        "    print(f'Your Age (Gregorian): {gregorian}')\n",
        "\n",
        "\n",
        "if __name__ == \"__main__\":\n",
        "    age_calculator()"
      ]
    },
    {
      "cell_type": "code",
      "source": [
        ""
      ],
      "metadata": {
        "id": "f6v7IN-agqcf"
      },
      "execution_count": null,
      "outputs": []
    }
  ]
}