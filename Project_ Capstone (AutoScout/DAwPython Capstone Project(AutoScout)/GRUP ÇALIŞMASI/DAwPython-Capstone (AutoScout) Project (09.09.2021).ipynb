{
 "cells": [
  {
   "cell_type": "markdown",
   "metadata": {},
   "source": [
    "___\n",
    "\n",
    "<p style=\"text-align: center;\"><img src=\"https://docs.google.com/uc?id=1lY0Uj5R04yMY3-ZppPWxqCr5pvBLYPnV\" class=\"img-fluid\" alt=\"CLRSWY\"></p>\n",
    "\n",
    "___"
   ]
  },
  {
   "cell_type": "markdown",
   "metadata": {},
   "source": [
    "# WELCOME!"
   ]
  },
  {
   "cell_type": "markdown",
   "metadata": {},
   "source": [
    "## Introduction\n",
    "Welcome to \"***AutoScout Data Analysis Project***\". This is the capstone project of ***Data Analysis*** Module. **Auto Scout** data which using for this project, scraped from the on-line car trading company in 2019, contains many features of 9 different car models. In this project, you will have the opportunity to apply many commonly used algorithms for Data Cleaning and Exploratory Data Analysis by using many Python libraries such as Numpy, Pandas, Matplotlib, Seaborn, Scipy you will analyze clean dataset.\n",
    "\n",
    "The project consists of 3 parts:\n",
    "* First part is related with 'data cleaning'. It deals with Incorrect Headers, Incorrect Format, Anomalies, Dropping useless columns.\n",
    "* Second part is related with 'filling data'. It deals with Missing Values. Categorical to numeric transformation is done.\n",
    "* Third part is related with 'handling outliers of data' via Visualisation libraries. Some insights are extracted.\n"
   ]
  },
  {
   "cell_type": "markdown",
   "metadata": {},
   "source": [
    "# PART- 1 `( Data Cleaning )`"
   ]
  },
  {
   "cell_type": "code",
   "execution_count": 1,
   "metadata": {},
   "outputs": [],
   "source": [
    "# Libraries\n",
    "import numpy as np\n",
    "import pandas as pd\n",
    "from scipy import misc\n",
    "import scipy\n",
    "import json\n",
    "\n",
    "# Display options\n",
    "# pd.set_option('display.max_rows', 3000)\n",
    "# pd.set_option('display.max_columns', 500)\n",
    "# pd.set_option('display.max_info_rows', 3000)\n",
    "# pd.set_option('display.max_info_columns', 500)\n",
    "# pd.set_option('display.max_colwidth', 500)\n",
    "# pd.set_option('display.expand_frame_repr', True)\n",
    "# pd.set_option('display.width', 3000)\n",
    "\n",
    "# # Visualisation\n",
    "# import seaborn as sns\n",
    "# import matplotlib.pyplot as plt\n",
    "# %matplotlib inline\n",
    "# from collections import Counter\n",
    "# import warnings\n",
    "# warnings.filterwarnings('ignore') \n",
    "\n",
    "# # SQL\n",
    "# import pyodbc\n",
    "# import pandas.io.sql\n",
    "\n",
    "# # Datetime\n",
    "# from datetime import datetime\n",
    "# now = datetime.now() # current date and time"
   ]
  },
  {
   "cell_type": "code",
   "execution_count": 145,
   "metadata": {},
   "outputs": [],
   "source": [
    "df = pd.read_json(\"scout_car.json\",lines=True,orient='columns')"
   ]
  },
  {
   "cell_type": "code",
   "execution_count": 146,
   "metadata": {
    "scrolled": true
   },
   "outputs": [
    {
     "data": {
      "text/html": [
       "<div>\n",
       "<style scoped>\n",
       "    .dataframe tbody tr th:only-of-type {\n",
       "        vertical-align: middle;\n",
       "    }\n",
       "\n",
       "    .dataframe tbody tr th {\n",
       "        vertical-align: top;\n",
       "    }\n",
       "\n",
       "    .dataframe thead th {\n",
       "        text-align: right;\n",
       "    }\n",
       "</style>\n",
       "<table border=\"1\" class=\"dataframe\">\n",
       "  <thead>\n",
       "    <tr style=\"text-align: right;\">\n",
       "      <th></th>\n",
       "      <th>url</th>\n",
       "      <th>make_model</th>\n",
       "      <th>short_description</th>\n",
       "      <th>body_type</th>\n",
       "      <th>price</th>\n",
       "      <th>vat</th>\n",
       "      <th>km</th>\n",
       "      <th>registration</th>\n",
       "      <th>prev_owner</th>\n",
       "      <th>kW</th>\n",
       "      <th>...</th>\n",
       "      <th>description</th>\n",
       "      <th>Emission Label</th>\n",
       "      <th>Gears</th>\n",
       "      <th>Country version</th>\n",
       "      <th>Electricity consumption</th>\n",
       "      <th>Last Service Date</th>\n",
       "      <th>Other Fuel Types</th>\n",
       "      <th>Availability</th>\n",
       "      <th>Last Timing Belt Service Date</th>\n",
       "      <th>Available from</th>\n",
       "    </tr>\n",
       "  </thead>\n",
       "  <tbody>\n",
       "    <tr>\n",
       "      <th>0</th>\n",
       "      <td>https://www.autoscout24.com//offers/audi-a1-sp...</td>\n",
       "      <td>Audi A1</td>\n",
       "      <td>Sportback 1.4 TDI S-tronic Xenon Navi Klima</td>\n",
       "      <td>Sedans</td>\n",
       "      <td>15770</td>\n",
       "      <td>VAT deductible</td>\n",
       "      <td>56,013 km</td>\n",
       "      <td>01/2016</td>\n",
       "      <td>2 previous owners</td>\n",
       "      <td>NaN</td>\n",
       "      <td>...</td>\n",
       "      <td>[\\n, Sicherheit:,  , Deaktivierung für Beifahr...</td>\n",
       "      <td>NaN</td>\n",
       "      <td>NaN</td>\n",
       "      <td>NaN</td>\n",
       "      <td>NaN</td>\n",
       "      <td>NaN</td>\n",
       "      <td>NaN</td>\n",
       "      <td>NaN</td>\n",
       "      <td>NaN</td>\n",
       "      <td>NaN</td>\n",
       "    </tr>\n",
       "  </tbody>\n",
       "</table>\n",
       "<p>1 rows × 54 columns</p>\n",
       "</div>"
      ],
      "text/plain": [
       "                                                 url make_model  \\\n",
       "0  https://www.autoscout24.com//offers/audi-a1-sp...    Audi A1   \n",
       "\n",
       "                             short_description body_type  price  \\\n",
       "0  Sportback 1.4 TDI S-tronic Xenon Navi Klima    Sedans  15770   \n",
       "\n",
       "              vat         km registration         prev_owner  kW  ...  \\\n",
       "0  VAT deductible  56,013 km      01/2016  2 previous owners NaN  ...   \n",
       "\n",
       "                                         description Emission Label Gears  \\\n",
       "0  [\\n, Sicherheit:,  , Deaktivierung für Beifahr...            NaN   NaN   \n",
       "\n",
       "  Country version Electricity consumption Last Service Date Other Fuel Types  \\\n",
       "0             NaN                     NaN               NaN              NaN   \n",
       "\n",
       "  Availability Last Timing Belt Service Date Available from  \n",
       "0          NaN                           NaN            NaN  \n",
       "\n",
       "[1 rows x 54 columns]"
      ]
     },
     "execution_count": 146,
     "metadata": {},
     "output_type": "execute_result"
    }
   ],
   "source": [
    "df1 = df.copy()\n",
    "df1.head(1)"
   ]
  },
  {
   "cell_type": "code",
   "execution_count": 4,
   "metadata": {},
   "outputs": [
    {
     "data": {
      "text/html": [
       "<div>\n",
       "<style scoped>\n",
       "    .dataframe tbody tr th:only-of-type {\n",
       "        vertical-align: middle;\n",
       "    }\n",
       "\n",
       "    .dataframe tbody tr th {\n",
       "        vertical-align: top;\n",
       "    }\n",
       "\n",
       "    .dataframe thead th {\n",
       "        text-align: right;\n",
       "    }\n",
       "</style>\n",
       "<table border=\"1\" class=\"dataframe\">\n",
       "  <thead>\n",
       "    <tr style=\"text-align: right;\">\n",
       "      <th></th>\n",
       "      <th>url</th>\n",
       "      <th>make_model</th>\n",
       "      <th>short_description</th>\n",
       "      <th>body_type</th>\n",
       "      <th>price</th>\n",
       "      <th>vat</th>\n",
       "      <th>km</th>\n",
       "      <th>registration</th>\n",
       "      <th>prev_owner</th>\n",
       "      <th>kW</th>\n",
       "      <th>...</th>\n",
       "      <th>description</th>\n",
       "      <th>Emission Label</th>\n",
       "      <th>Gears</th>\n",
       "      <th>Country version</th>\n",
       "      <th>Electricity consumption</th>\n",
       "      <th>Last Service Date</th>\n",
       "      <th>Other Fuel Types</th>\n",
       "      <th>Availability</th>\n",
       "      <th>Last Timing Belt Service Date</th>\n",
       "      <th>Available from</th>\n",
       "    </tr>\n",
       "  </thead>\n",
       "  <tbody>\n",
       "    <tr>\n",
       "      <th>15918</th>\n",
       "      <td>https://www.autoscout24.com//offers/renault-es...</td>\n",
       "      <td>Renault Espace</td>\n",
       "      <td>INITIALE PARIS TCe 225 EDC GPF NAVI SHZ AUX</td>\n",
       "      <td>Van</td>\n",
       "      <td>40999</td>\n",
       "      <td>VAT deductible</td>\n",
       "      <td>- km</td>\n",
       "      <td>01/2019</td>\n",
       "      <td>1 previous owner</td>\n",
       "      <td>NaN</td>\n",
       "      <td>...</td>\n",
       "      <td>[\\n, Sicherheit Airbags:,  , Seitenairbag,  , ...</td>\n",
       "      <td>[\\n4 (Green)\\n]</td>\n",
       "      <td>NaN</td>\n",
       "      <td>[\\nGermany\\n]</td>\n",
       "      <td>NaN</td>\n",
       "      <td>NaN</td>\n",
       "      <td>NaN</td>\n",
       "      <td>NaN</td>\n",
       "      <td>NaN</td>\n",
       "      <td>NaN</td>\n",
       "    </tr>\n",
       "  </tbody>\n",
       "</table>\n",
       "<p>1 rows × 54 columns</p>\n",
       "</div>"
      ],
      "text/plain": [
       "                                                     url      make_model  \\\n",
       "15918  https://www.autoscout24.com//offers/renault-es...  Renault Espace   \n",
       "\n",
       "                                 short_description body_type  price  \\\n",
       "15918  INITIALE PARIS TCe 225 EDC GPF NAVI SHZ AUX       Van  40999   \n",
       "\n",
       "                  vat    km registration        prev_owner  kW  ...  \\\n",
       "15918  VAT deductible  - km      01/2019  1 previous owner NaN  ...   \n",
       "\n",
       "                                             description   Emission Label  \\\n",
       "15918  [\\n, Sicherheit Airbags:,  , Seitenairbag,  , ...  [\\n4 (Green)\\n]   \n",
       "\n",
       "      Gears Country version Electricity consumption Last Service Date  \\\n",
       "15918   NaN   [\\nGermany\\n]                     NaN               NaN   \n",
       "\n",
       "      Other Fuel Types Availability Last Timing Belt Service Date  \\\n",
       "15918              NaN          NaN                           NaN   \n",
       "\n",
       "      Available from  \n",
       "15918            NaN  \n",
       "\n",
       "[1 rows x 54 columns]"
      ]
     },
     "execution_count": 4,
     "metadata": {},
     "output_type": "execute_result"
    }
   ],
   "source": [
    "df1.tail(1)"
   ]
  },
  {
   "cell_type": "code",
   "execution_count": 5,
   "metadata": {},
   "outputs": [
    {
     "data": {
      "text/html": [
       "<div>\n",
       "<style scoped>\n",
       "    .dataframe tbody tr th:only-of-type {\n",
       "        vertical-align: middle;\n",
       "    }\n",
       "\n",
       "    .dataframe tbody tr th {\n",
       "        vertical-align: top;\n",
       "    }\n",
       "\n",
       "    .dataframe thead th {\n",
       "        text-align: right;\n",
       "    }\n",
       "</style>\n",
       "<table border=\"1\" class=\"dataframe\">\n",
       "  <thead>\n",
       "    <tr style=\"text-align: right;\">\n",
       "      <th></th>\n",
       "      <th>url</th>\n",
       "      <th>make_model</th>\n",
       "      <th>short_description</th>\n",
       "      <th>body_type</th>\n",
       "      <th>price</th>\n",
       "      <th>vat</th>\n",
       "      <th>km</th>\n",
       "      <th>registration</th>\n",
       "      <th>prev_owner</th>\n",
       "      <th>kW</th>\n",
       "      <th>...</th>\n",
       "      <th>description</th>\n",
       "      <th>Emission Label</th>\n",
       "      <th>Gears</th>\n",
       "      <th>Country version</th>\n",
       "      <th>Electricity consumption</th>\n",
       "      <th>Last Service Date</th>\n",
       "      <th>Other Fuel Types</th>\n",
       "      <th>Availability</th>\n",
       "      <th>Last Timing Belt Service Date</th>\n",
       "      <th>Available from</th>\n",
       "    </tr>\n",
       "  </thead>\n",
       "  <tbody>\n",
       "    <tr>\n",
       "      <th>13912</th>\n",
       "      <td>https://www.autoscout24.com//offers/renault-cl...</td>\n",
       "      <td>Renault Clio</td>\n",
       "      <td>None</td>\n",
       "      <td>Sedans</td>\n",
       "      <td>9400</td>\n",
       "      <td>None</td>\n",
       "      <td>17,000 km</td>\n",
       "      <td>11/2017</td>\n",
       "      <td>1 previous owner</td>\n",
       "      <td>NaN</td>\n",
       "      <td>...</td>\n",
       "      <td>[\\n1 Hand Gebrauchtwagen, in 1A Zustand, Zweit...</td>\n",
       "      <td>[\\n4 (Green)\\n]</td>\n",
       "      <td>[\\n5\\n]</td>\n",
       "      <td>NaN</td>\n",
       "      <td>NaN</td>\n",
       "      <td>NaN</td>\n",
       "      <td>NaN</td>\n",
       "      <td>NaN</td>\n",
       "      <td>NaN</td>\n",
       "      <td>NaN</td>\n",
       "    </tr>\n",
       "    <tr>\n",
       "      <th>10758</th>\n",
       "      <td>https://www.autoscout24.com//offers/opel-insig...</td>\n",
       "      <td>Opel Insignia</td>\n",
       "      <td>1.6 CDTi 136 Selective Auto 5p #IVA DEDUCIBLE</td>\n",
       "      <td>Sedans</td>\n",
       "      <td>11650</td>\n",
       "      <td>VAT deductible</td>\n",
       "      <td>107,100 km</td>\n",
       "      <td>03/2017</td>\n",
       "      <td>None</td>\n",
       "      <td>NaN</td>\n",
       "      <td>...</td>\n",
       "      <td>[\\n¡Abrimos Domingos y festivos. ¡¡10.000 m2 d...</td>\n",
       "      <td>NaN</td>\n",
       "      <td>[\\n5\\n]</td>\n",
       "      <td>NaN</td>\n",
       "      <td>NaN</td>\n",
       "      <td>NaN</td>\n",
       "      <td>NaN</td>\n",
       "      <td>NaN</td>\n",
       "      <td>NaN</td>\n",
       "      <td>NaN</td>\n",
       "    </tr>\n",
       "    <tr>\n",
       "      <th>5345</th>\n",
       "      <td>https://www.autoscout24.com//offers/audi-a3-sp...</td>\n",
       "      <td>Audi A3</td>\n",
       "      <td>SPB 30 1.6 TDI 115CV Business CON OPTIONAL UFF...</td>\n",
       "      <td>Sedans</td>\n",
       "      <td>21900</td>\n",
       "      <td>None</td>\n",
       "      <td>1 km</td>\n",
       "      <td>-/-</td>\n",
       "      <td>None</td>\n",
       "      <td>NaN</td>\n",
       "      <td>...</td>\n",
       "      <td>[\\n, AUTOSERVICE PROPONE :, AUDI A3 30 SPB 1.6...</td>\n",
       "      <td>NaN</td>\n",
       "      <td>[\\n6\\n]</td>\n",
       "      <td>[\\nItaly\\n]</td>\n",
       "      <td>NaN</td>\n",
       "      <td>NaN</td>\n",
       "      <td>NaN</td>\n",
       "      <td>NaN</td>\n",
       "      <td>NaN</td>\n",
       "      <td>NaN</td>\n",
       "    </tr>\n",
       "    <tr>\n",
       "      <th>2744</th>\n",
       "      <td>https://www.autoscout24.com//offers/audi-a3-sp...</td>\n",
       "      <td>Audi A3</td>\n",
       "      <td>Sportback 2.0 TDI Einparkhilfe Klima</td>\n",
       "      <td>Sedans</td>\n",
       "      <td>17440</td>\n",
       "      <td>VAT deductible</td>\n",
       "      <td>83,954 km</td>\n",
       "      <td>04/2016</td>\n",
       "      <td>1 previous owner</td>\n",
       "      <td>NaN</td>\n",
       "      <td>...</td>\n",
       "      <td>[\\n, Fahrzeugnummer: F52654, HIGHLIGHTS &amp; PAKE...</td>\n",
       "      <td>NaN</td>\n",
       "      <td>[\\n6\\n]</td>\n",
       "      <td>[\\nGermany\\n]</td>\n",
       "      <td>NaN</td>\n",
       "      <td>NaN</td>\n",
       "      <td>NaN</td>\n",
       "      <td>NaN</td>\n",
       "      <td>NaN</td>\n",
       "      <td>NaN</td>\n",
       "    </tr>\n",
       "    <tr>\n",
       "      <th>4205</th>\n",
       "      <td>https://www.autoscout24.com//offers/audi-a3-2-...</td>\n",
       "      <td>Audi A3</td>\n",
       "      <td>2.0 TDI Sportback</td>\n",
       "      <td>Station wagon</td>\n",
       "      <td>18490</td>\n",
       "      <td>Price negotiable</td>\n",
       "      <td>95,000 km</td>\n",
       "      <td>01/2017</td>\n",
       "      <td>2 previous owners</td>\n",
       "      <td>NaN</td>\n",
       "      <td>...</td>\n",
       "      <td>[\\nHallo liebe Autoscout Gemeinschaft,, hier b...</td>\n",
       "      <td>NaN</td>\n",
       "      <td>[\\n6\\n]</td>\n",
       "      <td>NaN</td>\n",
       "      <td>NaN</td>\n",
       "      <td>[\\n03/2019\\n, \\nEuro 6\\n]</td>\n",
       "      <td>NaN</td>\n",
       "      <td>NaN</td>\n",
       "      <td>NaN</td>\n",
       "      <td>NaN</td>\n",
       "    </tr>\n",
       "  </tbody>\n",
       "</table>\n",
       "<p>5 rows × 54 columns</p>\n",
       "</div>"
      ],
      "text/plain": [
       "                                                     url     make_model  \\\n",
       "13912  https://www.autoscout24.com//offers/renault-cl...   Renault Clio   \n",
       "10758  https://www.autoscout24.com//offers/opel-insig...  Opel Insignia   \n",
       "5345   https://www.autoscout24.com//offers/audi-a3-sp...        Audi A3   \n",
       "2744   https://www.autoscout24.com//offers/audi-a3-sp...        Audi A3   \n",
       "4205   https://www.autoscout24.com//offers/audi-a3-2-...        Audi A3   \n",
       "\n",
       "                                       short_description      body_type  \\\n",
       "13912                                               None         Sedans   \n",
       "10758      1.6 CDTi 136 Selective Auto 5p #IVA DEDUCIBLE         Sedans   \n",
       "5345   SPB 30 1.6 TDI 115CV Business CON OPTIONAL UFF...         Sedans   \n",
       "2744                Sportback 2.0 TDI Einparkhilfe Klima         Sedans   \n",
       "4205                                   2.0 TDI Sportback  Station wagon   \n",
       "\n",
       "       price               vat          km registration         prev_owner  \\\n",
       "13912   9400              None   17,000 km      11/2017   1 previous owner   \n",
       "10758  11650    VAT deductible  107,100 km      03/2017               None   \n",
       "5345   21900              None        1 km          -/-               None   \n",
       "2744   17440    VAT deductible   83,954 km      04/2016   1 previous owner   \n",
       "4205   18490  Price negotiable   95,000 km      01/2017  2 previous owners   \n",
       "\n",
       "       kW  ...                                        description  \\\n",
       "13912 NaN  ...  [\\n1 Hand Gebrauchtwagen, in 1A Zustand, Zweit...   \n",
       "10758 NaN  ...  [\\n¡Abrimos Domingos y festivos. ¡¡10.000 m2 d...   \n",
       "5345  NaN  ...  [\\n, AUTOSERVICE PROPONE :, AUDI A3 30 SPB 1.6...   \n",
       "2744  NaN  ...  [\\n, Fahrzeugnummer: F52654, HIGHLIGHTS & PAKE...   \n",
       "4205  NaN  ...  [\\nHallo liebe Autoscout Gemeinschaft,, hier b...   \n",
       "\n",
       "        Emission Label    Gears Country version Electricity consumption  \\\n",
       "13912  [\\n4 (Green)\\n]  [\\n5\\n]             NaN                     NaN   \n",
       "10758              NaN  [\\n5\\n]             NaN                     NaN   \n",
       "5345               NaN  [\\n6\\n]     [\\nItaly\\n]                     NaN   \n",
       "2744               NaN  [\\n6\\n]   [\\nGermany\\n]                     NaN   \n",
       "4205               NaN  [\\n6\\n]             NaN                     NaN   \n",
       "\n",
       "               Last Service Date Other Fuel Types Availability  \\\n",
       "13912                        NaN              NaN          NaN   \n",
       "10758                        NaN              NaN          NaN   \n",
       "5345                         NaN              NaN          NaN   \n",
       "2744                         NaN              NaN          NaN   \n",
       "4205   [\\n03/2019\\n, \\nEuro 6\\n]              NaN          NaN   \n",
       "\n",
       "      Last Timing Belt Service Date Available from  \n",
       "13912                           NaN            NaN  \n",
       "10758                           NaN            NaN  \n",
       "5345                            NaN            NaN  \n",
       "2744                            NaN            NaN  \n",
       "4205                            NaN            NaN  \n",
       "\n",
       "[5 rows x 54 columns]"
      ]
     },
     "execution_count": 5,
     "metadata": {},
     "output_type": "execute_result"
    }
   ],
   "source": [
    "df1.sample(5)"
   ]
  },
  {
   "cell_type": "code",
   "execution_count": 6,
   "metadata": {},
   "outputs": [
    {
     "data": {
      "text/plain": [
       "Index(['url', 'make_model', 'short_description', 'body_type', 'price', 'vat',\n",
       "       'km', 'registration', 'prev_owner', 'kW', 'hp', 'Type',\n",
       "       'Previous Owners', 'Next Inspection', 'Inspection new', 'Warranty',\n",
       "       'Full Service', 'Non-smoking Vehicle', 'null', 'Make', 'Model',\n",
       "       'Offer Number', 'First Registration', 'Body Color', 'Paint Type',\n",
       "       'Body Color Original', 'Upholstery', 'Body', 'Nr. of Doors',\n",
       "       'Nr. of Seats', 'Model Code', 'Gearing Type', 'Displacement',\n",
       "       'Cylinders', 'Weight', 'Drive chain', 'Fuel', 'Consumption',\n",
       "       'CO2 Emission', 'Emission Class', '\\nComfort & Convenience\\n',\n",
       "       '\\nEntertainment & Media\\n', '\\nExtras\\n', '\\nSafety & Security\\n',\n",
       "       'description', 'Emission Label', 'Gears', 'Country version',\n",
       "       'Electricity consumption', 'Last Service Date', 'Other Fuel Types',\n",
       "       'Availability', 'Last Timing Belt Service Date', 'Available from'],\n",
       "      dtype='object')"
      ]
     },
     "execution_count": 6,
     "metadata": {},
     "output_type": "execute_result"
    }
   ],
   "source": [
    "df1.columns"
   ]
  },
  {
   "cell_type": "code",
   "execution_count": 7,
   "metadata": {},
   "outputs": [
    {
     "data": {
      "text/plain": [
       "(15919, 54)"
      ]
     },
     "execution_count": 7,
     "metadata": {},
     "output_type": "execute_result"
    }
   ],
   "source": [
    "df1.shape"
   ]
  },
  {
   "cell_type": "code",
   "execution_count": 8,
   "metadata": {},
   "outputs": [
    {
     "data": {
      "text/plain": [
       "859626"
      ]
     },
     "execution_count": 8,
     "metadata": {},
     "output_type": "execute_result"
    }
   ],
   "source": [
    "df1.size"
   ]
  },
  {
   "cell_type": "code",
   "execution_count": 9,
   "metadata": {},
   "outputs": [
    {
     "data": {
      "text/html": [
       "<div>\n",
       "<style scoped>\n",
       "    .dataframe tbody tr th:only-of-type {\n",
       "        vertical-align: middle;\n",
       "    }\n",
       "\n",
       "    .dataframe tbody tr th {\n",
       "        vertical-align: top;\n",
       "    }\n",
       "\n",
       "    .dataframe thead th {\n",
       "        text-align: right;\n",
       "    }\n",
       "</style>\n",
       "<table border=\"1\" class=\"dataframe\">\n",
       "  <thead>\n",
       "    <tr style=\"text-align: right;\">\n",
       "      <th></th>\n",
       "      <th>price</th>\n",
       "      <th>kW</th>\n",
       "    </tr>\n",
       "  </thead>\n",
       "  <tbody>\n",
       "    <tr>\n",
       "      <th>count</th>\n",
       "      <td>15919.000000</td>\n",
       "      <td>0.0</td>\n",
       "    </tr>\n",
       "    <tr>\n",
       "      <th>mean</th>\n",
       "      <td>18019.896727</td>\n",
       "      <td>NaN</td>\n",
       "    </tr>\n",
       "    <tr>\n",
       "      <th>std</th>\n",
       "      <td>7386.169409</td>\n",
       "      <td>NaN</td>\n",
       "    </tr>\n",
       "    <tr>\n",
       "      <th>min</th>\n",
       "      <td>13.000000</td>\n",
       "      <td>NaN</td>\n",
       "    </tr>\n",
       "    <tr>\n",
       "      <th>25%</th>\n",
       "      <td>12850.000000</td>\n",
       "      <td>NaN</td>\n",
       "    </tr>\n",
       "    <tr>\n",
       "      <th>50%</th>\n",
       "      <td>16900.000000</td>\n",
       "      <td>NaN</td>\n",
       "    </tr>\n",
       "    <tr>\n",
       "      <th>75%</th>\n",
       "      <td>21900.000000</td>\n",
       "      <td>NaN</td>\n",
       "    </tr>\n",
       "    <tr>\n",
       "      <th>max</th>\n",
       "      <td>74600.000000</td>\n",
       "      <td>NaN</td>\n",
       "    </tr>\n",
       "  </tbody>\n",
       "</table>\n",
       "</div>"
      ],
      "text/plain": [
       "              price   kW\n",
       "count  15919.000000  0.0\n",
       "mean   18019.896727  NaN\n",
       "std     7386.169409  NaN\n",
       "min       13.000000  NaN\n",
       "25%    12850.000000  NaN\n",
       "50%    16900.000000  NaN\n",
       "75%    21900.000000  NaN\n",
       "max    74600.000000  NaN"
      ]
     },
     "execution_count": 9,
     "metadata": {},
     "output_type": "execute_result"
    }
   ],
   "source": [
    "df1.describe()"
   ]
  },
  {
   "cell_type": "code",
   "execution_count": 10,
   "metadata": {},
   "outputs": [
    {
     "data": {
      "text/html": [
       "<div>\n",
       "<style scoped>\n",
       "    .dataframe tbody tr th:only-of-type {\n",
       "        vertical-align: middle;\n",
       "    }\n",
       "\n",
       "    .dataframe tbody tr th {\n",
       "        vertical-align: top;\n",
       "    }\n",
       "\n",
       "    .dataframe thead th {\n",
       "        text-align: right;\n",
       "    }\n",
       "</style>\n",
       "<table border=\"1\" class=\"dataframe\">\n",
       "  <thead>\n",
       "    <tr style=\"text-align: right;\">\n",
       "      <th></th>\n",
       "      <th>count</th>\n",
       "      <th>unique</th>\n",
       "      <th>top</th>\n",
       "      <th>freq</th>\n",
       "    </tr>\n",
       "  </thead>\n",
       "  <tbody>\n",
       "    <tr>\n",
       "      <th>url</th>\n",
       "      <td>15919</td>\n",
       "      <td>15919</td>\n",
       "      <td>https://www.autoscout24.com//offers/audi-a3-1-...</td>\n",
       "      <td>1</td>\n",
       "    </tr>\n",
       "    <tr>\n",
       "      <th>make_model</th>\n",
       "      <td>15919</td>\n",
       "      <td>9</td>\n",
       "      <td>Audi A3</td>\n",
       "      <td>3097</td>\n",
       "    </tr>\n",
       "    <tr>\n",
       "      <th>short_description</th>\n",
       "      <td>15873</td>\n",
       "      <td>10001</td>\n",
       "      <td>SPB 1.6 TDI 116 CV S tronic Sport</td>\n",
       "      <td>64</td>\n",
       "    </tr>\n",
       "    <tr>\n",
       "      <th>body_type</th>\n",
       "      <td>15859</td>\n",
       "      <td>9</td>\n",
       "      <td>Sedans</td>\n",
       "      <td>7903</td>\n",
       "    </tr>\n",
       "    <tr>\n",
       "      <th>vat</th>\n",
       "      <td>11406</td>\n",
       "      <td>2</td>\n",
       "      <td>VAT deductible</td>\n",
       "      <td>10980</td>\n",
       "    </tr>\n",
       "    <tr>\n",
       "      <th>km</th>\n",
       "      <td>15919</td>\n",
       "      <td>6690</td>\n",
       "      <td>10 km</td>\n",
       "      <td>1045</td>\n",
       "    </tr>\n",
       "    <tr>\n",
       "      <th>registration</th>\n",
       "      <td>15919</td>\n",
       "      <td>48</td>\n",
       "      <td>-/-</td>\n",
       "      <td>1597</td>\n",
       "    </tr>\n",
       "    <tr>\n",
       "      <th>prev_owner</th>\n",
       "      <td>9091</td>\n",
       "      <td>4</td>\n",
       "      <td>1 previous owner</td>\n",
       "      <td>8294</td>\n",
       "    </tr>\n",
       "    <tr>\n",
       "      <th>hp</th>\n",
       "      <td>15919</td>\n",
       "      <td>81</td>\n",
       "      <td>85 kW</td>\n",
       "      <td>2542</td>\n",
       "    </tr>\n",
       "    <tr>\n",
       "      <th>Type</th>\n",
       "      <td>15917</td>\n",
       "      <td>169</td>\n",
       "      <td>[, Used, , Diesel (Particulate Filter)]</td>\n",
       "      <td>3475</td>\n",
       "    </tr>\n",
       "    <tr>\n",
       "      <th>Previous Owners</th>\n",
       "      <td>9279</td>\n",
       "      <td>102</td>\n",
       "      <td>\\n1\\n</td>\n",
       "      <td>8101</td>\n",
       "    </tr>\n",
       "    <tr>\n",
       "      <th>Next Inspection</th>\n",
       "      <td>3535</td>\n",
       "      <td>1399</td>\n",
       "      <td>\\n04/2022\\n</td>\n",
       "      <td>62</td>\n",
       "    </tr>\n",
       "    <tr>\n",
       "      <th>Inspection new</th>\n",
       "      <td>3932</td>\n",
       "      <td>202</td>\n",
       "      <td>[\\nYes\\n, \\nEuro 6\\n]</td>\n",
       "      <td>523</td>\n",
       "    </tr>\n",
       "    <tr>\n",
       "      <th>Warranty</th>\n",
       "      <td>10499</td>\n",
       "      <td>515</td>\n",
       "      <td>[\\n, \\n, \\nEuro 6\\n]</td>\n",
       "      <td>1868</td>\n",
       "    </tr>\n",
       "    <tr>\n",
       "      <th>Full Service</th>\n",
       "      <td>8215</td>\n",
       "      <td>122</td>\n",
       "      <td>[\\n, \\n, \\n4 (Green)\\n]</td>\n",
       "      <td>2235</td>\n",
       "    </tr>\n",
       "    <tr>\n",
       "      <th>Non-smoking Vehicle</th>\n",
       "      <td>7177</td>\n",
       "      <td>94</td>\n",
       "      <td>[\\n, \\n]</td>\n",
       "      <td>3647</td>\n",
       "    </tr>\n",
       "    <tr>\n",
       "      <th>null</th>\n",
       "      <td>15919</td>\n",
       "      <td>1</td>\n",
       "      <td>[]</td>\n",
       "      <td>15919</td>\n",
       "    </tr>\n",
       "    <tr>\n",
       "      <th>Make</th>\n",
       "      <td>15919</td>\n",
       "      <td>3</td>\n",
       "      <td>\\nOpel\\n</td>\n",
       "      <td>7343</td>\n",
       "    </tr>\n",
       "    <tr>\n",
       "      <th>Model</th>\n",
       "      <td>15919</td>\n",
       "      <td>9</td>\n",
       "      <td>[\\n, A3, \\n]</td>\n",
       "      <td>3097</td>\n",
       "    </tr>\n",
       "    <tr>\n",
       "      <th>Offer Number</th>\n",
       "      <td>12744</td>\n",
       "      <td>11440</td>\n",
       "      <td>[\\nTP62881\\n]</td>\n",
       "      <td>27</td>\n",
       "    </tr>\n",
       "    <tr>\n",
       "      <th>First Registration</th>\n",
       "      <td>14322</td>\n",
       "      <td>4</td>\n",
       "      <td>[\\n, 2018, \\n]</td>\n",
       "      <td>4522</td>\n",
       "    </tr>\n",
       "    <tr>\n",
       "      <th>Body Color</th>\n",
       "      <td>15322</td>\n",
       "      <td>14</td>\n",
       "      <td>[\\n, Black, \\n]</td>\n",
       "      <td>3745</td>\n",
       "    </tr>\n",
       "    <tr>\n",
       "      <th>Paint Type</th>\n",
       "      <td>10147</td>\n",
       "      <td>3</td>\n",
       "      <td>[\\nMetallic\\n]</td>\n",
       "      <td>9794</td>\n",
       "    </tr>\n",
       "    <tr>\n",
       "      <th>Body Color Original</th>\n",
       "      <td>12160</td>\n",
       "      <td>1927</td>\n",
       "      <td>[\\nOnyx Schwarz\\n]</td>\n",
       "      <td>338</td>\n",
       "    </tr>\n",
       "    <tr>\n",
       "      <th>Upholstery</th>\n",
       "      <td>12199</td>\n",
       "      <td>46</td>\n",
       "      <td>[\\nCloth, Black\\n]</td>\n",
       "      <td>5821</td>\n",
       "    </tr>\n",
       "    <tr>\n",
       "      <th>Body</th>\n",
       "      <td>15859</td>\n",
       "      <td>9</td>\n",
       "      <td>[\\n, Sedans, \\n]</td>\n",
       "      <td>7903</td>\n",
       "    </tr>\n",
       "    <tr>\n",
       "      <th>Nr. of Doors</th>\n",
       "      <td>15707</td>\n",
       "      <td>6</td>\n",
       "      <td>[\\n5\\n]</td>\n",
       "      <td>11575</td>\n",
       "    </tr>\n",
       "    <tr>\n",
       "      <th>Nr. of Seats</th>\n",
       "      <td>14942</td>\n",
       "      <td>6</td>\n",
       "      <td>[\\n5\\n]</td>\n",
       "      <td>13336</td>\n",
       "    </tr>\n",
       "    <tr>\n",
       "      <th>Model Code</th>\n",
       "      <td>4978</td>\n",
       "      <td>232</td>\n",
       "      <td>[\\n0035/BCB\\n]</td>\n",
       "      <td>268</td>\n",
       "    </tr>\n",
       "    <tr>\n",
       "      <th>Gearing Type</th>\n",
       "      <td>15919</td>\n",
       "      <td>3</td>\n",
       "      <td>[\\n, Manual, \\n]</td>\n",
       "      <td>8153</td>\n",
       "    </tr>\n",
       "    <tr>\n",
       "      <th>Displacement</th>\n",
       "      <td>15423</td>\n",
       "      <td>77</td>\n",
       "      <td>[\\n1,598 cc\\n]</td>\n",
       "      <td>4761</td>\n",
       "    </tr>\n",
       "    <tr>\n",
       "      <th>Cylinders</th>\n",
       "      <td>10239</td>\n",
       "      <td>7</td>\n",
       "      <td>[\\n4\\n]</td>\n",
       "      <td>8105</td>\n",
       "    </tr>\n",
       "    <tr>\n",
       "      <th>Weight</th>\n",
       "      <td>8945</td>\n",
       "      <td>434</td>\n",
       "      <td>[\\n1,163 kg\\n]</td>\n",
       "      <td>574</td>\n",
       "    </tr>\n",
       "    <tr>\n",
       "      <th>Drive chain</th>\n",
       "      <td>9061</td>\n",
       "      <td>3</td>\n",
       "      <td>[\\nfront\\n]</td>\n",
       "      <td>8886</td>\n",
       "    </tr>\n",
       "    <tr>\n",
       "      <th>Fuel</th>\n",
       "      <td>15919</td>\n",
       "      <td>77</td>\n",
       "      <td>[\\n, Diesel (Particulate Filter), \\n]</td>\n",
       "      <td>4315</td>\n",
       "    </tr>\n",
       "    <tr>\n",
       "      <th>Consumption</th>\n",
       "      <td>14013</td>\n",
       "      <td>881</td>\n",
       "      <td>[[3.9 l/100 km (comb)], [4.1 l/100 km (city)],...</td>\n",
       "      <td>304</td>\n",
       "    </tr>\n",
       "    <tr>\n",
       "      <th>CO2 Emission</th>\n",
       "      <td>14111</td>\n",
       "      <td>123</td>\n",
       "      <td>[\\n120 g CO2/km (comb)\\n]</td>\n",
       "      <td>740</td>\n",
       "    </tr>\n",
       "    <tr>\n",
       "      <th>Emission Class</th>\n",
       "      <td>12898</td>\n",
       "      <td>7</td>\n",
       "      <td>[\\nEuro 6\\n]</td>\n",
       "      <td>10139</td>\n",
       "    </tr>\n",
       "    <tr>\n",
       "      <th>\\nComfort &amp; Convenience\\n</th>\n",
       "      <td>14999</td>\n",
       "      <td>6198</td>\n",
       "      <td>[Air conditioning, Electrical side mirrors, Hi...</td>\n",
       "      <td>216</td>\n",
       "    </tr>\n",
       "    <tr>\n",
       "      <th>\\nEntertainment &amp; Media\\n</th>\n",
       "      <td>14545</td>\n",
       "      <td>346</td>\n",
       "      <td>[Bluetooth, Hands-free equipment, On-board com...</td>\n",
       "      <td>1282</td>\n",
       "    </tr>\n",
       "    <tr>\n",
       "      <th>\\nExtras\\n</th>\n",
       "      <td>12957</td>\n",
       "      <td>659</td>\n",
       "      <td>[Alloy wheels]</td>\n",
       "      <td>3245</td>\n",
       "    </tr>\n",
       "    <tr>\n",
       "      <th>\\nSafety &amp; Security\\n</th>\n",
       "      <td>14937</td>\n",
       "      <td>4443</td>\n",
       "      <td>[ABS, Central door lock, Daytime running light...</td>\n",
       "      <td>538</td>\n",
       "    </tr>\n",
       "    <tr>\n",
       "      <th>description</th>\n",
       "      <td>15919</td>\n",
       "      <td>12874</td>\n",
       "      <td>[]</td>\n",
       "      <td>636</td>\n",
       "    </tr>\n",
       "    <tr>\n",
       "      <th>Emission Label</th>\n",
       "      <td>3985</td>\n",
       "      <td>6</td>\n",
       "      <td>[\\n4 (Green)\\n]</td>\n",
       "      <td>3553</td>\n",
       "    </tr>\n",
       "    <tr>\n",
       "      <th>Gears</th>\n",
       "      <td>11207</td>\n",
       "      <td>10</td>\n",
       "      <td>[\\n6\\n]</td>\n",
       "      <td>5822</td>\n",
       "    </tr>\n",
       "    <tr>\n",
       "      <th>Country version</th>\n",
       "      <td>7586</td>\n",
       "      <td>23</td>\n",
       "      <td>[\\nGermany\\n]</td>\n",
       "      <td>4502</td>\n",
       "    </tr>\n",
       "    <tr>\n",
       "      <th>Electricity consumption</th>\n",
       "      <td>137</td>\n",
       "      <td>1</td>\n",
       "      <td>[\\n0 kWh/100 km (comb)\\n]</td>\n",
       "      <td>137</td>\n",
       "    </tr>\n",
       "    <tr>\n",
       "      <th>Last Service Date</th>\n",
       "      <td>566</td>\n",
       "      <td>266</td>\n",
       "      <td>[\\n02/2019\\n, \\nEuro 6\\n]</td>\n",
       "      <td>23</td>\n",
       "    </tr>\n",
       "    <tr>\n",
       "      <th>Other Fuel Types</th>\n",
       "      <td>880</td>\n",
       "      <td>1</td>\n",
       "      <td>[[], [], []]</td>\n",
       "      <td>880</td>\n",
       "    </tr>\n",
       "    <tr>\n",
       "      <th>Availability</th>\n",
       "      <td>635</td>\n",
       "      <td>15</td>\n",
       "      <td>\\nin 90 days from ordering\\n</td>\n",
       "      <td>196</td>\n",
       "    </tr>\n",
       "    <tr>\n",
       "      <th>Last Timing Belt Service Date</th>\n",
       "      <td>16</td>\n",
       "      <td>15</td>\n",
       "      <td>[\\n04/2016\\n]</td>\n",
       "      <td>2</td>\n",
       "    </tr>\n",
       "    <tr>\n",
       "      <th>Available from</th>\n",
       "      <td>272</td>\n",
       "      <td>46</td>\n",
       "      <td>\\n31/08/19\\n</td>\n",
       "      <td>98</td>\n",
       "    </tr>\n",
       "  </tbody>\n",
       "</table>\n",
       "</div>"
      ],
      "text/plain": [
       "                               count unique  \\\n",
       "url                            15919  15919   \n",
       "make_model                     15919      9   \n",
       "short_description              15873  10001   \n",
       "body_type                      15859      9   \n",
       "vat                            11406      2   \n",
       "km                             15919   6690   \n",
       "registration                   15919     48   \n",
       "prev_owner                      9091      4   \n",
       "hp                             15919     81   \n",
       "Type                           15917    169   \n",
       "Previous Owners                 9279    102   \n",
       "Next Inspection                 3535   1399   \n",
       "Inspection new                  3932    202   \n",
       "Warranty                       10499    515   \n",
       "Full Service                    8215    122   \n",
       "Non-smoking Vehicle             7177     94   \n",
       "null                           15919      1   \n",
       "Make                           15919      3   \n",
       "Model                          15919      9   \n",
       "Offer Number                   12744  11440   \n",
       "First Registration             14322      4   \n",
       "Body Color                     15322     14   \n",
       "Paint Type                     10147      3   \n",
       "Body Color Original            12160   1927   \n",
       "Upholstery                     12199     46   \n",
       "Body                           15859      9   \n",
       "Nr. of Doors                   15707      6   \n",
       "Nr. of Seats                   14942      6   \n",
       "Model Code                      4978    232   \n",
       "Gearing Type                   15919      3   \n",
       "Displacement                   15423     77   \n",
       "Cylinders                      10239      7   \n",
       "Weight                          8945    434   \n",
       "Drive chain                     9061      3   \n",
       "Fuel                           15919     77   \n",
       "Consumption                    14013    881   \n",
       "CO2 Emission                   14111    123   \n",
       "Emission Class                 12898      7   \n",
       "\\nComfort & Convenience\\n      14999   6198   \n",
       "\\nEntertainment & Media\\n      14545    346   \n",
       "\\nExtras\\n                     12957    659   \n",
       "\\nSafety & Security\\n          14937   4443   \n",
       "description                    15919  12874   \n",
       "Emission Label                  3985      6   \n",
       "Gears                          11207     10   \n",
       "Country version                 7586     23   \n",
       "Electricity consumption          137      1   \n",
       "Last Service Date                566    266   \n",
       "Other Fuel Types                 880      1   \n",
       "Availability                     635     15   \n",
       "Last Timing Belt Service Date     16     15   \n",
       "Available from                   272     46   \n",
       "\n",
       "                                                                             top  \\\n",
       "url                            https://www.autoscout24.com//offers/audi-a3-1-...   \n",
       "make_model                                                               Audi A3   \n",
       "short_description                              SPB 1.6 TDI 116 CV S tronic Sport   \n",
       "body_type                                                                 Sedans   \n",
       "vat                                                               VAT deductible   \n",
       "km                                                                         10 km   \n",
       "registration                                                                 -/-   \n",
       "prev_owner                                                      1 previous owner   \n",
       "hp                                                                         85 kW   \n",
       "Type                                     [, Used, , Diesel (Particulate Filter)]   \n",
       "Previous Owners                                                            \\n1\\n   \n",
       "Next Inspection                                                      \\n04/2022\\n   \n",
       "Inspection new                                             [\\nYes\\n, \\nEuro 6\\n]   \n",
       "Warranty                                                    [\\n, \\n, \\nEuro 6\\n]   \n",
       "Full Service                                             [\\n, \\n, \\n4 (Green)\\n]   \n",
       "Non-smoking Vehicle                                                     [\\n, \\n]   \n",
       "null                                                                          []   \n",
       "Make                                                                    \\nOpel\\n   \n",
       "Model                                                               [\\n, A3, \\n]   \n",
       "Offer Number                                                       [\\nTP62881\\n]   \n",
       "First Registration                                                [\\n, 2018, \\n]   \n",
       "Body Color                                                       [\\n, Black, \\n]   \n",
       "Paint Type                                                        [\\nMetallic\\n]   \n",
       "Body Color Original                                           [\\nOnyx Schwarz\\n]   \n",
       "Upholstery                                                    [\\nCloth, Black\\n]   \n",
       "Body                                                            [\\n, Sedans, \\n]   \n",
       "Nr. of Doors                                                             [\\n5\\n]   \n",
       "Nr. of Seats                                                             [\\n5\\n]   \n",
       "Model Code                                                        [\\n0035/BCB\\n]   \n",
       "Gearing Type                                                    [\\n, Manual, \\n]   \n",
       "Displacement                                                      [\\n1,598 cc\\n]   \n",
       "Cylinders                                                                [\\n4\\n]   \n",
       "Weight                                                            [\\n1,163 kg\\n]   \n",
       "Drive chain                                                          [\\nfront\\n]   \n",
       "Fuel                                       [\\n, Diesel (Particulate Filter), \\n]   \n",
       "Consumption                    [[3.9 l/100 km (comb)], [4.1 l/100 km (city)],...   \n",
       "CO2 Emission                                           [\\n120 g CO2/km (comb)\\n]   \n",
       "Emission Class                                                      [\\nEuro 6\\n]   \n",
       "\\nComfort & Convenience\\n      [Air conditioning, Electrical side mirrors, Hi...   \n",
       "\\nEntertainment & Media\\n      [Bluetooth, Hands-free equipment, On-board com...   \n",
       "\\nExtras\\n                                                        [Alloy wheels]   \n",
       "\\nSafety & Security\\n          [ABS, Central door lock, Daytime running light...   \n",
       "description                                                                   []   \n",
       "Emission Label                                                   [\\n4 (Green)\\n]   \n",
       "Gears                                                                    [\\n6\\n]   \n",
       "Country version                                                    [\\nGermany\\n]   \n",
       "Electricity consumption                                [\\n0 kWh/100 km (comb)\\n]   \n",
       "Last Service Date                                      [\\n02/2019\\n, \\nEuro 6\\n]   \n",
       "Other Fuel Types                                                    [[], [], []]   \n",
       "Availability                                        \\nin 90 days from ordering\\n   \n",
       "Last Timing Belt Service Date                                      [\\n04/2016\\n]   \n",
       "Available from                                                      \\n31/08/19\\n   \n",
       "\n",
       "                                freq  \n",
       "url                                1  \n",
       "make_model                      3097  \n",
       "short_description                 64  \n",
       "body_type                       7903  \n",
       "vat                            10980  \n",
       "km                              1045  \n",
       "registration                    1597  \n",
       "prev_owner                      8294  \n",
       "hp                              2542  \n",
       "Type                            3475  \n",
       "Previous Owners                 8101  \n",
       "Next Inspection                   62  \n",
       "Inspection new                   523  \n",
       "Warranty                        1868  \n",
       "Full Service                    2235  \n",
       "Non-smoking Vehicle             3647  \n",
       "null                           15919  \n",
       "Make                            7343  \n",
       "Model                           3097  \n",
       "Offer Number                      27  \n",
       "First Registration              4522  \n",
       "Body Color                      3745  \n",
       "Paint Type                      9794  \n",
       "Body Color Original              338  \n",
       "Upholstery                      5821  \n",
       "Body                            7903  \n",
       "Nr. of Doors                   11575  \n",
       "Nr. of Seats                   13336  \n",
       "Model Code                       268  \n",
       "Gearing Type                    8153  \n",
       "Displacement                    4761  \n",
       "Cylinders                       8105  \n",
       "Weight                           574  \n",
       "Drive chain                     8886  \n",
       "Fuel                            4315  \n",
       "Consumption                      304  \n",
       "CO2 Emission                     740  \n",
       "Emission Class                 10139  \n",
       "\\nComfort & Convenience\\n        216  \n",
       "\\nEntertainment & Media\\n       1282  \n",
       "\\nExtras\\n                      3245  \n",
       "\\nSafety & Security\\n            538  \n",
       "description                      636  \n",
       "Emission Label                  3553  \n",
       "Gears                           5822  \n",
       "Country version                 4502  \n",
       "Electricity consumption          137  \n",
       "Last Service Date                 23  \n",
       "Other Fuel Types                 880  \n",
       "Availability                     196  \n",
       "Last Timing Belt Service Date      2  \n",
       "Available from                    98  "
      ]
     },
     "execution_count": 10,
     "metadata": {},
     "output_type": "execute_result"
    }
   ],
   "source": [
    "df1.describe(include = object).T"
   ]
  },
  {
   "cell_type": "code",
   "execution_count": 11,
   "metadata": {},
   "outputs": [
    {
     "name": "stdout",
     "output_type": "stream",
     "text": [
      "<class 'pandas.core.frame.DataFrame'>\n",
      "RangeIndex: 15919 entries, 0 to 15918\n",
      "Data columns (total 54 columns):\n",
      " #   Column                         Non-Null Count  Dtype  \n",
      "---  ------                         --------------  -----  \n",
      " 0   url                            15919 non-null  object \n",
      " 1   make_model                     15919 non-null  object \n",
      " 2   short_description              15873 non-null  object \n",
      " 3   body_type                      15859 non-null  object \n",
      " 4   price                          15919 non-null  int64  \n",
      " 5   vat                            11406 non-null  object \n",
      " 6   km                             15919 non-null  object \n",
      " 7   registration                   15919 non-null  object \n",
      " 8   prev_owner                     9091 non-null   object \n",
      " 9   kW                             0 non-null      float64\n",
      " 10  hp                             15919 non-null  object \n",
      " 11  Type                           15917 non-null  object \n",
      " 12  Previous Owners                9279 non-null   object \n",
      " 13  Next Inspection                3535 non-null   object \n",
      " 14  Inspection new                 3932 non-null   object \n",
      " 15  Warranty                       10499 non-null  object \n",
      " 16  Full Service                   8215 non-null   object \n",
      " 17  Non-smoking Vehicle            7177 non-null   object \n",
      " 18  null                           15919 non-null  object \n",
      " 19  Make                           15919 non-null  object \n",
      " 20  Model                          15919 non-null  object \n",
      " 21  Offer Number                   12744 non-null  object \n",
      " 22  First Registration             14322 non-null  object \n",
      " 23  Body Color                     15322 non-null  object \n",
      " 24  Paint Type                     10147 non-null  object \n",
      " 25  Body Color Original            12160 non-null  object \n",
      " 26  Upholstery                     12199 non-null  object \n",
      " 27  Body                           15859 non-null  object \n",
      " 28  Nr. of Doors                   15707 non-null  object \n",
      " 29  Nr. of Seats                   14942 non-null  object \n",
      " 30  Model Code                     4978 non-null   object \n",
      " 31  Gearing Type                   15919 non-null  object \n",
      " 32  Displacement                   15423 non-null  object \n",
      " 33  Cylinders                      10239 non-null  object \n",
      " 34  Weight                         8945 non-null   object \n",
      " 35  Drive chain                    9061 non-null   object \n",
      " 36  Fuel                           15919 non-null  object \n",
      " 37  Consumption                    14013 non-null  object \n",
      " 38  CO2 Emission                   14111 non-null  object \n",
      " 39  Emission Class                 12898 non-null  object \n",
      " 40  \n",
      "Comfort & Convenience\n",
      "        14999 non-null  object \n",
      " 41  \n",
      "Entertainment & Media\n",
      "        14545 non-null  object \n",
      " 42  \n",
      "Extras\n",
      "                       12957 non-null  object \n",
      " 43  \n",
      "Safety & Security\n",
      "            14937 non-null  object \n",
      " 44  description                    15919 non-null  object \n",
      " 45  Emission Label                 3985 non-null   object \n",
      " 46  Gears                          11207 non-null  object \n",
      " 47  Country version                7586 non-null   object \n",
      " 48  Electricity consumption        137 non-null    object \n",
      " 49  Last Service Date              566 non-null    object \n",
      " 50  Other Fuel Types               880 non-null    object \n",
      " 51  Availability                   635 non-null    object \n",
      " 52  Last Timing Belt Service Date  16 non-null     object \n",
      " 53  Available from                 272 non-null    object \n",
      "dtypes: float64(1), int64(1), object(52)\n",
      "memory usage: 6.6+ MB\n"
     ]
    }
   ],
   "source": [
    "df1.info()"
   ]
  },
  {
   "cell_type": "code",
   "execution_count": 12,
   "metadata": {},
   "outputs": [
    {
     "data": {
      "text/html": [
       "<div>\n",
       "<style scoped>\n",
       "    .dataframe tbody tr th:only-of-type {\n",
       "        vertical-align: middle;\n",
       "    }\n",
       "\n",
       "    .dataframe tbody tr th {\n",
       "        vertical-align: top;\n",
       "    }\n",
       "\n",
       "    .dataframe thead th {\n",
       "        text-align: right;\n",
       "    }\n",
       "</style>\n",
       "<table border=\"1\" class=\"dataframe\">\n",
       "  <thead>\n",
       "    <tr style=\"text-align: right;\">\n",
       "      <th></th>\n",
       "      <th>dtypes</th>\n",
       "    </tr>\n",
       "  </thead>\n",
       "  <tbody>\n",
       "    <tr>\n",
       "      <th>url</th>\n",
       "      <td>object</td>\n",
       "    </tr>\n",
       "    <tr>\n",
       "      <th>make_model</th>\n",
       "      <td>object</td>\n",
       "    </tr>\n",
       "    <tr>\n",
       "      <th>short_description</th>\n",
       "      <td>object</td>\n",
       "    </tr>\n",
       "    <tr>\n",
       "      <th>body_type</th>\n",
       "      <td>object</td>\n",
       "    </tr>\n",
       "    <tr>\n",
       "      <th>price</th>\n",
       "      <td>int64</td>\n",
       "    </tr>\n",
       "    <tr>\n",
       "      <th>vat</th>\n",
       "      <td>object</td>\n",
       "    </tr>\n",
       "    <tr>\n",
       "      <th>km</th>\n",
       "      <td>object</td>\n",
       "    </tr>\n",
       "    <tr>\n",
       "      <th>registration</th>\n",
       "      <td>object</td>\n",
       "    </tr>\n",
       "    <tr>\n",
       "      <th>prev_owner</th>\n",
       "      <td>object</td>\n",
       "    </tr>\n",
       "    <tr>\n",
       "      <th>kW</th>\n",
       "      <td>float64</td>\n",
       "    </tr>\n",
       "    <tr>\n",
       "      <th>hp</th>\n",
       "      <td>object</td>\n",
       "    </tr>\n",
       "    <tr>\n",
       "      <th>Type</th>\n",
       "      <td>object</td>\n",
       "    </tr>\n",
       "    <tr>\n",
       "      <th>Previous Owners</th>\n",
       "      <td>object</td>\n",
       "    </tr>\n",
       "    <tr>\n",
       "      <th>Next Inspection</th>\n",
       "      <td>object</td>\n",
       "    </tr>\n",
       "    <tr>\n",
       "      <th>Inspection new</th>\n",
       "      <td>object</td>\n",
       "    </tr>\n",
       "    <tr>\n",
       "      <th>Warranty</th>\n",
       "      <td>object</td>\n",
       "    </tr>\n",
       "    <tr>\n",
       "      <th>Full Service</th>\n",
       "      <td>object</td>\n",
       "    </tr>\n",
       "    <tr>\n",
       "      <th>Non-smoking Vehicle</th>\n",
       "      <td>object</td>\n",
       "    </tr>\n",
       "    <tr>\n",
       "      <th>null</th>\n",
       "      <td>object</td>\n",
       "    </tr>\n",
       "    <tr>\n",
       "      <th>Make</th>\n",
       "      <td>object</td>\n",
       "    </tr>\n",
       "    <tr>\n",
       "      <th>Model</th>\n",
       "      <td>object</td>\n",
       "    </tr>\n",
       "    <tr>\n",
       "      <th>Offer Number</th>\n",
       "      <td>object</td>\n",
       "    </tr>\n",
       "    <tr>\n",
       "      <th>First Registration</th>\n",
       "      <td>object</td>\n",
       "    </tr>\n",
       "    <tr>\n",
       "      <th>Body Color</th>\n",
       "      <td>object</td>\n",
       "    </tr>\n",
       "    <tr>\n",
       "      <th>Paint Type</th>\n",
       "      <td>object</td>\n",
       "    </tr>\n",
       "    <tr>\n",
       "      <th>Body Color Original</th>\n",
       "      <td>object</td>\n",
       "    </tr>\n",
       "    <tr>\n",
       "      <th>Upholstery</th>\n",
       "      <td>object</td>\n",
       "    </tr>\n",
       "    <tr>\n",
       "      <th>Body</th>\n",
       "      <td>object</td>\n",
       "    </tr>\n",
       "    <tr>\n",
       "      <th>Nr. of Doors</th>\n",
       "      <td>object</td>\n",
       "    </tr>\n",
       "    <tr>\n",
       "      <th>Nr. of Seats</th>\n",
       "      <td>object</td>\n",
       "    </tr>\n",
       "    <tr>\n",
       "      <th>Model Code</th>\n",
       "      <td>object</td>\n",
       "    </tr>\n",
       "    <tr>\n",
       "      <th>Gearing Type</th>\n",
       "      <td>object</td>\n",
       "    </tr>\n",
       "    <tr>\n",
       "      <th>Displacement</th>\n",
       "      <td>object</td>\n",
       "    </tr>\n",
       "    <tr>\n",
       "      <th>Cylinders</th>\n",
       "      <td>object</td>\n",
       "    </tr>\n",
       "    <tr>\n",
       "      <th>Weight</th>\n",
       "      <td>object</td>\n",
       "    </tr>\n",
       "    <tr>\n",
       "      <th>Drive chain</th>\n",
       "      <td>object</td>\n",
       "    </tr>\n",
       "    <tr>\n",
       "      <th>Fuel</th>\n",
       "      <td>object</td>\n",
       "    </tr>\n",
       "    <tr>\n",
       "      <th>Consumption</th>\n",
       "      <td>object</td>\n",
       "    </tr>\n",
       "    <tr>\n",
       "      <th>CO2 Emission</th>\n",
       "      <td>object</td>\n",
       "    </tr>\n",
       "    <tr>\n",
       "      <th>Emission Class</th>\n",
       "      <td>object</td>\n",
       "    </tr>\n",
       "    <tr>\n",
       "      <th>\\nComfort &amp; Convenience\\n</th>\n",
       "      <td>object</td>\n",
       "    </tr>\n",
       "    <tr>\n",
       "      <th>\\nEntertainment &amp; Media\\n</th>\n",
       "      <td>object</td>\n",
       "    </tr>\n",
       "    <tr>\n",
       "      <th>\\nExtras\\n</th>\n",
       "      <td>object</td>\n",
       "    </tr>\n",
       "    <tr>\n",
       "      <th>\\nSafety &amp; Security\\n</th>\n",
       "      <td>object</td>\n",
       "    </tr>\n",
       "    <tr>\n",
       "      <th>description</th>\n",
       "      <td>object</td>\n",
       "    </tr>\n",
       "    <tr>\n",
       "      <th>Emission Label</th>\n",
       "      <td>object</td>\n",
       "    </tr>\n",
       "    <tr>\n",
       "      <th>Gears</th>\n",
       "      <td>object</td>\n",
       "    </tr>\n",
       "    <tr>\n",
       "      <th>Country version</th>\n",
       "      <td>object</td>\n",
       "    </tr>\n",
       "    <tr>\n",
       "      <th>Electricity consumption</th>\n",
       "      <td>object</td>\n",
       "    </tr>\n",
       "    <tr>\n",
       "      <th>Last Service Date</th>\n",
       "      <td>object</td>\n",
       "    </tr>\n",
       "    <tr>\n",
       "      <th>Other Fuel Types</th>\n",
       "      <td>object</td>\n",
       "    </tr>\n",
       "    <tr>\n",
       "      <th>Availability</th>\n",
       "      <td>object</td>\n",
       "    </tr>\n",
       "    <tr>\n",
       "      <th>Last Timing Belt Service Date</th>\n",
       "      <td>object</td>\n",
       "    </tr>\n",
       "    <tr>\n",
       "      <th>Available from</th>\n",
       "      <td>object</td>\n",
       "    </tr>\n",
       "  </tbody>\n",
       "</table>\n",
       "</div>"
      ],
      "text/plain": [
       "                                dtypes\n",
       "url                             object\n",
       "make_model                      object\n",
       "short_description               object\n",
       "body_type                       object\n",
       "price                            int64\n",
       "vat                             object\n",
       "km                              object\n",
       "registration                    object\n",
       "prev_owner                      object\n",
       "kW                             float64\n",
       "hp                              object\n",
       "Type                            object\n",
       "Previous Owners                 object\n",
       "Next Inspection                 object\n",
       "Inspection new                  object\n",
       "Warranty                        object\n",
       "Full Service                    object\n",
       "Non-smoking Vehicle             object\n",
       "null                            object\n",
       "Make                            object\n",
       "Model                           object\n",
       "Offer Number                    object\n",
       "First Registration              object\n",
       "Body Color                      object\n",
       "Paint Type                      object\n",
       "Body Color Original             object\n",
       "Upholstery                      object\n",
       "Body                            object\n",
       "Nr. of Doors                    object\n",
       "Nr. of Seats                    object\n",
       "Model Code                      object\n",
       "Gearing Type                    object\n",
       "Displacement                    object\n",
       "Cylinders                       object\n",
       "Weight                          object\n",
       "Drive chain                     object\n",
       "Fuel                            object\n",
       "Consumption                     object\n",
       "CO2 Emission                    object\n",
       "Emission Class                  object\n",
       "\\nComfort & Convenience\\n       object\n",
       "\\nEntertainment & Media\\n       object\n",
       "\\nExtras\\n                      object\n",
       "\\nSafety & Security\\n           object\n",
       "description                     object\n",
       "Emission Label                  object\n",
       "Gears                           object\n",
       "Country version                 object\n",
       "Electricity consumption         object\n",
       "Last Service Date               object\n",
       "Other Fuel Types                object\n",
       "Availability                    object\n",
       "Last Timing Belt Service Date   object\n",
       "Available from                  object"
      ]
     },
     "execution_count": 12,
     "metadata": {},
     "output_type": "execute_result"
    }
   ],
   "source": [
    "dtypes = pd.DataFrame(df1.dtypes, columns = ['dtypes'])\n",
    "dtypes"
   ]
  },
  {
   "cell_type": "code",
   "execution_count": 13,
   "metadata": {},
   "outputs": [
    {
     "data": {
      "text/html": [
       "<div>\n",
       "<style scoped>\n",
       "    .dataframe tbody tr th:only-of-type {\n",
       "        vertical-align: middle;\n",
       "    }\n",
       "\n",
       "    .dataframe tbody tr th {\n",
       "        vertical-align: top;\n",
       "    }\n",
       "\n",
       "    .dataframe thead th {\n",
       "        text-align: right;\n",
       "    }\n",
       "</style>\n",
       "<table border=\"1\" class=\"dataframe\">\n",
       "  <thead>\n",
       "    <tr style=\"text-align: right;\">\n",
       "      <th></th>\n",
       "      <th>notnull</th>\n",
       "    </tr>\n",
       "  </thead>\n",
       "  <tbody>\n",
       "    <tr>\n",
       "      <th>url</th>\n",
       "      <td>15919</td>\n",
       "    </tr>\n",
       "    <tr>\n",
       "      <th>make_model</th>\n",
       "      <td>15919</td>\n",
       "    </tr>\n",
       "    <tr>\n",
       "      <th>short_description</th>\n",
       "      <td>15873</td>\n",
       "    </tr>\n",
       "    <tr>\n",
       "      <th>body_type</th>\n",
       "      <td>15859</td>\n",
       "    </tr>\n",
       "    <tr>\n",
       "      <th>price</th>\n",
       "      <td>15919</td>\n",
       "    </tr>\n",
       "    <tr>\n",
       "      <th>vat</th>\n",
       "      <td>11406</td>\n",
       "    </tr>\n",
       "    <tr>\n",
       "      <th>km</th>\n",
       "      <td>15919</td>\n",
       "    </tr>\n",
       "    <tr>\n",
       "      <th>registration</th>\n",
       "      <td>15919</td>\n",
       "    </tr>\n",
       "    <tr>\n",
       "      <th>prev_owner</th>\n",
       "      <td>9091</td>\n",
       "    </tr>\n",
       "    <tr>\n",
       "      <th>kW</th>\n",
       "      <td>0</td>\n",
       "    </tr>\n",
       "    <tr>\n",
       "      <th>hp</th>\n",
       "      <td>15919</td>\n",
       "    </tr>\n",
       "    <tr>\n",
       "      <th>Type</th>\n",
       "      <td>15917</td>\n",
       "    </tr>\n",
       "    <tr>\n",
       "      <th>Previous Owners</th>\n",
       "      <td>9279</td>\n",
       "    </tr>\n",
       "    <tr>\n",
       "      <th>Next Inspection</th>\n",
       "      <td>3535</td>\n",
       "    </tr>\n",
       "    <tr>\n",
       "      <th>Inspection new</th>\n",
       "      <td>3932</td>\n",
       "    </tr>\n",
       "    <tr>\n",
       "      <th>Warranty</th>\n",
       "      <td>10499</td>\n",
       "    </tr>\n",
       "    <tr>\n",
       "      <th>Full Service</th>\n",
       "      <td>8215</td>\n",
       "    </tr>\n",
       "    <tr>\n",
       "      <th>Non-smoking Vehicle</th>\n",
       "      <td>7177</td>\n",
       "    </tr>\n",
       "    <tr>\n",
       "      <th>null</th>\n",
       "      <td>15919</td>\n",
       "    </tr>\n",
       "    <tr>\n",
       "      <th>Make</th>\n",
       "      <td>15919</td>\n",
       "    </tr>\n",
       "    <tr>\n",
       "      <th>Model</th>\n",
       "      <td>15919</td>\n",
       "    </tr>\n",
       "    <tr>\n",
       "      <th>Offer Number</th>\n",
       "      <td>12744</td>\n",
       "    </tr>\n",
       "    <tr>\n",
       "      <th>First Registration</th>\n",
       "      <td>14322</td>\n",
       "    </tr>\n",
       "    <tr>\n",
       "      <th>Body Color</th>\n",
       "      <td>15322</td>\n",
       "    </tr>\n",
       "    <tr>\n",
       "      <th>Paint Type</th>\n",
       "      <td>10147</td>\n",
       "    </tr>\n",
       "    <tr>\n",
       "      <th>Body Color Original</th>\n",
       "      <td>12160</td>\n",
       "    </tr>\n",
       "    <tr>\n",
       "      <th>Upholstery</th>\n",
       "      <td>12199</td>\n",
       "    </tr>\n",
       "    <tr>\n",
       "      <th>Body</th>\n",
       "      <td>15859</td>\n",
       "    </tr>\n",
       "    <tr>\n",
       "      <th>Nr. of Doors</th>\n",
       "      <td>15707</td>\n",
       "    </tr>\n",
       "    <tr>\n",
       "      <th>Nr. of Seats</th>\n",
       "      <td>14942</td>\n",
       "    </tr>\n",
       "    <tr>\n",
       "      <th>Model Code</th>\n",
       "      <td>4978</td>\n",
       "    </tr>\n",
       "    <tr>\n",
       "      <th>Gearing Type</th>\n",
       "      <td>15919</td>\n",
       "    </tr>\n",
       "    <tr>\n",
       "      <th>Displacement</th>\n",
       "      <td>15423</td>\n",
       "    </tr>\n",
       "    <tr>\n",
       "      <th>Cylinders</th>\n",
       "      <td>10239</td>\n",
       "    </tr>\n",
       "    <tr>\n",
       "      <th>Weight</th>\n",
       "      <td>8945</td>\n",
       "    </tr>\n",
       "    <tr>\n",
       "      <th>Drive chain</th>\n",
       "      <td>9061</td>\n",
       "    </tr>\n",
       "    <tr>\n",
       "      <th>Fuel</th>\n",
       "      <td>15919</td>\n",
       "    </tr>\n",
       "    <tr>\n",
       "      <th>Consumption</th>\n",
       "      <td>14013</td>\n",
       "    </tr>\n",
       "    <tr>\n",
       "      <th>CO2 Emission</th>\n",
       "      <td>14111</td>\n",
       "    </tr>\n",
       "    <tr>\n",
       "      <th>Emission Class</th>\n",
       "      <td>12898</td>\n",
       "    </tr>\n",
       "    <tr>\n",
       "      <th>\\nComfort &amp; Convenience\\n</th>\n",
       "      <td>14999</td>\n",
       "    </tr>\n",
       "    <tr>\n",
       "      <th>\\nEntertainment &amp; Media\\n</th>\n",
       "      <td>14545</td>\n",
       "    </tr>\n",
       "    <tr>\n",
       "      <th>\\nExtras\\n</th>\n",
       "      <td>12957</td>\n",
       "    </tr>\n",
       "    <tr>\n",
       "      <th>\\nSafety &amp; Security\\n</th>\n",
       "      <td>14937</td>\n",
       "    </tr>\n",
       "    <tr>\n",
       "      <th>description</th>\n",
       "      <td>15919</td>\n",
       "    </tr>\n",
       "    <tr>\n",
       "      <th>Emission Label</th>\n",
       "      <td>3985</td>\n",
       "    </tr>\n",
       "    <tr>\n",
       "      <th>Gears</th>\n",
       "      <td>11207</td>\n",
       "    </tr>\n",
       "    <tr>\n",
       "      <th>Country version</th>\n",
       "      <td>7586</td>\n",
       "    </tr>\n",
       "    <tr>\n",
       "      <th>Electricity consumption</th>\n",
       "      <td>137</td>\n",
       "    </tr>\n",
       "    <tr>\n",
       "      <th>Last Service Date</th>\n",
       "      <td>566</td>\n",
       "    </tr>\n",
       "    <tr>\n",
       "      <th>Other Fuel Types</th>\n",
       "      <td>880</td>\n",
       "    </tr>\n",
       "    <tr>\n",
       "      <th>Availability</th>\n",
       "      <td>635</td>\n",
       "    </tr>\n",
       "    <tr>\n",
       "      <th>Last Timing Belt Service Date</th>\n",
       "      <td>16</td>\n",
       "    </tr>\n",
       "    <tr>\n",
       "      <th>Available from</th>\n",
       "      <td>272</td>\n",
       "    </tr>\n",
       "  </tbody>\n",
       "</table>\n",
       "</div>"
      ],
      "text/plain": [
       "                               notnull\n",
       "url                              15919\n",
       "make_model                       15919\n",
       "short_description                15873\n",
       "body_type                        15859\n",
       "price                            15919\n",
       "vat                              11406\n",
       "km                               15919\n",
       "registration                     15919\n",
       "prev_owner                        9091\n",
       "kW                                   0\n",
       "hp                               15919\n",
       "Type                             15917\n",
       "Previous Owners                   9279\n",
       "Next Inspection                   3535\n",
       "Inspection new                    3932\n",
       "Warranty                         10499\n",
       "Full Service                      8215\n",
       "Non-smoking Vehicle               7177\n",
       "null                             15919\n",
       "Make                             15919\n",
       "Model                            15919\n",
       "Offer Number                     12744\n",
       "First Registration               14322\n",
       "Body Color                       15322\n",
       "Paint Type                       10147\n",
       "Body Color Original              12160\n",
       "Upholstery                       12199\n",
       "Body                             15859\n",
       "Nr. of Doors                     15707\n",
       "Nr. of Seats                     14942\n",
       "Model Code                        4978\n",
       "Gearing Type                     15919\n",
       "Displacement                     15423\n",
       "Cylinders                        10239\n",
       "Weight                            8945\n",
       "Drive chain                       9061\n",
       "Fuel                             15919\n",
       "Consumption                      14013\n",
       "CO2 Emission                     14111\n",
       "Emission Class                   12898\n",
       "\\nComfort & Convenience\\n        14999\n",
       "\\nEntertainment & Media\\n        14545\n",
       "\\nExtras\\n                       12957\n",
       "\\nSafety & Security\\n            14937\n",
       "description                      15919\n",
       "Emission Label                    3985\n",
       "Gears                            11207\n",
       "Country version                   7586\n",
       "Electricity consumption            137\n",
       "Last Service Date                  566\n",
       "Other Fuel Types                   880\n",
       "Availability                       635\n",
       "Last Timing Belt Service Date       16\n",
       "Available from                     272"
      ]
     },
     "execution_count": 13,
     "metadata": {},
     "output_type": "execute_result"
    }
   ],
   "source": [
    "notnull = pd.DataFrame(df.notnull().sum(), columns = ['notnull'])\n",
    "notnull"
   ]
  },
  {
   "cell_type": "code",
   "execution_count": 14,
   "metadata": {},
   "outputs": [
    {
     "data": {
      "text/html": [
       "<div>\n",
       "<style scoped>\n",
       "    .dataframe tbody tr th:only-of-type {\n",
       "        vertical-align: middle;\n",
       "    }\n",
       "\n",
       "    .dataframe tbody tr th {\n",
       "        vertical-align: top;\n",
       "    }\n",
       "\n",
       "    .dataframe thead th {\n",
       "        text-align: right;\n",
       "    }\n",
       "</style>\n",
       "<table border=\"1\" class=\"dataframe\">\n",
       "  <thead>\n",
       "    <tr style=\"text-align: right;\">\n",
       "      <th></th>\n",
       "      <th>isnull</th>\n",
       "    </tr>\n",
       "  </thead>\n",
       "  <tbody>\n",
       "    <tr>\n",
       "      <th>url</th>\n",
       "      <td>0</td>\n",
       "    </tr>\n",
       "    <tr>\n",
       "      <th>make_model</th>\n",
       "      <td>0</td>\n",
       "    </tr>\n",
       "    <tr>\n",
       "      <th>short_description</th>\n",
       "      <td>46</td>\n",
       "    </tr>\n",
       "    <tr>\n",
       "      <th>body_type</th>\n",
       "      <td>60</td>\n",
       "    </tr>\n",
       "    <tr>\n",
       "      <th>price</th>\n",
       "      <td>0</td>\n",
       "    </tr>\n",
       "    <tr>\n",
       "      <th>vat</th>\n",
       "      <td>4513</td>\n",
       "    </tr>\n",
       "    <tr>\n",
       "      <th>km</th>\n",
       "      <td>0</td>\n",
       "    </tr>\n",
       "    <tr>\n",
       "      <th>registration</th>\n",
       "      <td>0</td>\n",
       "    </tr>\n",
       "    <tr>\n",
       "      <th>prev_owner</th>\n",
       "      <td>6828</td>\n",
       "    </tr>\n",
       "    <tr>\n",
       "      <th>kW</th>\n",
       "      <td>15919</td>\n",
       "    </tr>\n",
       "    <tr>\n",
       "      <th>hp</th>\n",
       "      <td>0</td>\n",
       "    </tr>\n",
       "    <tr>\n",
       "      <th>Type</th>\n",
       "      <td>2</td>\n",
       "    </tr>\n",
       "    <tr>\n",
       "      <th>Previous Owners</th>\n",
       "      <td>6640</td>\n",
       "    </tr>\n",
       "    <tr>\n",
       "      <th>Next Inspection</th>\n",
       "      <td>12384</td>\n",
       "    </tr>\n",
       "    <tr>\n",
       "      <th>Inspection new</th>\n",
       "      <td>11987</td>\n",
       "    </tr>\n",
       "    <tr>\n",
       "      <th>Warranty</th>\n",
       "      <td>5420</td>\n",
       "    </tr>\n",
       "    <tr>\n",
       "      <th>Full Service</th>\n",
       "      <td>7704</td>\n",
       "    </tr>\n",
       "    <tr>\n",
       "      <th>Non-smoking Vehicle</th>\n",
       "      <td>8742</td>\n",
       "    </tr>\n",
       "    <tr>\n",
       "      <th>null</th>\n",
       "      <td>0</td>\n",
       "    </tr>\n",
       "    <tr>\n",
       "      <th>Make</th>\n",
       "      <td>0</td>\n",
       "    </tr>\n",
       "    <tr>\n",
       "      <th>Model</th>\n",
       "      <td>0</td>\n",
       "    </tr>\n",
       "    <tr>\n",
       "      <th>Offer Number</th>\n",
       "      <td>3175</td>\n",
       "    </tr>\n",
       "    <tr>\n",
       "      <th>First Registration</th>\n",
       "      <td>1597</td>\n",
       "    </tr>\n",
       "    <tr>\n",
       "      <th>Body Color</th>\n",
       "      <td>597</td>\n",
       "    </tr>\n",
       "    <tr>\n",
       "      <th>Paint Type</th>\n",
       "      <td>5772</td>\n",
       "    </tr>\n",
       "    <tr>\n",
       "      <th>Body Color Original</th>\n",
       "      <td>3759</td>\n",
       "    </tr>\n",
       "    <tr>\n",
       "      <th>Upholstery</th>\n",
       "      <td>3720</td>\n",
       "    </tr>\n",
       "    <tr>\n",
       "      <th>Body</th>\n",
       "      <td>60</td>\n",
       "    </tr>\n",
       "    <tr>\n",
       "      <th>Nr. of Doors</th>\n",
       "      <td>212</td>\n",
       "    </tr>\n",
       "    <tr>\n",
       "      <th>Nr. of Seats</th>\n",
       "      <td>977</td>\n",
       "    </tr>\n",
       "    <tr>\n",
       "      <th>Model Code</th>\n",
       "      <td>10941</td>\n",
       "    </tr>\n",
       "    <tr>\n",
       "      <th>Gearing Type</th>\n",
       "      <td>0</td>\n",
       "    </tr>\n",
       "    <tr>\n",
       "      <th>Displacement</th>\n",
       "      <td>496</td>\n",
       "    </tr>\n",
       "    <tr>\n",
       "      <th>Cylinders</th>\n",
       "      <td>5680</td>\n",
       "    </tr>\n",
       "    <tr>\n",
       "      <th>Weight</th>\n",
       "      <td>6974</td>\n",
       "    </tr>\n",
       "    <tr>\n",
       "      <th>Drive chain</th>\n",
       "      <td>6858</td>\n",
       "    </tr>\n",
       "    <tr>\n",
       "      <th>Fuel</th>\n",
       "      <td>0</td>\n",
       "    </tr>\n",
       "    <tr>\n",
       "      <th>Consumption</th>\n",
       "      <td>1906</td>\n",
       "    </tr>\n",
       "    <tr>\n",
       "      <th>CO2 Emission</th>\n",
       "      <td>1808</td>\n",
       "    </tr>\n",
       "    <tr>\n",
       "      <th>Emission Class</th>\n",
       "      <td>3021</td>\n",
       "    </tr>\n",
       "    <tr>\n",
       "      <th>\\nComfort &amp; Convenience\\n</th>\n",
       "      <td>920</td>\n",
       "    </tr>\n",
       "    <tr>\n",
       "      <th>\\nEntertainment &amp; Media\\n</th>\n",
       "      <td>1374</td>\n",
       "    </tr>\n",
       "    <tr>\n",
       "      <th>\\nExtras\\n</th>\n",
       "      <td>2962</td>\n",
       "    </tr>\n",
       "    <tr>\n",
       "      <th>\\nSafety &amp; Security\\n</th>\n",
       "      <td>982</td>\n",
       "    </tr>\n",
       "    <tr>\n",
       "      <th>description</th>\n",
       "      <td>0</td>\n",
       "    </tr>\n",
       "    <tr>\n",
       "      <th>Emission Label</th>\n",
       "      <td>11934</td>\n",
       "    </tr>\n",
       "    <tr>\n",
       "      <th>Gears</th>\n",
       "      <td>4712</td>\n",
       "    </tr>\n",
       "    <tr>\n",
       "      <th>Country version</th>\n",
       "      <td>8333</td>\n",
       "    </tr>\n",
       "    <tr>\n",
       "      <th>Electricity consumption</th>\n",
       "      <td>15782</td>\n",
       "    </tr>\n",
       "    <tr>\n",
       "      <th>Last Service Date</th>\n",
       "      <td>15353</td>\n",
       "    </tr>\n",
       "    <tr>\n",
       "      <th>Other Fuel Types</th>\n",
       "      <td>15039</td>\n",
       "    </tr>\n",
       "    <tr>\n",
       "      <th>Availability</th>\n",
       "      <td>15284</td>\n",
       "    </tr>\n",
       "    <tr>\n",
       "      <th>Last Timing Belt Service Date</th>\n",
       "      <td>15903</td>\n",
       "    </tr>\n",
       "    <tr>\n",
       "      <th>Available from</th>\n",
       "      <td>15647</td>\n",
       "    </tr>\n",
       "  </tbody>\n",
       "</table>\n",
       "</div>"
      ],
      "text/plain": [
       "                               isnull\n",
       "url                                 0\n",
       "make_model                          0\n",
       "short_description                  46\n",
       "body_type                          60\n",
       "price                               0\n",
       "vat                              4513\n",
       "km                                  0\n",
       "registration                        0\n",
       "prev_owner                       6828\n",
       "kW                              15919\n",
       "hp                                  0\n",
       "Type                                2\n",
       "Previous Owners                  6640\n",
       "Next Inspection                 12384\n",
       "Inspection new                  11987\n",
       "Warranty                         5420\n",
       "Full Service                     7704\n",
       "Non-smoking Vehicle              8742\n",
       "null                                0\n",
       "Make                                0\n",
       "Model                               0\n",
       "Offer Number                     3175\n",
       "First Registration               1597\n",
       "Body Color                        597\n",
       "Paint Type                       5772\n",
       "Body Color Original              3759\n",
       "Upholstery                       3720\n",
       "Body                               60\n",
       "Nr. of Doors                      212\n",
       "Nr. of Seats                      977\n",
       "Model Code                      10941\n",
       "Gearing Type                        0\n",
       "Displacement                      496\n",
       "Cylinders                        5680\n",
       "Weight                           6974\n",
       "Drive chain                      6858\n",
       "Fuel                                0\n",
       "Consumption                      1906\n",
       "CO2 Emission                     1808\n",
       "Emission Class                   3021\n",
       "\\nComfort & Convenience\\n         920\n",
       "\\nEntertainment & Media\\n        1374\n",
       "\\nExtras\\n                       2962\n",
       "\\nSafety & Security\\n             982\n",
       "description                         0\n",
       "Emission Label                  11934\n",
       "Gears                            4712\n",
       "Country version                  8333\n",
       "Electricity consumption         15782\n",
       "Last Service Date               15353\n",
       "Other Fuel Types                15039\n",
       "Availability                    15284\n",
       "Last Timing Belt Service Date   15903\n",
       "Available from                  15647"
      ]
     },
     "execution_count": 14,
     "metadata": {},
     "output_type": "execute_result"
    }
   ],
   "source": [
    "isnull = pd.DataFrame(df1.isnull().sum(), columns = ['isnull'])\n",
    "isnull"
   ]
  },
  {
   "cell_type": "code",
   "execution_count": 15,
   "metadata": {},
   "outputs": [
    {
     "name": "stdout",
     "output_type": "stream",
     "text": [
      "url:0.0%\n",
      "make_model:0.0%\n",
      "short_description:0.29%\n",
      "body_type:0.38%\n",
      "price:0.0%\n",
      "vat:28.35%\n",
      "km:0.0%\n",
      "registration:0.0%\n",
      "prev_owner:42.89%\n",
      "kW:100.0%\n",
      "hp:0.0%\n",
      "Type:0.01%\n",
      "Previous Owners:41.71%\n",
      "Next Inspection:77.79%\n",
      "Inspection new:75.3%\n",
      "Warranty:34.05%\n",
      "Full Service:48.39%\n",
      "Non-smoking Vehicle:54.92%\n",
      "null:0.0%\n",
      "Make:0.0%\n",
      "Model:0.0%\n",
      "Offer Number:19.94%\n",
      "First Registration:10.03%\n",
      "Body Color:3.75%\n",
      "Paint Type:36.26%\n",
      "Body Color Original:23.61%\n",
      "Upholstery:23.37%\n",
      "Body:0.38%\n",
      "Nr. of Doors:1.33%\n",
      "Nr. of Seats:6.14%\n",
      "Model Code:68.73%\n",
      "Gearing Type:0.0%\n",
      "Displacement:3.12%\n",
      "Cylinders:35.68%\n",
      "Weight:43.81%\n",
      "Drive chain:43.08%\n",
      "Fuel:0.0%\n",
      "Consumption:11.97%\n",
      "CO2 Emission:11.36%\n",
      "Emission Class:18.98%\n",
      "\n",
      "Comfort & Convenience\n",
      ":5.78%\n",
      "\n",
      "Entertainment & Media\n",
      ":8.63%\n",
      "\n",
      "Extras\n",
      ":18.61%\n",
      "\n",
      "Safety & Security\n",
      ":6.17%\n",
      "description:0.0%\n",
      "Emission Label:74.97%\n",
      "Gears:29.6%\n",
      "Country version:52.35%\n",
      "Electricity consumption:99.14%\n",
      "Last Service Date:96.44%\n",
      "Other Fuel Types:94.47%\n",
      "Availability:96.01%\n",
      "Last Timing Belt Service Date:99.9%\n",
      "Available from:98.29%\n"
     ]
    }
   ],
   "source": [
    "for column in df1.columns:\n",
    "    percentage = df1[column].isnull().mean()\n",
    "    print(f'{column}:{round(percentage*100, 2)}%')"
   ]
  },
  {
   "cell_type": "code",
   "execution_count": 16,
   "metadata": {},
   "outputs": [
    {
     "data": {
      "text/html": [
       "<div>\n",
       "<style scoped>\n",
       "    .dataframe tbody tr th:only-of-type {\n",
       "        vertical-align: middle;\n",
       "    }\n",
       "\n",
       "    .dataframe tbody tr th {\n",
       "        vertical-align: top;\n",
       "    }\n",
       "\n",
       "    .dataframe thead th {\n",
       "        text-align: right;\n",
       "    }\n",
       "</style>\n",
       "<table border=\"1\" class=\"dataframe\">\n",
       "  <thead>\n",
       "    <tr style=\"text-align: right;\">\n",
       "      <th></th>\n",
       "      <th>Columns</th>\n",
       "      <th>dtypes</th>\n",
       "      <th>notnull</th>\n",
       "      <th>isnull</th>\n",
       "    </tr>\n",
       "  </thead>\n",
       "  <tbody>\n",
       "    <tr>\n",
       "      <th>0</th>\n",
       "      <td>url</td>\n",
       "      <td>object</td>\n",
       "      <td>15919</td>\n",
       "      <td>0</td>\n",
       "    </tr>\n",
       "    <tr>\n",
       "      <th>1</th>\n",
       "      <td>make_model</td>\n",
       "      <td>object</td>\n",
       "      <td>15919</td>\n",
       "      <td>0</td>\n",
       "    </tr>\n",
       "    <tr>\n",
       "      <th>2</th>\n",
       "      <td>short_description</td>\n",
       "      <td>object</td>\n",
       "      <td>15873</td>\n",
       "      <td>46</td>\n",
       "    </tr>\n",
       "    <tr>\n",
       "      <th>3</th>\n",
       "      <td>body_type</td>\n",
       "      <td>object</td>\n",
       "      <td>15859</td>\n",
       "      <td>60</td>\n",
       "    </tr>\n",
       "    <tr>\n",
       "      <th>4</th>\n",
       "      <td>price</td>\n",
       "      <td>int64</td>\n",
       "      <td>15919</td>\n",
       "      <td>0</td>\n",
       "    </tr>\n",
       "    <tr>\n",
       "      <th>5</th>\n",
       "      <td>vat</td>\n",
       "      <td>object</td>\n",
       "      <td>11406</td>\n",
       "      <td>4513</td>\n",
       "    </tr>\n",
       "    <tr>\n",
       "      <th>6</th>\n",
       "      <td>km</td>\n",
       "      <td>object</td>\n",
       "      <td>15919</td>\n",
       "      <td>0</td>\n",
       "    </tr>\n",
       "    <tr>\n",
       "      <th>7</th>\n",
       "      <td>registration</td>\n",
       "      <td>object</td>\n",
       "      <td>15919</td>\n",
       "      <td>0</td>\n",
       "    </tr>\n",
       "    <tr>\n",
       "      <th>8</th>\n",
       "      <td>prev_owner</td>\n",
       "      <td>object</td>\n",
       "      <td>9091</td>\n",
       "      <td>6828</td>\n",
       "    </tr>\n",
       "    <tr>\n",
       "      <th>9</th>\n",
       "      <td>kW</td>\n",
       "      <td>float64</td>\n",
       "      <td>0</td>\n",
       "      <td>15919</td>\n",
       "    </tr>\n",
       "    <tr>\n",
       "      <th>10</th>\n",
       "      <td>hp</td>\n",
       "      <td>object</td>\n",
       "      <td>15919</td>\n",
       "      <td>0</td>\n",
       "    </tr>\n",
       "    <tr>\n",
       "      <th>11</th>\n",
       "      <td>Type</td>\n",
       "      <td>object</td>\n",
       "      <td>15917</td>\n",
       "      <td>2</td>\n",
       "    </tr>\n",
       "    <tr>\n",
       "      <th>12</th>\n",
       "      <td>Previous Owners</td>\n",
       "      <td>object</td>\n",
       "      <td>9279</td>\n",
       "      <td>6640</td>\n",
       "    </tr>\n",
       "    <tr>\n",
       "      <th>13</th>\n",
       "      <td>Next Inspection</td>\n",
       "      <td>object</td>\n",
       "      <td>3535</td>\n",
       "      <td>12384</td>\n",
       "    </tr>\n",
       "    <tr>\n",
       "      <th>14</th>\n",
       "      <td>Inspection new</td>\n",
       "      <td>object</td>\n",
       "      <td>3932</td>\n",
       "      <td>11987</td>\n",
       "    </tr>\n",
       "    <tr>\n",
       "      <th>15</th>\n",
       "      <td>Warranty</td>\n",
       "      <td>object</td>\n",
       "      <td>10499</td>\n",
       "      <td>5420</td>\n",
       "    </tr>\n",
       "    <tr>\n",
       "      <th>16</th>\n",
       "      <td>Full Service</td>\n",
       "      <td>object</td>\n",
       "      <td>8215</td>\n",
       "      <td>7704</td>\n",
       "    </tr>\n",
       "    <tr>\n",
       "      <th>17</th>\n",
       "      <td>Non-smoking Vehicle</td>\n",
       "      <td>object</td>\n",
       "      <td>7177</td>\n",
       "      <td>8742</td>\n",
       "    </tr>\n",
       "    <tr>\n",
       "      <th>18</th>\n",
       "      <td>null</td>\n",
       "      <td>object</td>\n",
       "      <td>15919</td>\n",
       "      <td>0</td>\n",
       "    </tr>\n",
       "    <tr>\n",
       "      <th>19</th>\n",
       "      <td>Make</td>\n",
       "      <td>object</td>\n",
       "      <td>15919</td>\n",
       "      <td>0</td>\n",
       "    </tr>\n",
       "    <tr>\n",
       "      <th>20</th>\n",
       "      <td>Model</td>\n",
       "      <td>object</td>\n",
       "      <td>15919</td>\n",
       "      <td>0</td>\n",
       "    </tr>\n",
       "    <tr>\n",
       "      <th>21</th>\n",
       "      <td>Offer Number</td>\n",
       "      <td>object</td>\n",
       "      <td>12744</td>\n",
       "      <td>3175</td>\n",
       "    </tr>\n",
       "    <tr>\n",
       "      <th>22</th>\n",
       "      <td>First Registration</td>\n",
       "      <td>object</td>\n",
       "      <td>14322</td>\n",
       "      <td>1597</td>\n",
       "    </tr>\n",
       "    <tr>\n",
       "      <th>23</th>\n",
       "      <td>Body Color</td>\n",
       "      <td>object</td>\n",
       "      <td>15322</td>\n",
       "      <td>597</td>\n",
       "    </tr>\n",
       "    <tr>\n",
       "      <th>24</th>\n",
       "      <td>Paint Type</td>\n",
       "      <td>object</td>\n",
       "      <td>10147</td>\n",
       "      <td>5772</td>\n",
       "    </tr>\n",
       "    <tr>\n",
       "      <th>25</th>\n",
       "      <td>Body Color Original</td>\n",
       "      <td>object</td>\n",
       "      <td>12160</td>\n",
       "      <td>3759</td>\n",
       "    </tr>\n",
       "    <tr>\n",
       "      <th>26</th>\n",
       "      <td>Upholstery</td>\n",
       "      <td>object</td>\n",
       "      <td>12199</td>\n",
       "      <td>3720</td>\n",
       "    </tr>\n",
       "    <tr>\n",
       "      <th>27</th>\n",
       "      <td>Body</td>\n",
       "      <td>object</td>\n",
       "      <td>15859</td>\n",
       "      <td>60</td>\n",
       "    </tr>\n",
       "    <tr>\n",
       "      <th>28</th>\n",
       "      <td>Nr. of Doors</td>\n",
       "      <td>object</td>\n",
       "      <td>15707</td>\n",
       "      <td>212</td>\n",
       "    </tr>\n",
       "    <tr>\n",
       "      <th>29</th>\n",
       "      <td>Nr. of Seats</td>\n",
       "      <td>object</td>\n",
       "      <td>14942</td>\n",
       "      <td>977</td>\n",
       "    </tr>\n",
       "    <tr>\n",
       "      <th>30</th>\n",
       "      <td>Model Code</td>\n",
       "      <td>object</td>\n",
       "      <td>4978</td>\n",
       "      <td>10941</td>\n",
       "    </tr>\n",
       "    <tr>\n",
       "      <th>31</th>\n",
       "      <td>Gearing Type</td>\n",
       "      <td>object</td>\n",
       "      <td>15919</td>\n",
       "      <td>0</td>\n",
       "    </tr>\n",
       "    <tr>\n",
       "      <th>32</th>\n",
       "      <td>Displacement</td>\n",
       "      <td>object</td>\n",
       "      <td>15423</td>\n",
       "      <td>496</td>\n",
       "    </tr>\n",
       "    <tr>\n",
       "      <th>33</th>\n",
       "      <td>Cylinders</td>\n",
       "      <td>object</td>\n",
       "      <td>10239</td>\n",
       "      <td>5680</td>\n",
       "    </tr>\n",
       "    <tr>\n",
       "      <th>34</th>\n",
       "      <td>Weight</td>\n",
       "      <td>object</td>\n",
       "      <td>8945</td>\n",
       "      <td>6974</td>\n",
       "    </tr>\n",
       "    <tr>\n",
       "      <th>35</th>\n",
       "      <td>Drive chain</td>\n",
       "      <td>object</td>\n",
       "      <td>9061</td>\n",
       "      <td>6858</td>\n",
       "    </tr>\n",
       "    <tr>\n",
       "      <th>36</th>\n",
       "      <td>Fuel</td>\n",
       "      <td>object</td>\n",
       "      <td>15919</td>\n",
       "      <td>0</td>\n",
       "    </tr>\n",
       "    <tr>\n",
       "      <th>37</th>\n",
       "      <td>Consumption</td>\n",
       "      <td>object</td>\n",
       "      <td>14013</td>\n",
       "      <td>1906</td>\n",
       "    </tr>\n",
       "    <tr>\n",
       "      <th>38</th>\n",
       "      <td>CO2 Emission</td>\n",
       "      <td>object</td>\n",
       "      <td>14111</td>\n",
       "      <td>1808</td>\n",
       "    </tr>\n",
       "    <tr>\n",
       "      <th>39</th>\n",
       "      <td>Emission Class</td>\n",
       "      <td>object</td>\n",
       "      <td>12898</td>\n",
       "      <td>3021</td>\n",
       "    </tr>\n",
       "    <tr>\n",
       "      <th>40</th>\n",
       "      <td>\\nComfort &amp; Convenience\\n</td>\n",
       "      <td>object</td>\n",
       "      <td>14999</td>\n",
       "      <td>920</td>\n",
       "    </tr>\n",
       "    <tr>\n",
       "      <th>41</th>\n",
       "      <td>\\nEntertainment &amp; Media\\n</td>\n",
       "      <td>object</td>\n",
       "      <td>14545</td>\n",
       "      <td>1374</td>\n",
       "    </tr>\n",
       "    <tr>\n",
       "      <th>42</th>\n",
       "      <td>\\nExtras\\n</td>\n",
       "      <td>object</td>\n",
       "      <td>12957</td>\n",
       "      <td>2962</td>\n",
       "    </tr>\n",
       "    <tr>\n",
       "      <th>43</th>\n",
       "      <td>\\nSafety &amp; Security\\n</td>\n",
       "      <td>object</td>\n",
       "      <td>14937</td>\n",
       "      <td>982</td>\n",
       "    </tr>\n",
       "    <tr>\n",
       "      <th>44</th>\n",
       "      <td>description</td>\n",
       "      <td>object</td>\n",
       "      <td>15919</td>\n",
       "      <td>0</td>\n",
       "    </tr>\n",
       "    <tr>\n",
       "      <th>45</th>\n",
       "      <td>Emission Label</td>\n",
       "      <td>object</td>\n",
       "      <td>3985</td>\n",
       "      <td>11934</td>\n",
       "    </tr>\n",
       "    <tr>\n",
       "      <th>46</th>\n",
       "      <td>Gears</td>\n",
       "      <td>object</td>\n",
       "      <td>11207</td>\n",
       "      <td>4712</td>\n",
       "    </tr>\n",
       "    <tr>\n",
       "      <th>47</th>\n",
       "      <td>Country version</td>\n",
       "      <td>object</td>\n",
       "      <td>7586</td>\n",
       "      <td>8333</td>\n",
       "    </tr>\n",
       "    <tr>\n",
       "      <th>48</th>\n",
       "      <td>Electricity consumption</td>\n",
       "      <td>object</td>\n",
       "      <td>137</td>\n",
       "      <td>15782</td>\n",
       "    </tr>\n",
       "    <tr>\n",
       "      <th>49</th>\n",
       "      <td>Last Service Date</td>\n",
       "      <td>object</td>\n",
       "      <td>566</td>\n",
       "      <td>15353</td>\n",
       "    </tr>\n",
       "    <tr>\n",
       "      <th>50</th>\n",
       "      <td>Other Fuel Types</td>\n",
       "      <td>object</td>\n",
       "      <td>880</td>\n",
       "      <td>15039</td>\n",
       "    </tr>\n",
       "    <tr>\n",
       "      <th>51</th>\n",
       "      <td>Availability</td>\n",
       "      <td>object</td>\n",
       "      <td>635</td>\n",
       "      <td>15284</td>\n",
       "    </tr>\n",
       "    <tr>\n",
       "      <th>52</th>\n",
       "      <td>Last Timing Belt Service Date</td>\n",
       "      <td>object</td>\n",
       "      <td>16</td>\n",
       "      <td>15903</td>\n",
       "    </tr>\n",
       "    <tr>\n",
       "      <th>53</th>\n",
       "      <td>Available from</td>\n",
       "      <td>object</td>\n",
       "      <td>272</td>\n",
       "      <td>15647</td>\n",
       "    </tr>\n",
       "  </tbody>\n",
       "</table>\n",
       "</div>"
      ],
      "text/plain": [
       "                          Columns   dtypes  notnull  isnull\n",
       "0                             url   object    15919       0\n",
       "1                      make_model   object    15919       0\n",
       "2               short_description   object    15873      46\n",
       "3                       body_type   object    15859      60\n",
       "4                           price    int64    15919       0\n",
       "5                             vat   object    11406    4513\n",
       "6                              km   object    15919       0\n",
       "7                    registration   object    15919       0\n",
       "8                      prev_owner   object     9091    6828\n",
       "9                              kW  float64        0   15919\n",
       "10                             hp   object    15919       0\n",
       "11                           Type   object    15917       2\n",
       "12                Previous Owners   object     9279    6640\n",
       "13                Next Inspection   object     3535   12384\n",
       "14                 Inspection new   object     3932   11987\n",
       "15                       Warranty   object    10499    5420\n",
       "16                   Full Service   object     8215    7704\n",
       "17            Non-smoking Vehicle   object     7177    8742\n",
       "18                           null   object    15919       0\n",
       "19                           Make   object    15919       0\n",
       "20                          Model   object    15919       0\n",
       "21                   Offer Number   object    12744    3175\n",
       "22             First Registration   object    14322    1597\n",
       "23                     Body Color   object    15322     597\n",
       "24                     Paint Type   object    10147    5772\n",
       "25            Body Color Original   object    12160    3759\n",
       "26                     Upholstery   object    12199    3720\n",
       "27                           Body   object    15859      60\n",
       "28                   Nr. of Doors   object    15707     212\n",
       "29                   Nr. of Seats   object    14942     977\n",
       "30                     Model Code   object     4978   10941\n",
       "31                   Gearing Type   object    15919       0\n",
       "32                   Displacement   object    15423     496\n",
       "33                      Cylinders   object    10239    5680\n",
       "34                         Weight   object     8945    6974\n",
       "35                    Drive chain   object     9061    6858\n",
       "36                           Fuel   object    15919       0\n",
       "37                    Consumption   object    14013    1906\n",
       "38                   CO2 Emission   object    14111    1808\n",
       "39                 Emission Class   object    12898    3021\n",
       "40      \\nComfort & Convenience\\n   object    14999     920\n",
       "41      \\nEntertainment & Media\\n   object    14545    1374\n",
       "42                     \\nExtras\\n   object    12957    2962\n",
       "43          \\nSafety & Security\\n   object    14937     982\n",
       "44                    description   object    15919       0\n",
       "45                 Emission Label   object     3985   11934\n",
       "46                          Gears   object    11207    4712\n",
       "47                Country version   object     7586    8333\n",
       "48        Electricity consumption   object      137   15782\n",
       "49              Last Service Date   object      566   15353\n",
       "50               Other Fuel Types   object      880   15039\n",
       "51                   Availability   object      635   15284\n",
       "52  Last Timing Belt Service Date   object       16   15903\n",
       "53                 Available from   object      272   15647"
      ]
     },
     "execution_count": 16,
     "metadata": {},
     "output_type": "execute_result"
    }
   ],
   "source": [
    "df1_summary = pd.concat([dtypes, notnull, isnull], axis = 1).reset_index().rename({'index':'Columns'},axis = 1)\n",
    "df1_summary"
   ]
  },
  {
   "cell_type": "markdown",
   "metadata": {},
   "source": [
    "# COLUMN-0 url (DROP)\n",
    "\n",
    "Since the information in each row of this column is included by other columns there is no need to keep it for further analysis."
   ]
  },
  {
   "cell_type": "code",
   "execution_count": 17,
   "metadata": {},
   "outputs": [
    {
     "data": {
      "text/plain": [
       "0        https://www.autoscout24.com//offers/audi-a1-sp...\n",
       "1        https://www.autoscout24.com//offers/audi-a1-1-...\n",
       "2        https://www.autoscout24.com//offers/audi-a1-sp...\n",
       "3        https://www.autoscout24.com//offers/audi-a1-1-...\n",
       "4        https://www.autoscout24.com//offers/audi-a1-sp...\n",
       "                               ...                        \n",
       "15914    https://www.autoscout24.com//offers/renault-es...\n",
       "15915    https://www.autoscout24.com//offers/renault-es...\n",
       "15916    https://www.autoscout24.com//offers/renault-es...\n",
       "15917    https://www.autoscout24.com//offers/renault-es...\n",
       "15918    https://www.autoscout24.com//offers/renault-es...\n",
       "Name: url, Length: 15919, dtype: object"
      ]
     },
     "execution_count": 17,
     "metadata": {},
     "output_type": "execute_result"
    }
   ],
   "source": [
    "df1['url']"
   ]
  },
  {
   "cell_type": "code",
   "execution_count": 18,
   "metadata": {},
   "outputs": [
    {
     "data": {
      "text/plain": [
       "'https://www.autoscout24.com//offers/audi-a1-sportback-1-4-tdi-s-tronic-xenon-navi-klima-diesel-black-bdab349a-caa5-41b0-98eb-c1345b84445e'"
      ]
     },
     "execution_count": 18,
     "metadata": {},
     "output_type": "execute_result"
    }
   ],
   "source": [
    "df1['url'][0]"
   ]
  },
  {
   "cell_type": "code",
   "execution_count": 19,
   "metadata": {},
   "outputs": [
    {
     "data": {
      "text/plain": [
       "array(['https://www.autoscout24.com//offers/audi-a1-sportback-1-4-tdi-s-tronic-xenon-navi-klima-diesel-black-bdab349a-caa5-41b0-98eb-c1345b84445e',\n",
       "       'https://www.autoscout24.com//offers/audi-a1-1-8-tfsi-sport-gasoline-red-b2547f8a-e83f-6237-e053-e250040a56df',\n",
       "       'https://www.autoscout24.com//offers/audi-a1-sportback-1-6-tdi-s-tronic-einparkhilfe-plus-music-diesel-black-6183cb6a-8570-4b86-a132-9b54214bca88',\n",
       "       ...,\n",
       "       'https://www.autoscout24.com//offers/renault-espace-blue-dci-200-edc-initiale-paris-leder-led-navi-key-diesel-white-6256d1a3-ea68-4193-91de-b5b5ffa4631c',\n",
       "       'https://www.autoscout24.com//offers/renault-espace-blue-dci-200cv-edc-business-nuova-da-immatricola-diesel-grey-5b0251a1-bd88-475c-a039-7e499da85d9d',\n",
       "       'https://www.autoscout24.com//offers/renault-espace-initiale-paris-tce-225-edc-gpf-navi-shz-aux-gasoline-grey-0bd690d9-7e93-4cab-bc5a-9d5b63402481'],\n",
       "      dtype=object)"
      ]
     },
     "execution_count": 19,
     "metadata": {},
     "output_type": "execute_result"
    }
   ],
   "source": [
    "df1['url'].unique()"
   ]
  },
  {
   "cell_type": "code",
   "execution_count": 20,
   "metadata": {},
   "outputs": [
    {
     "data": {
      "text/plain": [
       "15919"
      ]
     },
     "execution_count": 20,
     "metadata": {},
     "output_type": "execute_result"
    }
   ],
   "source": [
    "df1['url'].nunique()"
   ]
  },
  {
   "cell_type": "markdown",
   "metadata": {},
   "source": [
    "# COLUMN-1 make_model (KEEP)\n",
    "\n",
    "Although this column (make_model) seems clear; nevertheless, we will make a decision in accordaance with the columns of 19 \"Make\" and 20 \"Model\". Probably we will decide to maintain these 3 columns in case we need \"Make\" and \"Model\" seperately for further analysis. "
   ]
  },
  {
   "cell_type": "code",
   "execution_count": 21,
   "metadata": {},
   "outputs": [],
   "source": [
    "# (1) make_model, (19) Make ve (20) Model sütunları içerikleri örtüştüğünden bu 3 sütunu beraber inceleyeceğiz."
   ]
  },
  {
   "cell_type": "code",
   "execution_count": 22,
   "metadata": {},
   "outputs": [
    {
     "data": {
      "text/plain": [
       "array(['Audi A1', 'Audi A2', 'Audi A3', 'Opel Astra', 'Opel Corsa',\n",
       "       'Opel Insignia', 'Renault Clio', 'Renault Duster',\n",
       "       'Renault Espace'], dtype=object)"
      ]
     },
     "execution_count": 22,
     "metadata": {},
     "output_type": "execute_result"
    }
   ],
   "source": [
    "df1.make_model.unique()"
   ]
  },
  {
   "cell_type": "code",
   "execution_count": 23,
   "metadata": {},
   "outputs": [
    {
     "data": {
      "text/plain": [
       "9"
      ]
     },
     "execution_count": 23,
     "metadata": {},
     "output_type": "execute_result"
    }
   ],
   "source": [
    "df1.make_model.nunique()"
   ]
  },
  {
   "cell_type": "code",
   "execution_count": 24,
   "metadata": {},
   "outputs": [
    {
     "data": {
      "text/plain": [
       "Audi A3           3097\n",
       "Audi A1           2614\n",
       "Opel Insignia     2598\n",
       "Opel Astra        2526\n",
       "Opel Corsa        2219\n",
       "Renault Clio      1839\n",
       "Renault Espace     991\n",
       "Renault Duster      34\n",
       "Audi A2              1\n",
       "Name: make_model, dtype: int64"
      ]
     },
     "execution_count": 24,
     "metadata": {},
     "output_type": "execute_result"
    }
   ],
   "source": [
    "df1.make_model.value_counts(dropna=False)"
   ]
  },
  {
   "cell_type": "code",
   "execution_count": 25,
   "metadata": {},
   "outputs": [
    {
     "data": {
      "text/html": [
       "<div>\n",
       "<style scoped>\n",
       "    .dataframe tbody tr th:only-of-type {\n",
       "        vertical-align: middle;\n",
       "    }\n",
       "\n",
       "    .dataframe tbody tr th {\n",
       "        vertical-align: top;\n",
       "    }\n",
       "\n",
       "    .dataframe thead th {\n",
       "        text-align: right;\n",
       "    }\n",
       "</style>\n",
       "<table border=\"1\" class=\"dataframe\">\n",
       "  <thead>\n",
       "    <tr style=\"text-align: right;\">\n",
       "      <th></th>\n",
       "      <th>url</th>\n",
       "      <th>make_model</th>\n",
       "      <th>short_description</th>\n",
       "      <th>body_type</th>\n",
       "      <th>price</th>\n",
       "      <th>vat</th>\n",
       "      <th>km</th>\n",
       "      <th>registration</th>\n",
       "      <th>prev_owner</th>\n",
       "      <th>kW</th>\n",
       "      <th>...</th>\n",
       "      <th>description</th>\n",
       "      <th>Emission Label</th>\n",
       "      <th>Gears</th>\n",
       "      <th>Country version</th>\n",
       "      <th>Electricity consumption</th>\n",
       "      <th>Last Service Date</th>\n",
       "      <th>Other Fuel Types</th>\n",
       "      <th>Availability</th>\n",
       "      <th>Last Timing Belt Service Date</th>\n",
       "      <th>Available from</th>\n",
       "    </tr>\n",
       "  </thead>\n",
       "  <tbody>\n",
       "    <tr>\n",
       "      <th>2614</th>\n",
       "      <td>https://www.autoscout24.com//offers/audi-a2-30...</td>\n",
       "      <td>Audi A2</td>\n",
       "      <td>30 TDI Navi, Lane assist, Sitzheizung, Einpark...</td>\n",
       "      <td>Off-Road</td>\n",
       "      <td>28200</td>\n",
       "      <td>VAT deductible</td>\n",
       "      <td>26,166 km</td>\n",
       "      <td>10/2018</td>\n",
       "      <td>1 previous owner</td>\n",
       "      <td>NaN</td>\n",
       "      <td>...</td>\n",
       "      <td>[\\n, Technik &amp; Sicherheit:, 7-Gang-Automatikge...</td>\n",
       "      <td>[\\n4 (Green)\\n]</td>\n",
       "      <td>NaN</td>\n",
       "      <td>[\\nGermany\\n]</td>\n",
       "      <td>NaN</td>\n",
       "      <td>NaN</td>\n",
       "      <td>NaN</td>\n",
       "      <td>NaN</td>\n",
       "      <td>NaN</td>\n",
       "      <td>NaN</td>\n",
       "    </tr>\n",
       "  </tbody>\n",
       "</table>\n",
       "<p>1 rows × 54 columns</p>\n",
       "</div>"
      ],
      "text/plain": [
       "                                                    url make_model  \\\n",
       "2614  https://www.autoscout24.com//offers/audi-a2-30...    Audi A2   \n",
       "\n",
       "                                      short_description body_type  price  \\\n",
       "2614  30 TDI Navi, Lane assist, Sitzheizung, Einpark...  Off-Road  28200   \n",
       "\n",
       "                 vat         km registration        prev_owner  kW  ...  \\\n",
       "2614  VAT deductible  26,166 km      10/2018  1 previous owner NaN  ...   \n",
       "\n",
       "                                            description   Emission Label  \\\n",
       "2614  [\\n, Technik & Sicherheit:, 7-Gang-Automatikge...  [\\n4 (Green)\\n]   \n",
       "\n",
       "     Gears Country version Electricity consumption Last Service Date  \\\n",
       "2614   NaN   [\\nGermany\\n]                     NaN               NaN   \n",
       "\n",
       "     Other Fuel Types Availability Last Timing Belt Service Date  \\\n",
       "2614              NaN          NaN                           NaN   \n",
       "\n",
       "     Available from  \n",
       "2614            NaN  \n",
       "\n",
       "[1 rows x 54 columns]"
      ]
     },
     "execution_count": 25,
     "metadata": {},
     "output_type": "execute_result"
    }
   ],
   "source": [
    "df1[df1['make_model']=='Audi A2']"
   ]
  },
  {
   "cell_type": "code",
   "execution_count": 26,
   "metadata": {},
   "outputs": [
    {
     "data": {
      "text/html": [
       "<div>\n",
       "<style scoped>\n",
       "    .dataframe tbody tr th:only-of-type {\n",
       "        vertical-align: middle;\n",
       "    }\n",
       "\n",
       "    .dataframe tbody tr th {\n",
       "        vertical-align: top;\n",
       "    }\n",
       "\n",
       "    .dataframe thead th {\n",
       "        text-align: right;\n",
       "    }\n",
       "</style>\n",
       "<table border=\"1\" class=\"dataframe\">\n",
       "  <thead>\n",
       "    <tr style=\"text-align: right;\">\n",
       "      <th></th>\n",
       "      <th>url</th>\n",
       "      <th>make_model</th>\n",
       "      <th>short_description</th>\n",
       "      <th>body_type</th>\n",
       "      <th>price</th>\n",
       "      <th>vat</th>\n",
       "      <th>km</th>\n",
       "      <th>registration</th>\n",
       "      <th>prev_owner</th>\n",
       "      <th>kW</th>\n",
       "      <th>...</th>\n",
       "      <th>description</th>\n",
       "      <th>Emission Label</th>\n",
       "      <th>Gears</th>\n",
       "      <th>Country version</th>\n",
       "      <th>Electricity consumption</th>\n",
       "      <th>Last Service Date</th>\n",
       "      <th>Other Fuel Types</th>\n",
       "      <th>Availability</th>\n",
       "      <th>Last Timing Belt Service Date</th>\n",
       "      <th>Available from</th>\n",
       "    </tr>\n",
       "  </thead>\n",
       "  <tbody>\n",
       "    <tr>\n",
       "      <th>2614</th>\n",
       "      <td>https://www.autoscout24.com//offers/audi-a2-30...</td>\n",
       "      <td>Audi A2</td>\n",
       "      <td>30 TDI Navi, Lane assist, Sitzheizung, Einpark...</td>\n",
       "      <td>Off-Road</td>\n",
       "      <td>28200</td>\n",
       "      <td>VAT deductible</td>\n",
       "      <td>26,166 km</td>\n",
       "      <td>10/2018</td>\n",
       "      <td>1 previous owner</td>\n",
       "      <td>NaN</td>\n",
       "      <td>...</td>\n",
       "      <td>[\\n, Technik &amp; Sicherheit:, 7-Gang-Automatikge...</td>\n",
       "      <td>[\\n4 (Green)\\n]</td>\n",
       "      <td>NaN</td>\n",
       "      <td>[\\nGermany\\n]</td>\n",
       "      <td>NaN</td>\n",
       "      <td>NaN</td>\n",
       "      <td>NaN</td>\n",
       "      <td>NaN</td>\n",
       "      <td>NaN</td>\n",
       "      <td>NaN</td>\n",
       "    </tr>\n",
       "  </tbody>\n",
       "</table>\n",
       "<p>1 rows × 54 columns</p>\n",
       "</div>"
      ],
      "text/plain": [
       "                                                    url make_model  \\\n",
       "2614  https://www.autoscout24.com//offers/audi-a2-30...    Audi A2   \n",
       "\n",
       "                                      short_description body_type  price  \\\n",
       "2614  30 TDI Navi, Lane assist, Sitzheizung, Einpark...  Off-Road  28200   \n",
       "\n",
       "                 vat         km registration        prev_owner  kW  ...  \\\n",
       "2614  VAT deductible  26,166 km      10/2018  1 previous owner NaN  ...   \n",
       "\n",
       "                                            description   Emission Label  \\\n",
       "2614  [\\n, Technik & Sicherheit:, 7-Gang-Automatikge...  [\\n4 (Green)\\n]   \n",
       "\n",
       "     Gears Country version Electricity consumption Last Service Date  \\\n",
       "2614   NaN   [\\nGermany\\n]                     NaN               NaN   \n",
       "\n",
       "     Other Fuel Types Availability Last Timing Belt Service Date  \\\n",
       "2614              NaN          NaN                           NaN   \n",
       "\n",
       "     Available from  \n",
       "2614            NaN  \n",
       "\n",
       "[1 rows x 54 columns]"
      ]
     },
     "execution_count": 26,
     "metadata": {},
     "output_type": "execute_result"
    }
   ],
   "source": [
    "df1[df1['make_model'].isin(['Audi A2'])]"
   ]
  },
  {
   "cell_type": "code",
   "execution_count": 27,
   "metadata": {},
   "outputs": [
    {
     "data": {
      "text/html": [
       "<div>\n",
       "<style scoped>\n",
       "    .dataframe tbody tr th:only-of-type {\n",
       "        vertical-align: middle;\n",
       "    }\n",
       "\n",
       "    .dataframe tbody tr th {\n",
       "        vertical-align: top;\n",
       "    }\n",
       "\n",
       "    .dataframe thead th {\n",
       "        text-align: right;\n",
       "    }\n",
       "</style>\n",
       "<table border=\"1\" class=\"dataframe\">\n",
       "  <thead>\n",
       "    <tr style=\"text-align: right;\">\n",
       "      <th></th>\n",
       "      <th>url</th>\n",
       "      <th>make_model</th>\n",
       "      <th>short_description</th>\n",
       "      <th>body_type</th>\n",
       "      <th>price</th>\n",
       "      <th>vat</th>\n",
       "      <th>km</th>\n",
       "      <th>registration</th>\n",
       "      <th>prev_owner</th>\n",
       "      <th>kW</th>\n",
       "      <th>...</th>\n",
       "      <th>description</th>\n",
       "      <th>Emission Label</th>\n",
       "      <th>Gears</th>\n",
       "      <th>Country version</th>\n",
       "      <th>Electricity consumption</th>\n",
       "      <th>Last Service Date</th>\n",
       "      <th>Other Fuel Types</th>\n",
       "      <th>Availability</th>\n",
       "      <th>Last Timing Belt Service Date</th>\n",
       "      <th>Available from</th>\n",
       "    </tr>\n",
       "  </thead>\n",
       "  <tbody>\n",
       "    <tr>\n",
       "      <th>2614</th>\n",
       "      <td>https://www.autoscout24.com//offers/audi-a2-30...</td>\n",
       "      <td>Audi A2</td>\n",
       "      <td>30 TDI Navi, Lane assist, Sitzheizung, Einpark...</td>\n",
       "      <td>Off-Road</td>\n",
       "      <td>28200</td>\n",
       "      <td>VAT deductible</td>\n",
       "      <td>26,166 km</td>\n",
       "      <td>10/2018</td>\n",
       "      <td>1 previous owner</td>\n",
       "      <td>NaN</td>\n",
       "      <td>...</td>\n",
       "      <td>[\\n, Technik &amp; Sicherheit:, 7-Gang-Automatikge...</td>\n",
       "      <td>[\\n4 (Green)\\n]</td>\n",
       "      <td>NaN</td>\n",
       "      <td>[\\nGermany\\n]</td>\n",
       "      <td>NaN</td>\n",
       "      <td>NaN</td>\n",
       "      <td>NaN</td>\n",
       "      <td>NaN</td>\n",
       "      <td>NaN</td>\n",
       "      <td>NaN</td>\n",
       "    </tr>\n",
       "    <tr>\n",
       "      <th>7106</th>\n",
       "      <td>https://www.autoscout24.com//offers/opel-astra...</td>\n",
       "      <td>Opel Astra</td>\n",
       "      <td>K ST INNO Matrix IntelliLink Lenk/SHZ T-Leder ...</td>\n",
       "      <td>Off-Road</td>\n",
       "      <td>18590</td>\n",
       "      <td>VAT deductible</td>\n",
       "      <td>12,607 km</td>\n",
       "      <td>06/2018</td>\n",
       "      <td>1 previous owner</td>\n",
       "      <td>NaN</td>\n",
       "      <td>...</td>\n",
       "      <td>[\\nFahrtauglich, 4 Einstiegstüren, Herstellerg...</td>\n",
       "      <td>[\\n4 (Green)\\n]</td>\n",
       "      <td>[\\n6\\n]</td>\n",
       "      <td>NaN</td>\n",
       "      <td>NaN</td>\n",
       "      <td>NaN</td>\n",
       "      <td>NaN</td>\n",
       "      <td>NaN</td>\n",
       "      <td>NaN</td>\n",
       "      <td>NaN</td>\n",
       "    </tr>\n",
       "    <tr>\n",
       "      <th>8954</th>\n",
       "      <td>https://www.autoscout24.com//offers/opel-corsa...</td>\n",
       "      <td>Opel Corsa</td>\n",
       "      <td>SELECTIVE 1.4 GASOLINA 90CV</td>\n",
       "      <td>Off-Road</td>\n",
       "      <td>7900</td>\n",
       "      <td>None</td>\n",
       "      <td>35,410 km</td>\n",
       "      <td>04/2017</td>\n",
       "      <td>None</td>\n",
       "      <td>NaN</td>\n",
       "      <td>...</td>\n",
       "      <td>[\\n¡¡TOTALMENTE EQUIPADO!!, Sistema antibloque...</td>\n",
       "      <td>NaN</td>\n",
       "      <td>[\\n5\\n]</td>\n",
       "      <td>NaN</td>\n",
       "      <td>NaN</td>\n",
       "      <td>NaN</td>\n",
       "      <td>NaN</td>\n",
       "      <td>NaN</td>\n",
       "      <td>NaN</td>\n",
       "      <td>NaN</td>\n",
       "    </tr>\n",
       "    <tr>\n",
       "      <th>8956</th>\n",
       "      <td>https://www.autoscout24.com//offers/opel-corsa...</td>\n",
       "      <td>Opel Corsa</td>\n",
       "      <td>SELECTIVE 1.4 GASOLINA 90CV 5P</td>\n",
       "      <td>Off-Road</td>\n",
       "      <td>7900</td>\n",
       "      <td>None</td>\n",
       "      <td>37,634 km</td>\n",
       "      <td>04/2017</td>\n",
       "      <td>None</td>\n",
       "      <td>NaN</td>\n",
       "      <td>...</td>\n",
       "      <td>[\\n¡¡TOTALMENTE EQUIPADO!!, Sistema antibloque...</td>\n",
       "      <td>NaN</td>\n",
       "      <td>[\\n5\\n]</td>\n",
       "      <td>NaN</td>\n",
       "      <td>NaN</td>\n",
       "      <td>NaN</td>\n",
       "      <td>NaN</td>\n",
       "      <td>NaN</td>\n",
       "      <td>NaN</td>\n",
       "      <td>NaN</td>\n",
       "    </tr>\n",
       "    <tr>\n",
       "      <th>9148</th>\n",
       "      <td>https://www.autoscout24.com//offers/opel-corsa...</td>\n",
       "      <td>Opel Corsa</td>\n",
       "      <td>COLOR EDITION 1.4 TURBO 100CV S/S 5P</td>\n",
       "      <td>Off-Road</td>\n",
       "      <td>8700</td>\n",
       "      <td>None</td>\n",
       "      <td>79,143 km</td>\n",
       "      <td>03/2017</td>\n",
       "      <td>None</td>\n",
       "      <td>NaN</td>\n",
       "      <td>...</td>\n",
       "      <td>[\\n¡¡TOTALMENTE EQUIPADO!!, Asiento trasero di...</td>\n",
       "      <td>NaN</td>\n",
       "      <td>[\\n6\\n]</td>\n",
       "      <td>NaN</td>\n",
       "      <td>NaN</td>\n",
       "      <td>NaN</td>\n",
       "      <td>NaN</td>\n",
       "      <td>NaN</td>\n",
       "      <td>NaN</td>\n",
       "      <td>NaN</td>\n",
       "    </tr>\n",
       "    <tr>\n",
       "      <th>10818</th>\n",
       "      <td>https://www.autoscout24.com//offers/opel-insig...</td>\n",
       "      <td>Opel Insignia</td>\n",
       "      <td>2.0 CDTi 170cv COUNTRY TOURER // 4WD // AUTOM //</td>\n",
       "      <td>Off-Road</td>\n",
       "      <td>12750</td>\n",
       "      <td>VAT deductible</td>\n",
       "      <td>159,000 km</td>\n",
       "      <td>05/2016</td>\n",
       "      <td>1 previous owner</td>\n",
       "      <td>NaN</td>\n",
       "      <td>...</td>\n",
       "      <td>[\\n, ETAT IMPECCABLE ! *** , 1ER PROPRIETAIRE ...</td>\n",
       "      <td>NaN</td>\n",
       "      <td>NaN</td>\n",
       "      <td>[\\nBelgium\\n]</td>\n",
       "      <td>NaN</td>\n",
       "      <td>NaN</td>\n",
       "      <td>NaN</td>\n",
       "      <td>NaN</td>\n",
       "      <td>NaN</td>\n",
       "      <td>NaN</td>\n",
       "    </tr>\n",
       "    <tr>\n",
       "      <th>12545</th>\n",
       "      <td>https://www.autoscout24.com//offers/opel-insig...</td>\n",
       "      <td>Opel Insignia</td>\n",
       "      <td>Country Tourer 2.0CDTI S&amp;S Aut. 4x4 210</td>\n",
       "      <td>Off-Road</td>\n",
       "      <td>34776</td>\n",
       "      <td>None</td>\n",
       "      <td>- km</td>\n",
       "      <td>-/-</td>\n",
       "      <td>None</td>\n",
       "      <td>NaN</td>\n",
       "      <td>...</td>\n",
       "      <td>[]</td>\n",
       "      <td>NaN</td>\n",
       "      <td>[\\n8\\n]</td>\n",
       "      <td>NaN</td>\n",
       "      <td>NaN</td>\n",
       "      <td>NaN</td>\n",
       "      <td>NaN</td>\n",
       "      <td>NaN</td>\n",
       "      <td>NaN</td>\n",
       "      <td>NaN</td>\n",
       "    </tr>\n",
       "    <tr>\n",
       "      <th>12629</th>\n",
       "      <td>https://www.autoscout24.com//offers/opel-insig...</td>\n",
       "      <td>Opel Insignia</td>\n",
       "      <td>Country Tourer 1.6 T SHT S&amp;S Aut. 4x4 200</td>\n",
       "      <td>Off-Road</td>\n",
       "      <td>32345</td>\n",
       "      <td>None</td>\n",
       "      <td>- km</td>\n",
       "      <td>-/-</td>\n",
       "      <td>None</td>\n",
       "      <td>NaN</td>\n",
       "      <td>...</td>\n",
       "      <td>[]</td>\n",
       "      <td>NaN</td>\n",
       "      <td>[\\n6\\n]</td>\n",
       "      <td>NaN</td>\n",
       "      <td>NaN</td>\n",
       "      <td>NaN</td>\n",
       "      <td>NaN</td>\n",
       "      <td>NaN</td>\n",
       "      <td>NaN</td>\n",
       "      <td>NaN</td>\n",
       "    </tr>\n",
       "    <tr>\n",
       "      <th>12647</th>\n",
       "      <td>https://www.autoscout24.com//offers/opel-insig...</td>\n",
       "      <td>Opel Insignia</td>\n",
       "      <td>Country Tourer 2.0CDTI S&amp;S Aut. 170</td>\n",
       "      <td>Off-Road</td>\n",
       "      <td>31505</td>\n",
       "      <td>None</td>\n",
       "      <td>- km</td>\n",
       "      <td>-/-</td>\n",
       "      <td>None</td>\n",
       "      <td>NaN</td>\n",
       "      <td>...</td>\n",
       "      <td>[]</td>\n",
       "      <td>NaN</td>\n",
       "      <td>[\\n8\\n]</td>\n",
       "      <td>NaN</td>\n",
       "      <td>NaN</td>\n",
       "      <td>NaN</td>\n",
       "      <td>NaN</td>\n",
       "      <td>NaN</td>\n",
       "      <td>NaN</td>\n",
       "      <td>NaN</td>\n",
       "    </tr>\n",
       "    <tr>\n",
       "      <th>12809</th>\n",
       "      <td>https://www.autoscout24.com//offers/opel-insig...</td>\n",
       "      <td>Opel Insignia</td>\n",
       "      <td>Sports Tourer INNOVATION 1.5 DIRECT INJEC 121 ...</td>\n",
       "      <td>Off-Road</td>\n",
       "      <td>33490</td>\n",
       "      <td>VAT deductible</td>\n",
       "      <td>8 km</td>\n",
       "      <td>-/-</td>\n",
       "      <td>None</td>\n",
       "      <td>NaN</td>\n",
       "      <td>...</td>\n",
       "      <td>[\\n- 180-Grad-Panorama-Ruckfahrkame, - Park &amp; ...</td>\n",
       "      <td>[\\n4 (Green)\\n]</td>\n",
       "      <td>[\\n6\\n]</td>\n",
       "      <td>[\\nGermany\\n]</td>\n",
       "      <td>NaN</td>\n",
       "      <td>NaN</td>\n",
       "      <td>NaN</td>\n",
       "      <td>NaN</td>\n",
       "      <td>NaN</td>\n",
       "      <td>NaN</td>\n",
       "    </tr>\n",
       "    <tr>\n",
       "      <th>12822</th>\n",
       "      <td>https://www.autoscout24.com//offers/opel-insig...</td>\n",
       "      <td>Opel Insignia</td>\n",
       "      <td>CT 2.0 CDTi Turbo D 4x4 Country Tourer</td>\n",
       "      <td>Off-Road</td>\n",
       "      <td>28500</td>\n",
       "      <td>Price negotiable</td>\n",
       "      <td>93 km</td>\n",
       "      <td>01/2019</td>\n",
       "      <td>None</td>\n",
       "      <td>NaN</td>\n",
       "      <td>...</td>\n",
       "      <td>[\\nSe trata de un COCHE NUEVO! con sólo 93 Km ...</td>\n",
       "      <td>NaN</td>\n",
       "      <td>[\\n6\\n]</td>\n",
       "      <td>NaN</td>\n",
       "      <td>NaN</td>\n",
       "      <td>NaN</td>\n",
       "      <td>NaN</td>\n",
       "      <td>NaN</td>\n",
       "      <td>NaN</td>\n",
       "      <td>NaN</td>\n",
       "    </tr>\n",
       "    <tr>\n",
       "      <th>12908</th>\n",
       "      <td>https://www.autoscout24.com//offers/opel-insig...</td>\n",
       "      <td>Opel Insignia</td>\n",
       "      <td>Country Tourer 2.0CDTI S&amp;S 4x4 170</td>\n",
       "      <td>Off-Road</td>\n",
       "      <td>32793</td>\n",
       "      <td>None</td>\n",
       "      <td>- km</td>\n",
       "      <td>-/-</td>\n",
       "      <td>None</td>\n",
       "      <td>NaN</td>\n",
       "      <td>...</td>\n",
       "      <td>[]</td>\n",
       "      <td>NaN</td>\n",
       "      <td>[\\n6\\n]</td>\n",
       "      <td>NaN</td>\n",
       "      <td>NaN</td>\n",
       "      <td>NaN</td>\n",
       "      <td>NaN</td>\n",
       "      <td>NaN</td>\n",
       "      <td>NaN</td>\n",
       "      <td>NaN</td>\n",
       "    </tr>\n",
       "    <tr>\n",
       "      <th>13678</th>\n",
       "      <td>https://www.autoscout24.com//offers/renault-cl...</td>\n",
       "      <td>Renault Clio</td>\n",
       "      <td>1.5 dCi 75CV Life ITALIANA KMCertificati</td>\n",
       "      <td>Off-Road</td>\n",
       "      <td>7700</td>\n",
       "      <td>None</td>\n",
       "      <td>95,000 km</td>\n",
       "      <td>05/2016</td>\n",
       "      <td>1 previous owner</td>\n",
       "      <td>NaN</td>\n",
       "      <td>...</td>\n",
       "      <td>[\\n, RENAULT CLIO 1.5 dCi 75cv Life, Auto ital...</td>\n",
       "      <td>NaN</td>\n",
       "      <td>[\\n5\\n]</td>\n",
       "      <td>[\\nItaly\\n]</td>\n",
       "      <td>NaN</td>\n",
       "      <td>[\\n09/2018\\n, \\nEuro 6\\n]</td>\n",
       "      <td>NaN</td>\n",
       "      <td>NaN</td>\n",
       "      <td>NaN</td>\n",
       "      <td>NaN</td>\n",
       "    </tr>\n",
       "    <tr>\n",
       "      <th>14056</th>\n",
       "      <td>https://www.autoscout24.com//offers/renault-cl...</td>\n",
       "      <td>Renault Clio</td>\n",
       "      <td>4 Intens Energy 5-Türer TCE 120 88KW 120PS ED</td>\n",
       "      <td>Off-Road</td>\n",
       "      <td>17990</td>\n",
       "      <td>VAT deductible</td>\n",
       "      <td>500 km</td>\n",
       "      <td>04/2019</td>\n",
       "      <td>1 previous owner</td>\n",
       "      <td>NaN</td>\n",
       "      <td>...</td>\n",
       "      <td>[\\n, Ausstattungspakete:,  Ausstattungspaket: ...</td>\n",
       "      <td>[\\n4 (Green)\\n]</td>\n",
       "      <td>[\\n6\\n]</td>\n",
       "      <td>NaN</td>\n",
       "      <td>NaN</td>\n",
       "      <td>NaN</td>\n",
       "      <td>NaN</td>\n",
       "      <td>NaN</td>\n",
       "      <td>NaN</td>\n",
       "      <td>NaN</td>\n",
       "    </tr>\n",
       "    <tr>\n",
       "      <th>14894</th>\n",
       "      <td>https://www.autoscout24.com//offers/renault-du...</td>\n",
       "      <td>Renault Duster</td>\n",
       "      <td>Deluxe - EXPORT OUT EU TROPICAL VERSION - EXPO...</td>\n",
       "      <td>Off-Road</td>\n",
       "      <td>13250</td>\n",
       "      <td>None</td>\n",
       "      <td>- km</td>\n",
       "      <td>-/-</td>\n",
       "      <td>None</td>\n",
       "      <td>NaN</td>\n",
       "      <td>...</td>\n",
       "      <td>[\\n- EXPORT OUT EU TROPICAL VERSION, Prix T1 (...</td>\n",
       "      <td>NaN</td>\n",
       "      <td>NaN</td>\n",
       "      <td>NaN</td>\n",
       "      <td>NaN</td>\n",
       "      <td>NaN</td>\n",
       "      <td>NaN</td>\n",
       "      <td>NaN</td>\n",
       "      <td>NaN</td>\n",
       "      <td>NaN</td>\n",
       "    </tr>\n",
       "    <tr>\n",
       "      <th>14895</th>\n",
       "      <td>https://www.autoscout24.com//offers/renault-du...</td>\n",
       "      <td>Renault Duster</td>\n",
       "      <td>Deluxe - EXPORT OUT EU TROPICAL VERSION - EXPO...</td>\n",
       "      <td>Off-Road</td>\n",
       "      <td>16033</td>\n",
       "      <td>VAT deductible</td>\n",
       "      <td>- km</td>\n",
       "      <td>-/-</td>\n",
       "      <td>None</td>\n",
       "      <td>NaN</td>\n",
       "      <td>...</td>\n",
       "      <td>[\\n,  - EXPORT OUT EU TROPICAL VERSION, Prix T...</td>\n",
       "      <td>NaN</td>\n",
       "      <td>NaN</td>\n",
       "      <td>[\\nJapan\\n]</td>\n",
       "      <td>NaN</td>\n",
       "      <td>NaN</td>\n",
       "      <td>NaN</td>\n",
       "      <td>NaN</td>\n",
       "      <td>NaN</td>\n",
       "      <td>NaN</td>\n",
       "    </tr>\n",
       "    <tr>\n",
       "      <th>14896</th>\n",
       "      <td>https://www.autoscout24.com//offers/renault-du...</td>\n",
       "      <td>Renault Duster</td>\n",
       "      <td>Deluxe - EXPORT OUT EU TROPICAL VERSION - EXPO...</td>\n",
       "      <td>Off-Road</td>\n",
       "      <td>16033</td>\n",
       "      <td>VAT deductible</td>\n",
       "      <td>101 km</td>\n",
       "      <td>06/2019</td>\n",
       "      <td>None</td>\n",
       "      <td>NaN</td>\n",
       "      <td>...</td>\n",
       "      <td>[\\n,  - EXPORT OUT EU TROPICAL VERSION, Prix T...</td>\n",
       "      <td>NaN</td>\n",
       "      <td>NaN</td>\n",
       "      <td>NaN</td>\n",
       "      <td>NaN</td>\n",
       "      <td>NaN</td>\n",
       "      <td>NaN</td>\n",
       "      <td>NaN</td>\n",
       "      <td>NaN</td>\n",
       "      <td>NaN</td>\n",
       "    </tr>\n",
       "    <tr>\n",
       "      <th>14897</th>\n",
       "      <td>https://www.autoscout24.com//offers/renault-du...</td>\n",
       "      <td>Renault Duster</td>\n",
       "      <td>Deluxe - EXPORT OUT EU TROPICAL VERSION - EXPO...</td>\n",
       "      <td>Off-Road</td>\n",
       "      <td>16033</td>\n",
       "      <td>VAT deductible</td>\n",
       "      <td>- km</td>\n",
       "      <td>-/-</td>\n",
       "      <td>None</td>\n",
       "      <td>NaN</td>\n",
       "      <td>...</td>\n",
       "      <td>[\\n- EXPORT OUT EU TROPICAL VERSION, Prix TVAC...</td>\n",
       "      <td>NaN</td>\n",
       "      <td>NaN</td>\n",
       "      <td>NaN</td>\n",
       "      <td>NaN</td>\n",
       "      <td>NaN</td>\n",
       "      <td>NaN</td>\n",
       "      <td>NaN</td>\n",
       "      <td>NaN</td>\n",
       "      <td>NaN</td>\n",
       "    </tr>\n",
       "    <tr>\n",
       "      <th>14898</th>\n",
       "      <td>https://www.autoscout24.com//offers/renault-du...</td>\n",
       "      <td>Renault Duster</td>\n",
       "      <td>Deluxe - EXPORT OUT EU TROPICAL VERSION - EXPO...</td>\n",
       "      <td>Off-Road</td>\n",
       "      <td>16033</td>\n",
       "      <td>VAT deductible</td>\n",
       "      <td>101 km</td>\n",
       "      <td>06/2019</td>\n",
       "      <td>None</td>\n",
       "      <td>NaN</td>\n",
       "      <td>...</td>\n",
       "      <td>[\\n- EXPORT OUT EU TROPICAL VERSION, Prix TVAC...</td>\n",
       "      <td>NaN</td>\n",
       "      <td>NaN</td>\n",
       "      <td>NaN</td>\n",
       "      <td>NaN</td>\n",
       "      <td>NaN</td>\n",
       "      <td>NaN</td>\n",
       "      <td>NaN</td>\n",
       "      <td>NaN</td>\n",
       "      <td>NaN</td>\n",
       "    </tr>\n",
       "    <tr>\n",
       "      <th>14899</th>\n",
       "      <td>https://www.autoscout24.com//offers/renault-du...</td>\n",
       "      <td>Renault Duster</td>\n",
       "      <td>Deluxe - EXPORT OUT EU TROPICAL VERSION - EXPO...</td>\n",
       "      <td>Off-Road</td>\n",
       "      <td>13250</td>\n",
       "      <td>None</td>\n",
       "      <td>101 km</td>\n",
       "      <td>06/2019</td>\n",
       "      <td>None</td>\n",
       "      <td>NaN</td>\n",
       "      <td>...</td>\n",
       "      <td>[\\n,  - EXPORT OUT EU TROPICAL VERSION, Prix t...</td>\n",
       "      <td>NaN</td>\n",
       "      <td>NaN</td>\n",
       "      <td>NaN</td>\n",
       "      <td>NaN</td>\n",
       "      <td>NaN</td>\n",
       "      <td>NaN</td>\n",
       "      <td>NaN</td>\n",
       "      <td>NaN</td>\n",
       "      <td>NaN</td>\n",
       "    </tr>\n",
       "    <tr>\n",
       "      <th>14900</th>\n",
       "      <td>https://www.autoscout24.com//offers/renault-du...</td>\n",
       "      <td>Renault Duster</td>\n",
       "      <td>Deluxe - EXPORT OUT EU TROPICAL VERSION - EXPO...</td>\n",
       "      <td>Off-Road</td>\n",
       "      <td>13250</td>\n",
       "      <td>None</td>\n",
       "      <td>- km</td>\n",
       "      <td>-/-</td>\n",
       "      <td>None</td>\n",
       "      <td>NaN</td>\n",
       "      <td>...</td>\n",
       "      <td>[\\n,  - EXPORT OUT EU TROPICAL VERSION, Prix T...</td>\n",
       "      <td>NaN</td>\n",
       "      <td>NaN</td>\n",
       "      <td>[\\nJapan\\n]</td>\n",
       "      <td>NaN</td>\n",
       "      <td>NaN</td>\n",
       "      <td>NaN</td>\n",
       "      <td>NaN</td>\n",
       "      <td>NaN</td>\n",
       "      <td>NaN</td>\n",
       "    </tr>\n",
       "    <tr>\n",
       "      <th>14901</th>\n",
       "      <td>https://www.autoscout24.com//offers/renault-du...</td>\n",
       "      <td>Renault Duster</td>\n",
       "      <td>Deluxe - EXPORT OUT EU TROPICAL VERSION - EXPO...</td>\n",
       "      <td>Off-Road</td>\n",
       "      <td>13250</td>\n",
       "      <td>None</td>\n",
       "      <td>101 km</td>\n",
       "      <td>06/2019</td>\n",
       "      <td>None</td>\n",
       "      <td>NaN</td>\n",
       "      <td>...</td>\n",
       "      <td>[\\n- EXPORT OUT EU TROPICAL VERSION, Prix tota...</td>\n",
       "      <td>NaN</td>\n",
       "      <td>NaN</td>\n",
       "      <td>NaN</td>\n",
       "      <td>NaN</td>\n",
       "      <td>NaN</td>\n",
       "      <td>NaN</td>\n",
       "      <td>NaN</td>\n",
       "      <td>NaN</td>\n",
       "      <td>NaN</td>\n",
       "    </tr>\n",
       "    <tr>\n",
       "      <th>14902</th>\n",
       "      <td>https://www.autoscout24.com//offers/renault-du...</td>\n",
       "      <td>Renault Duster</td>\n",
       "      <td>P1.6L 4x4 MT 2018 - ONLY TO EXPORT OUT EU</td>\n",
       "      <td>Off-Road</td>\n",
       "      <td>10850</td>\n",
       "      <td>None</td>\n",
       "      <td>- km</td>\n",
       "      <td>-/-</td>\n",
       "      <td>None</td>\n",
       "      <td>NaN</td>\n",
       "      <td>...</td>\n",
       "      <td>[\\nRENAULT DUSTER P1.6L 4x4 MT 2018, ONLY TO E...</td>\n",
       "      <td>NaN</td>\n",
       "      <td>NaN</td>\n",
       "      <td>[\\nBelgium\\n]</td>\n",
       "      <td>NaN</td>\n",
       "      <td>NaN</td>\n",
       "      <td>NaN</td>\n",
       "      <td>NaN</td>\n",
       "      <td>NaN</td>\n",
       "      <td>NaN</td>\n",
       "    </tr>\n",
       "    <tr>\n",
       "      <th>14903</th>\n",
       "      <td>https://www.autoscout24.com//offers/renault-du...</td>\n",
       "      <td>Renault Duster</td>\n",
       "      <td>Deluxe - EXPORT OUT EU TROPICAL VERSION - EXPO...</td>\n",
       "      <td>Off-Road</td>\n",
       "      <td>14399</td>\n",
       "      <td>VAT deductible</td>\n",
       "      <td>101 km</td>\n",
       "      <td>06/2019</td>\n",
       "      <td>None</td>\n",
       "      <td>NaN</td>\n",
       "      <td>...</td>\n",
       "      <td>[\\n- EXPORT OUT EU TROPICAL VERSION, Prix TVAC...</td>\n",
       "      <td>NaN</td>\n",
       "      <td>[\\n6\\n]</td>\n",
       "      <td>NaN</td>\n",
       "      <td>NaN</td>\n",
       "      <td>NaN</td>\n",
       "      <td>NaN</td>\n",
       "      <td>NaN</td>\n",
       "      <td>NaN</td>\n",
       "      <td>NaN</td>\n",
       "    </tr>\n",
       "    <tr>\n",
       "      <th>14904</th>\n",
       "      <td>https://www.autoscout24.com//offers/renault-du...</td>\n",
       "      <td>Renault Duster</td>\n",
       "      <td>Deluxe - EXPORT OUT EU TROPICAL VERSION - EXPO...</td>\n",
       "      <td>Off-Road</td>\n",
       "      <td>14399</td>\n",
       "      <td>VAT deductible</td>\n",
       "      <td>- km</td>\n",
       "      <td>-/-</td>\n",
       "      <td>None</td>\n",
       "      <td>NaN</td>\n",
       "      <td>...</td>\n",
       "      <td>[\\n- EXPORT OUT EU TROPICAL VERSION, Prix TVAC...</td>\n",
       "      <td>NaN</td>\n",
       "      <td>[\\n6\\n]</td>\n",
       "      <td>NaN</td>\n",
       "      <td>NaN</td>\n",
       "      <td>NaN</td>\n",
       "      <td>NaN</td>\n",
       "      <td>NaN</td>\n",
       "      <td>NaN</td>\n",
       "      <td>NaN</td>\n",
       "    </tr>\n",
       "    <tr>\n",
       "      <th>14905</th>\n",
       "      <td>https://www.autoscout24.com//offers/renault-du...</td>\n",
       "      <td>Renault Duster</td>\n",
       "      <td>Standard - EXPORT OUT EU TROPICAL VERSION - EX...</td>\n",
       "      <td>Off-Road</td>\n",
       "      <td>13189</td>\n",
       "      <td>VAT deductible</td>\n",
       "      <td>- km</td>\n",
       "      <td>-/-</td>\n",
       "      <td>None</td>\n",
       "      <td>NaN</td>\n",
       "      <td>...</td>\n",
       "      <td>[\\n,  - EXPORT OUT EU TROPICAL VERSION, Prix T...</td>\n",
       "      <td>NaN</td>\n",
       "      <td>[\\n6\\n]</td>\n",
       "      <td>[\\nJapan\\n]</td>\n",
       "      <td>NaN</td>\n",
       "      <td>NaN</td>\n",
       "      <td>NaN</td>\n",
       "      <td>NaN</td>\n",
       "      <td>NaN</td>\n",
       "      <td>NaN</td>\n",
       "    </tr>\n",
       "    <tr>\n",
       "      <th>14906</th>\n",
       "      <td>https://www.autoscout24.com//offers/renault-du...</td>\n",
       "      <td>Renault Duster</td>\n",
       "      <td>Standard - EXPORT OUT EU TROPICAL VERSION - EX...</td>\n",
       "      <td>Off-Road</td>\n",
       "      <td>14823</td>\n",
       "      <td>VAT deductible</td>\n",
       "      <td>101 km</td>\n",
       "      <td>06/2019</td>\n",
       "      <td>None</td>\n",
       "      <td>NaN</td>\n",
       "      <td>...</td>\n",
       "      <td>[\\n,  - EXPORT OUT EU TROPICAL VERSION, Prix T...</td>\n",
       "      <td>NaN</td>\n",
       "      <td>[\\n6\\n]</td>\n",
       "      <td>NaN</td>\n",
       "      <td>NaN</td>\n",
       "      <td>NaN</td>\n",
       "      <td>NaN</td>\n",
       "      <td>NaN</td>\n",
       "      <td>NaN</td>\n",
       "      <td>NaN</td>\n",
       "    </tr>\n",
       "    <tr>\n",
       "      <th>14907</th>\n",
       "      <td>https://www.autoscout24.com//offers/renault-du...</td>\n",
       "      <td>Renault Duster</td>\n",
       "      <td>Standard - EXPORT OUT EU TROPICAL VERSION - EX...</td>\n",
       "      <td>Off-Road</td>\n",
       "      <td>14823</td>\n",
       "      <td>VAT deductible</td>\n",
       "      <td>101 km</td>\n",
       "      <td>06/2019</td>\n",
       "      <td>None</td>\n",
       "      <td>NaN</td>\n",
       "      <td>...</td>\n",
       "      <td>[\\n- EXPORT OUT EU TROPICAL VERSION, Prix TVAC...</td>\n",
       "      <td>NaN</td>\n",
       "      <td>[\\n6\\n]</td>\n",
       "      <td>NaN</td>\n",
       "      <td>NaN</td>\n",
       "      <td>NaN</td>\n",
       "      <td>NaN</td>\n",
       "      <td>NaN</td>\n",
       "      <td>NaN</td>\n",
       "      <td>NaN</td>\n",
       "    </tr>\n",
       "    <tr>\n",
       "      <th>14908</th>\n",
       "      <td>https://www.autoscout24.com//offers/renault-du...</td>\n",
       "      <td>Renault Duster</td>\n",
       "      <td>Standard - EXPORT OUT EU TROPICAL VERSION - EX...</td>\n",
       "      <td>Off-Road</td>\n",
       "      <td>14823</td>\n",
       "      <td>VAT deductible</td>\n",
       "      <td>- km</td>\n",
       "      <td>-/-</td>\n",
       "      <td>None</td>\n",
       "      <td>NaN</td>\n",
       "      <td>...</td>\n",
       "      <td>[\\n,  - EXPORT OUT EU TROPICAL VERSION, Prix T...</td>\n",
       "      <td>NaN</td>\n",
       "      <td>[\\n6\\n]</td>\n",
       "      <td>[\\nJapan\\n]</td>\n",
       "      <td>NaN</td>\n",
       "      <td>NaN</td>\n",
       "      <td>NaN</td>\n",
       "      <td>NaN</td>\n",
       "      <td>NaN</td>\n",
       "      <td>NaN</td>\n",
       "    </tr>\n",
       "    <tr>\n",
       "      <th>14909</th>\n",
       "      <td>https://www.autoscout24.com//offers/renault-du...</td>\n",
       "      <td>Renault Duster</td>\n",
       "      <td>Deluxe - EXPORT OUT EU TROPICAL VERSION - EXPO...</td>\n",
       "      <td>Off-Road</td>\n",
       "      <td>14399</td>\n",
       "      <td>VAT deductible</td>\n",
       "      <td>- km</td>\n",
       "      <td>-/-</td>\n",
       "      <td>None</td>\n",
       "      <td>NaN</td>\n",
       "      <td>...</td>\n",
       "      <td>[\\n,  - EXPORT OUT EU TROPICAL VERSION, Prix T...</td>\n",
       "      <td>NaN</td>\n",
       "      <td>[\\n6\\n]</td>\n",
       "      <td>[\\nJapan\\n]</td>\n",
       "      <td>NaN</td>\n",
       "      <td>NaN</td>\n",
       "      <td>NaN</td>\n",
       "      <td>NaN</td>\n",
       "      <td>NaN</td>\n",
       "      <td>NaN</td>\n",
       "    </tr>\n",
       "    <tr>\n",
       "      <th>14910</th>\n",
       "      <td>https://www.autoscout24.com//offers/renault-du...</td>\n",
       "      <td>Renault Duster</td>\n",
       "      <td>Deluxe - EXPORT OUT EU TROPICAL VERSION - EXPO...</td>\n",
       "      <td>Off-Road</td>\n",
       "      <td>14399</td>\n",
       "      <td>VAT deductible</td>\n",
       "      <td>101 km</td>\n",
       "      <td>06/2019</td>\n",
       "      <td>None</td>\n",
       "      <td>NaN</td>\n",
       "      <td>...</td>\n",
       "      <td>[\\n,  - EXPORT OUT EU TROPICAL VERSION, Prix T...</td>\n",
       "      <td>NaN</td>\n",
       "      <td>[\\n6\\n]</td>\n",
       "      <td>NaN</td>\n",
       "      <td>NaN</td>\n",
       "      <td>NaN</td>\n",
       "      <td>NaN</td>\n",
       "      <td>NaN</td>\n",
       "      <td>NaN</td>\n",
       "      <td>NaN</td>\n",
       "    </tr>\n",
       "    <tr>\n",
       "      <th>14911</th>\n",
       "      <td>https://www.autoscout24.com//offers/renault-du...</td>\n",
       "      <td>Renault Duster</td>\n",
       "      <td>Standard - EXPORT OUT EU TROPICAL VERSION - EX...</td>\n",
       "      <td>Off-Road</td>\n",
       "      <td>14823</td>\n",
       "      <td>VAT deductible</td>\n",
       "      <td>- km</td>\n",
       "      <td>-/-</td>\n",
       "      <td>None</td>\n",
       "      <td>NaN</td>\n",
       "      <td>...</td>\n",
       "      <td>[\\n- EXPORT OUT EU TROPICAL VERSION, Prix TVAC...</td>\n",
       "      <td>NaN</td>\n",
       "      <td>[\\n6\\n]</td>\n",
       "      <td>NaN</td>\n",
       "      <td>NaN</td>\n",
       "      <td>NaN</td>\n",
       "      <td>NaN</td>\n",
       "      <td>NaN</td>\n",
       "      <td>NaN</td>\n",
       "      <td>NaN</td>\n",
       "    </tr>\n",
       "    <tr>\n",
       "      <th>14912</th>\n",
       "      <td>https://www.autoscout24.com//offers/renault-du...</td>\n",
       "      <td>Renault Duster</td>\n",
       "      <td>Standard - EXPORT OUT EU TROPICAL VERSION - EX...</td>\n",
       "      <td>Off-Road</td>\n",
       "      <td>13189</td>\n",
       "      <td>VAT deductible</td>\n",
       "      <td>101 km</td>\n",
       "      <td>06/2019</td>\n",
       "      <td>None</td>\n",
       "      <td>NaN</td>\n",
       "      <td>...</td>\n",
       "      <td>[\\n,  - EXPORT OUT EU TROPICAL VERSION, Prix T...</td>\n",
       "      <td>NaN</td>\n",
       "      <td>[\\n6\\n]</td>\n",
       "      <td>NaN</td>\n",
       "      <td>NaN</td>\n",
       "      <td>NaN</td>\n",
       "      <td>NaN</td>\n",
       "      <td>NaN</td>\n",
       "      <td>NaN</td>\n",
       "      <td>NaN</td>\n",
       "    </tr>\n",
       "    <tr>\n",
       "      <th>14913</th>\n",
       "      <td>https://www.autoscout24.com//offers/renault-du...</td>\n",
       "      <td>Renault Duster</td>\n",
       "      <td>Standard - EXPORT OUT EU TROPICAL VERSION - EX...</td>\n",
       "      <td>Off-Road</td>\n",
       "      <td>13189</td>\n",
       "      <td>VAT deductible</td>\n",
       "      <td>- km</td>\n",
       "      <td>-/-</td>\n",
       "      <td>None</td>\n",
       "      <td>NaN</td>\n",
       "      <td>...</td>\n",
       "      <td>[\\n- EXPORT OUT EU TROPICAL VERSION, Prix TVAC...</td>\n",
       "      <td>NaN</td>\n",
       "      <td>[\\n6\\n]</td>\n",
       "      <td>NaN</td>\n",
       "      <td>NaN</td>\n",
       "      <td>NaN</td>\n",
       "      <td>NaN</td>\n",
       "      <td>NaN</td>\n",
       "      <td>NaN</td>\n",
       "      <td>NaN</td>\n",
       "    </tr>\n",
       "    <tr>\n",
       "      <th>14914</th>\n",
       "      <td>https://www.autoscout24.com//offers/renault-du...</td>\n",
       "      <td>Renault Duster</td>\n",
       "      <td>Standard - EXPORT OUT EU TROPICAL VERSION - EX...</td>\n",
       "      <td>Off-Road</td>\n",
       "      <td>13189</td>\n",
       "      <td>VAT deductible</td>\n",
       "      <td>101 km</td>\n",
       "      <td>06/2019</td>\n",
       "      <td>None</td>\n",
       "      <td>NaN</td>\n",
       "      <td>...</td>\n",
       "      <td>[\\n- EXPORT OUT EU TROPICAL VERSION, Prix TVAC...</td>\n",
       "      <td>NaN</td>\n",
       "      <td>[\\n6\\n]</td>\n",
       "      <td>NaN</td>\n",
       "      <td>NaN</td>\n",
       "      <td>NaN</td>\n",
       "      <td>NaN</td>\n",
       "      <td>NaN</td>\n",
       "      <td>NaN</td>\n",
       "      <td>NaN</td>\n",
       "    </tr>\n",
       "    <tr>\n",
       "      <th>14915</th>\n",
       "      <td>https://www.autoscout24.com//offers/renault-du...</td>\n",
       "      <td>Renault Duster</td>\n",
       "      <td>Standard - EXPORT OUT EU TROPICAL VERSION - EX...</td>\n",
       "      <td>Off-Road</td>\n",
       "      <td>12250</td>\n",
       "      <td>None</td>\n",
       "      <td>101 km</td>\n",
       "      <td>06/2019</td>\n",
       "      <td>None</td>\n",
       "      <td>NaN</td>\n",
       "      <td>...</td>\n",
       "      <td>[\\n,  - EXPORT OUT EU TROPICAL VERSION, Prix t...</td>\n",
       "      <td>NaN</td>\n",
       "      <td>[\\n6\\n]</td>\n",
       "      <td>NaN</td>\n",
       "      <td>NaN</td>\n",
       "      <td>NaN</td>\n",
       "      <td>NaN</td>\n",
       "      <td>NaN</td>\n",
       "      <td>NaN</td>\n",
       "      <td>NaN</td>\n",
       "    </tr>\n",
       "    <tr>\n",
       "      <th>14916</th>\n",
       "      <td>https://www.autoscout24.com//offers/renault-du...</td>\n",
       "      <td>Renault Duster</td>\n",
       "      <td>Standard - EXPORT OUT EU TROPICAL VERSION - EX...</td>\n",
       "      <td>Off-Road</td>\n",
       "      <td>12250</td>\n",
       "      <td>None</td>\n",
       "      <td>101 km</td>\n",
       "      <td>06/2019</td>\n",
       "      <td>None</td>\n",
       "      <td>NaN</td>\n",
       "      <td>...</td>\n",
       "      <td>[\\n- EXPORT OUT EU TROPICAL VERSION, Prix tota...</td>\n",
       "      <td>NaN</td>\n",
       "      <td>[\\n6\\n]</td>\n",
       "      <td>NaN</td>\n",
       "      <td>NaN</td>\n",
       "      <td>NaN</td>\n",
       "      <td>NaN</td>\n",
       "      <td>NaN</td>\n",
       "      <td>NaN</td>\n",
       "      <td>NaN</td>\n",
       "    </tr>\n",
       "    <tr>\n",
       "      <th>14917</th>\n",
       "      <td>https://www.autoscout24.com//offers/renault-du...</td>\n",
       "      <td>Renault Duster</td>\n",
       "      <td>Standard - EXPORT OUT EU TROPICAL VERSION - EX...</td>\n",
       "      <td>Off-Road</td>\n",
       "      <td>12250</td>\n",
       "      <td>None</td>\n",
       "      <td>- km</td>\n",
       "      <td>-/-</td>\n",
       "      <td>None</td>\n",
       "      <td>NaN</td>\n",
       "      <td>...</td>\n",
       "      <td>[\\n,  - EXPORT OUT EU TROPICAL VERSION, Prix T...</td>\n",
       "      <td>NaN</td>\n",
       "      <td>[\\n6\\n]</td>\n",
       "      <td>[\\nJapan\\n]</td>\n",
       "      <td>NaN</td>\n",
       "      <td>NaN</td>\n",
       "      <td>NaN</td>\n",
       "      <td>NaN</td>\n",
       "      <td>NaN</td>\n",
       "      <td>NaN</td>\n",
       "    </tr>\n",
       "    <tr>\n",
       "      <th>14918</th>\n",
       "      <td>https://www.autoscout24.com//offers/renault-du...</td>\n",
       "      <td>Renault Duster</td>\n",
       "      <td>Standard - EXPORT OUT EU TROPICAL VERSION - EX...</td>\n",
       "      <td>Off-Road</td>\n",
       "      <td>12250</td>\n",
       "      <td>None</td>\n",
       "      <td>- km</td>\n",
       "      <td>-/-</td>\n",
       "      <td>None</td>\n",
       "      <td>NaN</td>\n",
       "      <td>...</td>\n",
       "      <td>[\\n- EXPORT OUT EU TROPICAL VERSION, Prix T1 (...</td>\n",
       "      <td>NaN</td>\n",
       "      <td>[\\n6\\n]</td>\n",
       "      <td>NaN</td>\n",
       "      <td>NaN</td>\n",
       "      <td>NaN</td>\n",
       "      <td>NaN</td>\n",
       "      <td>NaN</td>\n",
       "      <td>NaN</td>\n",
       "      <td>NaN</td>\n",
       "    </tr>\n",
       "    <tr>\n",
       "      <th>14919</th>\n",
       "      <td>https://www.autoscout24.com//offers/renault-du...</td>\n",
       "      <td>Renault Duster</td>\n",
       "      <td>Deluxe - EXPORT OUT EU TROPICAL VERSION - EXPO...</td>\n",
       "      <td>Off-Road</td>\n",
       "      <td>11900</td>\n",
       "      <td>None</td>\n",
       "      <td>- km</td>\n",
       "      <td>-/-</td>\n",
       "      <td>None</td>\n",
       "      <td>NaN</td>\n",
       "      <td>...</td>\n",
       "      <td>[\\n,  - EXPORT OUT EU TROPICAL VERSION, Prix T...</td>\n",
       "      <td>NaN</td>\n",
       "      <td>[\\n6\\n]</td>\n",
       "      <td>[\\nJapan\\n]</td>\n",
       "      <td>NaN</td>\n",
       "      <td>NaN</td>\n",
       "      <td>NaN</td>\n",
       "      <td>NaN</td>\n",
       "      <td>NaN</td>\n",
       "      <td>NaN</td>\n",
       "    </tr>\n",
       "    <tr>\n",
       "      <th>14920</th>\n",
       "      <td>https://www.autoscout24.com//offers/renault-du...</td>\n",
       "      <td>Renault Duster</td>\n",
       "      <td>Deluxe - EXPORT OUT EU TROPICAL VERSION - EXPO...</td>\n",
       "      <td>Off-Road</td>\n",
       "      <td>11900</td>\n",
       "      <td>None</td>\n",
       "      <td>101 km</td>\n",
       "      <td>06/2019</td>\n",
       "      <td>None</td>\n",
       "      <td>NaN</td>\n",
       "      <td>...</td>\n",
       "      <td>[\\n,  - EXPORT OUT EU TROPICAL VERSION, Prix t...</td>\n",
       "      <td>NaN</td>\n",
       "      <td>[\\n6\\n]</td>\n",
       "      <td>NaN</td>\n",
       "      <td>NaN</td>\n",
       "      <td>NaN</td>\n",
       "      <td>NaN</td>\n",
       "      <td>NaN</td>\n",
       "      <td>NaN</td>\n",
       "      <td>NaN</td>\n",
       "    </tr>\n",
       "    <tr>\n",
       "      <th>14921</th>\n",
       "      <td>https://www.autoscout24.com//offers/renault-du...</td>\n",
       "      <td>Renault Duster</td>\n",
       "      <td>1.6L PETROL 4WD 4X4 NEW CAR FOR EXPORT</td>\n",
       "      <td>Off-Road</td>\n",
       "      <td>12000</td>\n",
       "      <td>None</td>\n",
       "      <td>- km</td>\n",
       "      <td>-/-</td>\n",
       "      <td>None</td>\n",
       "      <td>NaN</td>\n",
       "      <td>...</td>\n",
       "      <td>[\\n, [FRENCH], \"INTERTRADE PROJECTS BELGIUM\" O...</td>\n",
       "      <td>NaN</td>\n",
       "      <td>[\\n6\\n]</td>\n",
       "      <td>NaN</td>\n",
       "      <td>NaN</td>\n",
       "      <td>NaN</td>\n",
       "      <td>NaN</td>\n",
       "      <td>NaN</td>\n",
       "      <td>NaN</td>\n",
       "      <td>NaN</td>\n",
       "    </tr>\n",
       "    <tr>\n",
       "      <th>14922</th>\n",
       "      <td>https://www.autoscout24.com//offers/renault-du...</td>\n",
       "      <td>Renault Duster</td>\n",
       "      <td>Deluxe - EXPORT OUT EU TROPICAL VERSION - EXPO...</td>\n",
       "      <td>Off-Road</td>\n",
       "      <td>11900</td>\n",
       "      <td>None</td>\n",
       "      <td>- km</td>\n",
       "      <td>-/-</td>\n",
       "      <td>None</td>\n",
       "      <td>NaN</td>\n",
       "      <td>...</td>\n",
       "      <td>[\\n- EXPORT OUT EU TROPICAL VERSION, Prix T1 (...</td>\n",
       "      <td>NaN</td>\n",
       "      <td>[\\n6\\n]</td>\n",
       "      <td>NaN</td>\n",
       "      <td>NaN</td>\n",
       "      <td>NaN</td>\n",
       "      <td>NaN</td>\n",
       "      <td>NaN</td>\n",
       "      <td>NaN</td>\n",
       "      <td>NaN</td>\n",
       "    </tr>\n",
       "    <tr>\n",
       "      <th>14923</th>\n",
       "      <td>https://www.autoscout24.com//offers/renault-du...</td>\n",
       "      <td>Renault Duster</td>\n",
       "      <td>Deluxe - EXPORT OUT EU TROPICAL VERSION - EXPO...</td>\n",
       "      <td>Off-Road</td>\n",
       "      <td>11900</td>\n",
       "      <td>None</td>\n",
       "      <td>101 km</td>\n",
       "      <td>06/2019</td>\n",
       "      <td>None</td>\n",
       "      <td>NaN</td>\n",
       "      <td>...</td>\n",
       "      <td>[\\n- EXPORT OUT EU TROPICAL VERSION, Prix tota...</td>\n",
       "      <td>NaN</td>\n",
       "      <td>[\\n6\\n]</td>\n",
       "      <td>NaN</td>\n",
       "      <td>NaN</td>\n",
       "      <td>NaN</td>\n",
       "      <td>NaN</td>\n",
       "      <td>NaN</td>\n",
       "      <td>NaN</td>\n",
       "      <td>NaN</td>\n",
       "    </tr>\n",
       "    <tr>\n",
       "      <th>14924</th>\n",
       "      <td>https://www.autoscout24.com//offers/renault-du...</td>\n",
       "      <td>Renault Duster</td>\n",
       "      <td>Standard - EXPORT OUT EU TROPICAL VERSION - EX...</td>\n",
       "      <td>Off-Road</td>\n",
       "      <td>10900</td>\n",
       "      <td>None</td>\n",
       "      <td>- km</td>\n",
       "      <td>-/-</td>\n",
       "      <td>None</td>\n",
       "      <td>NaN</td>\n",
       "      <td>...</td>\n",
       "      <td>[\\n,  - EXPORT OUT EU TROPICAL VERSION, Prix T...</td>\n",
       "      <td>NaN</td>\n",
       "      <td>[\\n6\\n]</td>\n",
       "      <td>[\\nJapan\\n]</td>\n",
       "      <td>NaN</td>\n",
       "      <td>NaN</td>\n",
       "      <td>NaN</td>\n",
       "      <td>NaN</td>\n",
       "      <td>NaN</td>\n",
       "      <td>NaN</td>\n",
       "    </tr>\n",
       "    <tr>\n",
       "      <th>14925</th>\n",
       "      <td>https://www.autoscout24.com//offers/renault-du...</td>\n",
       "      <td>Renault Duster</td>\n",
       "      <td>Standard - EXPORT OUT EU TROPICAL VERSION - EX...</td>\n",
       "      <td>Off-Road</td>\n",
       "      <td>10900</td>\n",
       "      <td>None</td>\n",
       "      <td>101 km</td>\n",
       "      <td>06/2019</td>\n",
       "      <td>None</td>\n",
       "      <td>NaN</td>\n",
       "      <td>...</td>\n",
       "      <td>[\\n,  - EXPORT OUT EU TROPICAL VERSION, Prix t...</td>\n",
       "      <td>NaN</td>\n",
       "      <td>[\\n6\\n]</td>\n",
       "      <td>NaN</td>\n",
       "      <td>NaN</td>\n",
       "      <td>NaN</td>\n",
       "      <td>NaN</td>\n",
       "      <td>NaN</td>\n",
       "      <td>NaN</td>\n",
       "      <td>NaN</td>\n",
       "    </tr>\n",
       "    <tr>\n",
       "      <th>14926</th>\n",
       "      <td>https://www.autoscout24.com//offers/renault-du...</td>\n",
       "      <td>Renault Duster</td>\n",
       "      <td>Standard - EXPORT OUT EU TROPICAL VERSION - EX...</td>\n",
       "      <td>Off-Road</td>\n",
       "      <td>10900</td>\n",
       "      <td>None</td>\n",
       "      <td>101 km</td>\n",
       "      <td>06/2019</td>\n",
       "      <td>None</td>\n",
       "      <td>NaN</td>\n",
       "      <td>...</td>\n",
       "      <td>[\\n- EXPORT OUT EU TROPICAL VERSION, Prix tota...</td>\n",
       "      <td>NaN</td>\n",
       "      <td>[\\n6\\n]</td>\n",
       "      <td>NaN</td>\n",
       "      <td>NaN</td>\n",
       "      <td>NaN</td>\n",
       "      <td>NaN</td>\n",
       "      <td>NaN</td>\n",
       "      <td>NaN</td>\n",
       "      <td>NaN</td>\n",
       "    </tr>\n",
       "    <tr>\n",
       "      <th>14927</th>\n",
       "      <td>https://www.autoscout24.com//offers/renault-du...</td>\n",
       "      <td>Renault Duster</td>\n",
       "      <td>Standard - EXPORT OUT EU TROPICAL VERSION - EX...</td>\n",
       "      <td>Off-Road</td>\n",
       "      <td>10900</td>\n",
       "      <td>None</td>\n",
       "      <td>- km</td>\n",
       "      <td>-/-</td>\n",
       "      <td>None</td>\n",
       "      <td>NaN</td>\n",
       "      <td>...</td>\n",
       "      <td>[\\n- EXPORT OUT EU TROPICAL VERSION, Prix T1 (...</td>\n",
       "      <td>NaN</td>\n",
       "      <td>[\\n6\\n]</td>\n",
       "      <td>NaN</td>\n",
       "      <td>NaN</td>\n",
       "      <td>NaN</td>\n",
       "      <td>NaN</td>\n",
       "      <td>NaN</td>\n",
       "      <td>NaN</td>\n",
       "      <td>NaN</td>\n",
       "    </tr>\n",
       "    <tr>\n",
       "      <th>14936</th>\n",
       "      <td>https://www.autoscout24.com//offers/renault-es...</td>\n",
       "      <td>Renault Espace</td>\n",
       "      <td>dCi 160CV EDC Energy Intens</td>\n",
       "      <td>Off-Road</td>\n",
       "      <td>22500</td>\n",
       "      <td>None</td>\n",
       "      <td>70,000 km</td>\n",
       "      <td>05/2017</td>\n",
       "      <td>1 previous owner</td>\n",
       "      <td>NaN</td>\n",
       "      <td>...</td>\n",
       "      <td>[]</td>\n",
       "      <td>NaN</td>\n",
       "      <td>[\\n6\\n]</td>\n",
       "      <td>[\\nItaly\\n]</td>\n",
       "      <td>NaN</td>\n",
       "      <td>[\\n04/2019\\n, \\n120 g CO2/km (comb)\\n]</td>\n",
       "      <td>NaN</td>\n",
       "      <td>NaN</td>\n",
       "      <td>NaN</td>\n",
       "      <td>NaN</td>\n",
       "    </tr>\n",
       "    <tr>\n",
       "      <th>15038</th>\n",
       "      <td>https://www.autoscout24.com//offers/renault-es...</td>\n",
       "      <td>Renault Espace</td>\n",
       "      <td>V Intens dCi160 Aut.|4Con|Pan|19?|AHK|1HD</td>\n",
       "      <td>Off-Road</td>\n",
       "      <td>24900</td>\n",
       "      <td>VAT deductible</td>\n",
       "      <td>42,700 km</td>\n",
       "      <td>03/2017</td>\n",
       "      <td>1 previous owner</td>\n",
       "      <td>NaN</td>\n",
       "      <td>...</td>\n",
       "      <td>[\\n, Fahrzeug | Modell:, Renault Espace V Inte...</td>\n",
       "      <td>NaN</td>\n",
       "      <td>NaN</td>\n",
       "      <td>[\\nGermany\\n]</td>\n",
       "      <td>NaN</td>\n",
       "      <td>NaN</td>\n",
       "      <td>NaN</td>\n",
       "      <td>NaN</td>\n",
       "      <td>NaN</td>\n",
       "      <td>NaN</td>\n",
       "    </tr>\n",
       "    <tr>\n",
       "      <th>15284</th>\n",
       "      <td>https://www.autoscout24.com//offers/renault-es...</td>\n",
       "      <td>Renault Espace</td>\n",
       "      <td>V 2015 espace 1.6 dci energy Intens 160cv 7p.t...</td>\n",
       "      <td>Off-Road</td>\n",
       "      <td>14900</td>\n",
       "      <td>VAT deductible</td>\n",
       "      <td>141,522 km</td>\n",
       "      <td>11/2016</td>\n",
       "      <td>None</td>\n",
       "      <td>NaN</td>\n",
       "      <td>...</td>\n",
       "      <td>[\\n, - PREZZO ESPOSTO ESCLUSO PASSAGGIO DI PRO...</td>\n",
       "      <td>NaN</td>\n",
       "      <td>NaN</td>\n",
       "      <td>NaN</td>\n",
       "      <td>NaN</td>\n",
       "      <td>NaN</td>\n",
       "      <td>NaN</td>\n",
       "      <td>NaN</td>\n",
       "      <td>NaN</td>\n",
       "      <td>NaN</td>\n",
       "    </tr>\n",
       "    <tr>\n",
       "      <th>15350</th>\n",
       "      <td>https://www.autoscout24.com//offers/renault-es...</td>\n",
       "      <td>Renault Espace</td>\n",
       "      <td>1.6 dCi 160 Limited Auto 5p</td>\n",
       "      <td>Off-Road</td>\n",
       "      <td>27850</td>\n",
       "      <td>None</td>\n",
       "      <td>32,400 km</td>\n",
       "      <td>02/2018</td>\n",
       "      <td>None</td>\n",
       "      <td>NaN</td>\n",
       "      <td>...</td>\n",
       "      <td>[\\n¡Abrimos Domingos y festivos. ¡¡10.000 m2 d...</td>\n",
       "      <td>NaN</td>\n",
       "      <td>[\\n5\\n]</td>\n",
       "      <td>NaN</td>\n",
       "      <td>NaN</td>\n",
       "      <td>NaN</td>\n",
       "      <td>NaN</td>\n",
       "      <td>NaN</td>\n",
       "      <td>NaN</td>\n",
       "      <td>NaN</td>\n",
       "    </tr>\n",
       "    <tr>\n",
       "      <th>15355</th>\n",
       "      <td>https://www.autoscout24.com//offers/renault-es...</td>\n",
       "      <td>Renault Espace</td>\n",
       "      <td>1.6 dCi 160 Limited Auto 5p</td>\n",
       "      <td>Off-Road</td>\n",
       "      <td>27850</td>\n",
       "      <td>None</td>\n",
       "      <td>32,400 km</td>\n",
       "      <td>02/2018</td>\n",
       "      <td>None</td>\n",
       "      <td>NaN</td>\n",
       "      <td>...</td>\n",
       "      <td>[\\n¡Abrimos Domingos y festivos. ¡¡10.000 m2 d...</td>\n",
       "      <td>NaN</td>\n",
       "      <td>[\\n5\\n]</td>\n",
       "      <td>NaN</td>\n",
       "      <td>NaN</td>\n",
       "      <td>NaN</td>\n",
       "      <td>NaN</td>\n",
       "      <td>NaN</td>\n",
       "      <td>NaN</td>\n",
       "      <td>NaN</td>\n",
       "    </tr>\n",
       "    <tr>\n",
       "      <th>15380</th>\n",
       "      <td>https://www.autoscout24.com//offers/renault-es...</td>\n",
       "      <td>Renault Espace</td>\n",
       "      <td>dCi 160CV INTENS</td>\n",
       "      <td>Off-Road</td>\n",
       "      <td>25700</td>\n",
       "      <td>None</td>\n",
       "      <td>21,850 km</td>\n",
       "      <td>12/2017</td>\n",
       "      <td>1 previous owner</td>\n",
       "      <td>NaN</td>\n",
       "      <td>...</td>\n",
       "      <td>[\\nOFFERTA DEL MESE, VIENI A SCOPRIRE LE NOSTR...</td>\n",
       "      <td>NaN</td>\n",
       "      <td>[\\n6\\n]</td>\n",
       "      <td>[\\nItaly\\n]</td>\n",
       "      <td>NaN</td>\n",
       "      <td>NaN</td>\n",
       "      <td>NaN</td>\n",
       "      <td>NaN</td>\n",
       "      <td>NaN</td>\n",
       "      <td>NaN</td>\n",
       "    </tr>\n",
       "    <tr>\n",
       "      <th>15479</th>\n",
       "      <td>https://www.autoscout24.com//offers/renault-es...</td>\n",
       "      <td>Renault Espace</td>\n",
       "      <td>dCi 160CV EDC Energy Initiale Par 4 control</td>\n",
       "      <td>Off-Road</td>\n",
       "      <td>32900</td>\n",
       "      <td>VAT deductible</td>\n",
       "      <td>16,800 km</td>\n",
       "      <td>10/2017</td>\n",
       "      <td>None</td>\n",
       "      <td>NaN</td>\n",
       "      <td>...</td>\n",
       "      <td>[\\nPraticamente nuova. NB: Veicolo con 4 ruote...</td>\n",
       "      <td>NaN</td>\n",
       "      <td>[\\n6\\n]</td>\n",
       "      <td>NaN</td>\n",
       "      <td>NaN</td>\n",
       "      <td>NaN</td>\n",
       "      <td>NaN</td>\n",
       "      <td>NaN</td>\n",
       "      <td>NaN</td>\n",
       "      <td>NaN</td>\n",
       "    </tr>\n",
       "    <tr>\n",
       "      <th>15626</th>\n",
       "      <td>https://www.autoscout24.com//offers/renault-es...</td>\n",
       "      <td>Renault Espace</td>\n",
       "      <td>dCi 160CV EDC Energy Initiale Paris 7posti</td>\n",
       "      <td>Off-Road</td>\n",
       "      <td>29500</td>\n",
       "      <td>VAT deductible</td>\n",
       "      <td>31,686 km</td>\n",
       "      <td>05/2017</td>\n",
       "      <td>None</td>\n",
       "      <td>NaN</td>\n",
       "      <td>...</td>\n",
       "      <td>[\\n, compreso,  nel prezzo Assistenza RENAULT ...</td>\n",
       "      <td>NaN</td>\n",
       "      <td>[\\n6\\n]</td>\n",
       "      <td>[\\nItaly\\n]</td>\n",
       "      <td>NaN</td>\n",
       "      <td>NaN</td>\n",
       "      <td>NaN</td>\n",
       "      <td>NaN</td>\n",
       "      <td>NaN</td>\n",
       "      <td>NaN</td>\n",
       "    </tr>\n",
       "  </tbody>\n",
       "</table>\n",
       "<p>56 rows × 54 columns</p>\n",
       "</div>"
      ],
      "text/plain": [
       "                                                     url      make_model  \\\n",
       "2614   https://www.autoscout24.com//offers/audi-a2-30...         Audi A2   \n",
       "7106   https://www.autoscout24.com//offers/opel-astra...      Opel Astra   \n",
       "8954   https://www.autoscout24.com//offers/opel-corsa...      Opel Corsa   \n",
       "8956   https://www.autoscout24.com//offers/opel-corsa...      Opel Corsa   \n",
       "9148   https://www.autoscout24.com//offers/opel-corsa...      Opel Corsa   \n",
       "10818  https://www.autoscout24.com//offers/opel-insig...   Opel Insignia   \n",
       "12545  https://www.autoscout24.com//offers/opel-insig...   Opel Insignia   \n",
       "12629  https://www.autoscout24.com//offers/opel-insig...   Opel Insignia   \n",
       "12647  https://www.autoscout24.com//offers/opel-insig...   Opel Insignia   \n",
       "12809  https://www.autoscout24.com//offers/opel-insig...   Opel Insignia   \n",
       "12822  https://www.autoscout24.com//offers/opel-insig...   Opel Insignia   \n",
       "12908  https://www.autoscout24.com//offers/opel-insig...   Opel Insignia   \n",
       "13678  https://www.autoscout24.com//offers/renault-cl...    Renault Clio   \n",
       "14056  https://www.autoscout24.com//offers/renault-cl...    Renault Clio   \n",
       "14894  https://www.autoscout24.com//offers/renault-du...  Renault Duster   \n",
       "14895  https://www.autoscout24.com//offers/renault-du...  Renault Duster   \n",
       "14896  https://www.autoscout24.com//offers/renault-du...  Renault Duster   \n",
       "14897  https://www.autoscout24.com//offers/renault-du...  Renault Duster   \n",
       "14898  https://www.autoscout24.com//offers/renault-du...  Renault Duster   \n",
       "14899  https://www.autoscout24.com//offers/renault-du...  Renault Duster   \n",
       "14900  https://www.autoscout24.com//offers/renault-du...  Renault Duster   \n",
       "14901  https://www.autoscout24.com//offers/renault-du...  Renault Duster   \n",
       "14902  https://www.autoscout24.com//offers/renault-du...  Renault Duster   \n",
       "14903  https://www.autoscout24.com//offers/renault-du...  Renault Duster   \n",
       "14904  https://www.autoscout24.com//offers/renault-du...  Renault Duster   \n",
       "14905  https://www.autoscout24.com//offers/renault-du...  Renault Duster   \n",
       "14906  https://www.autoscout24.com//offers/renault-du...  Renault Duster   \n",
       "14907  https://www.autoscout24.com//offers/renault-du...  Renault Duster   \n",
       "14908  https://www.autoscout24.com//offers/renault-du...  Renault Duster   \n",
       "14909  https://www.autoscout24.com//offers/renault-du...  Renault Duster   \n",
       "14910  https://www.autoscout24.com//offers/renault-du...  Renault Duster   \n",
       "14911  https://www.autoscout24.com//offers/renault-du...  Renault Duster   \n",
       "14912  https://www.autoscout24.com//offers/renault-du...  Renault Duster   \n",
       "14913  https://www.autoscout24.com//offers/renault-du...  Renault Duster   \n",
       "14914  https://www.autoscout24.com//offers/renault-du...  Renault Duster   \n",
       "14915  https://www.autoscout24.com//offers/renault-du...  Renault Duster   \n",
       "14916  https://www.autoscout24.com//offers/renault-du...  Renault Duster   \n",
       "14917  https://www.autoscout24.com//offers/renault-du...  Renault Duster   \n",
       "14918  https://www.autoscout24.com//offers/renault-du...  Renault Duster   \n",
       "14919  https://www.autoscout24.com//offers/renault-du...  Renault Duster   \n",
       "14920  https://www.autoscout24.com//offers/renault-du...  Renault Duster   \n",
       "14921  https://www.autoscout24.com//offers/renault-du...  Renault Duster   \n",
       "14922  https://www.autoscout24.com//offers/renault-du...  Renault Duster   \n",
       "14923  https://www.autoscout24.com//offers/renault-du...  Renault Duster   \n",
       "14924  https://www.autoscout24.com//offers/renault-du...  Renault Duster   \n",
       "14925  https://www.autoscout24.com//offers/renault-du...  Renault Duster   \n",
       "14926  https://www.autoscout24.com//offers/renault-du...  Renault Duster   \n",
       "14927  https://www.autoscout24.com//offers/renault-du...  Renault Duster   \n",
       "14936  https://www.autoscout24.com//offers/renault-es...  Renault Espace   \n",
       "15038  https://www.autoscout24.com//offers/renault-es...  Renault Espace   \n",
       "15284  https://www.autoscout24.com//offers/renault-es...  Renault Espace   \n",
       "15350  https://www.autoscout24.com//offers/renault-es...  Renault Espace   \n",
       "15355  https://www.autoscout24.com//offers/renault-es...  Renault Espace   \n",
       "15380  https://www.autoscout24.com//offers/renault-es...  Renault Espace   \n",
       "15479  https://www.autoscout24.com//offers/renault-es...  Renault Espace   \n",
       "15626  https://www.autoscout24.com//offers/renault-es...  Renault Espace   \n",
       "\n",
       "                                       short_description body_type  price  \\\n",
       "2614   30 TDI Navi, Lane assist, Sitzheizung, Einpark...  Off-Road  28200   \n",
       "7106   K ST INNO Matrix IntelliLink Lenk/SHZ T-Leder ...  Off-Road  18590   \n",
       "8954                         SELECTIVE 1.4 GASOLINA 90CV  Off-Road   7900   \n",
       "8956                      SELECTIVE 1.4 GASOLINA 90CV 5P  Off-Road   7900   \n",
       "9148                COLOR EDITION 1.4 TURBO 100CV S/S 5P  Off-Road   8700   \n",
       "10818   2.0 CDTi 170cv COUNTRY TOURER // 4WD // AUTOM //  Off-Road  12750   \n",
       "12545            Country Tourer 2.0CDTI S&S Aut. 4x4 210  Off-Road  34776   \n",
       "12629          Country Tourer 1.6 T SHT S&S Aut. 4x4 200  Off-Road  32345   \n",
       "12647                Country Tourer 2.0CDTI S&S Aut. 170  Off-Road  31505   \n",
       "12809  Sports Tourer INNOVATION 1.5 DIRECT INJEC 121 ...  Off-Road  33490   \n",
       "12822             CT 2.0 CDTi Turbo D 4x4 Country Tourer  Off-Road  28500   \n",
       "12908                 Country Tourer 2.0CDTI S&S 4x4 170  Off-Road  32793   \n",
       "13678           1.5 dCi 75CV Life ITALIANA KMCertificati  Off-Road   7700   \n",
       "14056      4 Intens Energy 5-Türer TCE 120 88KW 120PS ED  Off-Road  17990   \n",
       "14894  Deluxe - EXPORT OUT EU TROPICAL VERSION - EXPO...  Off-Road  13250   \n",
       "14895  Deluxe - EXPORT OUT EU TROPICAL VERSION - EXPO...  Off-Road  16033   \n",
       "14896  Deluxe - EXPORT OUT EU TROPICAL VERSION - EXPO...  Off-Road  16033   \n",
       "14897  Deluxe - EXPORT OUT EU TROPICAL VERSION - EXPO...  Off-Road  16033   \n",
       "14898  Deluxe - EXPORT OUT EU TROPICAL VERSION - EXPO...  Off-Road  16033   \n",
       "14899  Deluxe - EXPORT OUT EU TROPICAL VERSION - EXPO...  Off-Road  13250   \n",
       "14900  Deluxe - EXPORT OUT EU TROPICAL VERSION - EXPO...  Off-Road  13250   \n",
       "14901  Deluxe - EXPORT OUT EU TROPICAL VERSION - EXPO...  Off-Road  13250   \n",
       "14902          P1.6L 4x4 MT 2018 - ONLY TO EXPORT OUT EU  Off-Road  10850   \n",
       "14903  Deluxe - EXPORT OUT EU TROPICAL VERSION - EXPO...  Off-Road  14399   \n",
       "14904  Deluxe - EXPORT OUT EU TROPICAL VERSION - EXPO...  Off-Road  14399   \n",
       "14905  Standard - EXPORT OUT EU TROPICAL VERSION - EX...  Off-Road  13189   \n",
       "14906  Standard - EXPORT OUT EU TROPICAL VERSION - EX...  Off-Road  14823   \n",
       "14907  Standard - EXPORT OUT EU TROPICAL VERSION - EX...  Off-Road  14823   \n",
       "14908  Standard - EXPORT OUT EU TROPICAL VERSION - EX...  Off-Road  14823   \n",
       "14909  Deluxe - EXPORT OUT EU TROPICAL VERSION - EXPO...  Off-Road  14399   \n",
       "14910  Deluxe - EXPORT OUT EU TROPICAL VERSION - EXPO...  Off-Road  14399   \n",
       "14911  Standard - EXPORT OUT EU TROPICAL VERSION - EX...  Off-Road  14823   \n",
       "14912  Standard - EXPORT OUT EU TROPICAL VERSION - EX...  Off-Road  13189   \n",
       "14913  Standard - EXPORT OUT EU TROPICAL VERSION - EX...  Off-Road  13189   \n",
       "14914  Standard - EXPORT OUT EU TROPICAL VERSION - EX...  Off-Road  13189   \n",
       "14915  Standard - EXPORT OUT EU TROPICAL VERSION - EX...  Off-Road  12250   \n",
       "14916  Standard - EXPORT OUT EU TROPICAL VERSION - EX...  Off-Road  12250   \n",
       "14917  Standard - EXPORT OUT EU TROPICAL VERSION - EX...  Off-Road  12250   \n",
       "14918  Standard - EXPORT OUT EU TROPICAL VERSION - EX...  Off-Road  12250   \n",
       "14919  Deluxe - EXPORT OUT EU TROPICAL VERSION - EXPO...  Off-Road  11900   \n",
       "14920  Deluxe - EXPORT OUT EU TROPICAL VERSION - EXPO...  Off-Road  11900   \n",
       "14921             1.6L PETROL 4WD 4X4 NEW CAR FOR EXPORT  Off-Road  12000   \n",
       "14922  Deluxe - EXPORT OUT EU TROPICAL VERSION - EXPO...  Off-Road  11900   \n",
       "14923  Deluxe - EXPORT OUT EU TROPICAL VERSION - EXPO...  Off-Road  11900   \n",
       "14924  Standard - EXPORT OUT EU TROPICAL VERSION - EX...  Off-Road  10900   \n",
       "14925  Standard - EXPORT OUT EU TROPICAL VERSION - EX...  Off-Road  10900   \n",
       "14926  Standard - EXPORT OUT EU TROPICAL VERSION - EX...  Off-Road  10900   \n",
       "14927  Standard - EXPORT OUT EU TROPICAL VERSION - EX...  Off-Road  10900   \n",
       "14936                        dCi 160CV EDC Energy Intens  Off-Road  22500   \n",
       "15038          V Intens dCi160 Aut.|4Con|Pan|19?|AHK|1HD  Off-Road  24900   \n",
       "15284  V 2015 espace 1.6 dci energy Intens 160cv 7p.t...  Off-Road  14900   \n",
       "15350                        1.6 dCi 160 Limited Auto 5p  Off-Road  27850   \n",
       "15355                        1.6 dCi 160 Limited Auto 5p  Off-Road  27850   \n",
       "15380                                   dCi 160CV INTENS  Off-Road  25700   \n",
       "15479        dCi 160CV EDC Energy Initiale Par 4 control  Off-Road  32900   \n",
       "15626         dCi 160CV EDC Energy Initiale Paris 7posti  Off-Road  29500   \n",
       "\n",
       "                    vat          km registration        prev_owner  kW  ...  \\\n",
       "2614     VAT deductible   26,166 km      10/2018  1 previous owner NaN  ...   \n",
       "7106     VAT deductible   12,607 km      06/2018  1 previous owner NaN  ...   \n",
       "8954               None   35,410 km      04/2017              None NaN  ...   \n",
       "8956               None   37,634 km      04/2017              None NaN  ...   \n",
       "9148               None   79,143 km      03/2017              None NaN  ...   \n",
       "10818    VAT deductible  159,000 km      05/2016  1 previous owner NaN  ...   \n",
       "12545              None        - km          -/-              None NaN  ...   \n",
       "12629              None        - km          -/-              None NaN  ...   \n",
       "12647              None        - km          -/-              None NaN  ...   \n",
       "12809    VAT deductible        8 km          -/-              None NaN  ...   \n",
       "12822  Price negotiable       93 km      01/2019              None NaN  ...   \n",
       "12908              None        - km          -/-              None NaN  ...   \n",
       "13678              None   95,000 km      05/2016  1 previous owner NaN  ...   \n",
       "14056    VAT deductible      500 km      04/2019  1 previous owner NaN  ...   \n",
       "14894              None        - km          -/-              None NaN  ...   \n",
       "14895    VAT deductible        - km          -/-              None NaN  ...   \n",
       "14896    VAT deductible      101 km      06/2019              None NaN  ...   \n",
       "14897    VAT deductible        - km          -/-              None NaN  ...   \n",
       "14898    VAT deductible      101 km      06/2019              None NaN  ...   \n",
       "14899              None      101 km      06/2019              None NaN  ...   \n",
       "14900              None        - km          -/-              None NaN  ...   \n",
       "14901              None      101 km      06/2019              None NaN  ...   \n",
       "14902              None        - km          -/-              None NaN  ...   \n",
       "14903    VAT deductible      101 km      06/2019              None NaN  ...   \n",
       "14904    VAT deductible        - km          -/-              None NaN  ...   \n",
       "14905    VAT deductible        - km          -/-              None NaN  ...   \n",
       "14906    VAT deductible      101 km      06/2019              None NaN  ...   \n",
       "14907    VAT deductible      101 km      06/2019              None NaN  ...   \n",
       "14908    VAT deductible        - km          -/-              None NaN  ...   \n",
       "14909    VAT deductible        - km          -/-              None NaN  ...   \n",
       "14910    VAT deductible      101 km      06/2019              None NaN  ...   \n",
       "14911    VAT deductible        - km          -/-              None NaN  ...   \n",
       "14912    VAT deductible      101 km      06/2019              None NaN  ...   \n",
       "14913    VAT deductible        - km          -/-              None NaN  ...   \n",
       "14914    VAT deductible      101 km      06/2019              None NaN  ...   \n",
       "14915              None      101 km      06/2019              None NaN  ...   \n",
       "14916              None      101 km      06/2019              None NaN  ...   \n",
       "14917              None        - km          -/-              None NaN  ...   \n",
       "14918              None        - km          -/-              None NaN  ...   \n",
       "14919              None        - km          -/-              None NaN  ...   \n",
       "14920              None      101 km      06/2019              None NaN  ...   \n",
       "14921              None        - km          -/-              None NaN  ...   \n",
       "14922              None        - km          -/-              None NaN  ...   \n",
       "14923              None      101 km      06/2019              None NaN  ...   \n",
       "14924              None        - km          -/-              None NaN  ...   \n",
       "14925              None      101 km      06/2019              None NaN  ...   \n",
       "14926              None      101 km      06/2019              None NaN  ...   \n",
       "14927              None        - km          -/-              None NaN  ...   \n",
       "14936              None   70,000 km      05/2017  1 previous owner NaN  ...   \n",
       "15038    VAT deductible   42,700 km      03/2017  1 previous owner NaN  ...   \n",
       "15284    VAT deductible  141,522 km      11/2016              None NaN  ...   \n",
       "15350              None   32,400 km      02/2018              None NaN  ...   \n",
       "15355              None   32,400 km      02/2018              None NaN  ...   \n",
       "15380              None   21,850 km      12/2017  1 previous owner NaN  ...   \n",
       "15479    VAT deductible   16,800 km      10/2017              None NaN  ...   \n",
       "15626    VAT deductible   31,686 km      05/2017              None NaN  ...   \n",
       "\n",
       "                                             description   Emission Label  \\\n",
       "2614   [\\n, Technik & Sicherheit:, 7-Gang-Automatikge...  [\\n4 (Green)\\n]   \n",
       "7106   [\\nFahrtauglich, 4 Einstiegstüren, Herstellerg...  [\\n4 (Green)\\n]   \n",
       "8954   [\\n¡¡TOTALMENTE EQUIPADO!!, Sistema antibloque...              NaN   \n",
       "8956   [\\n¡¡TOTALMENTE EQUIPADO!!, Sistema antibloque...              NaN   \n",
       "9148   [\\n¡¡TOTALMENTE EQUIPADO!!, Asiento trasero di...              NaN   \n",
       "10818  [\\n, ETAT IMPECCABLE ! *** , 1ER PROPRIETAIRE ...              NaN   \n",
       "12545                                                 []              NaN   \n",
       "12629                                                 []              NaN   \n",
       "12647                                                 []              NaN   \n",
       "12809  [\\n- 180-Grad-Panorama-Ruckfahrkame, - Park & ...  [\\n4 (Green)\\n]   \n",
       "12822  [\\nSe trata de un COCHE NUEVO! con sólo 93 Km ...              NaN   \n",
       "12908                                                 []              NaN   \n",
       "13678  [\\n, RENAULT CLIO 1.5 dCi 75cv Life, Auto ital...              NaN   \n",
       "14056  [\\n, Ausstattungspakete:,  Ausstattungspaket: ...  [\\n4 (Green)\\n]   \n",
       "14894  [\\n- EXPORT OUT EU TROPICAL VERSION, Prix T1 (...              NaN   \n",
       "14895  [\\n,  - EXPORT OUT EU TROPICAL VERSION, Prix T...              NaN   \n",
       "14896  [\\n,  - EXPORT OUT EU TROPICAL VERSION, Prix T...              NaN   \n",
       "14897  [\\n- EXPORT OUT EU TROPICAL VERSION, Prix TVAC...              NaN   \n",
       "14898  [\\n- EXPORT OUT EU TROPICAL VERSION, Prix TVAC...              NaN   \n",
       "14899  [\\n,  - EXPORT OUT EU TROPICAL VERSION, Prix t...              NaN   \n",
       "14900  [\\n,  - EXPORT OUT EU TROPICAL VERSION, Prix T...              NaN   \n",
       "14901  [\\n- EXPORT OUT EU TROPICAL VERSION, Prix tota...              NaN   \n",
       "14902  [\\nRENAULT DUSTER P1.6L 4x4 MT 2018, ONLY TO E...              NaN   \n",
       "14903  [\\n- EXPORT OUT EU TROPICAL VERSION, Prix TVAC...              NaN   \n",
       "14904  [\\n- EXPORT OUT EU TROPICAL VERSION, Prix TVAC...              NaN   \n",
       "14905  [\\n,  - EXPORT OUT EU TROPICAL VERSION, Prix T...              NaN   \n",
       "14906  [\\n,  - EXPORT OUT EU TROPICAL VERSION, Prix T...              NaN   \n",
       "14907  [\\n- EXPORT OUT EU TROPICAL VERSION, Prix TVAC...              NaN   \n",
       "14908  [\\n,  - EXPORT OUT EU TROPICAL VERSION, Prix T...              NaN   \n",
       "14909  [\\n,  - EXPORT OUT EU TROPICAL VERSION, Prix T...              NaN   \n",
       "14910  [\\n,  - EXPORT OUT EU TROPICAL VERSION, Prix T...              NaN   \n",
       "14911  [\\n- EXPORT OUT EU TROPICAL VERSION, Prix TVAC...              NaN   \n",
       "14912  [\\n,  - EXPORT OUT EU TROPICAL VERSION, Prix T...              NaN   \n",
       "14913  [\\n- EXPORT OUT EU TROPICAL VERSION, Prix TVAC...              NaN   \n",
       "14914  [\\n- EXPORT OUT EU TROPICAL VERSION, Prix TVAC...              NaN   \n",
       "14915  [\\n,  - EXPORT OUT EU TROPICAL VERSION, Prix t...              NaN   \n",
       "14916  [\\n- EXPORT OUT EU TROPICAL VERSION, Prix tota...              NaN   \n",
       "14917  [\\n,  - EXPORT OUT EU TROPICAL VERSION, Prix T...              NaN   \n",
       "14918  [\\n- EXPORT OUT EU TROPICAL VERSION, Prix T1 (...              NaN   \n",
       "14919  [\\n,  - EXPORT OUT EU TROPICAL VERSION, Prix T...              NaN   \n",
       "14920  [\\n,  - EXPORT OUT EU TROPICAL VERSION, Prix t...              NaN   \n",
       "14921  [\\n, [FRENCH], \"INTERTRADE PROJECTS BELGIUM\" O...              NaN   \n",
       "14922  [\\n- EXPORT OUT EU TROPICAL VERSION, Prix T1 (...              NaN   \n",
       "14923  [\\n- EXPORT OUT EU TROPICAL VERSION, Prix tota...              NaN   \n",
       "14924  [\\n,  - EXPORT OUT EU TROPICAL VERSION, Prix T...              NaN   \n",
       "14925  [\\n,  - EXPORT OUT EU TROPICAL VERSION, Prix t...              NaN   \n",
       "14926  [\\n- EXPORT OUT EU TROPICAL VERSION, Prix tota...              NaN   \n",
       "14927  [\\n- EXPORT OUT EU TROPICAL VERSION, Prix T1 (...              NaN   \n",
       "14936                                                 []              NaN   \n",
       "15038  [\\n, Fahrzeug | Modell:, Renault Espace V Inte...              NaN   \n",
       "15284  [\\n, - PREZZO ESPOSTO ESCLUSO PASSAGGIO DI PRO...              NaN   \n",
       "15350  [\\n¡Abrimos Domingos y festivos. ¡¡10.000 m2 d...              NaN   \n",
       "15355  [\\n¡Abrimos Domingos y festivos. ¡¡10.000 m2 d...              NaN   \n",
       "15380  [\\nOFFERTA DEL MESE, VIENI A SCOPRIRE LE NOSTR...              NaN   \n",
       "15479  [\\nPraticamente nuova. NB: Veicolo con 4 ruote...              NaN   \n",
       "15626  [\\n, compreso,  nel prezzo Assistenza RENAULT ...              NaN   \n",
       "\n",
       "         Gears Country version Electricity consumption  \\\n",
       "2614       NaN   [\\nGermany\\n]                     NaN   \n",
       "7106   [\\n6\\n]             NaN                     NaN   \n",
       "8954   [\\n5\\n]             NaN                     NaN   \n",
       "8956   [\\n5\\n]             NaN                     NaN   \n",
       "9148   [\\n6\\n]             NaN                     NaN   \n",
       "10818      NaN   [\\nBelgium\\n]                     NaN   \n",
       "12545  [\\n8\\n]             NaN                     NaN   \n",
       "12629  [\\n6\\n]             NaN                     NaN   \n",
       "12647  [\\n8\\n]             NaN                     NaN   \n",
       "12809  [\\n6\\n]   [\\nGermany\\n]                     NaN   \n",
       "12822  [\\n6\\n]             NaN                     NaN   \n",
       "12908  [\\n6\\n]             NaN                     NaN   \n",
       "13678  [\\n5\\n]     [\\nItaly\\n]                     NaN   \n",
       "14056  [\\n6\\n]             NaN                     NaN   \n",
       "14894      NaN             NaN                     NaN   \n",
       "14895      NaN     [\\nJapan\\n]                     NaN   \n",
       "14896      NaN             NaN                     NaN   \n",
       "14897      NaN             NaN                     NaN   \n",
       "14898      NaN             NaN                     NaN   \n",
       "14899      NaN             NaN                     NaN   \n",
       "14900      NaN     [\\nJapan\\n]                     NaN   \n",
       "14901      NaN             NaN                     NaN   \n",
       "14902      NaN   [\\nBelgium\\n]                     NaN   \n",
       "14903  [\\n6\\n]             NaN                     NaN   \n",
       "14904  [\\n6\\n]             NaN                     NaN   \n",
       "14905  [\\n6\\n]     [\\nJapan\\n]                     NaN   \n",
       "14906  [\\n6\\n]             NaN                     NaN   \n",
       "14907  [\\n6\\n]             NaN                     NaN   \n",
       "14908  [\\n6\\n]     [\\nJapan\\n]                     NaN   \n",
       "14909  [\\n6\\n]     [\\nJapan\\n]                     NaN   \n",
       "14910  [\\n6\\n]             NaN                     NaN   \n",
       "14911  [\\n6\\n]             NaN                     NaN   \n",
       "14912  [\\n6\\n]             NaN                     NaN   \n",
       "14913  [\\n6\\n]             NaN                     NaN   \n",
       "14914  [\\n6\\n]             NaN                     NaN   \n",
       "14915  [\\n6\\n]             NaN                     NaN   \n",
       "14916  [\\n6\\n]             NaN                     NaN   \n",
       "14917  [\\n6\\n]     [\\nJapan\\n]                     NaN   \n",
       "14918  [\\n6\\n]             NaN                     NaN   \n",
       "14919  [\\n6\\n]     [\\nJapan\\n]                     NaN   \n",
       "14920  [\\n6\\n]             NaN                     NaN   \n",
       "14921  [\\n6\\n]             NaN                     NaN   \n",
       "14922  [\\n6\\n]             NaN                     NaN   \n",
       "14923  [\\n6\\n]             NaN                     NaN   \n",
       "14924  [\\n6\\n]     [\\nJapan\\n]                     NaN   \n",
       "14925  [\\n6\\n]             NaN                     NaN   \n",
       "14926  [\\n6\\n]             NaN                     NaN   \n",
       "14927  [\\n6\\n]             NaN                     NaN   \n",
       "14936  [\\n6\\n]     [\\nItaly\\n]                     NaN   \n",
       "15038      NaN   [\\nGermany\\n]                     NaN   \n",
       "15284      NaN             NaN                     NaN   \n",
       "15350  [\\n5\\n]             NaN                     NaN   \n",
       "15355  [\\n5\\n]             NaN                     NaN   \n",
       "15380  [\\n6\\n]     [\\nItaly\\n]                     NaN   \n",
       "15479  [\\n6\\n]             NaN                     NaN   \n",
       "15626  [\\n6\\n]     [\\nItaly\\n]                     NaN   \n",
       "\n",
       "                            Last Service Date Other Fuel Types Availability  \\\n",
       "2614                                      NaN              NaN          NaN   \n",
       "7106                                      NaN              NaN          NaN   \n",
       "8954                                      NaN              NaN          NaN   \n",
       "8956                                      NaN              NaN          NaN   \n",
       "9148                                      NaN              NaN          NaN   \n",
       "10818                                     NaN              NaN          NaN   \n",
       "12545                                     NaN              NaN          NaN   \n",
       "12629                                     NaN              NaN          NaN   \n",
       "12647                                     NaN              NaN          NaN   \n",
       "12809                                     NaN              NaN          NaN   \n",
       "12822                                     NaN              NaN          NaN   \n",
       "12908                                     NaN              NaN          NaN   \n",
       "13678               [\\n09/2018\\n, \\nEuro 6\\n]              NaN          NaN   \n",
       "14056                                     NaN              NaN          NaN   \n",
       "14894                                     NaN              NaN          NaN   \n",
       "14895                                     NaN              NaN          NaN   \n",
       "14896                                     NaN              NaN          NaN   \n",
       "14897                                     NaN              NaN          NaN   \n",
       "14898                                     NaN              NaN          NaN   \n",
       "14899                                     NaN              NaN          NaN   \n",
       "14900                                     NaN              NaN          NaN   \n",
       "14901                                     NaN              NaN          NaN   \n",
       "14902                                     NaN              NaN          NaN   \n",
       "14903                                     NaN              NaN          NaN   \n",
       "14904                                     NaN              NaN          NaN   \n",
       "14905                                     NaN              NaN          NaN   \n",
       "14906                                     NaN              NaN          NaN   \n",
       "14907                                     NaN              NaN          NaN   \n",
       "14908                                     NaN              NaN          NaN   \n",
       "14909                                     NaN              NaN          NaN   \n",
       "14910                                     NaN              NaN          NaN   \n",
       "14911                                     NaN              NaN          NaN   \n",
       "14912                                     NaN              NaN          NaN   \n",
       "14913                                     NaN              NaN          NaN   \n",
       "14914                                     NaN              NaN          NaN   \n",
       "14915                                     NaN              NaN          NaN   \n",
       "14916                                     NaN              NaN          NaN   \n",
       "14917                                     NaN              NaN          NaN   \n",
       "14918                                     NaN              NaN          NaN   \n",
       "14919                                     NaN              NaN          NaN   \n",
       "14920                                     NaN              NaN          NaN   \n",
       "14921                                     NaN              NaN          NaN   \n",
       "14922                                     NaN              NaN          NaN   \n",
       "14923                                     NaN              NaN          NaN   \n",
       "14924                                     NaN              NaN          NaN   \n",
       "14925                                     NaN              NaN          NaN   \n",
       "14926                                     NaN              NaN          NaN   \n",
       "14927                                     NaN              NaN          NaN   \n",
       "14936  [\\n04/2019\\n, \\n120 g CO2/km (comb)\\n]              NaN          NaN   \n",
       "15038                                     NaN              NaN          NaN   \n",
       "15284                                     NaN              NaN          NaN   \n",
       "15350                                     NaN              NaN          NaN   \n",
       "15355                                     NaN              NaN          NaN   \n",
       "15380                                     NaN              NaN          NaN   \n",
       "15479                                     NaN              NaN          NaN   \n",
       "15626                                     NaN              NaN          NaN   \n",
       "\n",
       "      Last Timing Belt Service Date Available from  \n",
       "2614                            NaN            NaN  \n",
       "7106                            NaN            NaN  \n",
       "8954                            NaN            NaN  \n",
       "8956                            NaN            NaN  \n",
       "9148                            NaN            NaN  \n",
       "10818                           NaN            NaN  \n",
       "12545                           NaN            NaN  \n",
       "12629                           NaN            NaN  \n",
       "12647                           NaN            NaN  \n",
       "12809                           NaN            NaN  \n",
       "12822                           NaN            NaN  \n",
       "12908                           NaN            NaN  \n",
       "13678                           NaN            NaN  \n",
       "14056                           NaN            NaN  \n",
       "14894                           NaN            NaN  \n",
       "14895                           NaN            NaN  \n",
       "14896                           NaN            NaN  \n",
       "14897                           NaN            NaN  \n",
       "14898                           NaN            NaN  \n",
       "14899                           NaN            NaN  \n",
       "14900                           NaN            NaN  \n",
       "14901                           NaN            NaN  \n",
       "14902                           NaN            NaN  \n",
       "14903                           NaN            NaN  \n",
       "14904                           NaN            NaN  \n",
       "14905                           NaN            NaN  \n",
       "14906                           NaN            NaN  \n",
       "14907                           NaN            NaN  \n",
       "14908                           NaN            NaN  \n",
       "14909                           NaN            NaN  \n",
       "14910                           NaN            NaN  \n",
       "14911                           NaN            NaN  \n",
       "14912                           NaN            NaN  \n",
       "14913                           NaN            NaN  \n",
       "14914                           NaN            NaN  \n",
       "14915                           NaN            NaN  \n",
       "14916                           NaN            NaN  \n",
       "14917                           NaN            NaN  \n",
       "14918                           NaN            NaN  \n",
       "14919                           NaN            NaN  \n",
       "14920                           NaN            NaN  \n",
       "14921                           NaN            NaN  \n",
       "14922                           NaN            NaN  \n",
       "14923                           NaN            NaN  \n",
       "14924                           NaN            NaN  \n",
       "14925                           NaN            NaN  \n",
       "14926                           NaN            NaN  \n",
       "14927                           NaN            NaN  \n",
       "14936                           NaN            NaN  \n",
       "15038                           NaN            NaN  \n",
       "15284                           NaN            NaN  \n",
       "15350                           NaN            NaN  \n",
       "15355                           NaN            NaN  \n",
       "15380                           NaN            NaN  \n",
       "15479                           NaN            NaN  \n",
       "15626                           NaN            NaN  \n",
       "\n",
       "[56 rows x 54 columns]"
      ]
     },
     "execution_count": 27,
     "metadata": {},
     "output_type": "execute_result"
    }
   ],
   "source": [
    "df1[df1['body_type']=='Off-Road']"
   ]
  },
  {
   "cell_type": "code",
   "execution_count": 28,
   "metadata": {},
   "outputs": [
    {
     "data": {
      "text/plain": [
       "0"
      ]
     },
     "execution_count": 28,
     "metadata": {},
     "output_type": "execute_result"
    }
   ],
   "source": [
    "df1.make_model.isnull().sum()"
   ]
  },
  {
   "cell_type": "code",
   "execution_count": 29,
   "metadata": {},
   "outputs": [
    {
     "data": {
      "text/plain": [
       "0           \\nAudi\\n\n",
       "1           \\nAudi\\n\n",
       "2           \\nAudi\\n\n",
       "3           \\nAudi\\n\n",
       "4           \\nAudi\\n\n",
       "            ...     \n",
       "15914    \\nRenault\\n\n",
       "15915    \\nRenault\\n\n",
       "15916    \\nRenault\\n\n",
       "15917    \\nRenault\\n\n",
       "15918    \\nRenault\\n\n",
       "Name: Make, Length: 15919, dtype: object"
      ]
     },
     "execution_count": 29,
     "metadata": {},
     "output_type": "execute_result"
    }
   ],
   "source": [
    "# () Make sütunu incelemesi\n",
    "df.Make"
   ]
  },
  {
   "cell_type": "code",
   "execution_count": 30,
   "metadata": {},
   "outputs": [
    {
     "data": {
      "text/plain": [
       "0           Audi\n",
       "1           Audi\n",
       "2           Audi\n",
       "3           Audi\n",
       "4           Audi\n",
       "          ...   \n",
       "15914    Renault\n",
       "15915    Renault\n",
       "15916    Renault\n",
       "15917    Renault\n",
       "15918    Renault\n",
       "Name: Make, Length: 15919, dtype: object"
      ]
     },
     "execution_count": 30,
     "metadata": {},
     "output_type": "execute_result"
    }
   ],
   "source": [
    "df1['Make'] = df1['Make'].map(lambda x : x.strip('\\n '), na_action = 'ignore')\n",
    "df1['Make']"
   ]
  },
  {
   "cell_type": "code",
   "execution_count": 31,
   "metadata": {},
   "outputs": [
    {
     "data": {
      "text/plain": [
       "Opel       7343\n",
       "Audi       5712\n",
       "Renault    2864\n",
       "Name: Make, dtype: int64"
      ]
     },
     "execution_count": 31,
     "metadata": {},
     "output_type": "execute_result"
    }
   ],
   "source": [
    "df1['Make'].value_counts(dropna=False)"
   ]
  },
  {
   "cell_type": "code",
   "execution_count": 32,
   "metadata": {},
   "outputs": [
    {
     "data": {
      "text/plain": [
       "0"
      ]
     },
     "execution_count": 32,
     "metadata": {},
     "output_type": "execute_result"
    }
   ],
   "source": [
    "df1['Make'].isnull().sum()"
   ]
  },
  {
   "cell_type": "code",
   "execution_count": 33,
   "metadata": {},
   "outputs": [
    {
     "data": {
      "text/plain": [
       "0            [\\n, A1, \\n]\n",
       "1            [\\n, A1, \\n]\n",
       "2            [\\n, A1, \\n]\n",
       "3            [\\n, A1, \\n]\n",
       "4            [\\n, A1, \\n]\n",
       "               ...       \n",
       "15914    [\\n, Espace, \\n]\n",
       "15915    [\\n, Espace, \\n]\n",
       "15916    [\\n, Espace, \\n]\n",
       "15917    [\\n, Espace, \\n]\n",
       "15918    [\\n, Espace, \\n]\n",
       "Name: Model, Length: 15919, dtype: object"
      ]
     },
     "execution_count": 33,
     "metadata": {},
     "output_type": "execute_result"
    }
   ],
   "source": [
    "# () Model sütunu incelemesi\n",
    "df1.Model"
   ]
  },
  {
   "cell_type": "code",
   "execution_count": 34,
   "metadata": {},
   "outputs": [
    {
     "data": {
      "text/plain": [
       "0            A1\n",
       "1            A1\n",
       "2            A1\n",
       "3            A1\n",
       "4            A1\n",
       "          ...  \n",
       "15914    Espace\n",
       "15915    Espace\n",
       "15916    Espace\n",
       "15917    Espace\n",
       "15918    Espace\n",
       "Name: Model, Length: 15919, dtype: object"
      ]
     },
     "execution_count": 34,
     "metadata": {},
     "output_type": "execute_result"
    }
   ],
   "source": [
    "df1['Model'] = df1['Model'].map(lambda x : x[1], na_action = 'ignore')\n",
    "df1['Model'] "
   ]
  },
  {
   "cell_type": "code",
   "execution_count": 35,
   "metadata": {},
   "outputs": [
    {
     "data": {
      "text/plain": [
       "A3          3097\n",
       "A1          2614\n",
       "Insignia    2598\n",
       "Astra       2526\n",
       "Corsa       2219\n",
       "Clio        1839\n",
       "Espace       991\n",
       "Duster        34\n",
       "A2             1\n",
       "Name: Model, dtype: int64"
      ]
     },
     "execution_count": 35,
     "metadata": {},
     "output_type": "execute_result"
    }
   ],
   "source": [
    "df1['Model'].value_counts(dropna=False)"
   ]
  },
  {
   "cell_type": "code",
   "execution_count": 36,
   "metadata": {},
   "outputs": [
    {
     "data": {
      "text/plain": [
       "0"
      ]
     },
     "execution_count": 36,
     "metadata": {},
     "output_type": "execute_result"
    }
   ],
   "source": [
    "df1['Model'].isnull().sum()"
   ]
  },
  {
   "cell_type": "code",
   "execution_count": 37,
   "metadata": {},
   "outputs": [
    {
     "data": {
      "text/html": [
       "<div>\n",
       "<style scoped>\n",
       "    .dataframe tbody tr th:only-of-type {\n",
       "        vertical-align: middle;\n",
       "    }\n",
       "\n",
       "    .dataframe tbody tr th {\n",
       "        vertical-align: top;\n",
       "    }\n",
       "\n",
       "    .dataframe thead th {\n",
       "        text-align: right;\n",
       "    }\n",
       "</style>\n",
       "<table border=\"1\" class=\"dataframe\">\n",
       "  <thead>\n",
       "    <tr style=\"text-align: right;\">\n",
       "      <th></th>\n",
       "      <th>make_model</th>\n",
       "      <th>Make</th>\n",
       "      <th>Model</th>\n",
       "    </tr>\n",
       "  </thead>\n",
       "  <tbody>\n",
       "    <tr>\n",
       "      <th>1014</th>\n",
       "      <td>Audi A1</td>\n",
       "      <td>Audi</td>\n",
       "      <td>A1</td>\n",
       "    </tr>\n",
       "    <tr>\n",
       "      <th>5269</th>\n",
       "      <td>Audi A3</td>\n",
       "      <td>Audi</td>\n",
       "      <td>A3</td>\n",
       "    </tr>\n",
       "    <tr>\n",
       "      <th>8184</th>\n",
       "      <td>Opel Astra</td>\n",
       "      <td>Opel</td>\n",
       "      <td>Astra</td>\n",
       "    </tr>\n",
       "    <tr>\n",
       "      <th>11422</th>\n",
       "      <td>Opel Insignia</td>\n",
       "      <td>Opel</td>\n",
       "      <td>Insignia</td>\n",
       "    </tr>\n",
       "    <tr>\n",
       "      <th>12472</th>\n",
       "      <td>Opel Insignia</td>\n",
       "      <td>Opel</td>\n",
       "      <td>Insignia</td>\n",
       "    </tr>\n",
       "    <tr>\n",
       "      <th>10856</th>\n",
       "      <td>Opel Insignia</td>\n",
       "      <td>Opel</td>\n",
       "      <td>Insignia</td>\n",
       "    </tr>\n",
       "    <tr>\n",
       "      <th>118</th>\n",
       "      <td>Audi A1</td>\n",
       "      <td>Audi</td>\n",
       "      <td>A1</td>\n",
       "    </tr>\n",
       "    <tr>\n",
       "      <th>4838</th>\n",
       "      <td>Audi A3</td>\n",
       "      <td>Audi</td>\n",
       "      <td>A3</td>\n",
       "    </tr>\n",
       "    <tr>\n",
       "      <th>10417</th>\n",
       "      <td>Opel Corsa</td>\n",
       "      <td>Opel</td>\n",
       "      <td>Corsa</td>\n",
       "    </tr>\n",
       "    <tr>\n",
       "      <th>12446</th>\n",
       "      <td>Opel Insignia</td>\n",
       "      <td>Opel</td>\n",
       "      <td>Insignia</td>\n",
       "    </tr>\n",
       "    <tr>\n",
       "      <th>1234</th>\n",
       "      <td>Audi A1</td>\n",
       "      <td>Audi</td>\n",
       "      <td>A1</td>\n",
       "    </tr>\n",
       "    <tr>\n",
       "      <th>12577</th>\n",
       "      <td>Opel Insignia</td>\n",
       "      <td>Opel</td>\n",
       "      <td>Insignia</td>\n",
       "    </tr>\n",
       "    <tr>\n",
       "      <th>607</th>\n",
       "      <td>Audi A1</td>\n",
       "      <td>Audi</td>\n",
       "      <td>A1</td>\n",
       "    </tr>\n",
       "    <tr>\n",
       "      <th>9004</th>\n",
       "      <td>Opel Corsa</td>\n",
       "      <td>Opel</td>\n",
       "      <td>Corsa</td>\n",
       "    </tr>\n",
       "    <tr>\n",
       "      <th>1382</th>\n",
       "      <td>Audi A1</td>\n",
       "      <td>Audi</td>\n",
       "      <td>A1</td>\n",
       "    </tr>\n",
       "    <tr>\n",
       "      <th>10160</th>\n",
       "      <td>Opel Corsa</td>\n",
       "      <td>Opel</td>\n",
       "      <td>Corsa</td>\n",
       "    </tr>\n",
       "    <tr>\n",
       "      <th>2039</th>\n",
       "      <td>Audi A1</td>\n",
       "      <td>Audi</td>\n",
       "      <td>A1</td>\n",
       "    </tr>\n",
       "    <tr>\n",
       "      <th>12380</th>\n",
       "      <td>Opel Insignia</td>\n",
       "      <td>Opel</td>\n",
       "      <td>Insignia</td>\n",
       "    </tr>\n",
       "    <tr>\n",
       "      <th>696</th>\n",
       "      <td>Audi A1</td>\n",
       "      <td>Audi</td>\n",
       "      <td>A1</td>\n",
       "    </tr>\n",
       "    <tr>\n",
       "      <th>1350</th>\n",
       "      <td>Audi A1</td>\n",
       "      <td>Audi</td>\n",
       "      <td>A1</td>\n",
       "    </tr>\n",
       "  </tbody>\n",
       "</table>\n",
       "</div>"
      ],
      "text/plain": [
       "          make_model  Make     Model\n",
       "1014         Audi A1  Audi        A1\n",
       "5269         Audi A3  Audi        A3\n",
       "8184      Opel Astra  Opel     Astra\n",
       "11422  Opel Insignia  Opel  Insignia\n",
       "12472  Opel Insignia  Opel  Insignia\n",
       "10856  Opel Insignia  Opel  Insignia\n",
       "118          Audi A1  Audi        A1\n",
       "4838         Audi A3  Audi        A3\n",
       "10417     Opel Corsa  Opel     Corsa\n",
       "12446  Opel Insignia  Opel  Insignia\n",
       "1234         Audi A1  Audi        A1\n",
       "12577  Opel Insignia  Opel  Insignia\n",
       "607          Audi A1  Audi        A1\n",
       "9004      Opel Corsa  Opel     Corsa\n",
       "1382         Audi A1  Audi        A1\n",
       "10160     Opel Corsa  Opel     Corsa\n",
       "2039         Audi A1  Audi        A1\n",
       "12380  Opel Insignia  Opel  Insignia\n",
       "696          Audi A1  Audi        A1\n",
       "1350         Audi A1  Audi        A1"
      ]
     },
     "execution_count": 37,
     "metadata": {},
     "output_type": "execute_result"
    }
   ],
   "source": [
    "df1[['make_model', 'Make', 'Model']].sample(20)"
   ]
  },
  {
   "cell_type": "code",
   "execution_count": 38,
   "metadata": {},
   "outputs": [
    {
     "data": {
      "text/plain": [
       "make_model    0\n",
       "Make          0\n",
       "Model         0\n",
       "dtype: int64"
      ]
     },
     "execution_count": 38,
     "metadata": {},
     "output_type": "execute_result"
    }
   ],
   "source": [
    "df[['make_model', 'Make', 'Model']].isnull().sum()"
   ]
  },
  {
   "cell_type": "code",
   "execution_count": 39,
   "metadata": {},
   "outputs": [
    {
     "data": {
      "text/html": [
       "<div>\n",
       "<style scoped>\n",
       "    .dataframe tbody tr th:only-of-type {\n",
       "        vertical-align: middle;\n",
       "    }\n",
       "\n",
       "    .dataframe tbody tr th {\n",
       "        vertical-align: top;\n",
       "    }\n",
       "\n",
       "    .dataframe thead th {\n",
       "        text-align: right;\n",
       "    }\n",
       "</style>\n",
       "<table border=\"1\" class=\"dataframe\">\n",
       "  <thead>\n",
       "    <tr style=\"text-align: right;\">\n",
       "      <th></th>\n",
       "      <th>Audi A1</th>\n",
       "      <th>Audi A2</th>\n",
       "      <th>Audi A3</th>\n",
       "      <th>Opel Astra</th>\n",
       "      <th>Opel Corsa</th>\n",
       "      <th>Opel Insignia</th>\n",
       "      <th>Renault Clio</th>\n",
       "      <th>Renault Duster</th>\n",
       "      <th>Renault Espace</th>\n",
       "    </tr>\n",
       "  </thead>\n",
       "  <tbody>\n",
       "    <tr>\n",
       "      <th>11487</th>\n",
       "      <td>0</td>\n",
       "      <td>0</td>\n",
       "      <td>0</td>\n",
       "      <td>0</td>\n",
       "      <td>0</td>\n",
       "      <td>1</td>\n",
       "      <td>0</td>\n",
       "      <td>0</td>\n",
       "      <td>0</td>\n",
       "    </tr>\n",
       "    <tr>\n",
       "      <th>14038</th>\n",
       "      <td>0</td>\n",
       "      <td>0</td>\n",
       "      <td>0</td>\n",
       "      <td>0</td>\n",
       "      <td>0</td>\n",
       "      <td>0</td>\n",
       "      <td>1</td>\n",
       "      <td>0</td>\n",
       "      <td>0</td>\n",
       "    </tr>\n",
       "    <tr>\n",
       "      <th>5625</th>\n",
       "      <td>0</td>\n",
       "      <td>0</td>\n",
       "      <td>1</td>\n",
       "      <td>0</td>\n",
       "      <td>0</td>\n",
       "      <td>0</td>\n",
       "      <td>0</td>\n",
       "      <td>0</td>\n",
       "      <td>0</td>\n",
       "    </tr>\n",
       "    <tr>\n",
       "      <th>6495</th>\n",
       "      <td>0</td>\n",
       "      <td>0</td>\n",
       "      <td>0</td>\n",
       "      <td>1</td>\n",
       "      <td>0</td>\n",
       "      <td>0</td>\n",
       "      <td>0</td>\n",
       "      <td>0</td>\n",
       "      <td>0</td>\n",
       "    </tr>\n",
       "    <tr>\n",
       "      <th>11095</th>\n",
       "      <td>0</td>\n",
       "      <td>0</td>\n",
       "      <td>0</td>\n",
       "      <td>0</td>\n",
       "      <td>0</td>\n",
       "      <td>1</td>\n",
       "      <td>0</td>\n",
       "      <td>0</td>\n",
       "      <td>0</td>\n",
       "    </tr>\n",
       "    <tr>\n",
       "      <th>14526</th>\n",
       "      <td>0</td>\n",
       "      <td>0</td>\n",
       "      <td>0</td>\n",
       "      <td>0</td>\n",
       "      <td>0</td>\n",
       "      <td>0</td>\n",
       "      <td>1</td>\n",
       "      <td>0</td>\n",
       "      <td>0</td>\n",
       "    </tr>\n",
       "    <tr>\n",
       "      <th>9487</th>\n",
       "      <td>0</td>\n",
       "      <td>0</td>\n",
       "      <td>0</td>\n",
       "      <td>0</td>\n",
       "      <td>1</td>\n",
       "      <td>0</td>\n",
       "      <td>0</td>\n",
       "      <td>0</td>\n",
       "      <td>0</td>\n",
       "    </tr>\n",
       "    <tr>\n",
       "      <th>3429</th>\n",
       "      <td>0</td>\n",
       "      <td>0</td>\n",
       "      <td>1</td>\n",
       "      <td>0</td>\n",
       "      <td>0</td>\n",
       "      <td>0</td>\n",
       "      <td>0</td>\n",
       "      <td>0</td>\n",
       "      <td>0</td>\n",
       "    </tr>\n",
       "    <tr>\n",
       "      <th>3489</th>\n",
       "      <td>0</td>\n",
       "      <td>0</td>\n",
       "      <td>1</td>\n",
       "      <td>0</td>\n",
       "      <td>0</td>\n",
       "      <td>0</td>\n",
       "      <td>0</td>\n",
       "      <td>0</td>\n",
       "      <td>0</td>\n",
       "    </tr>\n",
       "    <tr>\n",
       "      <th>8030</th>\n",
       "      <td>0</td>\n",
       "      <td>0</td>\n",
       "      <td>0</td>\n",
       "      <td>1</td>\n",
       "      <td>0</td>\n",
       "      <td>0</td>\n",
       "      <td>0</td>\n",
       "      <td>0</td>\n",
       "      <td>0</td>\n",
       "    </tr>\n",
       "    <tr>\n",
       "      <th>6123</th>\n",
       "      <td>0</td>\n",
       "      <td>0</td>\n",
       "      <td>0</td>\n",
       "      <td>1</td>\n",
       "      <td>0</td>\n",
       "      <td>0</td>\n",
       "      <td>0</td>\n",
       "      <td>0</td>\n",
       "      <td>0</td>\n",
       "    </tr>\n",
       "    <tr>\n",
       "      <th>3444</th>\n",
       "      <td>0</td>\n",
       "      <td>0</td>\n",
       "      <td>1</td>\n",
       "      <td>0</td>\n",
       "      <td>0</td>\n",
       "      <td>0</td>\n",
       "      <td>0</td>\n",
       "      <td>0</td>\n",
       "      <td>0</td>\n",
       "    </tr>\n",
       "    <tr>\n",
       "      <th>7405</th>\n",
       "      <td>0</td>\n",
       "      <td>0</td>\n",
       "      <td>0</td>\n",
       "      <td>1</td>\n",
       "      <td>0</td>\n",
       "      <td>0</td>\n",
       "      <td>0</td>\n",
       "      <td>0</td>\n",
       "      <td>0</td>\n",
       "    </tr>\n",
       "    <tr>\n",
       "      <th>6750</th>\n",
       "      <td>0</td>\n",
       "      <td>0</td>\n",
       "      <td>0</td>\n",
       "      <td>1</td>\n",
       "      <td>0</td>\n",
       "      <td>0</td>\n",
       "      <td>0</td>\n",
       "      <td>0</td>\n",
       "      <td>0</td>\n",
       "    </tr>\n",
       "    <tr>\n",
       "      <th>5592</th>\n",
       "      <td>0</td>\n",
       "      <td>0</td>\n",
       "      <td>1</td>\n",
       "      <td>0</td>\n",
       "      <td>0</td>\n",
       "      <td>0</td>\n",
       "      <td>0</td>\n",
       "      <td>0</td>\n",
       "      <td>0</td>\n",
       "    </tr>\n",
       "    <tr>\n",
       "      <th>582</th>\n",
       "      <td>1</td>\n",
       "      <td>0</td>\n",
       "      <td>0</td>\n",
       "      <td>0</td>\n",
       "      <td>0</td>\n",
       "      <td>0</td>\n",
       "      <td>0</td>\n",
       "      <td>0</td>\n",
       "      <td>0</td>\n",
       "    </tr>\n",
       "    <tr>\n",
       "      <th>6326</th>\n",
       "      <td>0</td>\n",
       "      <td>0</td>\n",
       "      <td>0</td>\n",
       "      <td>1</td>\n",
       "      <td>0</td>\n",
       "      <td>0</td>\n",
       "      <td>0</td>\n",
       "      <td>0</td>\n",
       "      <td>0</td>\n",
       "    </tr>\n",
       "    <tr>\n",
       "      <th>7329</th>\n",
       "      <td>0</td>\n",
       "      <td>0</td>\n",
       "      <td>0</td>\n",
       "      <td>1</td>\n",
       "      <td>0</td>\n",
       "      <td>0</td>\n",
       "      <td>0</td>\n",
       "      <td>0</td>\n",
       "      <td>0</td>\n",
       "    </tr>\n",
       "    <tr>\n",
       "      <th>4528</th>\n",
       "      <td>0</td>\n",
       "      <td>0</td>\n",
       "      <td>1</td>\n",
       "      <td>0</td>\n",
       "      <td>0</td>\n",
       "      <td>0</td>\n",
       "      <td>0</td>\n",
       "      <td>0</td>\n",
       "      <td>0</td>\n",
       "    </tr>\n",
       "    <tr>\n",
       "      <th>3631</th>\n",
       "      <td>0</td>\n",
       "      <td>0</td>\n",
       "      <td>1</td>\n",
       "      <td>0</td>\n",
       "      <td>0</td>\n",
       "      <td>0</td>\n",
       "      <td>0</td>\n",
       "      <td>0</td>\n",
       "      <td>0</td>\n",
       "    </tr>\n",
       "  </tbody>\n",
       "</table>\n",
       "</div>"
      ],
      "text/plain": [
       "       Audi A1  Audi A2  Audi A3  Opel Astra  Opel Corsa  Opel Insignia  \\\n",
       "11487        0        0        0           0           0              1   \n",
       "14038        0        0        0           0           0              0   \n",
       "5625         0        0        1           0           0              0   \n",
       "6495         0        0        0           1           0              0   \n",
       "11095        0        0        0           0           0              1   \n",
       "14526        0        0        0           0           0              0   \n",
       "9487         0        0        0           0           1              0   \n",
       "3429         0        0        1           0           0              0   \n",
       "3489         0        0        1           0           0              0   \n",
       "8030         0        0        0           1           0              0   \n",
       "6123         0        0        0           1           0              0   \n",
       "3444         0        0        1           0           0              0   \n",
       "7405         0        0        0           1           0              0   \n",
       "6750         0        0        0           1           0              0   \n",
       "5592         0        0        1           0           0              0   \n",
       "582          1        0        0           0           0              0   \n",
       "6326         0        0        0           1           0              0   \n",
       "7329         0        0        0           1           0              0   \n",
       "4528         0        0        1           0           0              0   \n",
       "3631         0        0        1           0           0              0   \n",
       "\n",
       "       Renault Clio  Renault Duster  Renault Espace  \n",
       "11487             0               0               0  \n",
       "14038             1               0               0  \n",
       "5625              0               0               0  \n",
       "6495              0               0               0  \n",
       "11095             0               0               0  \n",
       "14526             1               0               0  \n",
       "9487              0               0               0  \n",
       "3429              0               0               0  \n",
       "3489              0               0               0  \n",
       "8030              0               0               0  \n",
       "6123              0               0               0  \n",
       "3444              0               0               0  \n",
       "7405              0               0               0  \n",
       "6750              0               0               0  \n",
       "5592              0               0               0  \n",
       "582               0               0               0  \n",
       "6326              0               0               0  \n",
       "7329              0               0               0  \n",
       "4528              0               0               0  \n",
       "3631              0               0               0  "
      ]
     },
     "execution_count": 39,
     "metadata": {},
     "output_type": "execute_result"
    }
   ],
   "source": [
    "pd.get_dummies(df1.make_model).sample(20)"
   ]
  },
  {
   "cell_type": "markdown",
   "metadata": {},
   "source": [
    "# COLUMN-2 short_description (DROP)\n",
    "\n",
    "Since the information in each row of this column is included by other columns so there is no need to keep it for further analysis."
   ]
  },
  {
   "cell_type": "code",
   "execution_count": 40,
   "metadata": {},
   "outputs": [
    {
     "data": {
      "text/plain": [
       "0              Sportback 1.4 TDI S-tronic Xenon Navi Klima\n",
       "1                                           1.8 TFSI sport\n",
       "2        Sportback 1.6 TDI S tronic Einparkhilfe plus+m...\n",
       "3                                  1.4 TDi Design S tronic\n",
       "4        Sportback 1.4 TDI S-Tronic S-Line Ext. admired...\n",
       "                               ...                        \n",
       "15914                Blue dCi 200CV EDC Executive 4Control\n",
       "15915                  TCe 225 EDC GPF LIM Deluxe Pano,RFK\n",
       "15916    Blue dCi 200 EDC Initiale Paris Leder LED Navi...\n",
       "15917    Blue dCi 200CV EDC Business , NUOVA DA IMMATRI...\n",
       "15918          INITIALE PARIS TCe 225 EDC GPF NAVI SHZ AUX\n",
       "Name: short_description, Length: 15919, dtype: object"
      ]
     },
     "execution_count": 40,
     "metadata": {},
     "output_type": "execute_result"
    }
   ],
   "source": [
    "df.short_description"
   ]
  },
  {
   "cell_type": "code",
   "execution_count": 41,
   "metadata": {},
   "outputs": [
    {
     "data": {
      "text/plain": [
       "'Sportback 1.4 TDI S-tronic Xenon Navi Klima'"
      ]
     },
     "execution_count": 41,
     "metadata": {},
     "output_type": "execute_result"
    }
   ],
   "source": [
    "df.short_description[0]"
   ]
  },
  {
   "cell_type": "code",
   "execution_count": 42,
   "metadata": {},
   "outputs": [
    {
     "data": {
      "text/plain": [
       "'https://www.autoscout24.com//offers/audi-a1-sportback-1-4-tdi-s-tronic-xenon-navi-klima-diesel-black-bdab349a-caa5-41b0-98eb-c1345b84445e'"
      ]
     },
     "execution_count": 42,
     "metadata": {},
     "output_type": "execute_result"
    }
   ],
   "source": [
    "df.url[0]"
   ]
  },
  {
   "cell_type": "code",
   "execution_count": 43,
   "metadata": {},
   "outputs": [
    {
     "data": {
      "text/plain": [
       "array(['Sportback 1.4 TDI S-tronic Xenon Navi Klima', '1.8 TFSI sport',\n",
       "       'Sportback 1.6 TDI S tronic Einparkhilfe plus+music', ...,\n",
       "       'ELYSEE ENERGY dCi 160 EDC',\n",
       "       'INITIALE Paris TCe 225 EDC GPF ACC EU6',\n",
       "       'TCe 225 EDC GPF LIM Deluxe Pano,RFK'], dtype=object)"
      ]
     },
     "execution_count": 43,
     "metadata": {},
     "output_type": "execute_result"
    }
   ],
   "source": [
    "df.short_description.unique()"
   ]
  },
  {
   "cell_type": "code",
   "execution_count": 44,
   "metadata": {},
   "outputs": [
    {
     "data": {
      "text/plain": [
       "10001"
      ]
     },
     "execution_count": 44,
     "metadata": {},
     "output_type": "execute_result"
    }
   ],
   "source": [
    "df.short_description.nunique()"
   ]
  },
  {
   "cell_type": "code",
   "execution_count": 45,
   "metadata": {},
   "outputs": [
    {
     "data": {
      "text/plain": [
       "SPB 1.6 TDI 116 CV S tronic Sport                    64\n",
       "NaN                                                  46\n",
       "1.4 66kW (90CV) Selective                            40\n",
       "MOVE KLIMA CD USB ALLWETTER BLUETOOTH                38\n",
       "SPB 30 TDI S tronic Business                         35\n",
       "                                                     ..\n",
       "SPB 1.8 TFSI S tronic Sport S-line                    1\n",
       "K Sports Tourer Edition Start/Stop Euro 6             1\n",
       "Sportback 1.0 TFSI Advance | 17 Inch Lichtmetalen     1\n",
       "1.6 CDTI Innovation KAMERA*PDC V*H*UVM*               1\n",
       "**TOP** Selection 3t Cool&Sound *limited* Klima       1\n",
       "Name: short_description, Length: 10002, dtype: int64"
      ]
     },
     "execution_count": 45,
     "metadata": {},
     "output_type": "execute_result"
    }
   ],
   "source": [
    "df.short_description.value_counts(dropna=False)"
   ]
  },
  {
   "cell_type": "code",
   "execution_count": 46,
   "metadata": {},
   "outputs": [
    {
     "data": {
      "text/plain": [
       "46"
      ]
     },
     "execution_count": 46,
     "metadata": {},
     "output_type": "execute_result"
    }
   ],
   "source": [
    "df.short_description.isnull().sum()"
   ]
  },
  {
   "cell_type": "markdown",
   "metadata": {},
   "source": [
    "# COLUMN-3 body_type (KEEP)"
   ]
  },
  {
   "cell_type": "code",
   "execution_count": 47,
   "metadata": {},
   "outputs": [],
   "source": [
    "# (3) body_type ve (27) Body sütunlarını aynı bilgiyi içerdiğinden bu 2 sütunu beraber inceleyeceğiz."
   ]
  },
  {
   "cell_type": "code",
   "execution_count": 48,
   "metadata": {},
   "outputs": [
    {
     "data": {
      "text/plain": [
       "array(['Sedans', 'Station wagon', 'Compact', 'Other', 'Coupe', 'Van',\n",
       "       'Off-Road', 'Convertible', None, 'Transporter'], dtype=object)"
      ]
     },
     "execution_count": 48,
     "metadata": {},
     "output_type": "execute_result"
    }
   ],
   "source": [
    "df1['body_type'].unique()"
   ]
  },
  {
   "cell_type": "code",
   "execution_count": 49,
   "metadata": {},
   "outputs": [
    {
     "data": {
      "text/plain": [
       "9"
      ]
     },
     "execution_count": 49,
     "metadata": {},
     "output_type": "execute_result"
    }
   ],
   "source": [
    "df1.body_type.nunique()"
   ]
  },
  {
   "cell_type": "code",
   "execution_count": 50,
   "metadata": {},
   "outputs": [
    {
     "data": {
      "text/plain": [
       "Sedans           7903\n",
       "Station wagon    3553\n",
       "Compact          3153\n",
       "Van               783\n",
       "Other             290\n",
       "Transporter        88\n",
       "NaN                60\n",
       "Off-Road           56\n",
       "Coupe              25\n",
       "Convertible         8\n",
       "Name: body_type, dtype: int64"
      ]
     },
     "execution_count": 50,
     "metadata": {},
     "output_type": "execute_result"
    }
   ],
   "source": [
    "df1.body_type.value_counts(dropna=False)"
   ]
  },
  {
   "cell_type": "code",
   "execution_count": 51,
   "metadata": {},
   "outputs": [
    {
     "data": {
      "text/plain": [
       "60"
      ]
     },
     "execution_count": 51,
     "metadata": {},
     "output_type": "execute_result"
    }
   ],
   "source": [
    "df1.body_type.isnull().sum()"
   ]
  },
  {
   "cell_type": "code",
   "execution_count": 52,
   "metadata": {},
   "outputs": [
    {
     "data": {
      "text/html": [
       "<div>\n",
       "<style scoped>\n",
       "    .dataframe tbody tr th:only-of-type {\n",
       "        vertical-align: middle;\n",
       "    }\n",
       "\n",
       "    .dataframe tbody tr th {\n",
       "        vertical-align: top;\n",
       "    }\n",
       "\n",
       "    .dataframe thead th {\n",
       "        text-align: right;\n",
       "    }\n",
       "</style>\n",
       "<table border=\"1\" class=\"dataframe\">\n",
       "  <thead>\n",
       "    <tr style=\"text-align: right;\">\n",
       "      <th></th>\n",
       "      <th>body_type</th>\n",
       "      <th>Body</th>\n",
       "    </tr>\n",
       "  </thead>\n",
       "  <tbody>\n",
       "    <tr>\n",
       "      <th>8891</th>\n",
       "      <td>Compact</td>\n",
       "      <td>[\\n, Compact, \\n]</td>\n",
       "    </tr>\n",
       "    <tr>\n",
       "      <th>3316</th>\n",
       "      <td>Sedans</td>\n",
       "      <td>[\\n, Sedans, \\n]</td>\n",
       "    </tr>\n",
       "    <tr>\n",
       "      <th>786</th>\n",
       "      <td>Sedans</td>\n",
       "      <td>[\\n, Sedans, \\n]</td>\n",
       "    </tr>\n",
       "    <tr>\n",
       "      <th>14525</th>\n",
       "      <td>Compact</td>\n",
       "      <td>[\\n, Compact, \\n]</td>\n",
       "    </tr>\n",
       "    <tr>\n",
       "      <th>2689</th>\n",
       "      <td>Station wagon</td>\n",
       "      <td>[\\n, Station wagon, \\n]</td>\n",
       "    </tr>\n",
       "    <tr>\n",
       "      <th>8060</th>\n",
       "      <td>Sedans</td>\n",
       "      <td>[\\n, Sedans, \\n]</td>\n",
       "    </tr>\n",
       "    <tr>\n",
       "      <th>3904</th>\n",
       "      <td>Sedans</td>\n",
       "      <td>[\\n, Sedans, \\n]</td>\n",
       "    </tr>\n",
       "    <tr>\n",
       "      <th>6260</th>\n",
       "      <td>Sedans</td>\n",
       "      <td>[\\n, Sedans, \\n]</td>\n",
       "    </tr>\n",
       "    <tr>\n",
       "      <th>2225</th>\n",
       "      <td>Compact</td>\n",
       "      <td>[\\n, Compact, \\n]</td>\n",
       "    </tr>\n",
       "    <tr>\n",
       "      <th>8667</th>\n",
       "      <td>Sedans</td>\n",
       "      <td>[\\n, Sedans, \\n]</td>\n",
       "    </tr>\n",
       "    <tr>\n",
       "      <th>12765</th>\n",
       "      <td>Station wagon</td>\n",
       "      <td>[\\n, Station wagon, \\n]</td>\n",
       "    </tr>\n",
       "    <tr>\n",
       "      <th>1369</th>\n",
       "      <td>Sedans</td>\n",
       "      <td>[\\n, Sedans, \\n]</td>\n",
       "    </tr>\n",
       "    <tr>\n",
       "      <th>2591</th>\n",
       "      <td>Sedans</td>\n",
       "      <td>[\\n, Sedans, \\n]</td>\n",
       "    </tr>\n",
       "    <tr>\n",
       "      <th>5820</th>\n",
       "      <td>Station wagon</td>\n",
       "      <td>[\\n, Station wagon, \\n]</td>\n",
       "    </tr>\n",
       "    <tr>\n",
       "      <th>7691</th>\n",
       "      <td>Station wagon</td>\n",
       "      <td>[\\n, Station wagon, \\n]</td>\n",
       "    </tr>\n",
       "    <tr>\n",
       "      <th>13372</th>\n",
       "      <td>Sedans</td>\n",
       "      <td>[\\n, Sedans, \\n]</td>\n",
       "    </tr>\n",
       "    <tr>\n",
       "      <th>5128</th>\n",
       "      <td>Station wagon</td>\n",
       "      <td>[\\n, Station wagon, \\n]</td>\n",
       "    </tr>\n",
       "    <tr>\n",
       "      <th>14318</th>\n",
       "      <td>Sedans</td>\n",
       "      <td>[\\n, Sedans, \\n]</td>\n",
       "    </tr>\n",
       "    <tr>\n",
       "      <th>11052</th>\n",
       "      <td>Sedans</td>\n",
       "      <td>[\\n, Sedans, \\n]</td>\n",
       "    </tr>\n",
       "    <tr>\n",
       "      <th>713</th>\n",
       "      <td>Sedans</td>\n",
       "      <td>[\\n, Sedans, \\n]</td>\n",
       "    </tr>\n",
       "  </tbody>\n",
       "</table>\n",
       "</div>"
      ],
      "text/plain": [
       "           body_type                     Body\n",
       "8891         Compact        [\\n, Compact, \\n]\n",
       "3316          Sedans         [\\n, Sedans, \\n]\n",
       "786           Sedans         [\\n, Sedans, \\n]\n",
       "14525        Compact        [\\n, Compact, \\n]\n",
       "2689   Station wagon  [\\n, Station wagon, \\n]\n",
       "8060          Sedans         [\\n, Sedans, \\n]\n",
       "3904          Sedans         [\\n, Sedans, \\n]\n",
       "6260          Sedans         [\\n, Sedans, \\n]\n",
       "2225         Compact        [\\n, Compact, \\n]\n",
       "8667          Sedans         [\\n, Sedans, \\n]\n",
       "12765  Station wagon  [\\n, Station wagon, \\n]\n",
       "1369          Sedans         [\\n, Sedans, \\n]\n",
       "2591          Sedans         [\\n, Sedans, \\n]\n",
       "5820   Station wagon  [\\n, Station wagon, \\n]\n",
       "7691   Station wagon  [\\n, Station wagon, \\n]\n",
       "13372         Sedans         [\\n, Sedans, \\n]\n",
       "5128   Station wagon  [\\n, Station wagon, \\n]\n",
       "14318         Sedans         [\\n, Sedans, \\n]\n",
       "11052         Sedans         [\\n, Sedans, \\n]\n",
       "713           Sedans         [\\n, Sedans, \\n]"
      ]
     },
     "execution_count": 52,
     "metadata": {},
     "output_type": "execute_result"
    }
   ],
   "source": [
    "df1[['body_type', 'Body']].sample(20)"
   ]
  },
  {
   "cell_type": "code",
   "execution_count": 53,
   "metadata": {},
   "outputs": [
    {
     "data": {
      "text/plain": [
       "body_type    60\n",
       "Body         60\n",
       "dtype: int64"
      ]
     },
     "execution_count": 53,
     "metadata": {},
     "output_type": "execute_result"
    }
   ],
   "source": [
    "df1[['body_type', 'Body']].isnull().sum()"
   ]
  },
  {
   "cell_type": "code",
   "execution_count": 54,
   "metadata": {},
   "outputs": [
    {
     "data": {
      "text/plain": [
       "0        Sedans\n",
       "1        Sedans\n",
       "2        Sedans\n",
       "3        Sedans\n",
       "4        Sedans\n",
       "          ...  \n",
       "15914       Van\n",
       "15915       Van\n",
       "15916       Van\n",
       "15917       Van\n",
       "15918       Van\n",
       "Name: Body, Length: 15919, dtype: object"
      ]
     },
     "execution_count": 54,
     "metadata": {},
     "output_type": "execute_result"
    }
   ],
   "source": [
    "df1['Body'] = df1['Body'].map(lambda x : x[1], na_action = 'ignore')\n",
    "df1['Body']"
   ]
  },
  {
   "cell_type": "code",
   "execution_count": 55,
   "metadata": {},
   "outputs": [
    {
     "data": {
      "text/plain": [
       "array(['Sedans', 'Station wagon', 'Compact', 'Other', 'Coupe', 'Van',\n",
       "       'Off-Road', 'Convertible', nan, 'Transporter'], dtype=object)"
      ]
     },
     "execution_count": 55,
     "metadata": {},
     "output_type": "execute_result"
    }
   ],
   "source": [
    "df1['Body'].unique()"
   ]
  },
  {
   "cell_type": "code",
   "execution_count": 56,
   "metadata": {},
   "outputs": [
    {
     "data": {
      "text/plain": [
       "9"
      ]
     },
     "execution_count": 56,
     "metadata": {},
     "output_type": "execute_result"
    }
   ],
   "source": [
    "df1['Body'].nunique()"
   ]
  },
  {
   "cell_type": "code",
   "execution_count": 57,
   "metadata": {},
   "outputs": [
    {
     "data": {
      "text/plain": [
       "Sedans           7903\n",
       "Station wagon    3553\n",
       "Compact          3153\n",
       "Van               783\n",
       "Other             290\n",
       "Transporter        88\n",
       "NaN                60\n",
       "Off-Road           56\n",
       "Coupe              25\n",
       "Convertible         8\n",
       "Name: Body, dtype: int64"
      ]
     },
     "execution_count": 57,
     "metadata": {},
     "output_type": "execute_result"
    }
   ],
   "source": [
    "df1['Body'].value_counts(dropna=False)"
   ]
  },
  {
   "cell_type": "code",
   "execution_count": 58,
   "metadata": {},
   "outputs": [
    {
     "data": {
      "text/plain": [
       "60"
      ]
     },
     "execution_count": 58,
     "metadata": {},
     "output_type": "execute_result"
    }
   ],
   "source": [
    "df1['Body'].isnull().sum()"
   ]
  },
  {
   "cell_type": "markdown",
   "metadata": {},
   "source": [
    "# COLUMN-4 price (KEEP)\n",
    "\n",
    "Target sütun"
   ]
  },
  {
   "cell_type": "code",
   "execution_count": 59,
   "metadata": {},
   "outputs": [
    {
     "data": {
      "text/plain": [
       "array([15770, 14500, 14640, ..., 41390, 39885, 39875], dtype=int64)"
      ]
     },
     "execution_count": 59,
     "metadata": {},
     "output_type": "execute_result"
    }
   ],
   "source": [
    "df1.price.unique()"
   ]
  },
  {
   "cell_type": "code",
   "execution_count": 60,
   "metadata": {},
   "outputs": [
    {
     "data": {
      "text/plain": [
       "2956"
      ]
     },
     "execution_count": 60,
     "metadata": {},
     "output_type": "execute_result"
    }
   ],
   "source": [
    "df1.price.nunique()"
   ]
  },
  {
   "cell_type": "code",
   "execution_count": 61,
   "metadata": {},
   "outputs": [
    {
     "data": {
      "text/plain": [
       "14990    154\n",
       "15990    151\n",
       "10990    139\n",
       "15900    106\n",
       "17990    102\n",
       "        ... \n",
       "31940      1\n",
       "15540      1\n",
       "21649      1\n",
       "27790      1\n",
       "34815      1\n",
       "Name: price, Length: 2956, dtype: int64"
      ]
     },
     "execution_count": 61,
     "metadata": {},
     "output_type": "execute_result"
    }
   ],
   "source": [
    "df1.price.value_counts(dropna=False)"
   ]
  },
  {
   "cell_type": "code",
   "execution_count": 62,
   "metadata": {},
   "outputs": [
    {
     "data": {
      "text/plain": [
       "0"
      ]
     },
     "execution_count": 62,
     "metadata": {},
     "output_type": "execute_result"
    }
   ],
   "source": [
    "df1.price.isnull().sum()"
   ]
  },
  {
   "cell_type": "code",
   "execution_count": 63,
   "metadata": {},
   "outputs": [
    {
     "data": {
      "text/plain": [
       "0"
      ]
     },
     "execution_count": 63,
     "metadata": {},
     "output_type": "execute_result"
    }
   ],
   "source": [
    "df1[df1.price == 'nan'].value_counts().sum()"
   ]
  },
  {
   "cell_type": "code",
   "execution_count": 64,
   "metadata": {},
   "outputs": [
    {
     "ename": "NameError",
     "evalue": "name 'plt' is not defined",
     "output_type": "error",
     "traceback": [
      "\u001b[1;31m---------------------------------------------------------------------------\u001b[0m",
      "\u001b[1;31mNameError\u001b[0m                                 Traceback (most recent call last)",
      "\u001b[1;32m<ipython-input-64-0d4f66b387d4>\u001b[0m in \u001b[0;36m<module>\u001b[1;34m\u001b[0m\n\u001b[1;32m----> 1\u001b[1;33m \u001b[0mplt\u001b[0m\u001b[1;33m.\u001b[0m\u001b[0mfigure\u001b[0m\u001b[1;33m(\u001b[0m\u001b[0mfigsize\u001b[0m\u001b[1;33m=\u001b[0m\u001b[1;33m(\u001b[0m\u001b[1;36m12\u001b[0m\u001b[1;33m,\u001b[0m\u001b[1;36m8\u001b[0m\u001b[1;33m)\u001b[0m\u001b[1;33m)\u001b[0m\u001b[1;33m\u001b[0m\u001b[1;33m\u001b[0m\u001b[0m\n\u001b[0m\u001b[0;32m      2\u001b[0m \u001b[1;33m\u001b[0m\u001b[0m\n\u001b[0;32m      3\u001b[0m \u001b[0msns\u001b[0m\u001b[1;33m.\u001b[0m\u001b[0mboxplot\u001b[0m\u001b[1;33m(\u001b[0m\u001b[0mx\u001b[0m \u001b[1;33m=\u001b[0m \u001b[0mdf1\u001b[0m\u001b[1;33m.\u001b[0m\u001b[0mprice\u001b[0m\u001b[1;33m)\u001b[0m\u001b[1;33m\u001b[0m\u001b[1;33m\u001b[0m\u001b[0m\n\u001b[0;32m      4\u001b[0m \u001b[1;33m\u001b[0m\u001b[0m\n\u001b[0;32m      5\u001b[0m \u001b[0mplt\u001b[0m\u001b[1;33m.\u001b[0m\u001b[0mshow\u001b[0m\u001b[1;33m(\u001b[0m\u001b[1;33m)\u001b[0m\u001b[1;33m\u001b[0m\u001b[1;33m\u001b[0m\u001b[0m\n",
      "\u001b[1;31mNameError\u001b[0m: name 'plt' is not defined"
     ]
    }
   ],
   "source": [
    "plt.figure(figsize=(12,8))\n",
    "\n",
    "sns.boxplot(x = df1.price)\n",
    "\n",
    "plt.show()"
   ]
  },
  {
   "cell_type": "code",
   "execution_count": null,
   "metadata": {},
   "outputs": [],
   "source": [
    "plt.figure(figsize=(12,8))\n",
    "\n",
    "sns.histplot(x = df1.price, kde=True)\n",
    "\n",
    "plt.show()"
   ]
  },
  {
   "cell_type": "markdown",
   "metadata": {},
   "source": [
    "# COLUMN-5 vat (KEEP)"
   ]
  },
  {
   "cell_type": "code",
   "execution_count": null,
   "metadata": {},
   "outputs": [],
   "source": [
    "df1.vat.unique()"
   ]
  },
  {
   "cell_type": "code",
   "execution_count": null,
   "metadata": {},
   "outputs": [],
   "source": [
    "df1.vat.nunique()"
   ]
  },
  {
   "cell_type": "code",
   "execution_count": null,
   "metadata": {},
   "outputs": [],
   "source": [
    "df1.vat.value_counts(dropna=False)"
   ]
  },
  {
   "cell_type": "code",
   "execution_count": null,
   "metadata": {},
   "outputs": [],
   "source": [
    "df1.vat.isnull().sum()"
   ]
  },
  {
   "cell_type": "code",
   "execution_count": null,
   "metadata": {},
   "outputs": [],
   "source": [
    "pd.get_dummies(df1.vat).head()"
   ]
  },
  {
   "cell_type": "markdown",
   "metadata": {},
   "source": [
    "# COLUMN-6 km (KEEP)"
   ]
  },
  {
   "cell_type": "code",
   "execution_count": null,
   "metadata": {},
   "outputs": [],
   "source": [
    "df1.km.unique()"
   ]
  },
  {
   "cell_type": "code",
   "execution_count": null,
   "metadata": {},
   "outputs": [],
   "source": [
    "df1.km.nunique()"
   ]
  },
  {
   "cell_type": "code",
   "execution_count": null,
   "metadata": {},
   "outputs": [],
   "source": [
    "df1.km.value_counts(dropna=False)"
   ]
  },
  {
   "cell_type": "code",
   "execution_count": null,
   "metadata": {},
   "outputs": [],
   "source": [
    "df1.km.isnull().sum()"
   ]
  },
  {
   "cell_type": "code",
   "execution_count": null,
   "metadata": {},
   "outputs": [],
   "source": [
    "df1[['km']]"
   ]
  },
  {
   "cell_type": "code",
   "execution_count": null,
   "metadata": {},
   "outputs": [],
   "source": [
    "df1.km.str.replace(',', \"\")"
   ]
  },
  {
   "cell_type": "code",
   "execution_count": null,
   "metadata": {},
   "outputs": [],
   "source": [
    "df1['km'] = df1.km.str.replace(',','').str.strip(' km').replace('-', np.nan).astype(float)\n",
    "# df1.km.str.replace(',', \"\").str.extract('(\\d+)').astype(float).head()"
   ]
  },
  {
   "cell_type": "code",
   "execution_count": null,
   "metadata": {},
   "outputs": [],
   "source": [
    "df1['km']"
   ]
  },
  {
   "cell_type": "markdown",
   "metadata": {},
   "source": [
    "# COLUMN-7 registration (KEEP)\n",
    "\n",
    "Age sütunu oluşturduğumuzdan farklı bir maksatla kullanılmayacağı değerlendirilirse DROP edilecek.\n",
    "\n",
    "Age1 sütunu da DROP edilecek(First Registration)"
   ]
  },
  {
   "cell_type": "code",
   "execution_count": null,
   "metadata": {},
   "outputs": [],
   "source": [
    "# (8)registration & (22)First Registration sütunları içerikleri örtüştüğünden bu 2 sütunu beraber inceleyeceğiz."
   ]
  },
  {
   "cell_type": "code",
   "execution_count": null,
   "metadata": {},
   "outputs": [],
   "source": [
    "df1[['registration', 'First Registration']].isnull().sum()"
   ]
  },
  {
   "cell_type": "code",
   "execution_count": null,
   "metadata": {},
   "outputs": [],
   "source": [
    "df1[['registration', 'First Registration']].sample(5)"
   ]
  },
  {
   "cell_type": "code",
   "execution_count": null,
   "metadata": {},
   "outputs": [],
   "source": [
    "# 'registration' sütunu ile AGE hesaplaması"
   ]
  },
  {
   "cell_type": "code",
   "execution_count": null,
   "metadata": {},
   "outputs": [],
   "source": [
    "df1['registration'].map(lambda x: x[3:], na_action = 'ignore')"
   ]
  },
  {
   "cell_type": "code",
   "execution_count": null,
   "metadata": {},
   "outputs": [],
   "source": [
    "df1['registration'] = df1['registration'].map(lambda x: x[3:], na_action = 'ignore')"
   ]
  },
  {
   "cell_type": "code",
   "execution_count": null,
   "metadata": {},
   "outputs": [],
   "source": [
    "df1['registration'] = pd.to_numeric(df1['registration'],errors = 'coerce')"
   ]
  },
  {
   "cell_type": "code",
   "execution_count": null,
   "metadata": {},
   "outputs": [],
   "source": [
    "df1['age'] = 2019 - df1['registration']\n",
    "df1['age']"
   ]
  },
  {
   "cell_type": "code",
   "execution_count": null,
   "metadata": {},
   "outputs": [],
   "source": [
    "# 'First Registration' sütunu ile AGE hesaplaması"
   ]
  },
  {
   "cell_type": "code",
   "execution_count": null,
   "metadata": {},
   "outputs": [],
   "source": [
    "df1['First Registration'].map(lambda x: float(x[1]), na_action = 'ignore')"
   ]
  },
  {
   "cell_type": "code",
   "execution_count": null,
   "metadata": {},
   "outputs": [],
   "source": [
    "df1['First Registration'] = df1['First Registration'].map(lambda x: float(x[1]), na_action = 'ignore')"
   ]
  },
  {
   "cell_type": "code",
   "execution_count": null,
   "metadata": {},
   "outputs": [],
   "source": [
    "df1['age1'] = 2019 - df1['First Registration'] # ---> 'age' isimli yeni bir sütun oluşturduk.\n",
    "df1['age1']"
   ]
  },
  {
   "cell_type": "code",
   "execution_count": null,
   "metadata": {},
   "outputs": [],
   "source": [
    "# Her 2 sütunda yapılan işlemler sonucu NULL değer durumu"
   ]
  },
  {
   "cell_type": "code",
   "execution_count": null,
   "metadata": {},
   "outputs": [],
   "source": [
    "df1[['registration', 'First Registration']].isnull().sum()"
   ]
  },
  {
   "cell_type": "code",
   "execution_count": null,
   "metadata": {},
   "outputs": [],
   "source": [
    "# 'registration' sütununda ISNULL olup 'First Registration' sütununda NOTNULL alan kontrolü "
   ]
  },
  {
   "cell_type": "code",
   "execution_count": null,
   "metadata": {},
   "outputs": [],
   "source": [
    "df1[(df1['registration'].isnull())& (df1['First Registration'].notnull())].value_counts().sum()"
   ]
  },
  {
   "cell_type": "code",
   "execution_count": null,
   "metadata": {},
   "outputs": [],
   "source": [
    "df1[(df1['registration'].notnull()) & (df1['First Registration'].isnull())].value_counts().sum()"
   ]
  },
  {
   "cell_type": "code",
   "execution_count": null,
   "metadata": {},
   "outputs": [],
   "source": [
    "df1[['registration', 'First Registration']].sample(20)"
   ]
  },
  {
   "cell_type": "code",
   "execution_count": null,
   "metadata": {},
   "outputs": [],
   "source": [
    "(df1['registration']==df1['First Registration']).value_counts()"
   ]
  },
  {
   "cell_type": "code",
   "execution_count": null,
   "metadata": {},
   "outputs": [],
   "source": [
    "df1[(df1['registration']!=df1['First Registration'])][['registration','First Registration']].shape"
   ]
  },
  {
   "cell_type": "code",
   "execution_count": null,
   "metadata": {},
   "outputs": [],
   "source": [
    "# AGE her 2 sütun ile de hesaplanabiliyor. Bir sütundaki NULL değerler diğer sütundaki NULL değerler ile eşleştiğinden \n",
    "# istediğimiz sütunu kullanıp diğerini DROP edebiliriz.\n",
    "# \"registration\" kullanılacak \"First Registration\" sütunu DROP edilecek."
   ]
  },
  {
   "cell_type": "markdown",
   "metadata": {},
   "source": [
    "# COLUMN-8 prev_owner (KEEP)"
   ]
  },
  {
   "cell_type": "code",
   "execution_count": null,
   "metadata": {},
   "outputs": [],
   "source": [
    "# (9)prev_owner & (13)Previous Owners sütunları içerikleri örtüştüğünden bu 2 sütunu beraber inceleyeceğiz."
   ]
  },
  {
   "cell_type": "code",
   "execution_count": null,
   "metadata": {},
   "outputs": [],
   "source": [
    "df1[['prev_owner', 'Previous Owners']].isnull().sum()"
   ]
  },
  {
   "cell_type": "code",
   "execution_count": null,
   "metadata": {},
   "outputs": [],
   "source": [
    "df1[['prev_owner', 'Previous Owners']].sample(5)"
   ]
  },
  {
   "cell_type": "code",
   "execution_count": null,
   "metadata": {},
   "outputs": [],
   "source": [
    "# 'prev_owner' ile çalışma"
   ]
  },
  {
   "cell_type": "code",
   "execution_count": null,
   "metadata": {},
   "outputs": [],
   "source": [
    "df1['prev_owner'].str.strip('previous owners').astype(float)"
   ]
  },
  {
   "cell_type": "code",
   "execution_count": null,
   "metadata": {},
   "outputs": [],
   "source": [
    "df1.prev_owner = df1.prev_owner.str.strip('previous owners').astype(float)"
   ]
  },
  {
   "cell_type": "code",
   "execution_count": null,
   "metadata": {},
   "outputs": [],
   "source": [
    "df1.prev_owner.value_counts(dropna=False)"
   ]
  },
  {
   "cell_type": "code",
   "execution_count": null,
   "metadata": {},
   "outputs": [],
   "source": [
    "# 'Previous Owners' ile çalışma"
   ]
  },
  {
   "cell_type": "code",
   "execution_count": null,
   "metadata": {},
   "outputs": [],
   "source": [
    "df1['Previous Owners'].str.strip('\\n').astype(float)"
   ]
  },
  {
   "cell_type": "code",
   "execution_count": null,
   "metadata": {},
   "outputs": [],
   "source": [
    "df1['Previous Owners'] = df1['Previous Owners'].str.strip('\\n').astype(float)"
   ]
  },
  {
   "cell_type": "code",
   "execution_count": null,
   "metadata": {},
   "outputs": [],
   "source": [
    "df1['Previous Owners'].value_counts(dropna=False)"
   ]
  },
  {
   "cell_type": "code",
   "execution_count": null,
   "metadata": {},
   "outputs": [],
   "source": [
    "# Her 2 sütunda yapılan işlemler sonucu NULL değer durumu"
   ]
  },
  {
   "cell_type": "code",
   "execution_count": null,
   "metadata": {},
   "outputs": [],
   "source": [
    "df1[['prev_owner', 'Previous Owners']].isnull().sum()"
   ]
  },
  {
   "cell_type": "code",
   "execution_count": null,
   "metadata": {},
   "outputs": [],
   "source": [
    "df1[['prev_owner', 'Previous Owners', 'age']].sample(20)"
   ]
  },
  {
   "cell_type": "code",
   "execution_count": null,
   "metadata": {},
   "outputs": [],
   "source": [
    "#'Previous Owners' sütununda 0 değerlerin age karşılıklarını kontrol et. 2019 yaş o ise new denebilir."
   ]
  },
  {
   "cell_type": "code",
   "execution_count": null,
   "metadata": {},
   "outputs": [],
   "source": [
    "# 'prev_owner' sütununda ISNULL olup 'Previous Owners' sütununda NOTNULL alan kontrolü "
   ]
  },
  {
   "cell_type": "code",
   "execution_count": null,
   "metadata": {},
   "outputs": [],
   "source": [
    "pd.set_option('display.max_rows', None)\n",
    "df1[(df1['prev_owner'].isnull()) & (df1['Previous Owners'].notnull())][['prev_owner','Previous Owners']].value_counts().sum()"
   ]
  },
  {
   "cell_type": "code",
   "execution_count": null,
   "metadata": {},
   "outputs": [],
   "source": [
    "pd.set_option('display.max_rows', None)\n",
    "df1[(df1['prev_owner'].notnull()) & (df1['Previous Owners'].isnull())][['prev_owner','Previous Owners']].value_counts().sum()"
   ]
  },
  {
   "cell_type": "code",
   "execution_count": null,
   "metadata": {},
   "outputs": [],
   "source": [
    "# Düzenleme yapılıp her 2 sütundaki prevowner sayıları alındıktan sonra null değerlere bakıldığında 'prev_owner' \n",
    "# sütununun kullanılması daha uygun. Daha az null değer var. \n",
    "# 'Previous Owners' sütunu başka bir yerde kullanılmayacaksa DROP edilebilir.\n",
    "\n",
    "# 'Previous Owners' sütununda 163 adet 0 değer mevcut. NEW için kullanılabilir."
   ]
  },
  {
   "cell_type": "code",
   "execution_count": null,
   "metadata": {},
   "outputs": [],
   "source": [
    "df1[['prev_owner', 'Previous Owners']].value_counts()"
   ]
  },
  {
   "cell_type": "code",
   "execution_count": null,
   "metadata": {},
   "outputs": [],
   "source": [
    "df1.prev_owner.value_counts(dropna=False)"
   ]
  },
  {
   "cell_type": "code",
   "execution_count": null,
   "metadata": {},
   "outputs": [],
   "source": [
    "df1['Previous Owners'].value_counts(dropna=False)"
   ]
  },
  {
   "cell_type": "code",
   "execution_count": null,
   "metadata": {},
   "outputs": [],
   "source": [
    "df1[['prev_owner', 'Previous Owners']].isnull().sum()"
   ]
  },
  {
   "cell_type": "code",
   "execution_count": null,
   "metadata": {},
   "outputs": [],
   "source": [
    "df1[(df1['prev_owner'].notnull()) != (df1['Previous Owners'].notnull())][['prev_owner', 'Previous Owners']]"
   ]
  },
  {
   "cell_type": "code",
   "execution_count": null,
   "metadata": {},
   "outputs": [],
   "source": [
    "df1[(df1['Previous Owners']==0.0) ][['Previous Owners', 'age', 'registration', 'vehicle_condition']].sort_values(by='age')"
   ]
  },
  {
   "cell_type": "code",
   "execution_count": null,
   "metadata": {},
   "outputs": [],
   "source": [
    "# 'Previous Owners' sütunundaki 0.0 değerleri 'prev_owner' sütununa geçirilecek ve  'Previous Owners'  DROP edilecek\n",
    "# vehicle condition used olanlardan yapılabilirse prev__owner ı 0 olanlar 1 olacak\n",
    "# prev owner 0 olanlardan age boş olanlar 0 girilecek."
   ]
  },
  {
   "cell_type": "code",
   "execution_count": null,
   "metadata": {},
   "outputs": [],
   "source": []
  },
  {
   "cell_type": "markdown",
   "metadata": {},
   "source": [
    "# COLUMN-9 kW (DROP)\n",
    "\n",
    "DROP edilecek"
   ]
  },
  {
   "cell_type": "code",
   "execution_count": null,
   "metadata": {},
   "outputs": [],
   "source": [
    "df1['kW']"
   ]
  },
  {
   "cell_type": "code",
   "execution_count": null,
   "metadata": {},
   "outputs": [],
   "source": [
    "df1['kW'].isnull().sum()"
   ]
  },
  {
   "cell_type": "code",
   "execution_count": null,
   "metadata": {},
   "outputs": [],
   "source": [
    "# 'kW' sütunu tamamiyle NULL olduğundan DROP edilecek."
   ]
  },
  {
   "cell_type": "markdown",
   "metadata": {},
   "source": [
    "# COLUMN-10 hp (KEEP)"
   ]
  },
  {
   "cell_type": "code",
   "execution_count": null,
   "metadata": {},
   "outputs": [],
   "source": [
    "df1['hp']"
   ]
  },
  {
   "cell_type": "code",
   "execution_count": null,
   "metadata": {},
   "outputs": [],
   "source": [
    "df1['hp'].isnull().sum()"
   ]
  },
  {
   "cell_type": "code",
   "execution_count": null,
   "metadata": {},
   "outputs": [],
   "source": [
    "df1['hp'].value_counts().index.sort_values()"
   ]
  },
  {
   "cell_type": "code",
   "execution_count": null,
   "metadata": {},
   "outputs": [],
   "source": [
    "#df1[df1['hp'] == '1 kW']"
   ]
  },
  {
   "cell_type": "code",
   "execution_count": null,
   "metadata": {},
   "outputs": [],
   "source": [
    "#df1.hp[(df1['make_model']=='Opel Astra') & (df1['short_description'].str.contains('SW OPEL SW 1.0 EASYTRONIC 105 CV', case=True, regex=True))]"
   ]
  },
  {
   "cell_type": "code",
   "execution_count": null,
   "metadata": {},
   "outputs": [],
   "source": [
    "#df1.loc[df1.hp=='4 kW','hp']='54 kW'"
   ]
  },
  {
   "cell_type": "code",
   "execution_count": null,
   "metadata": {},
   "outputs": [],
   "source": [
    "#df1.hp[(df1['make_model']=='Opel Astra') & (df1['short_description'].str.contains('SW OPEL SW 1.0 EASYTRONIC 105 CV', case=True, regex=True))]"
   ]
  },
  {
   "cell_type": "code",
   "execution_count": null,
   "metadata": {},
   "outputs": [],
   "source": [
    "#df1[df1['hp'] == '4 kW']"
   ]
  },
  {
   "cell_type": "code",
   "execution_count": null,
   "metadata": {},
   "outputs": [],
   "source": [
    "#df1.hp[(df1['make_model']=='Renault Clio') & (df1['short_description'].str.contains('1.2 16V 75 LIFE', case=True, regex=True))]"
   ]
  },
  {
   "cell_type": "code",
   "execution_count": null,
   "metadata": {},
   "outputs": [],
   "source": [
    "#df1.hp[(df1['make_model']=='Renault Clio') & (df1['short_description'].str.contains('1.2 16V 75 LIFE', case=True, regex=True))].replace('4 kW', '54 kW')"
   ]
  },
  {
   "cell_type": "code",
   "execution_count": null,
   "metadata": {},
   "outputs": [],
   "source": [
    "#df1.loc[df1.hp=='4 kW','hp']='54 kW'"
   ]
  },
  {
   "cell_type": "code",
   "execution_count": null,
   "metadata": {},
   "outputs": [],
   "source": [
    "#df1[df1['hp'] == '4 kW']"
   ]
  },
  {
   "cell_type": "code",
   "execution_count": null,
   "metadata": {},
   "outputs": [],
   "source": [
    "#df1['hp'].value_counts().index.sort_values()"
   ]
  },
  {
   "cell_type": "code",
   "execution_count": null,
   "metadata": {},
   "outputs": [],
   "source": [
    "df1['hp'].str.strip(' kW').replace('-', np.nan).astype(float)"
   ]
  },
  {
   "cell_type": "code",
   "execution_count": null,
   "metadata": {},
   "outputs": [],
   "source": [
    "df1['hp']"
   ]
  },
  {
   "cell_type": "code",
   "execution_count": null,
   "metadata": {},
   "outputs": [],
   "source": [
    "df1['hp'].isnull().sum()"
   ]
  },
  {
   "cell_type": "code",
   "execution_count": null,
   "metadata": {},
   "outputs": [],
   "source": [
    "df1['hp'].value_counts().index.unique()"
   ]
  },
  {
   "cell_type": "code",
   "execution_count": null,
   "metadata": {},
   "outputs": [],
   "source": []
  },
  {
   "cell_type": "markdown",
   "metadata": {},
   "source": [
    "# COLUMN-11 Type (DROP)\n",
    "\n",
    "Bir sonraki aşamada DROP edilecek."
   ]
  },
  {
   "cell_type": "code",
   "execution_count": null,
   "metadata": {},
   "outputs": [],
   "source": [
    "# (11) 'Type', (36) 'Fuel' ve (50)  'Other Fuel Types' sütunları içerikleri benzer olduğundan bu 3 sütunu beraber inceleyeceğiz."
   ]
  },
  {
   "cell_type": "code",
   "execution_count": null,
   "metadata": {},
   "outputs": [],
   "source": [
    "df1[['Type', 'Fuel', 'Other Fuel Types']]"
   ]
  },
  {
   "cell_type": "code",
   "execution_count": null,
   "metadata": {},
   "outputs": [],
   "source": [
    "df1[['Type', 'Fuel', 'Other Fuel Types']].isnull().sum()"
   ]
  },
  {
   "cell_type": "code",
   "execution_count": null,
   "metadata": {},
   "outputs": [],
   "source": [
    "# 'Other Fuel Types' sütunu DROP edilecek. İçi boş."
   ]
  },
  {
   "cell_type": "code",
   "execution_count": null,
   "metadata": {},
   "outputs": [],
   "source": [
    "# 'Type' sütunu incelemesi"
   ]
  },
  {
   "cell_type": "code",
   "execution_count": null,
   "metadata": {},
   "outputs": [],
   "source": [
    "df1['Type']  # Bu sütunda aracın durumu ile yakıt türü bilgileri mevcut."
   ]
  },
  {
   "cell_type": "code",
   "execution_count": null,
   "metadata": {},
   "outputs": [],
   "source": [
    "# Raife Hoca, Type sütununda hem aracın durum bilgileri (New, Used, Pre-registered, Demonstration) olduğundan, \n",
    "# hem de yakıt bilgileri olduğundan şimdilik 2 sütuna ayıracağını belirtmiş. (Vehicle condition, Fuel Type)\n",
    "# Yeni oluşturulacak Fuel Type sütunu Fuel sütunu ile karşılaştırılarak hangisinin kullanılıcağına karar verileceğini belirtmiş.\n",
    "\n",
    "# Biz sadece bu sütundan vehicle condition isimli tek sütun elde edeceğiz.\n",
    "# Fuel sütununda NULL değer olmadığından yakıt bilgileri için FUEL sütununu kullanacağız."
   ]
  },
  {
   "cell_type": "code",
   "execution_count": null,
   "metadata": {},
   "outputs": [],
   "source": [
    "df1.Type.map(lambda x : x[1], na_action = 'ignore')"
   ]
  },
  {
   "cell_type": "code",
   "execution_count": null,
   "metadata": {},
   "outputs": [],
   "source": [
    "df1['vehicle_condition'] = df.Type.map(lambda x : x[1], na_action = 'ignore') "
   ]
  },
  {
   "cell_type": "code",
   "execution_count": null,
   "metadata": {},
   "outputs": [],
   "source": [
    "df1['vehicle_condition'].isnull().sum()"
   ]
  },
  {
   "cell_type": "code",
   "execution_count": null,
   "metadata": {
    "scrolled": true
   },
   "outputs": [],
   "source": [
    "df1['vehicle_condition'].value_counts(dropna=False)"
   ]
  },
  {
   "cell_type": "code",
   "execution_count": null,
   "metadata": {},
   "outputs": [],
   "source": [
    "# Raife Hoca dan\n",
    "\n",
    "# Bu sütun Used ve New olacak şekilde düzenlenmeli. \n",
    "# Pre-registered olanlara (henüz register bile olmadığından) New diyeceğiz\n",
    "# Demonstration olanlara da (test aracı olduğu düşünülerek) Used diyeceğiz.\n",
    "\n",
    "# Employee's car olanlar USED şeklinde düzenlenebilir"
   ]
  },
  {
   "cell_type": "code",
   "execution_count": null,
   "metadata": {},
   "outputs": [],
   "source": [
    "# vehicle_condition (New) sütunu ile prev_owner sütunu karşılaştırması\n",
    "pd.set_option('display.max_rows', None)\n",
    "df1[(df1['vehicle_condition'] == 'New') & (df['prev_owner'].isnull())][['vehicle_condition','prev_owner']].sample(50)\n",
    "# 5*50 sample çektim. Previous Owners sütunları NaN geliyor"
   ]
  },
  {
   "cell_type": "code",
   "execution_count": null,
   "metadata": {},
   "outputs": [],
   "source": []
  },
  {
   "cell_type": "code",
   "execution_count": null,
   "metadata": {},
   "outputs": [],
   "source": [
    "# vehicle_condition (New) sütunu ile Previous Owner sütunu karşılaştırması\n",
    "pd.set_option('display.max_rows', None)\n",
    "df1[(df1['vehicle_condition'] == 'New') & (df['Previous Owners'].isnull())][['vehicle_condition','Previous Owners']].sample(50)\n",
    "# 5*50 sample çektim. Previous Owners sütunları NaN geliyor"
   ]
  },
  {
   "cell_type": "code",
   "execution_count": null,
   "metadata": {},
   "outputs": [],
   "source": [
    "# vehicle_condition (New) sütunu ile prev_owner sütunu karşılaştırması\n",
    "pd.set_option('display.max_rows', None)\n",
    "df1[(df1['vehicle_condition'] == 'New') & (df['Previous Owners'].isnull())][['vehicle_condition','Previous Owners']].sample(50)\n",
    "# 5*50 sample çektim. Previous Owners sütunları NaN geliyor"
   ]
  },
  {
   "cell_type": "code",
   "execution_count": null,
   "metadata": {},
   "outputs": [],
   "source": [
    "(df1['fuel_type']==df1['Fuel']).value_counts(dropna=False)"
   ]
  },
  {
   "cell_type": "code",
   "execution_count": null,
   "metadata": {},
   "outputs": [],
   "source": []
  },
  {
   "cell_type": "markdown",
   "metadata": {},
   "source": [
    "# COLUMN-12 Previous Owners (DROP)\n",
    "\n",
    "0.0 OLAN DEĞERLER 'prev_owner' sütununa yapıştırıldıktan sonra DROP edilecek."
   ]
  },
  {
   "cell_type": "code",
   "execution_count": null,
   "metadata": {},
   "outputs": [],
   "source": [
    "# COLUMN-9 prev_owner sütunu ile beraber incelendi. Aynı bilgileri içerdiğinden farklı bir yerde kullanılmayacak ise \n",
    "# DROP edilecek"
   ]
  },
  {
   "cell_type": "markdown",
   "metadata": {},
   "source": [
    "# COLUMN-13 Next Inspection"
   ]
  },
  {
   "cell_type": "code",
   "execution_count": 70,
   "metadata": {},
   "outputs": [
    {
     "ename": "TypeError",
     "evalue": "unhashable type: 'list'",
     "output_type": "error",
     "traceback": [
      "\u001b[1;31m---------------------------------------------------------------------------\u001b[0m",
      "\u001b[1;31mTypeError\u001b[0m                                 Traceback (most recent call last)",
      "\u001b[1;32mpandas\\_libs\\hashtable_class_helper.pxi\u001b[0m in \u001b[0;36mpandas._libs.hashtable.PyObjectHashTable.map_locations\u001b[1;34m()\u001b[0m\n",
      "\u001b[1;31mTypeError\u001b[0m: unhashable type: 'list'"
     ]
    },
    {
     "name": "stderr",
     "output_type": "stream",
     "text": [
      "Exception ignored in: 'pandas._libs.index.IndexEngine._call_map_locations'\n",
      "Traceback (most recent call last):\n",
      "  File \"pandas\\_libs\\hashtable_class_helper.pxi\", line 4588, in pandas._libs.hashtable.PyObjectHashTable.map_locations\n",
      "TypeError: unhashable type: 'list'\n"
     ]
    },
    {
     "data": {
      "text/plain": [
       "NaN                                       12384\n",
       "\\n04/2022\\n                                  62\n",
       "\\n03/2021\\n                                  38\n",
       "\\n03/2022\\n                                  36\n",
       "\\n06/2021\\n                                  34\n",
       "                                          ...  \n",
       "[\\n06/2020\\n, \\n127 g CO2/km (comb)\\n]        1\n",
       "[\\n08/2020\\n, \\nEuro 6\\n]                     1\n",
       "[\\n04/2020\\n, \\n129 g CO2/km (comb)\\n]        1\n",
       "[\\n06/2022\\n, \\n128 g CO2/km (comb)\\n]        1\n",
       "[\\n03/2020\\n, \\n150 g CO2/km (comb)\\n]        1\n",
       "Name: Next Inspection, Length: 1400, dtype: int64"
      ]
     },
     "execution_count": 70,
     "metadata": {},
     "output_type": "execute_result"
    }
   ],
   "source": [
    "df['Next Inspection'].value_counts(dropna=False)"
   ]
  },
  {
   "cell_type": "code",
   "execution_count": 85,
   "metadata": {},
   "outputs": [
    {
     "data": {
      "text/plain": [
       "0      [\\n06/2021\\n, \\n99 g CO2/km (comb)\\n]\n",
       "1                                        NaN\n",
       "2                                        NaN\n",
       "3                                        NaN\n",
       "4                                        NaN\n",
       "5                                        NaN\n",
       "6                                        NaN\n",
       "7                                        NaN\n",
       "8      [\\n02/2020\\n, \\n97 g CO2/km (comb)\\n]\n",
       "9                                        NaN\n",
       "10                                       NaN\n",
       "11                                       NaN\n",
       "12    [\\n09/2019\\n, \\n112 g CO2/km (comb)\\n]\n",
       "13                                       NaN\n",
       "14     [\\n10/2019\\n, \\n99 g CO2/km (comb)\\n]\n",
       "15     [\\n04/2020\\n, \\n97 g CO2/km (comb)\\n]\n",
       "16                                       NaN\n",
       "17                                       NaN\n",
       "18                               \\n07/2020\\n\n",
       "19                                       NaN\n",
       "Name: Next Inspection, dtype: object"
      ]
     },
     "execution_count": 85,
     "metadata": {},
     "output_type": "execute_result"
    }
   ],
   "source": [
    "df['Next Inspection'].head(20)"
   ]
  },
  {
   "cell_type": "code",
   "execution_count": 86,
   "metadata": {},
   "outputs": [
    {
     "data": {
      "text/plain": [
       "0     \\n06/2021\\n\n",
       "1             NaN\n",
       "2             NaN\n",
       "3             NaN\n",
       "4             NaN\n",
       "5             NaN\n",
       "6             NaN\n",
       "7             NaN\n",
       "8     \\n02/2020\\n\n",
       "9             NaN\n",
       "10            NaN\n",
       "11            NaN\n",
       "12    \\n09/2019\\n\n",
       "13            NaN\n",
       "14    \\n10/2019\\n\n",
       "15    \\n04/2020\\n\n",
       "16            NaN\n",
       "17            NaN\n",
       "18    \\n07/2020\\n\n",
       "19            NaN\n",
       "Name: Next Inspection, dtype: object"
      ]
     },
     "execution_count": 86,
     "metadata": {},
     "output_type": "execute_result"
    }
   ],
   "source": [
    "df1['Next Inspection'] = [item[0] if type(item) == list else item for item in df1['Next Inspection']]\n",
    "df1['Next Inspection'].head(20)"
   ]
  },
  {
   "cell_type": "code",
   "execution_count": 87,
   "metadata": {},
   "outputs": [],
   "source": [
    "df1['Next Inspection'] = df1['Next Inspection'].str.strip('\\n')"
   ]
  },
  {
   "cell_type": "code",
   "execution_count": 88,
   "metadata": {},
   "outputs": [
    {
     "data": {
      "text/plain": [
       "NaN        12384\n",
       "06/2021      471\n",
       "03/2021      210\n",
       "05/2021      180\n",
       "04/2021      171\n",
       "           ...  \n",
       "12/2022        1\n",
       "12/2017        1\n",
       "11/2022        1\n",
       "02/2017        1\n",
       "05/2016        1\n",
       "Name: Next Inspection, Length: 78, dtype: int64"
      ]
     },
     "execution_count": 88,
     "metadata": {},
     "output_type": "execute_result"
    }
   ],
   "source": [
    "df1['Next Inspection'].value_counts(dropna=False)"
   ]
  },
  {
   "cell_type": "markdown",
   "metadata": {},
   "source": [
    "# COLUMN-14 Inspection new"
   ]
  },
  {
   "cell_type": "code",
   "execution_count": 103,
   "metadata": {},
   "outputs": [
    {
     "data": {
      "text/plain": [
       "NaN        11987\n",
       "\\nYes\\n     3932\n",
       "Name: Inspection new, dtype: int64"
      ]
     },
     "execution_count": 103,
     "metadata": {},
     "output_type": "execute_result"
    }
   ],
   "source": [
    "df1['Inspection new'].value_counts(dropna=False)"
   ]
  },
  {
   "cell_type": "code",
   "execution_count": 104,
   "metadata": {},
   "outputs": [
    {
     "data": {
      "text/plain": [
       "0    \\nYes\\n\n",
       "1        NaN\n",
       "2        NaN\n",
       "3        NaN\n",
       "4    \\nYes\\n\n",
       "5        NaN\n",
       "6    \\nYes\\n\n",
       "7    \\nYes\\n\n",
       "8        NaN\n",
       "9        NaN\n",
       "Name: Inspection new, dtype: object"
      ]
     },
     "execution_count": 104,
     "metadata": {},
     "output_type": "execute_result"
    }
   ],
   "source": [
    "df1['Inspection new'].head(10)"
   ]
  },
  {
   "cell_type": "code",
   "execution_count": 105,
   "metadata": {},
   "outputs": [
    {
     "data": {
      "text/plain": [
       "0    \\nYes\\n\n",
       "1        NaN\n",
       "2        NaN\n",
       "3        NaN\n",
       "4    \\nYes\\n\n",
       "5        NaN\n",
       "6    \\nYes\\n\n",
       "7    \\nYes\\n\n",
       "8        NaN\n",
       "9        NaN\n",
       "Name: Inspection new, dtype: object"
      ]
     },
     "execution_count": 105,
     "metadata": {},
     "output_type": "execute_result"
    }
   ],
   "source": [
    "df1['Inspection new'] = [item[0] if type(item) == list else item for item in df1['Inspection new']]\n",
    "df1['Inspection new'].head(10)"
   ]
  },
  {
   "cell_type": "code",
   "execution_count": 108,
   "metadata": {},
   "outputs": [],
   "source": [
    "df1['Inspection new'] = df1['Inspection new'].str.strip('\\n')"
   ]
  },
  {
   "cell_type": "code",
   "execution_count": 109,
   "metadata": {},
   "outputs": [
    {
     "data": {
      "text/plain": [
       "NaN    11987\n",
       "Yes     3932\n",
       "Name: Inspection new, dtype: int64"
      ]
     },
     "execution_count": 109,
     "metadata": {},
     "output_type": "execute_result"
    }
   ],
   "source": [
    "df1['Inspection new'].value_counts(dropna=False)"
   ]
  },
  {
   "cell_type": "markdown",
   "metadata": {},
   "source": [
    "# COLUMN-15 Warranty"
   ]
  },
  {
   "cell_type": "code",
   "execution_count": 76,
   "metadata": {},
   "outputs": [
    {
     "data": {
      "text/plain": [
       "0             [\\n, \\n, \\n4 (Green)\\n]\n",
       "1                                 NaN\n",
       "2    [\\n, \\n, \\n99 g CO2/km (comb)\\n]\n",
       "3                                 NaN\n",
       "4                [\\n, \\n, \\nEuro 6\\n]\n",
       "5                                 NaN\n",
       "6                                 NaN\n",
       "7                [\\n, \\n, \\nEuro 6\\n]\n",
       "8         [\\n12 months\\n, \\nEuro 6\\n]\n",
       "9                        \\n3 months\\n\n",
       "Name: Warranty, dtype: object"
      ]
     },
     "execution_count": 76,
     "metadata": {},
     "output_type": "execute_result"
    }
   ],
   "source": [
    "df1['Warranty'].head(10)"
   ]
  },
  {
   "cell_type": "code",
   "execution_count": 77,
   "metadata": {},
   "outputs": [],
   "source": [
    "df1['Warranty'] = [item[0] if type(item) == list else item for item in df1['Warranty']]"
   ]
  },
  {
   "cell_type": "code",
   "execution_count": 78,
   "metadata": {},
   "outputs": [
    {
     "data": {
      "text/plain": [
       "0                   \\n\n",
       "1                  NaN\n",
       "2                   \\n\n",
       "3                  NaN\n",
       "4                   \\n\n",
       "             ...      \n",
       "15914    \\n24 months\\n\n",
       "15915               \\n\n",
       "15916               \\n\n",
       "15917               \\n\n",
       "15918              NaN\n",
       "Name: Warranty, Length: 15919, dtype: object"
      ]
     },
     "execution_count": 78,
     "metadata": {},
     "output_type": "execute_result"
    }
   ],
   "source": [
    "df1['Warranty']"
   ]
  },
  {
   "cell_type": "code",
   "execution_count": 79,
   "metadata": {},
   "outputs": [],
   "source": [
    "df1['Warranty'] = df1['Warranty'].str.strip('\\n')"
   ]
  },
  {
   "cell_type": "code",
   "execution_count": 80,
   "metadata": {},
   "outputs": [
    {
     "data": {
      "text/plain": [
       "0                 \n",
       "1              NaN\n",
       "2                 \n",
       "3              NaN\n",
       "4                 \n",
       "           ...    \n",
       "15914    24 months\n",
       "15915             \n",
       "15916             \n",
       "15917             \n",
       "15918          NaN\n",
       "Name: Warranty, Length: 15919, dtype: object"
      ]
     },
     "execution_count": 80,
     "metadata": {},
     "output_type": "execute_result"
    }
   ],
   "source": [
    "df1['Warranty']"
   ]
  },
  {
   "cell_type": "code",
   "execution_count": 81,
   "metadata": {},
   "outputs": [
    {
     "data": {
      "text/plain": [
       "             5646\n",
       "NaN          5420\n",
       "12 months    2594\n",
       "24 months    1118\n",
       "60 months     401\n",
       "36 months     279\n",
       "48 months     149\n",
       "6 months      125\n",
       "72 months      59\n",
       "3 months       33\n",
       "23 months      11\n",
       "18 months      10\n",
       "20 months       7\n",
       "25 months       6\n",
       "2 months        5\n",
       "26 months       4\n",
       "50 months       4\n",
       "16 months       4\n",
       "19 months       3\n",
       "34 months       3\n",
       "1 months        3\n",
       "4 months        3\n",
       "13 months       3\n",
       "17 months       2\n",
       "28 months       2\n",
       "14 months       2\n",
       "21 months       2\n",
       "22 months       2\n",
       "11 months       2\n",
       "46 months       2\n",
       "45 months       2\n",
       "9 months        2\n",
       "33 months       1\n",
       "7 months        1\n",
       "56 months       1\n",
       "30 months       1\n",
       "40 months       1\n",
       "49 months       1\n",
       "15 months       1\n",
       "47 months       1\n",
       "10 months       1\n",
       "8 months        1\n",
       "65 months       1\n",
       "Name: Warranty, dtype: int64"
      ]
     },
     "execution_count": 81,
     "metadata": {},
     "output_type": "execute_result"
    }
   ],
   "source": [
    "df1['Warranty'].value_counts(dropna=False)"
   ]
  },
  {
   "cell_type": "code",
   "execution_count": null,
   "metadata": {},
   "outputs": [],
   "source": [
    "df1['Warranty'].value_counts(dropna=False)"
   ]
  },
  {
   "cell_type": "code",
   "execution_count": null,
   "metadata": {},
   "outputs": [],
   "source": [
    "# df1['Warranty'] = df1.Warranty.apply(lambda x : x[0] if type(x) == list else x)\n",
    "# df1['Warranty'] = df1.Warranty.str.strip(\"\\n\").str.extract('(\\d+)')[0].astype(float)\n"
   ]
  },
  {
   "cell_type": "markdown",
   "metadata": {},
   "source": [
    "# COLUMN-16 Full Service (DROP)\n",
    "\n",
    "Sütundaki verilere diğer sutunlarda daha temiz ulaşılabildiğinden, içindeki verilerle diğer sütunların NULL value larının doldurulması sonrası DROP edilecek."
   ]
  },
  {
   "cell_type": "code",
   "execution_count": null,
   "metadata": {},
   "outputs": [],
   "source": [
    "df1['Full Service'].head(3)"
   ]
  },
  {
   "cell_type": "code",
   "execution_count": null,
   "metadata": {},
   "outputs": [],
   "source": [
    "df1['Full Service'].isnull().sum()"
   ]
  },
  {
   "cell_type": "markdown",
   "metadata": {},
   "source": [
    "# COLUMN-17 Non-smoking Vehicle (DROP)\n",
    "\n",
    "Sütundaki verilere diğer sutunlarda daha temiz ulaşılabildiğinden, içindeki verilerle diğer sütunların NULL value larının doldurulması sonrası DROP edilecek."
   ]
  },
  {
   "cell_type": "code",
   "execution_count": null,
   "metadata": {},
   "outputs": [],
   "source": [
    "df1['Non-smoking Vehicle'].head(3)"
   ]
  },
  {
   "cell_type": "code",
   "execution_count": null,
   "metadata": {},
   "outputs": [],
   "source": [
    "df1['Non-smoking Vehicle'].isnull().sum()"
   ]
  },
  {
   "cell_type": "markdown",
   "metadata": {},
   "source": [
    "# COLUMN-18 null (DROP)"
   ]
  },
  {
   "cell_type": "code",
   "execution_count": 67,
   "metadata": {},
   "outputs": [
    {
     "data": {
      "text/plain": [
       "<bound method Series.unique of 0        []\n",
       "1        []\n",
       "2        []\n",
       "3        []\n",
       "4        []\n",
       "         ..\n",
       "15914    []\n",
       "15915    []\n",
       "15916    []\n",
       "15917    []\n",
       "15918    []\n",
       "Name: null, Length: 15919, dtype: object>"
      ]
     },
     "execution_count": 67,
     "metadata": {},
     "output_type": "execute_result"
    }
   ],
   "source": [
    "df1['null'].unique"
   ]
  },
  {
   "cell_type": "markdown",
   "metadata": {},
   "source": [
    "# COLUMN-19 Make (DROP)"
   ]
  },
  {
   "cell_type": "code",
   "execution_count": null,
   "metadata": {},
   "outputs": [],
   "source": [
    "# (1) 'make_model' sütunu ile beraber incelendi. Aynı bilgileri içerdiğinden DROP edilecek"
   ]
  },
  {
   "cell_type": "markdown",
   "metadata": {},
   "source": [
    "# COLUMN-20 Model (DROP)"
   ]
  },
  {
   "cell_type": "code",
   "execution_count": null,
   "metadata": {},
   "outputs": [],
   "source": [
    "# (1) 'make_model' sütunu ile beraber incelendi. Aynı bilgileri içerdiğinden DROP edilecek"
   ]
  },
  {
   "cell_type": "markdown",
   "metadata": {},
   "source": [
    "# COLUMN-21 Offer Number"
   ]
  },
  {
   "cell_type": "code",
   "execution_count": null,
   "metadata": {},
   "outputs": [],
   "source": []
  },
  {
   "cell_type": "markdown",
   "metadata": {},
   "source": [
    "# COLUMN-22 First Registration (DROP)\n",
    "\n",
    "DROP edilecek"
   ]
  },
  {
   "cell_type": "code",
   "execution_count": null,
   "metadata": {},
   "outputs": [],
   "source": [
    "# COLUMN-8 registration sütunu ile beraber incelendi. Aynı bilgileri içerdiğinden DROP edilecek"
   ]
  },
  {
   "cell_type": "markdown",
   "metadata": {},
   "source": [
    "# COLUMN-23 Body Color (KEEP)"
   ]
  },
  {
   "cell_type": "code",
   "execution_count": null,
   "metadata": {},
   "outputs": [],
   "source": [
    "df1['Body Color'].value_counts(dropna=False)"
   ]
  },
  {
   "cell_type": "code",
   "execution_count": null,
   "metadata": {},
   "outputs": [],
   "source": [
    "df1['Body Color'] = df1['Body Color'].map(lambda x : x[1], na_action = 'ignore')"
   ]
  },
  {
   "cell_type": "code",
   "execution_count": null,
   "metadata": {},
   "outputs": [],
   "source": [
    "df1['Body Color'].value_counts(dropna=False)"
   ]
  },
  {
   "cell_type": "markdown",
   "metadata": {},
   "source": [
    "# COLUMN-24 Paint Type (KEEP)"
   ]
  },
  {
   "cell_type": "code",
   "execution_count": null,
   "metadata": {},
   "outputs": [],
   "source": [
    "df1['Paint Type'].value_counts(dropna=False)"
   ]
  },
  {
   "cell_type": "code",
   "execution_count": null,
   "metadata": {},
   "outputs": [],
   "source": [
    "df['Paint Type'] = df['Paint Type'].map(lambda x : x[0].strip('\\n '), na_action = 'ignore')"
   ]
  },
  {
   "cell_type": "code",
   "execution_count": null,
   "metadata": {},
   "outputs": [],
   "source": [
    "df['Paint Type'].value_counts(dropna=False)"
   ]
  },
  {
   "cell_type": "markdown",
   "metadata": {},
   "source": [
    "# COLUMN-25 Body Color Original (DROP)"
   ]
  },
  {
   "cell_type": "code",
   "execution_count": null,
   "metadata": {},
   "outputs": [],
   "source": [
    "df1['Body Color Original'].value_counts(dropna=False)"
   ]
  },
  {
   "cell_type": "code",
   "execution_count": null,
   "metadata": {},
   "outputs": [],
   "source": [
    "df1['Body Color Original'] = df1['Body Color Original'].map(lambda x : x[0].strip('\\n'), na_action = 'ignore')"
   ]
  },
  {
   "cell_type": "code",
   "execution_count": null,
   "metadata": {},
   "outputs": [],
   "source": [
    "df1['Body Color Original'].value_counts(dropna=False)"
   ]
  },
  {
   "cell_type": "code",
   "execution_count": null,
   "metadata": {},
   "outputs": [],
   "source": [
    "df1[df1['Body Color Original'].str.contains('met', na=False)].shape #[['Body Color Original','Paint Type']].shape\n",
    "# 'Body Color Original' icinde bulunan Metallic, Met (ve incelendikten sonra M2 ve M3) ifadeleri \n",
    "# ihtiyac halinde 'Paint Type' colonunun missing valuelarinin doldurulmasi icin kullanilacak, bunun haricinde\n",
    "# bu kolonda fabrika orginal ruhsat renkleri oldugu icin cok detayli renk kartelasi olusturdugundan drop edilecektir ancak \n",
    "# 'Body_color' colonunun missing valuelarinin dolsurulmasi icin de yine bbu kolondan faydalanilabilir. Bu notebookta drop edecegiz."
   ]
  },
  {
   "cell_type": "code",
   "execution_count": null,
   "metadata": {},
   "outputs": [],
   "source": []
  },
  {
   "cell_type": "markdown",
   "metadata": {},
   "source": [
    "# COLUMN-26 Upholstery"
   ]
  },
  {
   "cell_type": "code",
   "execution_count": 147,
   "metadata": {},
   "outputs": [
    {
     "data": {
      "text/plain": [
       "0           [\\nCloth, Black\\n]\n",
       "1            [\\nCloth, Grey\\n]\n",
       "2           [\\nCloth, Black\\n]\n",
       "3                          NaN\n",
       "4           [\\nCloth, Black\\n]\n",
       "5    [\\nPart leather, Black\\n]\n",
       "6    [\\nPart leather, Black\\n]\n",
       "7           [\\nCloth, Black\\n]\n",
       "8            [\\nCloth, Grey\\n]\n",
       "9                          NaN\n",
       "Name: Upholstery, dtype: object"
      ]
     },
     "execution_count": 147,
     "metadata": {},
     "output_type": "execute_result"
    }
   ],
   "source": [
    "df1['Upholstery'].head(10)"
   ]
  },
  {
   "cell_type": "code",
   "execution_count": null,
   "metadata": {},
   "outputs": [],
   "source": []
  },
  {
   "cell_type": "code",
   "execution_count": null,
   "metadata": {},
   "outputs": [],
   "source": []
  },
  {
   "cell_type": "code",
   "execution_count": 159,
   "metadata": {},
   "outputs": [
    {
     "ename": "TypeError",
     "evalue": "unhashable type: 'list'",
     "output_type": "error",
     "traceback": [
      "\u001b[1;31m---------------------------------------------------------------------------\u001b[0m",
      "\u001b[1;31mTypeError\u001b[0m                                 Traceback (most recent call last)",
      "\u001b[1;32mpandas\\_libs\\hashtable_class_helper.pxi\u001b[0m in \u001b[0;36mpandas._libs.hashtable.PyObjectHashTable.map_locations\u001b[1;34m()\u001b[0m\n",
      "\u001b[1;31mTypeError\u001b[0m: unhashable type: 'list'"
     ]
    },
    {
     "name": "stderr",
     "output_type": "stream",
     "text": [
      "Exception ignored in: 'pandas._libs.index.IndexEngine._call_map_locations'\n",
      "Traceback (most recent call last):\n",
      "  File \"pandas\\_libs\\hashtable_class_helper.pxi\", line 4588, in pandas._libs.hashtable.PyObjectHashTable.map_locations\n",
      "TypeError: unhashable type: 'list'\n"
     ]
    },
    {
     "data": {
      "text/plain": [
       "[\\nCloth, Black\\n]           5821\n",
       "[\\nPart leather, Black\\n]    1121\n",
       "[\\nCloth\\n]                  1005\n",
       "[\\nCloth, Grey\\n]             891\n",
       "[\\nCloth, Other\\n]            639\n",
       "[\\nFull leather, Black\\n]     575\n",
       "[\\nBlack\\n]                   491\n",
       "[\\nGrey\\n]                    273\n",
       "[\\nOther, Other\\n]            182\n",
       "[\\nPart leather\\n]            140\n",
       "[\\nFull leather\\n]            139\n",
       "[\\nFull leather, Brown\\n]     116\n",
       "[\\nPart leather, Grey\\n]      116\n",
       "[\\nOther, Black\\n]            110\n",
       "[\\nFull leather, Other\\n]      72\n",
       "[\\nFull leather, Grey\\n]       67\n",
       "[\\nPart leather, Other\\n]      65\n",
       "[\\nOther\\n]                    56\n",
       "[\\nPart leather, Brown\\n]      50\n",
       "[\\nalcantara, Black\\n]         47\n",
       "[\\nVelour, Black\\n]            36\n",
       "[\\nFull leather, Beige\\n]      36\n",
       "[\\nCloth, Brown\\n]             28\n",
       "[\\nVelour\\n]                   16\n",
       "[\\nOther, Grey\\n]              15\n",
       "[\\nCloth, Beige\\n]             13\n",
       "[\\nBrown\\n]                    12\n",
       "[\\nCloth, Blue\\n]              12\n",
       "[\\nCloth, White\\n]              8\n",
       "[\\nVelour, Grey\\n]              8\n",
       "[\\nalcantara, Grey\\n]           6\n",
       "[\\nCloth, Red\\n]                5\n",
       "[\\nOther, Yellow\\n]             4\n",
       "[\\nPart leather, Red\\n]         3\n",
       "[\\nBeige\\n]                     3\n",
       "[\\nBlue\\n]                      2\n",
       "[\\nFull leather, Blue\\n]        2\n",
       "[\\nalcantara\\n]                 2\n",
       "[\\nalcantara, Other\\n]          2\n",
       "[\\nPart leather, Beige\\n]       2\n",
       "[\\nWhite\\n]                     2\n",
       "[\\nPart leather, White\\n]       2\n",
       "[\\nFull leather, Red\\n]         1\n",
       "[\\nOther, Brown\\n]              1\n",
       "[\\nCloth, Orange\\n]             1\n",
       "[\\nFull leather, White\\n]       1\n",
       "Name: Upholstery, dtype: int64"
      ]
     },
     "execution_count": 159,
     "metadata": {},
     "output_type": "execute_result"
    }
   ],
   "source": [
    "df1['Upholstery'].value_counts()"
   ]
  },
  {
   "cell_type": "code",
   "execution_count": 149,
   "metadata": {},
   "outputs": [
    {
     "data": {
      "text/plain": [
       "3720"
      ]
     },
     "execution_count": 149,
     "metadata": {},
     "output_type": "execute_result"
    }
   ],
   "source": [
    "df1['Upholstery'].isnull().sum()"
   ]
  },
  {
   "cell_type": "code",
   "execution_count": null,
   "metadata": {},
   "outputs": [],
   "source": [
    "# Bu sütundan 'upholstery_type' ve 'upholstery_color' isimli 2 sütun oluşturulacak ve 'Upholstery' sütunu DROP edilecek"
   ]
  },
  {
   "cell_type": "code",
   "execution_count": 127,
   "metadata": {},
   "outputs": [
    {
     "data": {
      "text/plain": [
       "0           Cloth, Black\n",
       "1            Cloth, Grey\n",
       "2           Cloth, Black\n",
       "3                    NaN\n",
       "4           Cloth, Black\n",
       "5    Part leather, Black\n",
       "6    Part leather, Black\n",
       "7           Cloth, Black\n",
       "8            Cloth, Grey\n",
       "9                    NaN\n",
       "Name: upholstery_type, dtype: object"
      ]
     },
     "execution_count": 127,
     "metadata": {},
     "output_type": "execute_result"
    }
   ],
   "source": [
    "# 'upholstery_type'\n",
    "\n",
    "# df1['Upholstery'].map(lambda x : x[0].split(',')[1].strip('\\n ') if len(x[0].split(',')) ==2\\\n",
    "                 # else x[0].strip('\\n '), na_action = 'ignore')\n",
    "\n",
    "\n",
    "\n",
    "\n",
    "df1['upholstery_type'] = [item[0] if type(item) == list else item for item in df1['Upholstery']]\n",
    "df1['upholstery_type'] = df1['upholstery_type'].str.strip('\\n')\n",
    "df1['upholstery_type'].head(10)"
   ]
  },
  {
   "cell_type": "code",
   "execution_count": null,
   "metadata": {},
   "outputs": [],
   "source": [
    "df1['upholstery_type'] = df1['Upholstery'].map(lambda x : x[0].split(',')[1].strip('\\n ') if len(x[0].split(',')) ==2\\\n",
    "                  else x[0].strip('\\n '), na_action = 'ignore')"
   ]
  },
  {
   "cell_type": "code",
   "execution_count": null,
   "metadata": {},
   "outputs": [],
   "source": [
    "df1['upholstery_type'].value_counts(dropna=False)"
   ]
  },
  {
   "cell_type": "code",
   "execution_count": null,
   "metadata": {},
   "outputs": [],
   "source": [
    "df1['upholstery_type'] = df1['upholstery_type'].fillna('Other')"
   ]
  },
  {
   "cell_type": "code",
   "execution_count": null,
   "metadata": {},
   "outputs": [],
   "source": [
    "df1['upholstery_type'].value_counts(dropna=False)"
   ]
  },
  {
   "cell_type": "code",
   "execution_count": null,
   "metadata": {},
   "outputs": [],
   "source": [
    "df1['upholstery_type'].isnull().sum()"
   ]
  },
  {
   "cell_type": "code",
   "execution_count": null,
   "metadata": {},
   "outputs": [],
   "source": []
  },
  {
   "cell_type": "code",
   "execution_count": null,
   "metadata": {},
   "outputs": [],
   "source": [
    "# 'upholstery_color'\n",
    "\n",
    "df1['Upholstery'].map(lambda x:x[0].strip('\\n').split(',')[0], na_action = 'ignore')"
   ]
  },
  {
   "cell_type": "code",
   "execution_count": null,
   "metadata": {},
   "outputs": [],
   "source": [
    "df1['Upholstery'].head(2)"
   ]
  },
  {
   "cell_type": "code",
   "execution_count": null,
   "metadata": {},
   "outputs": [],
   "source": [
    "df1['Upholstery'].map(lambda x:x[0].strip('\\n').split(',')[-1], na_action = 'ignore')"
   ]
  },
  {
   "cell_type": "code",
   "execution_count": null,
   "metadata": {},
   "outputs": [],
   "source": []
  },
  {
   "cell_type": "code",
   "execution_count": null,
   "metadata": {},
   "outputs": [],
   "source": []
  },
  {
   "cell_type": "code",
   "execution_count": null,
   "metadata": {},
   "outputs": [],
   "source": []
  },
  {
   "cell_type": "code",
   "execution_count": null,
   "metadata": {},
   "outputs": [],
   "source": []
  },
  {
   "cell_type": "markdown",
   "metadata": {},
   "source": [
    "# COLUMN-27 Body (DROP)"
   ]
  },
  {
   "cell_type": "code",
   "execution_count": null,
   "metadata": {},
   "outputs": [],
   "source": [
    "# (3) 'body_type' ile beraber incelendiğinden DROP edilecek."
   ]
  },
  {
   "cell_type": "markdown",
   "metadata": {},
   "source": [
    "# COLUMN-28 Nr. of Doors (KEEP)"
   ]
  },
  {
   "cell_type": "code",
   "execution_count": null,
   "metadata": {},
   "outputs": [],
   "source": [
    "df1['Nr. of Doors'].value_counts(dropna=False)"
   ]
  },
  {
   "cell_type": "code",
   "execution_count": null,
   "metadata": {},
   "outputs": [],
   "source": [
    "df1['Nr. of Doors'] = df1['Nr. of Doors'].map(lambda x : float(x [0].strip('\\n')), na_action = 'ignore')"
   ]
  },
  {
   "cell_type": "code",
   "execution_count": null,
   "metadata": {},
   "outputs": [],
   "source": [
    "df1['Nr. of Doors'].value_counts(dropna=False)"
   ]
  },
  {
   "cell_type": "markdown",
   "metadata": {},
   "source": [
    "# COLUMN-29 Nr. of Seats (KEEP)"
   ]
  },
  {
   "cell_type": "code",
   "execution_count": null,
   "metadata": {},
   "outputs": [],
   "source": [
    "df1['Nr. of Seats'].value_counts(dropna=False)"
   ]
  },
  {
   "cell_type": "code",
   "execution_count": null,
   "metadata": {},
   "outputs": [],
   "source": [
    "df1['Nr. of Seats'] = df1['Nr. of Seats'].map(lambda x : float(x[0].strip('\\n')), na_action = 'ignore')"
   ]
  },
  {
   "cell_type": "code",
   "execution_count": null,
   "metadata": {},
   "outputs": [],
   "source": [
    "df1['Nr. of Seats'].value_counts(dropna=False)"
   ]
  },
  {
   "cell_type": "code",
   "execution_count": null,
   "metadata": {},
   "outputs": [],
   "source": []
  },
  {
   "cell_type": "markdown",
   "metadata": {},
   "source": [
    "# COLUMN-30 Model Code"
   ]
  },
  {
   "cell_type": "code",
   "execution_count": null,
   "metadata": {},
   "outputs": [],
   "source": [
    "df1['Model Code'].value_counts(dropna=False)"
   ]
  },
  {
   "cell_type": "markdown",
   "metadata": {},
   "source": [
    "# COLUMN-31 Gearing Type (KEEP)"
   ]
  },
  {
   "cell_type": "code",
   "execution_count": null,
   "metadata": {},
   "outputs": [],
   "source": [
    "df1['Gearing Type'].value_counts(dropna=False)"
   ]
  },
  {
   "cell_type": "code",
   "execution_count": null,
   "metadata": {},
   "outputs": [],
   "source": [
    "df1['Gearing Type'] = df1['Gearing Type'].map(lambda x: x[1].strip())"
   ]
  },
  {
   "cell_type": "code",
   "execution_count": null,
   "metadata": {},
   "outputs": [],
   "source": [
    "df1['Gearing Type'].value_counts(dropna=False)"
   ]
  },
  {
   "cell_type": "code",
   "execution_count": null,
   "metadata": {},
   "outputs": [],
   "source": []
  },
  {
   "cell_type": "code",
   "execution_count": null,
   "metadata": {},
   "outputs": [],
   "source": []
  },
  {
   "cell_type": "markdown",
   "metadata": {},
   "source": [
    "# COLUMN-32 Displacement (KEEP)"
   ]
  },
  {
   "cell_type": "code",
   "execution_count": null,
   "metadata": {},
   "outputs": [],
   "source": [
    "df1['Displacement'].value_counts(dropna=False)"
   ]
  },
  {
   "cell_type": "code",
   "execution_count": null,
   "metadata": {},
   "outputs": [],
   "source": [
    "df1[\"Displacement\"] = df1.Displacement.map(lambda x : x[0].strip(' cc\\n ').replace(',',''), na_action = 'ignore').astype(float)"
   ]
  },
  {
   "cell_type": "code",
   "execution_count": null,
   "metadata": {},
   "outputs": [],
   "source": [
    "df1['Displacement'].value_counts(dropna=False)"
   ]
  },
  {
   "cell_type": "markdown",
   "metadata": {},
   "source": [
    "# COLUMN-33 Cylinders (KEEP)"
   ]
  },
  {
   "cell_type": "code",
   "execution_count": null,
   "metadata": {},
   "outputs": [],
   "source": [
    "df1['Cylinders'].value_counts()"
   ]
  },
  {
   "cell_type": "code",
   "execution_count": null,
   "metadata": {},
   "outputs": [],
   "source": [
    "df1[\"Cylinders\"] = df1.Cylinders.map(lambda x: float(x[0].strip('\\n')), na_action = 'ignore')"
   ]
  },
  {
   "cell_type": "code",
   "execution_count": null,
   "metadata": {},
   "outputs": [],
   "source": [
    "df1['Cylinders'].value_counts()"
   ]
  },
  {
   "cell_type": "code",
   "execution_count": null,
   "metadata": {},
   "outputs": [],
   "source": []
  },
  {
   "cell_type": "markdown",
   "metadata": {},
   "source": [
    "# COLUMN- 34 Weight (DROP)"
   ]
  },
  {
   "cell_type": "code",
   "execution_count": 110,
   "metadata": {},
   "outputs": [
    {
     "ename": "TypeError",
     "evalue": "unhashable type: 'list'",
     "output_type": "error",
     "traceback": [
      "\u001b[1;31m---------------------------------------------------------------------------\u001b[0m",
      "\u001b[1;31mTypeError\u001b[0m                                 Traceback (most recent call last)",
      "\u001b[1;32mpandas\\_libs\\hashtable_class_helper.pxi\u001b[0m in \u001b[0;36mpandas._libs.hashtable.PyObjectHashTable.map_locations\u001b[1;34m()\u001b[0m\n",
      "\u001b[1;31mTypeError\u001b[0m: unhashable type: 'list'"
     ]
    },
    {
     "name": "stderr",
     "output_type": "stream",
     "text": [
      "Exception ignored in: 'pandas._libs.index.IndexEngine._call_map_locations'\n",
      "Traceback (most recent call last):\n",
      "  File \"pandas\\_libs\\hashtable_class_helper.pxi\", line 4588, in pandas._libs.hashtable.PyObjectHashTable.map_locations\n",
      "TypeError: unhashable type: 'list'\n"
     ]
    },
    {
     "data": {
      "text/plain": [
       "NaN               6974\n",
       "[\\n1,163 kg\\n]     574\n",
       "[\\n1,360 kg\\n]     356\n",
       "[\\n1,165 kg\\n]     301\n",
       "[\\n1,335 kg\\n]     242\n",
       "                  ... \n",
       "[\\n1,761 kg\\n]       1\n",
       "[\\n1,331 kg\\n]       1\n",
       "[\\n1,974 kg\\n]       1\n",
       "[\\n1,711 kg\\n]       1\n",
       "[\\n1,686 kg\\n]       1\n",
       "Name: Weight, Length: 435, dtype: int64"
      ]
     },
     "execution_count": 110,
     "metadata": {},
     "output_type": "execute_result"
    }
   ],
   "source": [
    "df['Weight'].value_counts(dropna=False)"
   ]
  },
  {
   "cell_type": "code",
   "execution_count": 111,
   "metadata": {},
   "outputs": [],
   "source": [
    "df['Weight'] = df.Weight.map(lambda x: float(x[0].strip('\\nkg ').replace(',','')), na_action = 'ignore')"
   ]
  },
  {
   "cell_type": "code",
   "execution_count": 112,
   "metadata": {},
   "outputs": [
    {
     "data": {
      "text/plain": [
       "NaN       6974\n",
       "1163.0     574\n",
       "1360.0     356\n",
       "1165.0     301\n",
       "1335.0     242\n",
       "          ... \n",
       "1161.0       1\n",
       "1254.0       1\n",
       "1379.0       1\n",
       "1575.0       1\n",
       "1159.0       1\n",
       "Name: Weight, Length: 435, dtype: int64"
      ]
     },
     "execution_count": 112,
     "metadata": {},
     "output_type": "execute_result"
    }
   ],
   "source": [
    "df['Weight'].value_counts(dropna=False)"
   ]
  },
  {
   "cell_type": "markdown",
   "metadata": {},
   "source": [
    "# COLUMN-35 Drive chain (KEEP)"
   ]
  },
  {
   "cell_type": "code",
   "execution_count": null,
   "metadata": {},
   "outputs": [],
   "source": [
    "df1['Drive chain'].value_counts(dropna=False)"
   ]
  },
  {
   "cell_type": "code",
   "execution_count": null,
   "metadata": {},
   "outputs": [],
   "source": [
    "df1['Drive chain'] = df['Drive chain'].map(lambda x : x[0].strip('\\n '), na_action = 'ignore')"
   ]
  },
  {
   "cell_type": "code",
   "execution_count": null,
   "metadata": {},
   "outputs": [],
   "source": [
    "df1['Drive chain'].value_counts(dropna=False)"
   ]
  },
  {
   "cell_type": "code",
   "execution_count": null,
   "metadata": {},
   "outputs": [],
   "source": []
  },
  {
   "cell_type": "markdown",
   "metadata": {},
   "source": [
    "# COLUMN-36 Fuel (KEEP)"
   ]
  },
  {
   "cell_type": "code",
   "execution_count": null,
   "metadata": {},
   "outputs": [],
   "source": [
    "df1['Fuel']"
   ]
  },
  {
   "cell_type": "code",
   "execution_count": null,
   "metadata": {},
   "outputs": [],
   "source": [
    "df1['Fuel'].isnull().sum()"
   ]
  },
  {
   "cell_type": "code",
   "execution_count": null,
   "metadata": {},
   "outputs": [],
   "source": [
    "df1['Fuel'].value_counts()"
   ]
  },
  {
   "cell_type": "code",
   "execution_count": null,
   "metadata": {},
   "outputs": [],
   "source": [
    "df1['Fuel'][3][1]"
   ]
  },
  {
   "cell_type": "code",
   "execution_count": null,
   "metadata": {},
   "outputs": [],
   "source": [
    "df1['Fuel'].map(lambda x : x[1], na_action = 'ignore')"
   ]
  },
  {
   "cell_type": "code",
   "execution_count": null,
   "metadata": {},
   "outputs": [],
   "source": [
    "df1['Fuel'] = df1['Fuel'].map(lambda x : x[1], na_action = 'ignore')"
   ]
  },
  {
   "cell_type": "code",
   "execution_count": null,
   "metadata": {},
   "outputs": [],
   "source": [
    "df1['Fuel'].value_counts(dropna=False)"
   ]
  },
  {
   "cell_type": "code",
   "execution_count": null,
   "metadata": {},
   "outputs": [],
   "source": [
    "df1['Fuel'].isnull().sum()"
   ]
  },
  {
   "cell_type": "code",
   "execution_count": null,
   "metadata": {},
   "outputs": [],
   "source": [
    "df1['Fuel'] = df1['Fuel'].str.replace('Super 95', 'Benzin')\\\n",
    ".str.replace('ElectricBenzin', 'Hybrid')\\\n",
    ".str.replace('Gasoline', 'Benzin')\\\n",
    ".str.replace('Super Plus 98', 'Benzin')\\\n",
    ".str.replace('Regular/Benzine 91', 'Benzin')\\\n",
    ".str.replace('(Particulate Filter)','')\\\n",
    ".str.replace('Super E10 95','Benzin')\\\n",
    ".str.replace('/','')\\\n",
    ".str.replace('RegularBenzine E10 91','Benzin')\\\n",
    ".str.replace('Super Plus E10 98','Benzin')\\\n",
    ".str.replace('Liquid petroleum gas', 'LPG')\\\n",
    ".str.replace('Domestic gas H', 'LPG')\\\n",
    ".str.replace('(','')\\\n",
    ".str.strip('() ')"
   ]
  },
  {
   "cell_type": "code",
   "execution_count": null,
   "metadata": {},
   "outputs": [],
   "source": [
    "df1['Fuel'].value_counts() # çift olan değerleri teke indirmek için set yapılabilir"
   ]
  },
  {
   "cell_type": "code",
   "execution_count": null,
   "metadata": {},
   "outputs": [],
   "source": [
    "df1['Fuel'] = df1['Fuel'].map(lambda x :list(set(x.split()))[0], na_action = 'ignore')"
   ]
  },
  {
   "cell_type": "code",
   "execution_count": null,
   "metadata": {},
   "outputs": [],
   "source": [
    "df1['Fuel'].value_counts()"
   ]
  },
  {
   "cell_type": "code",
   "execution_count": null,
   "metadata": {},
   "outputs": [],
   "source": [
    "df1['Fuel'].isnull().sum()"
   ]
  },
  {
   "cell_type": "code",
   "execution_count": null,
   "metadata": {},
   "outputs": [],
   "source": [
    "# Araçla karşılaştırmalı doğru veri girildiği test edilecek (Biogaz vd)"
   ]
  },
  {
   "cell_type": "code",
   "execution_count": null,
   "metadata": {},
   "outputs": [],
   "source": [
    "df1[df1['Fuel']=='Others']"
   ]
  },
  {
   "cell_type": "code",
   "execution_count": null,
   "metadata": {},
   "outputs": [],
   "source": [
    "# (819 ve 4003, 11677) diesel olacak, (2885, 10374, 14500) benzin olacak"
   ]
  },
  {
   "cell_type": "code",
   "execution_count": null,
   "metadata": {},
   "outputs": [],
   "source": []
  },
  {
   "cell_type": "markdown",
   "metadata": {},
   "source": [
    "# COLUMN-37  Consumption (DROP)"
   ]
  },
  {
   "cell_type": "code",
   "execution_count": null,
   "metadata": {},
   "outputs": [],
   "source": [
    "df1['Consumption'].value_counts(dropna = False).head(20)"
   ]
  },
  {
   "cell_type": "code",
   "execution_count": null,
   "metadata": {},
   "outputs": [],
   "source": [
    "df1['Consumption'].isnull().sum()"
   ]
  },
  {
   "cell_type": "code",
   "execution_count": null,
   "metadata": {},
   "outputs": [],
   "source": [
    "def parser1(x):\n",
    "    if type(x) == float:\n",
    "        return np.nan\n",
    "    elif type(x[0]) == list:\n",
    "        if x[0] != []:\n",
    "            return x[0][0]\n",
    "        else:\n",
    "            return x[1]\n",
    "    else :\n",
    "        return x[1]\n",
    "    \n",
    "def parser2(x):\n",
    "    if type(x) == float:\n",
    "        return np.nan\n",
    "    elif type(x[0]) == list:\n",
    "        if x[1] != []:\n",
    "            return x[1][0]\n",
    "        else:\n",
    "            return np.nan\n",
    "    elif x[3].endswith(')'):\n",
    "        return x[3]\n",
    "    else:\n",
    "        return np.nan\n",
    "    \n",
    "def parser3(x):\n",
    "    if type(x) == float:\n",
    "        return np.nan\n",
    "    elif type(x[0]) == list:\n",
    "        if x[2] != []:\n",
    "            return x[2][0]\n",
    "        else:\n",
    "            return np.nan\n",
    "    elif type(x[0]) != list and x[3].endswith(')'):\n",
    "        return x[5] \n",
    "    else:\n",
    "        return np.nan "
   ]
  },
  {
   "cell_type": "code",
   "execution_count": null,
   "metadata": {},
   "outputs": [],
   "source": [
    "df1['cons_comb'] = df1.Consumption.apply(parser1)\n",
    "df1['cons_comb'] "
   ]
  },
  {
   "cell_type": "code",
   "execution_count": null,
   "metadata": {},
   "outputs": [],
   "source": [
    "df1['cons_city'] = df1.Consumption.apply(parser2)\n",
    "df1['cons_city']"
   ]
  },
  {
   "cell_type": "code",
   "execution_count": null,
   "metadata": {},
   "outputs": [],
   "source": [
    "df1['cons_country'] = df1.Consumption.apply(parser3)\n",
    "df1['cons_country']"
   ]
  },
  {
   "cell_type": "code",
   "execution_count": null,
   "metadata": {},
   "outputs": [],
   "source": [
    "df['cons_comb'] = df.Consumption.apply(parser1).str.extract('(\\d{1,2}.\\d|\\d{1,3})')[0].astype(\"float\")\n",
    "df['cons_city'] = df.Consumption.apply(parser2).str.extract('(\\d{1,2}.\\d|\\d{1,3})')[0].astype(\"float\")\n",
    "df['cons_country'] = df.Consumption.apply(parser3).str.extract('(\\d{1,2}.\\d|\\d{1,3})')[0].astype(\"float\")"
   ]
  },
  {
   "cell_type": "code",
   "execution_count": null,
   "metadata": {},
   "outputs": [],
   "source": [
    "df['cons_comb']"
   ]
  },
  {
   "cell_type": "code",
   "execution_count": null,
   "metadata": {},
   "outputs": [],
   "source": [
    "df['cons_comb'].isnull().sum()"
   ]
  },
  {
   "cell_type": "code",
   "execution_count": null,
   "metadata": {},
   "outputs": [],
   "source": []
  },
  {
   "cell_type": "markdown",
   "metadata": {},
   "source": [
    "# COLUMN-38 CO2 Emission (KEEP)"
   ]
  },
  {
   "cell_type": "code",
   "execution_count": null,
   "metadata": {},
   "outputs": [],
   "source": [
    "df1['CO2 Emission'].head(1)"
   ]
  },
  {
   "cell_type": "code",
   "execution_count": null,
   "metadata": {},
   "outputs": [],
   "source": [
    "df1['CO2 Emission'].isnull().sum()"
   ]
  },
  {
   "cell_type": "code",
   "execution_count": null,
   "metadata": {},
   "outputs": [],
   "source": [
    "df1['CO2 Emission'] = df1['CO2 Emission'].map( lambda x: float(x.replace(' g CO2/km', '').replace(',', '.')), na_action='ignore')\n",
    "df1['CO2 Emission']  # We need only values to enter to the ML Model"
   ]
  },
  {
   "cell_type": "code",
   "execution_count": null,
   "metadata": {},
   "outputs": [],
   "source": [
    "df1['CO2 Emission'].unique()\n",
    "# Some values seem wrong and somes are no value, we will fill th with correct one."
   ]
  },
  {
   "cell_type": "code",
   "execution_count": null,
   "metadata": {},
   "outputs": [],
   "source": [
    "df1['Model Code'] = df1['Model Code'].map(lambda x : x[0].strip('\\n'), na_action = 'ignore')\n",
    "df1['Model Code']\n",
    "# df1['Model Code'] = df1[df1['CO2 Emission'].isna()==True]['Model Code'].map(lambda x : x[0].strip('\\n'), na_action = 'ignore')\n",
    "# We could benefit from Model Code, Make Model, Body Type and Description to fill the missing values."
   ]
  },
  {
   "cell_type": "code",
   "execution_count": null,
   "metadata": {},
   "outputs": [],
   "source": [
    "df1[(df1['CO2 Emission']<=90) | (df1['CO2 Emission']>=190)][['CO2 Emission','Model Code','make_model','body_type','short_description']]\n",
    "# We need to decide logical min and max threshold values to correct to the wrong values"
   ]
  },
  {
   "cell_type": "code",
   "execution_count": null,
   "metadata": {},
   "outputs": [],
   "source": [
    "df1[df1['CO2 Emission'].isna()==True][['CO2 Emission','Model Code','make_model','body_type','short_description']].sample(10)\n",
    "# We could use Model Code','make_model','body_type','short_description' columns \n",
    "# to find and fill the missing(NaN) 'CO2 Emission' values with correct one too. \n",
    "# Or for this purpose we could easyly benefit from avarage value of same model cars."
   ]
  },
  {
   "cell_type": "code",
   "execution_count": null,
   "metadata": {},
   "outputs": [],
   "source": [
    "df1[df1['CO2 Emission'].isna()==True][['CO2 Emission','Emission Class','Next Inspection', 'Inspection new', 'Warranty',\n",
    "       'Full Service', 'Non-smoking Vehicle']].sample(10)\n",
    "# We could also use 'Emission Class','Next Inspection', 'Inspection new', 'Warranty'columns \n",
    "# to fill the wrong or missing 'CO2 Emission' values. Because some of them also involve 'CO2 Emission' values. \n",
    "# We could merge all of these columns in one column and get it the 'CO2 Emission' values from it."
   ]
  },
  {
   "cell_type": "code",
   "execution_count": null,
   "metadata": {},
   "outputs": [],
   "source": [
    "df1[df1['CO2 Emission'].isna()==True]['make_model'].unique()"
   ]
  },
  {
   "cell_type": "code",
   "execution_count": null,
   "metadata": {},
   "outputs": [],
   "source": [
    "df1[df1['CO2 Emission'].isna()==True]['Model Code'].unique()"
   ]
  },
  {
   "cell_type": "code",
   "execution_count": null,
   "metadata": {},
   "outputs": [],
   "source": [
    "df1[df1['CO2 Emission'].isna()==True][['CO2 Emission','make_model','Model Code', 'short_description']].sort_values(by='Model Code')"
   ]
  },
  {
   "cell_type": "code",
   "execution_count": null,
   "metadata": {},
   "outputs": [],
   "source": [
    "#pandas.set_option('display.max_rows', None)\n",
    "df1[df1['CO2 Emission'].isna()==True]['Model Code'].value_counts()"
   ]
  },
  {
   "cell_type": "code",
   "execution_count": null,
   "metadata": {},
   "outputs": [],
   "source": [
    "df1[(df1['CO2 Emission'].isnull()) & (df1['CO2 Emission'].notnull())]"
   ]
  },
  {
   "cell_type": "code",
   "execution_count": null,
   "metadata": {},
   "outputs": [],
   "source": [
    "df1[(df1['CO2 Emission'].notnull()) & (df['CO2 Emission'].isnull())]"
   ]
  },
  {
   "cell_type": "code",
   "execution_count": null,
   "metadata": {},
   "outputs": [],
   "source": [
    "df['make_model']"
   ]
  },
  {
   "cell_type": "code",
   "execution_count": null,
   "metadata": {},
   "outputs": [],
   "source": []
  },
  {
   "cell_type": "markdown",
   "metadata": {},
   "source": [
    "# COLUMN-39 Emission Class (KEEP) "
   ]
  },
  {
   "cell_type": "code",
   "execution_count": null,
   "metadata": {},
   "outputs": [],
   "source": [
    "df1['Emission Class'].head(3)"
   ]
  },
  {
   "cell_type": "code",
   "execution_count": null,
   "metadata": {},
   "outputs": [],
   "source": [
    "df1['Emission Class'].isnull().sum()"
   ]
  },
  {
   "cell_type": "code",
   "execution_count": null,
   "metadata": {},
   "outputs": [],
   "source": [
    "df1['Emission Class'].value_counts(dropna=False)"
   ]
  },
  {
   "cell_type": "code",
   "execution_count": null,
   "metadata": {},
   "outputs": [],
   "source": [
    "df1['Emission Class'] = df1['Emission Class'].map(lambda x : np.nan if x[0] == [] else (x[0].strip('\\n')), na_action = 'ignore')"
   ]
  },
  {
   "cell_type": "code",
   "execution_count": null,
   "metadata": {},
   "outputs": [],
   "source": [
    "df1['Emission Class'].value_counts(dropna=False)"
   ]
  },
  {
   "cell_type": "code",
   "execution_count": null,
   "metadata": {},
   "outputs": [],
   "source": [
    "df1[df1['Emission Class'].isna()==True][['Model Code','CO2 Emission','Emission Class','Next Inspection', 'Inspection new', 'Warranty',\n",
    "       'Full Service', 'Non-smoking Vehicle','description']].sample(5)"
   ]
  },
  {
   "cell_type": "code",
   "execution_count": null,
   "metadata": {},
   "outputs": [],
   "source": [
    "df1['FS'] = df1['Full Service'].map(lambda x : x[-1].strip('\\n'), na_action = 'ignore')\n",
    "df1['NI'] = df1['Next Inspection'].map(lambda x : x[-1].strip('\\n'), na_action = 'ignore')\n",
    "df1['IN'] = df1['Inspection new'].map(lambda x : x[-1].strip('\\n'), na_action = 'ignore')\n",
    "df1['W'] = df1['Warranty'].map(lambda x : x[-1].strip('\\n'), na_action = 'ignore')\n",
    "df1['NS'] = df1['Non-smoking Vehicle'].map(lambda x : x[-1].strip('\\n'), na_action = 'ignore')"
   ]
  },
  {
   "cell_type": "code",
   "execution_count": null,
   "metadata": {},
   "outputs": [],
   "source": [
    "df1[['CO2 Emission', 'Emission Class', 'Emission Label','FS', 'NI', 'IN', 'W', 'NS']]\n",
    "# We could use Model Code','make_model','body_type','short_description' columns \n",
    "# to find and fill the missing(NaN) 'CO2 Emission' values with correct one too. \n",
    "# Or for this purpose we could easyly benefit from avarage value of same model cars."
   ]
  },
  {
   "cell_type": "code",
   "execution_count": null,
   "metadata": {},
   "outputs": [],
   "source": [
    "df1['EuroControl'] = df1['FS'] + ',' + df1['NI'] + ',' +df1['IN'] + ',' + df1['W'] + ',' + df1['NS']"
   ]
  },
  {
   "cell_type": "code",
   "execution_count": null,
   "metadata": {},
   "outputs": [],
   "source": [
    "df1['EuroControl'] = df1['EuroControl'].map(lambda x :list(set(x.split(','))), na_action = 'ignore')"
   ]
  },
  {
   "cell_type": "code",
   "execution_count": null,
   "metadata": {},
   "outputs": [],
   "source": [
    "df1['EuroControl'].sample(15)"
   ]
  },
  {
   "cell_type": "code",
   "execution_count": null,
   "metadata": {},
   "outputs": [],
   "source": []
  },
  {
   "cell_type": "markdown",
   "metadata": {},
   "source": [
    "# COLUMN-40 Comfort & Convenience"
   ]
  },
  {
   "cell_type": "code",
   "execution_count": null,
   "metadata": {},
   "outputs": [],
   "source": []
  },
  {
   "cell_type": "markdown",
   "metadata": {},
   "source": [
    "# COLUMN-41 Entertainment & Media  "
   ]
  },
  {
   "cell_type": "code",
   "execution_count": null,
   "metadata": {},
   "outputs": [],
   "source": []
  },
  {
   "cell_type": "markdown",
   "metadata": {},
   "source": [
    "# COLUMN-42 Extras"
   ]
  },
  {
   "cell_type": "code",
   "execution_count": null,
   "metadata": {},
   "outputs": [],
   "source": []
  },
  {
   "cell_type": "markdown",
   "metadata": {},
   "source": [
    "# COLUMN-43 Safety & Security"
   ]
  },
  {
   "cell_type": "code",
   "execution_count": null,
   "metadata": {},
   "outputs": [],
   "source": []
  },
  {
   "cell_type": "markdown",
   "metadata": {},
   "source": [
    "# COLUMN-44  description"
   ]
  },
  {
   "cell_type": "code",
   "execution_count": null,
   "metadata": {},
   "outputs": [],
   "source": []
  },
  {
   "cell_type": "markdown",
   "metadata": {},
   "source": [
    "# COLUMN-45  Emission Label (KEEP)\n",
    "\n",
    "NULL values will be filled via other columns."
   ]
  },
  {
   "cell_type": "code",
   "execution_count": null,
   "metadata": {},
   "outputs": [],
   "source": [
    "df1['Emission Label'].head(3)"
   ]
  },
  {
   "cell_type": "code",
   "execution_count": null,
   "metadata": {},
   "outputs": [],
   "source": [
    "df1['Emission Label'].value_counts(dropna=False)"
   ]
  },
  {
   "cell_type": "code",
   "execution_count": null,
   "metadata": {},
   "outputs": [],
   "source": [
    "df1['Emission Label'].isnull().sum()"
   ]
  },
  {
   "cell_type": "code",
   "execution_count": null,
   "metadata": {},
   "outputs": [],
   "source": [
    "df1['Emission Label'].sample(5)"
   ]
  },
  {
   "cell_type": "code",
   "execution_count": null,
   "metadata": {},
   "outputs": [],
   "source": [
    "df1['Emission Label'] = df1['Emission Label'].map(lambda x : np.nan if x[0] == [] else (x[0].strip('\\n')[0]), na_action = 'ignore')"
   ]
  },
  {
   "cell_type": "code",
   "execution_count": null,
   "metadata": {},
   "outputs": [],
   "source": [
    "df1['Emission Label']"
   ]
  },
  {
   "cell_type": "code",
   "execution_count": null,
   "metadata": {},
   "outputs": [],
   "source": [
    "df1['Emission Label'].value_counts(dropna=False)"
   ]
  },
  {
   "cell_type": "code",
   "execution_count": null,
   "metadata": {},
   "outputs": [],
   "source": [
    "df1['Emission Label'].isnull().sum()"
   ]
  },
  {
   "cell_type": "markdown",
   "metadata": {},
   "source": [
    "# COLUMN-46 Gears (KEEP)"
   ]
  },
  {
   "cell_type": "code",
   "execution_count": null,
   "metadata": {},
   "outputs": [],
   "source": [
    "df1['Gears'].value_counts(dropna=False)"
   ]
  },
  {
   "cell_type": "code",
   "execution_count": null,
   "metadata": {},
   "outputs": [],
   "source": [
    "df1['Gears'] = df1['Gears'].map(lambda x: float(x[0].strip('\\n')), na_action = 'ignore')"
   ]
  },
  {
   "cell_type": "code",
   "execution_count": null,
   "metadata": {},
   "outputs": [],
   "source": [
    "df1['Gears'].value_counts(dropna=False)"
   ]
  },
  {
   "cell_type": "code",
   "execution_count": null,
   "metadata": {},
   "outputs": [],
   "source": []
  },
  {
   "cell_type": "code",
   "execution_count": null,
   "metadata": {},
   "outputs": [],
   "source": []
  },
  {
   "cell_type": "markdown",
   "metadata": {},
   "source": [
    "# COLUMN-47 Country version"
   ]
  },
  {
   "cell_type": "code",
   "execution_count": null,
   "metadata": {},
   "outputs": [],
   "source": []
  },
  {
   "cell_type": "markdown",
   "metadata": {},
   "source": [
    "# COLUMN-48 Electricity consumption"
   ]
  },
  {
   "cell_type": "code",
   "execution_count": null,
   "metadata": {},
   "outputs": [],
   "source": []
  },
  {
   "cell_type": "markdown",
   "metadata": {},
   "source": [
    "# COLUMN-49 Last Service Date "
   ]
  },
  {
   "cell_type": "code",
   "execution_count": null,
   "metadata": {},
   "outputs": [],
   "source": []
  },
  {
   "cell_type": "markdown",
   "metadata": {},
   "source": [
    "# COLUMN-50 Other Fuel Types (DROP)\n",
    "\n",
    "DROP edilecek"
   ]
  },
  {
   "cell_type": "code",
   "execution_count": null,
   "metadata": {},
   "outputs": [],
   "source": [
    "df1['Other Fuel Types']"
   ]
  },
  {
   "cell_type": "code",
   "execution_count": null,
   "metadata": {},
   "outputs": [],
   "source": [
    "df1['Other Fuel Types'].isnull().sum()"
   ]
  },
  {
   "cell_type": "code",
   "execution_count": null,
   "metadata": {},
   "outputs": [],
   "source": [
    "df1['Other Fuel Types'].value_counts()"
   ]
  },
  {
   "cell_type": "code",
   "execution_count": null,
   "metadata": {},
   "outputs": [],
   "source": [
    "# 'Other Fuel Types' sütununun içeriği boş olduğundan DROP edilecek."
   ]
  },
  {
   "cell_type": "code",
   "execution_count": null,
   "metadata": {},
   "outputs": [],
   "source": []
  },
  {
   "cell_type": "markdown",
   "metadata": {},
   "source": [
    "# COLUMN-51 Availability"
   ]
  },
  {
   "cell_type": "code",
   "execution_count": null,
   "metadata": {},
   "outputs": [],
   "source": []
  },
  {
   "cell_type": "markdown",
   "metadata": {},
   "source": [
    "# COLUMN-52 Last Timing Belt Service Date"
   ]
  },
  {
   "cell_type": "code",
   "execution_count": null,
   "metadata": {},
   "outputs": [],
   "source": []
  },
  {
   "cell_type": "markdown",
   "metadata": {},
   "source": [
    "# COLUMN-53 Available from"
   ]
  },
  {
   "cell_type": "code",
   "execution_count": 68,
   "metadata": {},
   "outputs": [
    {
     "ename": "KeyError",
     "evalue": "\"None of [Index(['\\\\n', '\\\\n', '\\\\n4 (Green)\\\\n'], dtype='object')] are in the [index]\"",
     "output_type": "error",
     "traceback": [
      "\u001b[1;31m---------------------------------------------------------------------------\u001b[0m",
      "\u001b[1;31mKeyError\u001b[0m                                  Traceback (most recent call last)",
      "\u001b[1;32m<ipython-input-68-778c44472856>\u001b[0m in \u001b[0;36m<module>\u001b[1;34m\u001b[0m\n\u001b[0;32m      3\u001b[0m         \u001b[0mprint\u001b[0m\u001b[1;33m(\u001b[0m\u001b[0mnp\u001b[0m\u001b[1;33m.\u001b[0m\u001b[0mnan\u001b[0m\u001b[1;33m)\u001b[0m\u001b[1;33m\u001b[0m\u001b[1;33m\u001b[0m\u001b[0m\n\u001b[0;32m      4\u001b[0m     \u001b[1;32melif\u001b[0m \u001b[0mtype\u001b[0m\u001b[1;33m(\u001b[0m\u001b[0mx\u001b[0m\u001b[1;33m)\u001b[0m \u001b[1;33m==\u001b[0m \u001b[0mlist\u001b[0m\u001b[1;33m:\u001b[0m\u001b[1;33m\u001b[0m\u001b[1;33m\u001b[0m\u001b[0m\n\u001b[1;32m----> 5\u001b[1;33m         \u001b[0mprint\u001b[0m\u001b[1;33m(\u001b[0m\u001b[0mdf1\u001b[0m\u001b[1;33m[\u001b[0m\u001b[1;34m'Warranty'\u001b[0m\u001b[1;33m]\u001b[0m\u001b[1;33m[\u001b[0m\u001b[0mx\u001b[0m\u001b[1;33m]\u001b[0m\u001b[1;33m[\u001b[0m\u001b[1;36m0\u001b[0m\u001b[1;33m]\u001b[0m\u001b[1;33m.\u001b[0m\u001b[0mstr\u001b[0m\u001b[1;33m.\u001b[0m\u001b[0mstrip\u001b[0m\u001b[1;33m(\u001b[0m\u001b[1;34m'\\n'\u001b[0m\u001b[1;33m)\u001b[0m\u001b[1;33m)\u001b[0m\u001b[1;33m\u001b[0m\u001b[1;33m\u001b[0m\u001b[0m\n\u001b[0m\u001b[0;32m      6\u001b[0m     \u001b[1;32melse\u001b[0m\u001b[1;33m:\u001b[0m\u001b[1;33m\u001b[0m\u001b[1;33m\u001b[0m\u001b[0m\n\u001b[0;32m      7\u001b[0m         \u001b[0mprint\u001b[0m\u001b[1;33m(\u001b[0m\u001b[0mdf1\u001b[0m\u001b[1;33m[\u001b[0m\u001b[1;34m'Warranty'\u001b[0m\u001b[1;33m]\u001b[0m\u001b[1;33m[\u001b[0m\u001b[0mx\u001b[0m\u001b[1;33m]\u001b[0m\u001b[1;33m.\u001b[0m\u001b[0mstr\u001b[0m\u001b[1;33m.\u001b[0m\u001b[0mstrip\u001b[0m\u001b[1;33m(\u001b[0m\u001b[1;34m'\\n'\u001b[0m\u001b[1;33m)\u001b[0m\u001b[1;33m)\u001b[0m\u001b[1;33m\u001b[0m\u001b[1;33m\u001b[0m\u001b[0m\n",
      "\u001b[1;32m~\\anaconda3\\lib\\site-packages\\pandas\\core\\series.py\u001b[0m in \u001b[0;36m__getitem__\u001b[1;34m(self, key)\u001b[0m\n\u001b[0;32m    875\u001b[0m             \u001b[1;32mreturn\u001b[0m \u001b[0mself\u001b[0m\u001b[1;33m.\u001b[0m\u001b[0m_get_values\u001b[0m\u001b[1;33m(\u001b[0m\u001b[0mkey\u001b[0m\u001b[1;33m)\u001b[0m\u001b[1;33m\u001b[0m\u001b[1;33m\u001b[0m\u001b[0m\n\u001b[0;32m    876\u001b[0m \u001b[1;33m\u001b[0m\u001b[0m\n\u001b[1;32m--> 877\u001b[1;33m         \u001b[1;32mreturn\u001b[0m \u001b[0mself\u001b[0m\u001b[1;33m.\u001b[0m\u001b[0m_get_with\u001b[0m\u001b[1;33m(\u001b[0m\u001b[0mkey\u001b[0m\u001b[1;33m)\u001b[0m\u001b[1;33m\u001b[0m\u001b[1;33m\u001b[0m\u001b[0m\n\u001b[0m\u001b[0;32m    878\u001b[0m \u001b[1;33m\u001b[0m\u001b[0m\n\u001b[0;32m    879\u001b[0m     \u001b[1;32mdef\u001b[0m \u001b[0m_get_with\u001b[0m\u001b[1;33m(\u001b[0m\u001b[0mself\u001b[0m\u001b[1;33m,\u001b[0m \u001b[0mkey\u001b[0m\u001b[1;33m)\u001b[0m\u001b[1;33m:\u001b[0m\u001b[1;33m\u001b[0m\u001b[1;33m\u001b[0m\u001b[0m\n",
      "\u001b[1;32m~\\anaconda3\\lib\\site-packages\\pandas\\core\\series.py\u001b[0m in \u001b[0;36m_get_with\u001b[1;34m(self, key)\u001b[0m\n\u001b[0;32m    915\u001b[0m \u001b[1;33m\u001b[0m\u001b[0m\n\u001b[0;32m    916\u001b[0m         \u001b[1;31m# handle the dup indexing case GH#4246\u001b[0m\u001b[1;33m\u001b[0m\u001b[1;33m\u001b[0m\u001b[1;33m\u001b[0m\u001b[0m\n\u001b[1;32m--> 917\u001b[1;33m         \u001b[1;32mreturn\u001b[0m \u001b[0mself\u001b[0m\u001b[1;33m.\u001b[0m\u001b[0mloc\u001b[0m\u001b[1;33m[\u001b[0m\u001b[0mkey\u001b[0m\u001b[1;33m]\u001b[0m\u001b[1;33m\u001b[0m\u001b[1;33m\u001b[0m\u001b[0m\n\u001b[0m\u001b[0;32m    918\u001b[0m \u001b[1;33m\u001b[0m\u001b[0m\n\u001b[0;32m    919\u001b[0m     \u001b[1;32mdef\u001b[0m \u001b[0m_get_values_tuple\u001b[0m\u001b[1;33m(\u001b[0m\u001b[0mself\u001b[0m\u001b[1;33m,\u001b[0m \u001b[0mkey\u001b[0m\u001b[1;33m)\u001b[0m\u001b[1;33m:\u001b[0m\u001b[1;33m\u001b[0m\u001b[1;33m\u001b[0m\u001b[0m\n",
      "\u001b[1;32m~\\anaconda3\\lib\\site-packages\\pandas\\core\\indexing.py\u001b[0m in \u001b[0;36m__getitem__\u001b[1;34m(self, key)\u001b[0m\n\u001b[0;32m    893\u001b[0m \u001b[1;33m\u001b[0m\u001b[0m\n\u001b[0;32m    894\u001b[0m             \u001b[0mmaybe_callable\u001b[0m \u001b[1;33m=\u001b[0m \u001b[0mcom\u001b[0m\u001b[1;33m.\u001b[0m\u001b[0mapply_if_callable\u001b[0m\u001b[1;33m(\u001b[0m\u001b[0mkey\u001b[0m\u001b[1;33m,\u001b[0m \u001b[0mself\u001b[0m\u001b[1;33m.\u001b[0m\u001b[0mobj\u001b[0m\u001b[1;33m)\u001b[0m\u001b[1;33m\u001b[0m\u001b[1;33m\u001b[0m\u001b[0m\n\u001b[1;32m--> 895\u001b[1;33m             \u001b[1;32mreturn\u001b[0m \u001b[0mself\u001b[0m\u001b[1;33m.\u001b[0m\u001b[0m_getitem_axis\u001b[0m\u001b[1;33m(\u001b[0m\u001b[0mmaybe_callable\u001b[0m\u001b[1;33m,\u001b[0m \u001b[0maxis\u001b[0m\u001b[1;33m=\u001b[0m\u001b[0maxis\u001b[0m\u001b[1;33m)\u001b[0m\u001b[1;33m\u001b[0m\u001b[1;33m\u001b[0m\u001b[0m\n\u001b[0m\u001b[0;32m    896\u001b[0m \u001b[1;33m\u001b[0m\u001b[0m\n\u001b[0;32m    897\u001b[0m     \u001b[1;32mdef\u001b[0m \u001b[0m_is_scalar_access\u001b[0m\u001b[1;33m(\u001b[0m\u001b[0mself\u001b[0m\u001b[1;33m,\u001b[0m \u001b[0mkey\u001b[0m\u001b[1;33m:\u001b[0m \u001b[0mTuple\u001b[0m\u001b[1;33m)\u001b[0m\u001b[1;33m:\u001b[0m\u001b[1;33m\u001b[0m\u001b[1;33m\u001b[0m\u001b[0m\n",
      "\u001b[1;32m~\\anaconda3\\lib\\site-packages\\pandas\\core\\indexing.py\u001b[0m in \u001b[0;36m_getitem_axis\u001b[1;34m(self, key, axis)\u001b[0m\n\u001b[0;32m   1111\u001b[0m                     \u001b[1;32mraise\u001b[0m \u001b[0mValueError\u001b[0m\u001b[1;33m(\u001b[0m\u001b[1;34m\"Cannot index with multidimensional key\"\u001b[0m\u001b[1;33m)\u001b[0m\u001b[1;33m\u001b[0m\u001b[1;33m\u001b[0m\u001b[0m\n\u001b[0;32m   1112\u001b[0m \u001b[1;33m\u001b[0m\u001b[0m\n\u001b[1;32m-> 1113\u001b[1;33m                 \u001b[1;32mreturn\u001b[0m \u001b[0mself\u001b[0m\u001b[1;33m.\u001b[0m\u001b[0m_getitem_iterable\u001b[0m\u001b[1;33m(\u001b[0m\u001b[0mkey\u001b[0m\u001b[1;33m,\u001b[0m \u001b[0maxis\u001b[0m\u001b[1;33m=\u001b[0m\u001b[0maxis\u001b[0m\u001b[1;33m)\u001b[0m\u001b[1;33m\u001b[0m\u001b[1;33m\u001b[0m\u001b[0m\n\u001b[0m\u001b[0;32m   1114\u001b[0m \u001b[1;33m\u001b[0m\u001b[0m\n\u001b[0;32m   1115\u001b[0m             \u001b[1;31m# nested tuple slicing\u001b[0m\u001b[1;33m\u001b[0m\u001b[1;33m\u001b[0m\u001b[1;33m\u001b[0m\u001b[0m\n",
      "\u001b[1;32m~\\anaconda3\\lib\\site-packages\\pandas\\core\\indexing.py\u001b[0m in \u001b[0;36m_getitem_iterable\u001b[1;34m(self, key, axis)\u001b[0m\n\u001b[0;32m   1051\u001b[0m \u001b[1;33m\u001b[0m\u001b[0m\n\u001b[0;32m   1052\u001b[0m         \u001b[1;31m# A collection of keys\u001b[0m\u001b[1;33m\u001b[0m\u001b[1;33m\u001b[0m\u001b[1;33m\u001b[0m\u001b[0m\n\u001b[1;32m-> 1053\u001b[1;33m         \u001b[0mkeyarr\u001b[0m\u001b[1;33m,\u001b[0m \u001b[0mindexer\u001b[0m \u001b[1;33m=\u001b[0m \u001b[0mself\u001b[0m\u001b[1;33m.\u001b[0m\u001b[0m_get_listlike_indexer\u001b[0m\u001b[1;33m(\u001b[0m\u001b[0mkey\u001b[0m\u001b[1;33m,\u001b[0m \u001b[0maxis\u001b[0m\u001b[1;33m,\u001b[0m \u001b[0mraise_missing\u001b[0m\u001b[1;33m=\u001b[0m\u001b[1;32mFalse\u001b[0m\u001b[1;33m)\u001b[0m\u001b[1;33m\u001b[0m\u001b[1;33m\u001b[0m\u001b[0m\n\u001b[0m\u001b[0;32m   1054\u001b[0m         return self.obj._reindex_with_indexers(\n\u001b[0;32m   1055\u001b[0m             \u001b[1;33m{\u001b[0m\u001b[0maxis\u001b[0m\u001b[1;33m:\u001b[0m \u001b[1;33m[\u001b[0m\u001b[0mkeyarr\u001b[0m\u001b[1;33m,\u001b[0m \u001b[0mindexer\u001b[0m\u001b[1;33m]\u001b[0m\u001b[1;33m}\u001b[0m\u001b[1;33m,\u001b[0m \u001b[0mcopy\u001b[0m\u001b[1;33m=\u001b[0m\u001b[1;32mTrue\u001b[0m\u001b[1;33m,\u001b[0m \u001b[0mallow_dups\u001b[0m\u001b[1;33m=\u001b[0m\u001b[1;32mTrue\u001b[0m\u001b[1;33m\u001b[0m\u001b[1;33m\u001b[0m\u001b[0m\n",
      "\u001b[1;32m~\\anaconda3\\lib\\site-packages\\pandas\\core\\indexing.py\u001b[0m in \u001b[0;36m_get_listlike_indexer\u001b[1;34m(self, key, axis, raise_missing)\u001b[0m\n\u001b[0;32m   1264\u001b[0m             \u001b[0mkeyarr\u001b[0m\u001b[1;33m,\u001b[0m \u001b[0mindexer\u001b[0m\u001b[1;33m,\u001b[0m \u001b[0mnew_indexer\u001b[0m \u001b[1;33m=\u001b[0m \u001b[0max\u001b[0m\u001b[1;33m.\u001b[0m\u001b[0m_reindex_non_unique\u001b[0m\u001b[1;33m(\u001b[0m\u001b[0mkeyarr\u001b[0m\u001b[1;33m)\u001b[0m\u001b[1;33m\u001b[0m\u001b[1;33m\u001b[0m\u001b[0m\n\u001b[0;32m   1265\u001b[0m \u001b[1;33m\u001b[0m\u001b[0m\n\u001b[1;32m-> 1266\u001b[1;33m         \u001b[0mself\u001b[0m\u001b[1;33m.\u001b[0m\u001b[0m_validate_read_indexer\u001b[0m\u001b[1;33m(\u001b[0m\u001b[0mkeyarr\u001b[0m\u001b[1;33m,\u001b[0m \u001b[0mindexer\u001b[0m\u001b[1;33m,\u001b[0m \u001b[0maxis\u001b[0m\u001b[1;33m,\u001b[0m \u001b[0mraise_missing\u001b[0m\u001b[1;33m=\u001b[0m\u001b[0mraise_missing\u001b[0m\u001b[1;33m)\u001b[0m\u001b[1;33m\u001b[0m\u001b[1;33m\u001b[0m\u001b[0m\n\u001b[0m\u001b[0;32m   1267\u001b[0m         \u001b[1;32mreturn\u001b[0m \u001b[0mkeyarr\u001b[0m\u001b[1;33m,\u001b[0m \u001b[0mindexer\u001b[0m\u001b[1;33m\u001b[0m\u001b[1;33m\u001b[0m\u001b[0m\n\u001b[0;32m   1268\u001b[0m \u001b[1;33m\u001b[0m\u001b[0m\n",
      "\u001b[1;32m~\\anaconda3\\lib\\site-packages\\pandas\\core\\indexing.py\u001b[0m in \u001b[0;36m_validate_read_indexer\u001b[1;34m(self, key, indexer, axis, raise_missing)\u001b[0m\n\u001b[0;32m   1306\u001b[0m             \u001b[1;32mif\u001b[0m \u001b[0mmissing\u001b[0m \u001b[1;33m==\u001b[0m \u001b[0mlen\u001b[0m\u001b[1;33m(\u001b[0m\u001b[0mindexer\u001b[0m\u001b[1;33m)\u001b[0m\u001b[1;33m:\u001b[0m\u001b[1;33m\u001b[0m\u001b[1;33m\u001b[0m\u001b[0m\n\u001b[0;32m   1307\u001b[0m                 \u001b[0maxis_name\u001b[0m \u001b[1;33m=\u001b[0m \u001b[0mself\u001b[0m\u001b[1;33m.\u001b[0m\u001b[0mobj\u001b[0m\u001b[1;33m.\u001b[0m\u001b[0m_get_axis_name\u001b[0m\u001b[1;33m(\u001b[0m\u001b[0maxis\u001b[0m\u001b[1;33m)\u001b[0m\u001b[1;33m\u001b[0m\u001b[1;33m\u001b[0m\u001b[0m\n\u001b[1;32m-> 1308\u001b[1;33m                 \u001b[1;32mraise\u001b[0m \u001b[0mKeyError\u001b[0m\u001b[1;33m(\u001b[0m\u001b[1;34mf\"None of [{key}] are in the [{axis_name}]\"\u001b[0m\u001b[1;33m)\u001b[0m\u001b[1;33m\u001b[0m\u001b[1;33m\u001b[0m\u001b[0m\n\u001b[0m\u001b[0;32m   1309\u001b[0m \u001b[1;33m\u001b[0m\u001b[0m\n\u001b[0;32m   1310\u001b[0m             \u001b[0max\u001b[0m \u001b[1;33m=\u001b[0m \u001b[0mself\u001b[0m\u001b[1;33m.\u001b[0m\u001b[0mobj\u001b[0m\u001b[1;33m.\u001b[0m\u001b[0m_get_axis\u001b[0m\u001b[1;33m(\u001b[0m\u001b[0maxis\u001b[0m\u001b[1;33m)\u001b[0m\u001b[1;33m\u001b[0m\u001b[1;33m\u001b[0m\u001b[0m\n",
      "\u001b[1;31mKeyError\u001b[0m: \"None of [Index(['\\\\n', '\\\\n', '\\\\n4 (Green)\\\\n'], dtype='object')] are in the [index]\""
     ]
    }
   ],
   "source": [
    "for x in df1['Warranty']:\n",
    "    if type(x) == float:\n",
    "        print(np.nan)\n",
    "    elif type(x) == list:\n",
    "        print(df1['Warranty'][x][0].str.strip('\\n'))\n",
    "    else:\n",
    "        print(df1['Warranty'][x].str.strip('\\n'))"
   ]
  },
  {
   "cell_type": "code",
   "execution_count": 69,
   "metadata": {},
   "outputs": [
    {
     "ename": "SyntaxError",
     "evalue": "'return' outside function (<ipython-input-69-bea63d8c255d>, line 3)",
     "output_type": "error",
     "traceback": [
      "\u001b[1;36m  File \u001b[1;32m\"<ipython-input-69-bea63d8c255d>\"\u001b[1;36m, line \u001b[1;32m3\u001b[0m\n\u001b[1;33m    return np.nan\u001b[0m\n\u001b[1;37m    ^\u001b[0m\n\u001b[1;31mSyntaxError\u001b[0m\u001b[1;31m:\u001b[0m 'return' outside function\n"
     ]
    }
   ],
   "source": [
    "for x in df1['Warranty']:\n",
    "    if type(x) == float:\n",
    "        return np.nan\n",
    "    elif type(x) == list:\n",
    "        return df1['Warranty'][x][0].str.strip('\\n')\n",
    "    else:\n",
    "        return df1['Warranty'][x].str.strip('\\n')"
   ]
  },
  {
   "cell_type": "markdown",
   "metadata": {},
   "source": [
    "## Import Libraries and Data"
   ]
  },
  {
   "cell_type": "code",
   "execution_count": null,
   "metadata": {},
   "outputs": [],
   "source": [
    "df_dummied.to_csv(\"final_scout_dummy.csv\", index=False)"
   ]
  },
  {
   "cell_type": "code",
   "execution_count": null,
   "metadata": {},
   "outputs": [],
   "source": [
    "df.to_csv(\"final_scout_not_dummy.csv\", index=False)"
   ]
  }
 ],
 "metadata": {
  "kernelspec": {
   "display_name": "Python 3",
   "language": "python",
   "name": "python3"
  },
  "language_info": {
   "codemirror_mode": {
    "name": "ipython",
    "version": 3
   },
   "file_extension": ".py",
   "mimetype": "text/x-python",
   "name": "python",
   "nbconvert_exporter": "python",
   "pygments_lexer": "ipython3",
   "version": "3.8.8"
  }
 },
 "nbformat": 4,
 "nbformat_minor": 4
}
