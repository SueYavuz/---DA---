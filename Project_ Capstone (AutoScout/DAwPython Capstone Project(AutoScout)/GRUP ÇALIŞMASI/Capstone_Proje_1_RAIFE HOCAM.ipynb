{
 "cells": [
  {
   "cell_type": "code",
   "execution_count": 3,
   "metadata": {},
   "outputs": [],
   "source": [
    "import numpy as np\n",
    "import pandas as pd\n",
    "import seaborn as sns\n",
    "import warnings\n",
    "warnings.filterwarnings(\"ignore\")\n",
    "pd.set_option(\"display.max_columns\", None)   # head() yaptığında tüm columnları yan yana görebilmen için.\n",
    "import matplotlib.pyplot as plt"
   ]
  },
  {
   "cell_type": "markdown",
   "metadata": {},
   "source": [
    "# Datanın okutulması ve genel bilgilerine bakılması"
   ]
  },
  {
   "cell_type": "raw",
   "metadata": {},
   "source": [
    "lines=True--> jason dosyasının satır satır okunmasını sağlıyor. \n",
    "\n",
    "Jason dosyasını açıp baktığında içinde her satır için bir dictionary olduğunu, key'lerin sütun isimlerini oluşturduğunu görüyoruz."
   ]
  },
  {
   "cell_type": "code",
   "execution_count": 4,
   "metadata": {},
   "outputs": [
    {
     "data": {
      "text/html": [
       "<div>\n",
       "<style scoped>\n",
       "    .dataframe tbody tr th:only-of-type {\n",
       "        vertical-align: middle;\n",
       "    }\n",
       "\n",
       "    .dataframe tbody tr th {\n",
       "        vertical-align: top;\n",
       "    }\n",
       "\n",
       "    .dataframe thead th {\n",
       "        text-align: right;\n",
       "    }\n",
       "</style>\n",
       "<table border=\"1\" class=\"dataframe\">\n",
       "  <thead>\n",
       "    <tr style=\"text-align: right;\">\n",
       "      <th></th>\n",
       "      <th>url</th>\n",
       "      <th>make_model</th>\n",
       "      <th>short_description</th>\n",
       "      <th>body_type</th>\n",
       "      <th>price</th>\n",
       "      <th>vat</th>\n",
       "      <th>km</th>\n",
       "      <th>registration</th>\n",
       "      <th>prev_owner</th>\n",
       "      <th>kW</th>\n",
       "      <th>hp</th>\n",
       "      <th>Type</th>\n",
       "      <th>Previous Owners</th>\n",
       "      <th>Next Inspection</th>\n",
       "      <th>Inspection new</th>\n",
       "      <th>Warranty</th>\n",
       "      <th>Full Service</th>\n",
       "      <th>Non-smoking Vehicle</th>\n",
       "      <th>null</th>\n",
       "      <th>Make</th>\n",
       "      <th>Model</th>\n",
       "      <th>Offer Number</th>\n",
       "      <th>First Registration</th>\n",
       "      <th>Body Color</th>\n",
       "      <th>Paint Type</th>\n",
       "      <th>Body Color Original</th>\n",
       "      <th>Upholstery</th>\n",
       "      <th>Body</th>\n",
       "      <th>Nr. of Doors</th>\n",
       "      <th>Nr. of Seats</th>\n",
       "      <th>Model Code</th>\n",
       "      <th>Gearing Type</th>\n",
       "      <th>Displacement</th>\n",
       "      <th>Cylinders</th>\n",
       "      <th>Weight</th>\n",
       "      <th>Drive chain</th>\n",
       "      <th>Fuel</th>\n",
       "      <th>Consumption</th>\n",
       "      <th>CO2 Emission</th>\n",
       "      <th>Emission Class</th>\n",
       "      <th>\\nComfort &amp; Convenience\\n</th>\n",
       "      <th>\\nEntertainment &amp; Media\\n</th>\n",
       "      <th>\\nExtras\\n</th>\n",
       "      <th>\\nSafety &amp; Security\\n</th>\n",
       "      <th>description</th>\n",
       "      <th>Emission Label</th>\n",
       "      <th>Gears</th>\n",
       "      <th>Country version</th>\n",
       "      <th>Electricity consumption</th>\n",
       "      <th>Last Service Date</th>\n",
       "      <th>Other Fuel Types</th>\n",
       "      <th>Availability</th>\n",
       "      <th>Last Timing Belt Service Date</th>\n",
       "      <th>Available from</th>\n",
       "    </tr>\n",
       "  </thead>\n",
       "  <tbody>\n",
       "    <tr>\n",
       "      <th>0</th>\n",
       "      <td>https://www.autoscout24.com//offers/audi-a1-sp...</td>\n",
       "      <td>Audi A1</td>\n",
       "      <td>Sportback 1.4 TDI S-tronic Xenon Navi Klima</td>\n",
       "      <td>Sedans</td>\n",
       "      <td>15770</td>\n",
       "      <td>VAT deductible</td>\n",
       "      <td>56,013 km</td>\n",
       "      <td>01/2016</td>\n",
       "      <td>2 previous owners</td>\n",
       "      <td>NaN</td>\n",
       "      <td>66 kW</td>\n",
       "      <td>[, Used, , Diesel (Particulate Filter)]</td>\n",
       "      <td>\\n2\\n</td>\n",
       "      <td>[\\n06/2021\\n, \\n99 g CO2/km (comb)\\n]</td>\n",
       "      <td>[\\nYes\\n, \\nEuro 6\\n]</td>\n",
       "      <td>[\\n, \\n, \\n4 (Green)\\n]</td>\n",
       "      <td>[\\n, \\n]</td>\n",
       "      <td>[\\n, \\n]</td>\n",
       "      <td>[]</td>\n",
       "      <td>\\nAudi\\n</td>\n",
       "      <td>[\\n, A1, \\n]</td>\n",
       "      <td>[\\nLR-062483\\n]</td>\n",
       "      <td>[\\n, 2016, \\n]</td>\n",
       "      <td>[\\n, Black, \\n]</td>\n",
       "      <td>[\\nMetallic\\n]</td>\n",
       "      <td>[\\nMythosschwarz\\n]</td>\n",
       "      <td>[\\nCloth, Black\\n]</td>\n",
       "      <td>[\\n, Sedans, \\n]</td>\n",
       "      <td>[\\n5\\n]</td>\n",
       "      <td>[\\n5\\n]</td>\n",
       "      <td>[\\n0588/BDF\\n]</td>\n",
       "      <td>[\\n, Automatic, \\n]</td>\n",
       "      <td>[\\n1,422 cc\\n]</td>\n",
       "      <td>[\\n3\\n]</td>\n",
       "      <td>[\\n1,220 kg\\n]</td>\n",
       "      <td>[\\nfront\\n]</td>\n",
       "      <td>[\\n, Diesel (Particulate Filter), \\n]</td>\n",
       "      <td>[[3.8 l/100 km (comb)], [4.3 l/100 km (city)],...</td>\n",
       "      <td>[\\n99 g CO2/km (comb)\\n]</td>\n",
       "      <td>[\\nEuro 6\\n]</td>\n",
       "      <td>[Air conditioning, Armrest, Automatic climate ...</td>\n",
       "      <td>[Bluetooth, Hands-free equipment, On-board com...</td>\n",
       "      <td>[Alloy wheels, Catalytic Converter, Voice Cont...</td>\n",
       "      <td>[ABS, Central door lock, Daytime running light...</td>\n",
       "      <td>[\\n, Sicherheit:,  , Deaktivierung für Beifahr...</td>\n",
       "      <td>NaN</td>\n",
       "      <td>NaN</td>\n",
       "      <td>NaN</td>\n",
       "      <td>NaN</td>\n",
       "      <td>NaN</td>\n",
       "      <td>NaN</td>\n",
       "      <td>NaN</td>\n",
       "      <td>NaN</td>\n",
       "      <td>NaN</td>\n",
       "    </tr>\n",
       "    <tr>\n",
       "      <th>1</th>\n",
       "      <td>https://www.autoscout24.com//offers/audi-a1-1-...</td>\n",
       "      <td>Audi A1</td>\n",
       "      <td>1.8 TFSI sport</td>\n",
       "      <td>Sedans</td>\n",
       "      <td>14500</td>\n",
       "      <td>Price negotiable</td>\n",
       "      <td>80,000 km</td>\n",
       "      <td>03/2017</td>\n",
       "      <td>None</td>\n",
       "      <td>NaN</td>\n",
       "      <td>141 kW</td>\n",
       "      <td>[, Used, , Gasoline]</td>\n",
       "      <td>NaN</td>\n",
       "      <td>NaN</td>\n",
       "      <td>NaN</td>\n",
       "      <td>NaN</td>\n",
       "      <td>NaN</td>\n",
       "      <td>NaN</td>\n",
       "      <td>[]</td>\n",
       "      <td>\\nAudi\\n</td>\n",
       "      <td>[\\n, A1, \\n]</td>\n",
       "      <td>NaN</td>\n",
       "      <td>[\\n, 2017, \\n]</td>\n",
       "      <td>[\\n, Red, \\n]</td>\n",
       "      <td>NaN</td>\n",
       "      <td>NaN</td>\n",
       "      <td>[\\nCloth, Grey\\n]</td>\n",
       "      <td>[\\n, Sedans, \\n]</td>\n",
       "      <td>[\\n3\\n]</td>\n",
       "      <td>[\\n4\\n]</td>\n",
       "      <td>[\\n0588/BCY\\n]</td>\n",
       "      <td>[\\n, Automatic, \\n]</td>\n",
       "      <td>[\\n1,798 cc\\n]</td>\n",
       "      <td>[\\n4\\n]</td>\n",
       "      <td>[\\n1,255 kg\\n]</td>\n",
       "      <td>[\\nfront\\n]</td>\n",
       "      <td>[\\n, Gasoline, \\n]</td>\n",
       "      <td>[[5.6 l/100 km (comb)], [7.1 l/100 km (city)],...</td>\n",
       "      <td>[\\n129 g CO2/km (comb)\\n]</td>\n",
       "      <td>[\\nEuro 6\\n]</td>\n",
       "      <td>[Air conditioning, Automatic climate control, ...</td>\n",
       "      <td>[Bluetooth, Hands-free equipment, On-board com...</td>\n",
       "      <td>[Alloy wheels, Sport seats, Sport suspension, ...</td>\n",
       "      <td>[ABS, Central door lock, Central door lock wit...</td>\n",
       "      <td>[\\nLangstreckenfahrzeug daher die hohe Kilomet...</td>\n",
       "      <td>[\\n4 (Green)\\n]</td>\n",
       "      <td>[\\n7\\n]</td>\n",
       "      <td>NaN</td>\n",
       "      <td>NaN</td>\n",
       "      <td>NaN</td>\n",
       "      <td>NaN</td>\n",
       "      <td>NaN</td>\n",
       "      <td>NaN</td>\n",
       "      <td>NaN</td>\n",
       "    </tr>\n",
       "    <tr>\n",
       "      <th>2</th>\n",
       "      <td>https://www.autoscout24.com//offers/audi-a1-sp...</td>\n",
       "      <td>Audi A1</td>\n",
       "      <td>Sportback 1.6 TDI S tronic Einparkhilfe plus+m...</td>\n",
       "      <td>Sedans</td>\n",
       "      <td>14640</td>\n",
       "      <td>VAT deductible</td>\n",
       "      <td>83,450 km</td>\n",
       "      <td>02/2016</td>\n",
       "      <td>1 previous owner</td>\n",
       "      <td>NaN</td>\n",
       "      <td>85 kW</td>\n",
       "      <td>[, Used, , Diesel (Particulate Filter)]</td>\n",
       "      <td>\\n1\\n</td>\n",
       "      <td>NaN</td>\n",
       "      <td>NaN</td>\n",
       "      <td>[\\n, \\n, \\n99 g CO2/km (comb)\\n]</td>\n",
       "      <td>NaN</td>\n",
       "      <td>NaN</td>\n",
       "      <td>[]</td>\n",
       "      <td>\\nAudi\\n</td>\n",
       "      <td>[\\n, A1, \\n]</td>\n",
       "      <td>[\\nAM-95365\\n]</td>\n",
       "      <td>[\\n, 2016, \\n]</td>\n",
       "      <td>[\\n, Black, \\n]</td>\n",
       "      <td>[\\nMetallic\\n]</td>\n",
       "      <td>[\\nmythosschwarz metallic\\n]</td>\n",
       "      <td>[\\nCloth, Black\\n]</td>\n",
       "      <td>[\\n, Sedans, \\n]</td>\n",
       "      <td>[\\n4\\n]</td>\n",
       "      <td>[\\n4\\n]</td>\n",
       "      <td>NaN</td>\n",
       "      <td>[\\n, Automatic, \\n]</td>\n",
       "      <td>[\\n1,598 cc\\n]</td>\n",
       "      <td>NaN</td>\n",
       "      <td>NaN</td>\n",
       "      <td>[\\nfront\\n]</td>\n",
       "      <td>[\\n, Diesel (Particulate Filter), \\n]</td>\n",
       "      <td>[[3.8 l/100 km (comb)], [4.4 l/100 km (city)],...</td>\n",
       "      <td>[\\n99 g CO2/km (comb)\\n]</td>\n",
       "      <td>[\\nEuro 6\\n]</td>\n",
       "      <td>[Air conditioning, Cruise control, Electrical ...</td>\n",
       "      <td>[MP3, On-board computer]</td>\n",
       "      <td>[Alloy wheels, Voice Control]</td>\n",
       "      <td>[ABS, Central door lock, Daytime running light...</td>\n",
       "      <td>[\\n, Fahrzeug-Nummer: AM-95365,  , Ehem. UPE 2...</td>\n",
       "      <td>[\\n4 (Green)\\n]</td>\n",
       "      <td>NaN</td>\n",
       "      <td>NaN</td>\n",
       "      <td>NaN</td>\n",
       "      <td>NaN</td>\n",
       "      <td>NaN</td>\n",
       "      <td>NaN</td>\n",
       "      <td>NaN</td>\n",
       "      <td>NaN</td>\n",
       "    </tr>\n",
       "  </tbody>\n",
       "</table>\n",
       "</div>"
      ],
      "text/plain": [
       "                                                 url make_model  \\\n",
       "0  https://www.autoscout24.com//offers/audi-a1-sp...    Audi A1   \n",
       "1  https://www.autoscout24.com//offers/audi-a1-1-...    Audi A1   \n",
       "2  https://www.autoscout24.com//offers/audi-a1-sp...    Audi A1   \n",
       "\n",
       "                                   short_description body_type  price  \\\n",
       "0        Sportback 1.4 TDI S-tronic Xenon Navi Klima    Sedans  15770   \n",
       "1                                     1.8 TFSI sport    Sedans  14500   \n",
       "2  Sportback 1.6 TDI S tronic Einparkhilfe plus+m...    Sedans  14640   \n",
       "\n",
       "                vat         km registration         prev_owner  kW      hp  \\\n",
       "0    VAT deductible  56,013 km      01/2016  2 previous owners NaN   66 kW   \n",
       "1  Price negotiable  80,000 km      03/2017               None NaN  141 kW   \n",
       "2    VAT deductible  83,450 km      02/2016   1 previous owner NaN   85 kW   \n",
       "\n",
       "                                      Type Previous Owners  \\\n",
       "0  [, Used, , Diesel (Particulate Filter)]           \\n2\\n   \n",
       "1                     [, Used, , Gasoline]             NaN   \n",
       "2  [, Used, , Diesel (Particulate Filter)]           \\n1\\n   \n",
       "\n",
       "                         Next Inspection         Inspection new  \\\n",
       "0  [\\n06/2021\\n, \\n99 g CO2/km (comb)\\n]  [\\nYes\\n, \\nEuro 6\\n]   \n",
       "1                                    NaN                    NaN   \n",
       "2                                    NaN                    NaN   \n",
       "\n",
       "                           Warranty Full Service Non-smoking Vehicle null  \\\n",
       "0           [\\n, \\n, \\n4 (Green)\\n]     [\\n, \\n]            [\\n, \\n]   []   \n",
       "1                               NaN          NaN                 NaN   []   \n",
       "2  [\\n, \\n, \\n99 g CO2/km (comb)\\n]          NaN                 NaN   []   \n",
       "\n",
       "       Make         Model     Offer Number First Registration  \\\n",
       "0  \\nAudi\\n  [\\n, A1, \\n]  [\\nLR-062483\\n]     [\\n, 2016, \\n]   \n",
       "1  \\nAudi\\n  [\\n, A1, \\n]              NaN     [\\n, 2017, \\n]   \n",
       "2  \\nAudi\\n  [\\n, A1, \\n]   [\\nAM-95365\\n]     [\\n, 2016, \\n]   \n",
       "\n",
       "        Body Color      Paint Type           Body Color Original  \\\n",
       "0  [\\n, Black, \\n]  [\\nMetallic\\n]           [\\nMythosschwarz\\n]   \n",
       "1    [\\n, Red, \\n]             NaN                           NaN   \n",
       "2  [\\n, Black, \\n]  [\\nMetallic\\n]  [\\nmythosschwarz metallic\\n]   \n",
       "\n",
       "           Upholstery              Body Nr. of Doors Nr. of Seats  \\\n",
       "0  [\\nCloth, Black\\n]  [\\n, Sedans, \\n]      [\\n5\\n]      [\\n5\\n]   \n",
       "1   [\\nCloth, Grey\\n]  [\\n, Sedans, \\n]      [\\n3\\n]      [\\n4\\n]   \n",
       "2  [\\nCloth, Black\\n]  [\\n, Sedans, \\n]      [\\n4\\n]      [\\n4\\n]   \n",
       "\n",
       "       Model Code         Gearing Type    Displacement Cylinders  \\\n",
       "0  [\\n0588/BDF\\n]  [\\n, Automatic, \\n]  [\\n1,422 cc\\n]   [\\n3\\n]   \n",
       "1  [\\n0588/BCY\\n]  [\\n, Automatic, \\n]  [\\n1,798 cc\\n]   [\\n4\\n]   \n",
       "2             NaN  [\\n, Automatic, \\n]  [\\n1,598 cc\\n]       NaN   \n",
       "\n",
       "           Weight  Drive chain                                   Fuel  \\\n",
       "0  [\\n1,220 kg\\n]  [\\nfront\\n]  [\\n, Diesel (Particulate Filter), \\n]   \n",
       "1  [\\n1,255 kg\\n]  [\\nfront\\n]                     [\\n, Gasoline, \\n]   \n",
       "2             NaN  [\\nfront\\n]  [\\n, Diesel (Particulate Filter), \\n]   \n",
       "\n",
       "                                         Consumption  \\\n",
       "0  [[3.8 l/100 km (comb)], [4.3 l/100 km (city)],...   \n",
       "1  [[5.6 l/100 km (comb)], [7.1 l/100 km (city)],...   \n",
       "2  [[3.8 l/100 km (comb)], [4.4 l/100 km (city)],...   \n",
       "\n",
       "                CO2 Emission Emission Class  \\\n",
       "0   [\\n99 g CO2/km (comb)\\n]   [\\nEuro 6\\n]   \n",
       "1  [\\n129 g CO2/km (comb)\\n]   [\\nEuro 6\\n]   \n",
       "2   [\\n99 g CO2/km (comb)\\n]   [\\nEuro 6\\n]   \n",
       "\n",
       "                           \\nComfort & Convenience\\n  \\\n",
       "0  [Air conditioning, Armrest, Automatic climate ...   \n",
       "1  [Air conditioning, Automatic climate control, ...   \n",
       "2  [Air conditioning, Cruise control, Electrical ...   \n",
       "\n",
       "                           \\nEntertainment & Media\\n  \\\n",
       "0  [Bluetooth, Hands-free equipment, On-board com...   \n",
       "1  [Bluetooth, Hands-free equipment, On-board com...   \n",
       "2                           [MP3, On-board computer]   \n",
       "\n",
       "                                          \\nExtras\\n  \\\n",
       "0  [Alloy wheels, Catalytic Converter, Voice Cont...   \n",
       "1  [Alloy wheels, Sport seats, Sport suspension, ...   \n",
       "2                      [Alloy wheels, Voice Control]   \n",
       "\n",
       "                               \\nSafety & Security\\n  \\\n",
       "0  [ABS, Central door lock, Daytime running light...   \n",
       "1  [ABS, Central door lock, Central door lock wit...   \n",
       "2  [ABS, Central door lock, Daytime running light...   \n",
       "\n",
       "                                         description   Emission Label  \\\n",
       "0  [\\n, Sicherheit:,  , Deaktivierung für Beifahr...              NaN   \n",
       "1  [\\nLangstreckenfahrzeug daher die hohe Kilomet...  [\\n4 (Green)\\n]   \n",
       "2  [\\n, Fahrzeug-Nummer: AM-95365,  , Ehem. UPE 2...  [\\n4 (Green)\\n]   \n",
       "\n",
       "     Gears Country version Electricity consumption Last Service Date  \\\n",
       "0      NaN             NaN                     NaN               NaN   \n",
       "1  [\\n7\\n]             NaN                     NaN               NaN   \n",
       "2      NaN             NaN                     NaN               NaN   \n",
       "\n",
       "  Other Fuel Types Availability Last Timing Belt Service Date Available from  \n",
       "0              NaN          NaN                           NaN            NaN  \n",
       "1              NaN          NaN                           NaN            NaN  \n",
       "2              NaN          NaN                           NaN            NaN  "
      ]
     },
     "execution_count": 4,
     "metadata": {},
     "output_type": "execute_result"
    }
   ],
   "source": [
    "df = pd.read_json('scout_car.json', lines=True)  \n",
    "df.head(3)"
   ]
  },
  {
   "cell_type": "raw",
   "metadata": {},
   "source": [
    "kW ile hp ikisi de otomobilin gücünü ifade eden birimler. Bunlardan biri tercih edilebilir. Genelde horse power kullanılıyor, kW ise bunu destekleyen ilave bilgi olduğu için \"hp\" tutulup kW drop edilebilir."
   ]
  },
  {
   "cell_type": "code",
   "execution_count": 3,
   "metadata": {},
   "outputs": [
    {
     "data": {
      "text/plain": [
       "Index(['url', 'make_model', 'short_description', 'body_type', 'price', 'vat',\n",
       "       'km', 'registration', 'prev_owner', 'kW', 'hp', 'Type',\n",
       "       'Previous Owners', 'Next Inspection', 'Inspection new', 'Warranty',\n",
       "       'Full Service', 'Non-smoking Vehicle', 'null', 'Make', 'Model',\n",
       "       'Offer Number', 'First Registration', 'Body Color', 'Paint Type',\n",
       "       'Body Color Original', 'Upholstery', 'Body', 'Nr. of Doors',\n",
       "       'Nr. of Seats', 'Model Code', 'Gearing Type', 'Displacement',\n",
       "       'Cylinders', 'Weight', 'Drive chain', 'Fuel', 'Consumption',\n",
       "       'CO2 Emission', 'Emission Class', '\\nComfort & Convenience\\n',\n",
       "       '\\nEntertainment & Media\\n', '\\nExtras\\n', '\\nSafety & Security\\n',\n",
       "       'description', 'Emission Label', 'Gears', 'Country version',\n",
       "       'Electricity consumption', 'Last Service Date', 'Other Fuel Types',\n",
       "       'Availability', 'Last Timing Belt Service Date', 'Available from'],\n",
       "      dtype='object')"
      ]
     },
     "execution_count": 3,
     "metadata": {},
     "output_type": "execute_result"
    }
   ],
   "source": [
    "df.columns"
   ]
  },
  {
   "cell_type": "code",
   "execution_count": 4,
   "metadata": {
    "scrolled": true
   },
   "outputs": [
    {
     "name": "stdout",
     "output_type": "stream",
     "text": [
      "<class 'pandas.core.frame.DataFrame'>\n",
      "RangeIndex: 15919 entries, 0 to 15918\n",
      "Data columns (total 54 columns):\n",
      " #   Column                         Non-Null Count  Dtype  \n",
      "---  ------                         --------------  -----  \n",
      " 0   url                            15919 non-null  object \n",
      " 1   make_model                     15919 non-null  object \n",
      " 2   short_description              15873 non-null  object \n",
      " 3   body_type                      15859 non-null  object \n",
      " 4   price                          15919 non-null  int64  \n",
      " 5   vat                            11406 non-null  object \n",
      " 6   km                             15919 non-null  object \n",
      " 7   registration                   15919 non-null  object \n",
      " 8   prev_owner                     9091 non-null   object \n",
      " 9   kW                             0 non-null      float64\n",
      " 10  hp                             15919 non-null  object \n",
      " 11  Type                           15917 non-null  object \n",
      " 12  Previous Owners                9279 non-null   object \n",
      " 13  Next Inspection                3535 non-null   object \n",
      " 14  Inspection new                 3932 non-null   object \n",
      " 15  Warranty                       10499 non-null  object \n",
      " 16  Full Service                   8215 non-null   object \n",
      " 17  Non-smoking Vehicle            7177 non-null   object \n",
      " 18  null                           15919 non-null  object \n",
      " 19  Make                           15919 non-null  object \n",
      " 20  Model                          15919 non-null  object \n",
      " 21  Offer Number                   12744 non-null  object \n",
      " 22  First Registration             14322 non-null  object \n",
      " 23  Body Color                     15322 non-null  object \n",
      " 24  Paint Type                     10147 non-null  object \n",
      " 25  Body Color Original            12160 non-null  object \n",
      " 26  Upholstery                     12199 non-null  object \n",
      " 27  Body                           15859 non-null  object \n",
      " 28  Nr. of Doors                   15707 non-null  object \n",
      " 29  Nr. of Seats                   14942 non-null  object \n",
      " 30  Model Code                     4978 non-null   object \n",
      " 31  Gearing Type                   15919 non-null  object \n",
      " 32  Displacement                   15423 non-null  object \n",
      " 33  Cylinders                      10239 non-null  object \n",
      " 34  Weight                         8945 non-null   object \n",
      " 35  Drive chain                    9061 non-null   object \n",
      " 36  Fuel                           15919 non-null  object \n",
      " 37  Consumption                    14013 non-null  object \n",
      " 38  CO2 Emission                   14111 non-null  object \n",
      " 39  Emission Class                 12898 non-null  object \n",
      " 40  \n",
      "Comfort & Convenience\n",
      "        14999 non-null  object \n",
      " 41  \n",
      "Entertainment & Media\n",
      "        14545 non-null  object \n",
      " 42  \n",
      "Extras\n",
      "                       12957 non-null  object \n",
      " 43  \n",
      "Safety & Security\n",
      "            14937 non-null  object \n",
      " 44  description                    15919 non-null  object \n",
      " 45  Emission Label                 3985 non-null   object \n",
      " 46  Gears                          11207 non-null  object \n",
      " 47  Country version                7586 non-null   object \n",
      " 48  Electricity consumption        137 non-null    object \n",
      " 49  Last Service Date              566 non-null    object \n",
      " 50  Other Fuel Types               880 non-null    object \n",
      " 51  Availability                   635 non-null    object \n",
      " 52  Last Timing Belt Service Date  16 non-null     object \n",
      " 53  Available from                 272 non-null    object \n",
      "dtypes: float64(1), int64(1), object(52)\n",
      "memory usage: 6.6+ MB\n"
     ]
    }
   ],
   "source": [
    "df.info()\n",
    "# 54 columns 15919 rows dan oluşmakta. Bazı sütunlar(prev_ovner/ Previous Owners gibi) \n",
    "#aynı bilgileri içeriyor gibi karşılaştırma yapılıp aynı ise düşülebilir. \n",
    "#Bazı sütunlarda da çok fazla null değer var veya tamamı null bunlar düşürülebilir.```"
   ]
  },
  {
   "cell_type": "raw",
   "metadata": {},
   "source": [
    "url (drop)\n",
    "\n",
    "url sütununun bizim analiz çalışmalarıma katkısı olmayacağı için analiz veya machine learning esnasında bunu drop edeceğiz. "
   ]
  },
  {
   "cell_type": "markdown",
   "metadata": {},
   "source": [
    "# make_model"
   ]
  },
  {
   "cell_type": "code",
   "execution_count": 5,
   "metadata": {},
   "outputs": [
    {
     "data": {
      "text/plain": [
       "Audi A3           3097\n",
       "Audi A1           2614\n",
       "Opel Insignia     2598\n",
       "Opel Astra        2526\n",
       "Opel Corsa        2219\n",
       "Renault Clio      1839\n",
       "Renault Espace     991\n",
       "Renault Duster      34\n",
       "Audi A2              1\n",
       "Name: make_model, dtype: int64"
      ]
     },
     "execution_count": 5,
     "metadata": {},
     "output_type": "execute_result"
    }
   ],
   "source": [
    "df.make_model.value_counts()"
   ]
  },
  {
   "cell_type": "code",
   "execution_count": 6,
   "metadata": {},
   "outputs": [
    {
     "data": {
      "text/plain": [
       "0"
      ]
     },
     "execution_count": 6,
     "metadata": {},
     "output_type": "execute_result"
    }
   ],
   "source": [
    "df.make_model.isnull().sum()  #Temiz bir sütun. "
   ]
  },
  {
   "cell_type": "markdown",
   "metadata": {},
   "source": [
    "# short_description (drop)"
   ]
  },
  {
   "cell_type": "code",
   "execution_count": 7,
   "metadata": {
    "scrolled": true
   },
   "outputs": [
    {
     "data": {
      "text/plain": [
       "0          Sportback 1.4 TDI S-tronic Xenon Navi Klima\n",
       "1                                       1.8 TFSI sport\n",
       "2    Sportback 1.6 TDI S tronic Einparkhilfe plus+m...\n",
       "3                              1.4 TDi Design S tronic\n",
       "4    Sportback 1.4 TDI S-Tronic S-Line Ext. admired...\n",
       "Name: short_description, dtype: object"
      ]
     },
     "execution_count": 7,
     "metadata": {},
     "output_type": "execute_result"
    }
   ],
   "source": [
    "df.short_description.head() "
   ]
  },
  {
   "cell_type": "raw",
   "metadata": {},
   "source": [
    "Kullanıcıların kendi girdikleri veriler olduğu için bir standartlık olmadığı ve bize objektif bir bakış açısı sağlamadığı için için drop ediyoruz. \n",
    "\n",
    "Mesala aynı araba farklı kişilerceu farklı short descriptionla girilebilir."
   ]
  },
  {
   "cell_type": "markdown",
   "metadata": {},
   "source": [
    "# description(drop)"
   ]
  },
  {
   "cell_type": "code",
   "execution_count": 8,
   "metadata": {},
   "outputs": [
    {
     "data": {
      "text/plain": [
       "0        [\\n, Sicherheit:,  , Deaktivierung für Beifahr...\n",
       "1        [\\nLangstreckenfahrzeug daher die hohe Kilomet...\n",
       "2        [\\n, Fahrzeug-Nummer: AM-95365,  , Ehem. UPE 2...\n",
       "3        [\\nAudi A1: , - 1e eigenaar , - Perfecte staat...\n",
       "4        [\\n, Technik & Sicherheit:, Xenon plus, Klimaa...\n",
       "                               ...                        \n",
       "15914    [\\nVettura visionabile nella sede in Via Roma ...\n",
       "15915    [\\nDach: Panorama-Glas-Schiebedach, Lackierung...\n",
       "15916    [\\n, Getriebe:,  Automatik, Technik:,  Bordcom...\n",
       "15917    [\\nDEK:[2691331], Renault Espace Blue dCi 200C...\n",
       "15918    [\\n, Sicherheit Airbags:,  , Seitenairbag,  , ...\n",
       "Name: description, Length: 15919, dtype: object"
      ]
     },
     "execution_count": 8,
     "metadata": {},
     "output_type": "execute_result"
    }
   ],
   "source": [
    "df.description"
   ]
  },
  {
   "cell_type": "raw",
   "metadata": {},
   "source": [
    "Kullanıcıların kendi girdikleri veriler olduğu için bir standartlık olmadığı için drop ediyoruz. \n",
    "\n",
    "Mesala aynı araba farklı kişilerce farklı descriptionla girilebilir. \n",
    "\n",
    "Ayrıca almanca ve galiba diğer sütunlarda bu bilgiler yer alıyor."
   ]
  },
  {
   "cell_type": "markdown",
   "metadata": {},
   "source": [
    "# body_type"
   ]
  },
  {
   "cell_type": "code",
   "execution_count": 9,
   "metadata": {},
   "outputs": [
    {
     "data": {
      "text/plain": [
       "Sedans           7903\n",
       "Station wagon    3553\n",
       "Compact          3153\n",
       "Van               783\n",
       "Other             290\n",
       "Transporter        88\n",
       "Off-Road           56\n",
       "Coupe              25\n",
       "Convertible         8\n",
       "Name: body_type, dtype: int64"
      ]
     },
     "execution_count": 9,
     "metadata": {},
     "output_type": "execute_result"
    }
   ],
   "source": [
    "df.body_type.value_counts()  # Temiz bir sütun"
   ]
  },
  {
   "cell_type": "code",
   "execution_count": 10,
   "metadata": {},
   "outputs": [
    {
     "data": {
      "text/plain": [
       "60"
      ]
     },
     "execution_count": 10,
     "metadata": {},
     "output_type": "execute_result"
    }
   ],
   "source": [
    "df.body_type.isnull().sum() "
   ]
  },
  {
   "cell_type": "markdown",
   "metadata": {},
   "source": [
    "# Body(drop)"
   ]
  },
  {
   "cell_type": "code",
   "execution_count": 11,
   "metadata": {},
   "outputs": [
    {
     "data": {
      "text/plain": [
       "0        [\\n, Sedans, \\n]\n",
       "1        [\\n, Sedans, \\n]\n",
       "2        [\\n, Sedans, \\n]\n",
       "3        [\\n, Sedans, \\n]\n",
       "4        [\\n, Sedans, \\n]\n",
       "               ...       \n",
       "15914       [\\n, Van, \\n]\n",
       "15915       [\\n, Van, \\n]\n",
       "15916       [\\n, Van, \\n]\n",
       "15917       [\\n, Van, \\n]\n",
       "15918       [\\n, Van, \\n]\n",
       "Name: Body, Length: 15919, dtype: object"
      ]
     },
     "execution_count": 11,
     "metadata": {},
     "output_type": "execute_result"
    }
   ],
   "source": [
    "df.Body"
   ]
  },
  {
   "cell_type": "code",
   "execution_count": 12,
   "metadata": {
    "scrolled": true
   },
   "outputs": [
    {
     "ename": "TypeError",
     "evalue": "unhashable type: 'list'",
     "output_type": "error",
     "traceback": [
      "\u001b[1;31m---------------------------------------------------------------------------\u001b[0m",
      "\u001b[1;31mTypeError\u001b[0m                                 Traceback (most recent call last)",
      "\u001b[1;32mpandas\\_libs\\hashtable_class_helper.pxi\u001b[0m in \u001b[0;36mpandas._libs.hashtable.PyObjectHashTable.map_locations\u001b[1;34m()\u001b[0m\n",
      "\u001b[1;31mTypeError\u001b[0m: unhashable type: 'list'"
     ]
    },
    {
     "name": "stderr",
     "output_type": "stream",
     "text": [
      "Exception ignored in: 'pandas._libs.index.IndexEngine._call_map_locations'\n",
      "Traceback (most recent call last):\n",
      "  File \"pandas\\_libs\\hashtable_class_helper.pxi\", line 4588, in pandas._libs.hashtable.PyObjectHashTable.map_locations\n",
      "TypeError: unhashable type: 'list'\n"
     ]
    },
    {
     "data": {
      "text/plain": [
       "[\\n, Sedans, \\n]           7903\n",
       "[\\n, Station wagon, \\n]    3553\n",
       "[\\n, Compact, \\n]          3153\n",
       "[\\n, Van, \\n]               783\n",
       "[\\n, Other, \\n]             290\n",
       "[\\n, Transporter, \\n]        88\n",
       "[\\n, Off-Road, \\n]           56\n",
       "[\\n, Coupe, \\n]              25\n",
       "[\\n, Convertible, \\n]         8\n",
       "Name: Body, dtype: int64"
      ]
     },
     "execution_count": 12,
     "metadata": {},
     "output_type": "execute_result"
    }
   ],
   "source": [
    "df.Body.value_counts()"
   ]
  },
  {
   "cell_type": "code",
   "execution_count": 13,
   "metadata": {},
   "outputs": [
    {
     "data": {
      "text/plain": [
       "Sedans           7903\n",
       "Station wagon    3553\n",
       "Compact          3153\n",
       "Van               783\n",
       "Other             290\n",
       "Transporter        88\n",
       "Off-Road           56\n",
       "Coupe              25\n",
       "Convertible         8\n",
       "Name: body_type, dtype: int64"
      ]
     },
     "execution_count": 13,
     "metadata": {},
     "output_type": "execute_result"
    }
   ],
   "source": [
    "df.body_type.value_counts() \n",
    "\n",
    "#body ve body_type sütunlarındaki değerler aynı olduğu için body sütununu düşürüyoruz."
   ]
  },
  {
   "cell_type": "markdown",
   "metadata": {},
   "source": [
    "# price"
   ]
  },
  {
   "cell_type": "code",
   "execution_count": 14,
   "metadata": {},
   "outputs": [
    {
     "data": {
      "text/plain": [
       "0    15770\n",
       "1    14500\n",
       "2    14640\n",
       "3    14500\n",
       "4    16790\n",
       "Name: price, dtype: int64"
      ]
     },
     "execution_count": 14,
     "metadata": {},
     "output_type": "execute_result"
    }
   ],
   "source": [
    "df.price.head()  #değerler int. Outlier değerleri daha sonra inceleyeceğiz.k8"
   ]
  },
  {
   "cell_type": "code",
   "execution_count": 15,
   "metadata": {},
   "outputs": [
    {
     "data": {
      "text/plain": [
       "0"
      ]
     },
     "execution_count": 15,
     "metadata": {},
     "output_type": "execute_result"
    }
   ],
   "source": [
    "df.price.isnull().sum()"
   ]
  },
  {
   "cell_type": "markdown",
   "metadata": {},
   "source": [
    "# vat"
   ]
  },
  {
   "cell_type": "code",
   "execution_count": 16,
   "metadata": {},
   "outputs": [
    {
     "data": {
      "text/plain": [
       "VAT deductible      10980\n",
       "Price negotiable      426\n",
       "Name: vat, dtype: int64"
      ]
     },
     "execution_count": 16,
     "metadata": {},
     "output_type": "execute_result"
    }
   ],
   "source": [
    "df.vat.value_counts()"
   ]
  },
  {
   "cell_type": "code",
   "execution_count": 17,
   "metadata": {},
   "outputs": [
    {
     "data": {
      "text/plain": [
       "4513"
      ]
     },
     "execution_count": 17,
     "metadata": {},
     "output_type": "execute_result"
    }
   ],
   "source": [
    "df.vat.isnull().sum()"
   ]
  },
  {
   "cell_type": "code",
   "execution_count": 18,
   "metadata": {},
   "outputs": [
    {
     "data": {
      "text/plain": [
       "True     11406\n",
       "False     4513\n",
       "Name: vat, dtype: int64"
      ]
     },
     "execution_count": 18,
     "metadata": {},
     "output_type": "execute_result"
    }
   ],
   "source": [
    "df.vat.map(lambda x : True if x  else False ).value_counts()"
   ]
  },
  {
   "cell_type": "code",
   "execution_count": 19,
   "metadata": {},
   "outputs": [],
   "source": [
    "df.vat = df.vat.map(lambda x : False if type(x) == float else True )\n",
    "#Null değerlerin yerine False eğer VAT deductible veya Price negotiable yazıyorsa True atadık.\n",
    "#Çünkü bunlar arabayının alım cazibesini arttıran şeyler."
   ]
  },
  {
   "cell_type": "raw",
   "metadata": {},
   "source": [
    "VAT, kdv indirimi sütununda iki çeşit veri var. VAT deductible (vergi indirimi) veya price negotiable. dolayısıyla bunlar birbiriyle alakalı veriler olmalı. Alakası da ikisinin arabanın satış fiyatına göre bir indirime tabi tutulabileceğidir."
   ]
  },
  {
   "cell_type": "markdown",
   "metadata": {},
   "source": [
    "# km"
   ]
  },
  {
   "cell_type": "code",
   "execution_count": 20,
   "metadata": {},
   "outputs": [
    {
     "data": {
      "text/plain": [
       "0    56,013 km\n",
       "1    80,000 km\n",
       "2    83,450 km\n",
       "3    73,000 km\n",
       "4    16,200 km\n",
       "Name: km, dtype: object"
      ]
     },
     "execution_count": 20,
     "metadata": {},
     "output_type": "execute_result"
    }
   ],
   "source": [
    "df.km.head() \n",
    "#virgül, km, boşluk kaldırılmalı ve object olan sütun nan değerleri de olduğu için floata dönüştürülmeli"
   ]
  },
  {
   "cell_type": "code",
   "execution_count": 21,
   "metadata": {},
   "outputs": [
    {
     "data": {
      "text/plain": [
       "0        56013.0\n",
       "1        80000.0\n",
       "2        83450.0\n",
       "3        73000.0\n",
       "4        16200.0\n",
       "          ...   \n",
       "15914        NaN\n",
       "15915     9900.0\n",
       "15916       15.0\n",
       "15917       10.0\n",
       "15918        NaN\n",
       "Name: km, Length: 15919, dtype: float64"
      ]
     },
     "execution_count": 21,
     "metadata": {},
     "output_type": "execute_result"
    }
   ],
   "source": [
    "df.km.str.replace(',','').str.strip(' km').replace('-', np.nan).astype(float)"
   ]
  },
  {
   "cell_type": "code",
   "execution_count": 22,
   "metadata": {},
   "outputs": [],
   "source": [
    "df.km = df.km.str.replace(',','').str.strip(' km').replace('-', np.nan).astype(float)\n",
    "\n",
    "# km aralarında \",\" olduğu ve bazı değerlerin \"-\" olarak girildiğini gördük. km girilmemiş olan \"-\" satırlara Nan girebiliriz."
   ]
  },
  {
   "cell_type": "code",
   "execution_count": 23,
   "metadata": {},
   "outputs": [
    {
     "data": {
      "text/plain": [
       "1024"
      ]
     },
     "execution_count": 23,
     "metadata": {},
     "output_type": "execute_result"
    }
   ],
   "source": [
    "df.km.isnull().sum() \n",
    "\n",
    "# 0 olan arabaların km'si null olabilir mi? Diğer sütunlar da temizlendiğinde karşılaştırma yapmalıyız."
   ]
  },
  {
   "cell_type": "markdown",
   "metadata": {},
   "source": [
    "# registration(drop)\n",
    "**Arabanın yaşını bulmak için first registration sütununu kullanıcaz**"
   ]
  },
  {
   "cell_type": "code",
   "execution_count": 24,
   "metadata": {
    "scrolled": true
   },
   "outputs": [
    {
     "data": {
      "text/plain": [
       "15554    05/2018\n",
       "5896     11/2016\n",
       "3231     05/2016\n",
       "10382    05/2019\n",
       "8125     02/2019\n",
       "5940     07/2016\n",
       "171      04/2017\n",
       "12662    04/2019\n",
       "13546    03/2016\n",
       "3954         -/-\n",
       "Name: registration, dtype: object"
      ]
     },
     "execution_count": 24,
     "metadata": {},
     "output_type": "execute_result"
    }
   ],
   "source": [
    "df.registration.sample(10)"
   ]
  },
  {
   "cell_type": "markdown",
   "metadata": {},
   "source": [
    "# First Registration(drop)"
   ]
  },
  {
   "cell_type": "code",
   "execution_count": 1,
   "metadata": {
    "scrolled": true
   },
   "outputs": [
    {
     "ename": "NameError",
     "evalue": "name 'df' is not defined",
     "output_type": "error",
     "traceback": [
      "\u001b[1;31m---------------------------------------------------------------------------\u001b[0m",
      "\u001b[1;31mNameError\u001b[0m                                 Traceback (most recent call last)",
      "\u001b[1;32m<ipython-input-1-5111298edef6>\u001b[0m in \u001b[0;36m<module>\u001b[1;34m\u001b[0m\n\u001b[1;32m----> 1\u001b[1;33m \u001b[0mdf\u001b[0m\u001b[1;33m[\u001b[0m\u001b[1;33m[\u001b[0m\u001b[1;34m'registration'\u001b[0m\u001b[1;33m,\u001b[0m \u001b[1;34m'First Registration'\u001b[0m\u001b[1;33m]\u001b[0m\u001b[1;33m]\u001b[0m\u001b[1;33m.\u001b[0m\u001b[0msample\u001b[0m\u001b[1;33m(\u001b[0m\u001b[1;36m10\u001b[0m\u001b[1;33m)\u001b[0m\u001b[1;33m\u001b[0m\u001b[1;33m\u001b[0m\u001b[0m\n\u001b[0m",
      "\u001b[1;31mNameError\u001b[0m: name 'df' is not defined"
     ]
    }
   ],
   "source": [
    "df[['registration', 'First Registration']].sample(10) \n"
   ]
  },
  {
   "cell_type": "code",
   "execution_count": 26,
   "metadata": {},
   "outputs": [
    {
     "data": {
      "text/plain": [
       "0        2016.0\n",
       "1        2017.0\n",
       "2        2016.0\n",
       "3        2016.0\n",
       "4        2016.0\n",
       "          ...  \n",
       "15914       NaN\n",
       "15915    2019.0\n",
       "15916    2019.0\n",
       "15917    2019.0\n",
       "15918    2019.0\n",
       "Name: First Registration, Length: 15919, dtype: float64"
      ]
     },
     "execution_count": 26,
     "metadata": {},
     "output_type": "execute_result"
    }
   ],
   "source": [
    "df['First Registration'].map(lambda x: float(x[1]), na_action = 'ignore')\n",
    "\n",
    "# registration ve First Registration sütunları aynı yıllara işaret ediyor. \n",
    "# Bu iki sütundan First Registration u içindeki yıl bilgisini çekerek kullanacağız.\n",
    "\n",
    "# First Registration sütunundaki ikinci indeksleri (Nan olanlar indekslenemeyeceği için na_action = ignore yaparak) çektik"
   ]
  },
  {
   "cell_type": "code",
   "execution_count": 27,
   "metadata": {},
   "outputs": [],
   "source": [
    "df['First Registration'] = df['First Registration'].map(lambda x: float(x[1]), na_action = 'ignore')"
   ]
  },
  {
   "cell_type": "markdown",
   "metadata": {},
   "source": [
    "# age"
   ]
  },
  {
   "cell_type": "code",
   "execution_count": 28,
   "metadata": {},
   "outputs": [],
   "source": [
    "df['age'] = 2019 - df['First Registration']"
   ]
  },
  {
   "cell_type": "code",
   "execution_count": 29,
   "metadata": {},
   "outputs": [
    {
     "data": {
      "text/plain": [
       "1.0    4522\n",
       "3.0    3674\n",
       "2.0    3273\n",
       "0.0    2853\n",
       "NaN    1597\n",
       "Name: age, dtype: int64"
      ]
     },
     "execution_count": 29,
     "metadata": {},
     "output_type": "execute_result"
    }
   ],
   "source": [
    "df.age.value_counts(dropna = False)"
   ]
  },
  {
   "cell_type": "markdown",
   "metadata": {},
   "source": [
    "# prev_owner"
   ]
  },
  {
   "cell_type": "code",
   "execution_count": 30,
   "metadata": {},
   "outputs": [
    {
     "data": {
      "text/plain": [
       "0        2 previous owners\n",
       "1                     None\n",
       "2         1 previous owner\n",
       "3         1 previous owner\n",
       "4         1 previous owner\n",
       "               ...        \n",
       "15914                 None\n",
       "15915     1 previous owner\n",
       "15916     1 previous owner\n",
       "15917                 None\n",
       "15918     1 previous owner\n",
       "Name: prev_owner, Length: 15919, dtype: object"
      ]
     },
     "execution_count": 30,
     "metadata": {},
     "output_type": "execute_result"
    }
   ],
   "source": [
    "df.prev_owner \n",
    "\n",
    "# previous owners kısımlarını atıp sayıları tutmak istiyoruz. \n",
    "# İçinde NAn değerler de olduğu için integer değil float'a çevireceğiz."
   ]
  },
  {
   "cell_type": "code",
   "execution_count": 31,
   "metadata": {},
   "outputs": [
    {
     "data": {
      "text/plain": [
       "0        2.0\n",
       "1        NaN\n",
       "2        1.0\n",
       "3        1.0\n",
       "4        1.0\n",
       "        ... \n",
       "15914    NaN\n",
       "15915    1.0\n",
       "15916    1.0\n",
       "15917    NaN\n",
       "15918    1.0\n",
       "Name: prev_owner, Length: 15919, dtype: float64"
      ]
     },
     "execution_count": 31,
     "metadata": {},
     "output_type": "execute_result"
    }
   ],
   "source": [
    "df.prev_owner.str.strip('previous owners').astype(float)"
   ]
  },
  {
   "cell_type": "code",
   "execution_count": 32,
   "metadata": {},
   "outputs": [],
   "source": [
    "df.prev_owner = df.prev_owner.str.strip('previous owners').astype(float)"
   ]
  },
  {
   "cell_type": "code",
   "execution_count": 33,
   "metadata": {},
   "outputs": [
    {
     "data": {
      "text/plain": [
       "1.0    8294\n",
       "2.0     778\n",
       "3.0      17\n",
       "4.0       2\n",
       "Name: prev_owner, dtype: int64"
      ]
     },
     "execution_count": 33,
     "metadata": {},
     "output_type": "execute_result"
    }
   ],
   "source": [
    "df.prev_owner.value_counts()"
   ]
  },
  {
   "cell_type": "code",
   "execution_count": 34,
   "metadata": {},
   "outputs": [
    {
     "data": {
      "text/plain": [
       "6828"
      ]
     },
     "execution_count": 34,
     "metadata": {},
     "output_type": "execute_result"
    }
   ],
   "source": [
    "df.p rev_owner.isnull().sum()# null değerler daha önce kullanıcısı olmayan yani yeni arabalar olabilir mi?\n",
    "#İncelenip eğer öyleyse null değerler yerine 0 atanabilir."
   ]
  },
  {
   "cell_type": "code",
   "execution_count": 35,
   "metadata": {
    "scrolled": true
   },
   "outputs": [],
   "source": [
    "#(df.vehicle_condition == 'New') & (df['prev_owner'].isnull()) \n",
    "#True olan satırlarda prev_owner sütunundaki satıra 0 koyucaz"
   ]
  },
  {
   "cell_type": "markdown",
   "metadata": {},
   "source": [
    "# Previous Owners(drop)"
   ]
  },
  {
   "cell_type": "raw",
   "metadata": {},
   "source": [
    "Bu sütunların incelenmesine tekrar bakılacak."
   ]
  },
  {
   "cell_type": "code",
   "execution_count": 36,
   "metadata": {
    "scrolled": false
   },
   "outputs": [
    {
     "data": {
      "text/plain": [
       "0        2.0\n",
       "1        NaN\n",
       "2        1.0\n",
       "3        1.0\n",
       "4        1.0\n",
       "        ... \n",
       "15914    NaN\n",
       "15915    NaN\n",
       "15916    NaN\n",
       "15917    NaN\n",
       "15918    1.0\n",
       "Name: Previous Owners, Length: 15919, dtype: float64"
      ]
     },
     "execution_count": 36,
     "metadata": {},
     "output_type": "execute_result"
    }
   ],
   "source": [
    "df['Previous Owners'].str.strip('\\n').astype(float)"
   ]
  },
  {
   "cell_type": "code",
   "execution_count": 37,
   "metadata": {},
   "outputs": [],
   "source": [
    "df['Previous Owners'] = df['Previous Owners'].str.strip('\\n').astype(float)"
   ]
  },
  {
   "cell_type": "code",
   "execution_count": 38,
   "metadata": {},
   "outputs": [
    {
     "data": {
      "text/plain": [
       "1.0    8101\n",
       "2.0     766\n",
       "0.0     163\n",
       "3.0      17\n",
       "4.0       2\n",
       "Name: Previous Owners, dtype: int64"
      ]
     },
     "execution_count": 38,
     "metadata": {},
     "output_type": "execute_result"
    }
   ],
   "source": [
    "df['Previous Owners'].value_counts()"
   ]
  },
  {
   "cell_type": "code",
   "execution_count": 39,
   "metadata": {},
   "outputs": [
    {
     "data": {
      "text/plain": [
       "1.0    8294\n",
       "2.0     778\n",
       "3.0      17\n",
       "4.0       2\n",
       "Name: prev_owner, dtype: int64"
      ]
     },
     "execution_count": 39,
     "metadata": {},
     "output_type": "execute_result"
    }
   ],
   "source": [
    "df.prev_owner.value_counts()\n"
   ]
  },
  {
   "cell_type": "raw",
   "metadata": {},
   "source": [
    "Previous owner ve prev_owner sütunları karşılaştırıldığında prev_owner'ı kullanıp diğerini düşürmek daha mantıklı..\n",
    "Bu sütunda 1 olan değer daha fazla diğer sütunda 0 girilmiş? Acaba yanlışlıkla mı sıfır girildi? \n",
    "İleride arabanın yeni olup olmama durumuna göre hangi sütunun kullanılacağı tekrar incelenmeli.\n",
    "\n",
    "Previous owners sütununda \"0\" olan satırları (yeni araç olduğu düşünülerek)  çekip, vehicle_condition sütunundaki New olanlarla karşılaştırılması icap ediyor. Eğer bu verilerin birbiri ile uyumlu olduğu görülürse bu sütunu (previous owner) kullanmak mantıklı olacaktır."
   ]
  },
  {
   "cell_type": "code",
   "execution_count": 40,
   "metadata": {},
   "outputs": [
    {
     "data": {
      "text/plain": [
       "6828"
      ]
     },
     "execution_count": 40,
     "metadata": {},
     "output_type": "execute_result"
    }
   ],
   "source": [
    "df.prev_owner.isnull().sum()"
   ]
  },
  {
   "cell_type": "code",
   "execution_count": 41,
   "metadata": {
    "scrolled": true
   },
   "outputs": [
    {
     "data": {
      "text/html": [
       "<div>\n",
       "<style scoped>\n",
       "    .dataframe tbody tr th:only-of-type {\n",
       "        vertical-align: middle;\n",
       "    }\n",
       "\n",
       "    .dataframe tbody tr th {\n",
       "        vertical-align: top;\n",
       "    }\n",
       "\n",
       "    .dataframe thead th {\n",
       "        text-align: right;\n",
       "    }\n",
       "</style>\n",
       "<table border=\"1\" class=\"dataframe\">\n",
       "  <thead>\n",
       "    <tr style=\"text-align: right;\">\n",
       "      <th></th>\n",
       "      <th>Previous Owners</th>\n",
       "      <th>prev_owner</th>\n",
       "    </tr>\n",
       "  </thead>\n",
       "  <tbody>\n",
       "    <tr>\n",
       "      <th>12947</th>\n",
       "      <td>NaN</td>\n",
       "      <td>NaN</td>\n",
       "    </tr>\n",
       "    <tr>\n",
       "      <th>2126</th>\n",
       "      <td>NaN</td>\n",
       "      <td>NaN</td>\n",
       "    </tr>\n",
       "    <tr>\n",
       "      <th>810</th>\n",
       "      <td>NaN</td>\n",
       "      <td>NaN</td>\n",
       "    </tr>\n",
       "    <tr>\n",
       "      <th>14327</th>\n",
       "      <td>1.0</td>\n",
       "      <td>1.0</td>\n",
       "    </tr>\n",
       "    <tr>\n",
       "      <th>11141</th>\n",
       "      <td>2.0</td>\n",
       "      <td>2.0</td>\n",
       "    </tr>\n",
       "    <tr>\n",
       "      <th>1263</th>\n",
       "      <td>NaN</td>\n",
       "      <td>NaN</td>\n",
       "    </tr>\n",
       "    <tr>\n",
       "      <th>9632</th>\n",
       "      <td>1.0</td>\n",
       "      <td>1.0</td>\n",
       "    </tr>\n",
       "    <tr>\n",
       "      <th>12244</th>\n",
       "      <td>1.0</td>\n",
       "      <td>1.0</td>\n",
       "    </tr>\n",
       "    <tr>\n",
       "      <th>2123</th>\n",
       "      <td>NaN</td>\n",
       "      <td>NaN</td>\n",
       "    </tr>\n",
       "    <tr>\n",
       "      <th>12625</th>\n",
       "      <td>1.0</td>\n",
       "      <td>1.0</td>\n",
       "    </tr>\n",
       "  </tbody>\n",
       "</table>\n",
       "</div>"
      ],
      "text/plain": [
       "       Previous Owners  prev_owner\n",
       "12947              NaN         NaN\n",
       "2126               NaN         NaN\n",
       "810                NaN         NaN\n",
       "14327              1.0         1.0\n",
       "11141              2.0         2.0\n",
       "1263               NaN         NaN\n",
       "9632               1.0         1.0\n",
       "12244              1.0         1.0\n",
       "2123               NaN         NaN\n",
       "12625              1.0         1.0"
      ]
     },
     "execution_count": 41,
     "metadata": {},
     "output_type": "execute_result"
    }
   ],
   "source": [
    "df[['Previous Owners', 'prev_owner']].sample(10)"
   ]
  },
  {
   "cell_type": "markdown",
   "metadata": {},
   "source": [
    "# kW(drop)"
   ]
  },
  {
   "cell_type": "code",
   "execution_count": 42,
   "metadata": {},
   "outputs": [
    {
     "data": {
      "text/plain": [
       "15919"
      ]
     },
     "execution_count": 42,
     "metadata": {},
     "output_type": "execute_result"
    }
   ],
   "source": [
    "df.kW.isnull().sum() # Tüm satırlar null. Drop edilecek"
   ]
  },
  {
   "cell_type": "markdown",
   "metadata": {},
   "source": [
    "# hp"
   ]
  },
  {
   "cell_type": "code",
   "execution_count": 43,
   "metadata": {},
   "outputs": [
    {
     "data": {
      "text/plain": [
       "0"
      ]
     },
     "execution_count": 43,
     "metadata": {},
     "output_type": "execute_result"
    }
   ],
   "source": [
    "df.hp.isnull().sum()"
   ]
  },
  {
   "cell_type": "code",
   "execution_count": 44,
   "metadata": {
    "scrolled": false
   },
   "outputs": [
    {
     "data": {
      "text/plain": [
       "0         66 kW\n",
       "1        141 kW\n",
       "2         85 kW\n",
       "3         66 kW\n",
       "4         66 kW\n",
       "          ...  \n",
       "15914    147 kW\n",
       "15915    165 kW\n",
       "15916    146 kW\n",
       "15917    147 kW\n",
       "15918    165 kW\n",
       "Name: hp, Length: 15919, dtype: object"
      ]
     },
     "execution_count": 44,
     "metadata": {},
     "output_type": "execute_result"
    }
   ],
   "source": [
    "df.hp "
   ]
  },
  {
   "cell_type": "code",
   "execution_count": 45,
   "metadata": {},
   "outputs": [
    {
     "data": {
      "text/plain": [
       "Index(['85 kW', '66 kW', '81 kW', '100 kW', '110 kW', '70 kW', '125 kW',\n",
       "       '51 kW', '55 kW', '118 kW', '92 kW', '121 kW', '147 kW', '77 kW',\n",
       "       '56 kW', '54 kW', '103 kW', '87 kW', '165 kW', '88 kW', '60 kW',\n",
       "       '162 kW', '- kW', '74 kW', '96 kW', '71 kW', '101 kW', '67 kW',\n",
       "       '154 kW', '122 kW', '119 kW', '164 kW', '135 kW', '82 kW', '52 kW',\n",
       "       '1 kW', '78 kW', '146 kW', '294 kW', '141 kW', '57 kW', '120 kW',\n",
       "       '104 kW', '112 kW', '191 kW', '155 kW', '117 kW', '184 kW', '65 kW',\n",
       "       '90 kW', '76 kW', '149 kW', '93 kW', '80 kW', '168 kW', '98 kW',\n",
       "       '150 kW', '40 kW', '53 kW', '167 kW', '89 kW', '140 kW', '127 kW',\n",
       "       '63 kW', '228 kW', '270 kW', '86 kW', '143 kW', '84 kW', '132 kW',\n",
       "       '44 kW', '195 kW', '137 kW', '9 kW', '75 kW', '123 kW', '239 kW',\n",
       "       '115 kW', '133 kW', '163 kW', '4 kW'],\n",
       "      dtype='object')"
      ]
     },
     "execution_count": 45,
     "metadata": {},
     "output_type": "execute_result"
    }
   ],
   "source": [
    "df.hp.value_counts().index \n",
    "# '- kW' değeri var kW atılıp - nana çevrilmeli ki geriye sadece rakamlar kalsın ve bunlarla çalışabilelim."
   ]
  },
  {
   "cell_type": "code",
   "execution_count": 46,
   "metadata": {},
   "outputs": [
    {
     "data": {
      "text/plain": [
       "0         66.0\n",
       "1        141.0\n",
       "2         85.0\n",
       "3         66.0\n",
       "4         66.0\n",
       "         ...  \n",
       "15914    147.0\n",
       "15915    165.0\n",
       "15916    146.0\n",
       "15917    147.0\n",
       "15918    165.0\n",
       "Name: hp, Length: 15919, dtype: float64"
      ]
     },
     "execution_count": 46,
     "metadata": {},
     "output_type": "execute_result"
    }
   ],
   "source": [
    "df.hp.str.strip(' kW').replace('-', np.nan).astype(float)"
   ]
  },
  {
   "cell_type": "code",
   "execution_count": 47,
   "metadata": {},
   "outputs": [],
   "source": [
    "df[\"hp\"] = df.hp.str.strip(' kW').replace('-', np.nan).astype(float)"
   ]
  },
  {
   "cell_type": "code",
   "execution_count": 48,
   "metadata": {},
   "outputs": [
    {
     "data": {
      "text/plain": [
       "88"
      ]
     },
     "execution_count": 48,
     "metadata": {},
     "output_type": "execute_result"
    }
   ],
   "source": [
    "df.hp.isnull().sum()"
   ]
  },
  {
   "cell_type": "markdown",
   "metadata": {},
   "source": [
    "# Type(drop)\n",
    "**Bu sütundaki verilerle iki tane sütun oluşturucaz**"
   ]
  },
  {
   "cell_type": "code",
   "execution_count": 49,
   "metadata": {},
   "outputs": [
    {
     "data": {
      "text/plain": [
       "0                  [, Used, , Diesel (Particulate Filter)]\n",
       "1                                     [, Used, , Gasoline]\n",
       "2                  [, Used, , Diesel (Particulate Filter)]\n",
       "3                  [, Used, , Diesel (Particulate Filter)]\n",
       "4                  [, Used, , Diesel (Particulate Filter)]\n",
       "                               ...                        \n",
       "15914               [, New, , Diesel (Particulate Filter)]\n",
       "15915    [, Used, , Super 95 / Super Plus 98 (Particula...\n",
       "15916                         [, Pre-registered, , Diesel]\n",
       "15917                         [, Pre-registered, , Diesel]\n",
       "15918                        [, Demonstration, , Super 95]\n",
       "Name: Type, Length: 15919, dtype: object"
      ]
     },
     "execution_count": 49,
     "metadata": {},
     "output_type": "execute_result"
    }
   ],
   "source": [
    "df.Type \n",
    "# bu sütunda hem arabanın yakıt bilgileri hem de used new olma gibi durumu var. İki sütuna dönüştürebiliriz."
   ]
  },
  {
   "cell_type": "markdown",
   "metadata": {},
   "source": [
    "### vehicle_condition"
   ]
  },
  {
   "cell_type": "code",
   "execution_count": 50,
   "metadata": {
    "scrolled": true
   },
   "outputs": [
    {
     "data": {
      "text/plain": [
       "0                  Used\n",
       "1                  Used\n",
       "2                  Used\n",
       "3                  Used\n",
       "4                  Used\n",
       "              ...      \n",
       "15914               New\n",
       "15915              Used\n",
       "15916    Pre-registered\n",
       "15917    Pre-registered\n",
       "15918     Demonstration\n",
       "Name: Type, Length: 15919, dtype: object"
      ]
     },
     "execution_count": 50,
     "metadata": {},
     "output_type": "execute_result"
    }
   ],
   "source": [
    "df.Type.map(lambda x : x[1], na_action = 'ignore')"
   ]
  },
  {
   "cell_type": "raw",
   "metadata": {},
   "source": [
    "bu sütun Used ve New olacak şekilde düzenlenmeli. \n",
    "\n",
    "Pre-registered olanlara (henüz register bile olmadığından) New diyeceğiz\n",
    "\n",
    "Demonstration olanlara da (test aracı olduğu düşünülerek) Used diyeceğiz."
   ]
  },
  {
   "cell_type": "code",
   "execution_count": null,
   "metadata": {},
   "outputs": [],
   "source": []
  },
  {
   "cell_type": "code",
   "execution_count": 51,
   "metadata": {},
   "outputs": [],
   "source": [
    "df['vehicle_condition'] = df.Type.map(lambda x : x[1], na_action = 'ignore') "
   ]
  },
  {
   "cell_type": "code",
   "execution_count": 52,
   "metadata": {},
   "outputs": [
    {
     "data": {
      "text/plain": [
       "Used              11096\n",
       "New                1650\n",
       "Pre-registered     1364\n",
       "Employee's car     1011\n",
       "Demonstration       796\n",
       "Name: vehicle_condition, dtype: int64"
      ]
     },
     "execution_count": 52,
     "metadata": {},
     "output_type": "execute_result"
    }
   ],
   "source": [
    "df.vehicle_condition.value_counts()"
   ]
  },
  {
   "cell_type": "code",
   "execution_count": 53,
   "metadata": {
    "scrolled": true
   },
   "outputs": [
    {
     "data": {
      "text/html": [
       "<div>\n",
       "<style scoped>\n",
       "    .dataframe tbody tr th:only-of-type {\n",
       "        vertical-align: middle;\n",
       "    }\n",
       "\n",
       "    .dataframe tbody tr th {\n",
       "        vertical-align: top;\n",
       "    }\n",
       "\n",
       "    .dataframe thead th {\n",
       "        text-align: right;\n",
       "    }\n",
       "</style>\n",
       "<table border=\"1\" class=\"dataframe\">\n",
       "  <thead>\n",
       "    <tr style=\"text-align: right;\">\n",
       "      <th></th>\n",
       "      <th>url</th>\n",
       "      <th>make_model</th>\n",
       "      <th>short_description</th>\n",
       "      <th>body_type</th>\n",
       "      <th>price</th>\n",
       "      <th>vat</th>\n",
       "      <th>km</th>\n",
       "      <th>registration</th>\n",
       "      <th>prev_owner</th>\n",
       "      <th>kW</th>\n",
       "      <th>hp</th>\n",
       "      <th>Type</th>\n",
       "      <th>Previous Owners</th>\n",
       "      <th>Next Inspection</th>\n",
       "      <th>Inspection new</th>\n",
       "      <th>Warranty</th>\n",
       "      <th>Full Service</th>\n",
       "      <th>Non-smoking Vehicle</th>\n",
       "      <th>null</th>\n",
       "      <th>Make</th>\n",
       "      <th>Model</th>\n",
       "      <th>Offer Number</th>\n",
       "      <th>First Registration</th>\n",
       "      <th>Body Color</th>\n",
       "      <th>Paint Type</th>\n",
       "      <th>Body Color Original</th>\n",
       "      <th>Upholstery</th>\n",
       "      <th>Body</th>\n",
       "      <th>Nr. of Doors</th>\n",
       "      <th>Nr. of Seats</th>\n",
       "      <th>Model Code</th>\n",
       "      <th>Gearing Type</th>\n",
       "      <th>Displacement</th>\n",
       "      <th>Cylinders</th>\n",
       "      <th>Weight</th>\n",
       "      <th>Drive chain</th>\n",
       "      <th>Fuel</th>\n",
       "      <th>Consumption</th>\n",
       "      <th>CO2 Emission</th>\n",
       "      <th>Emission Class</th>\n",
       "      <th>\\nComfort &amp; Convenience\\n</th>\n",
       "      <th>\\nEntertainment &amp; Media\\n</th>\n",
       "      <th>\\nExtras\\n</th>\n",
       "      <th>\\nSafety &amp; Security\\n</th>\n",
       "      <th>description</th>\n",
       "      <th>Emission Label</th>\n",
       "      <th>Gears</th>\n",
       "      <th>Country version</th>\n",
       "      <th>Electricity consumption</th>\n",
       "      <th>Last Service Date</th>\n",
       "      <th>Other Fuel Types</th>\n",
       "      <th>Availability</th>\n",
       "      <th>Last Timing Belt Service Date</th>\n",
       "      <th>Available from</th>\n",
       "      <th>age</th>\n",
       "      <th>vehicle_condition</th>\n",
       "    </tr>\n",
       "  </thead>\n",
       "  <tbody>\n",
       "    <tr>\n",
       "      <th>122</th>\n",
       "      <td>https://www.autoscout24.com//offers/audi-a1-sp...</td>\n",
       "      <td>Audi A1</td>\n",
       "      <td>Sportback basis 30 TFSI 116 S tronic Euro6d-Te...</td>\n",
       "      <td>Compact</td>\n",
       "      <td>18730</td>\n",
       "      <td>True</td>\n",
       "      <td>1.0</td>\n",
       "      <td>-/-</td>\n",
       "      <td>NaN</td>\n",
       "      <td>NaN</td>\n",
       "      <td>85.0</td>\n",
       "      <td>[, New, , Super 95 (Particulate Filter)]</td>\n",
       "      <td>NaN</td>\n",
       "      <td>NaN</td>\n",
       "      <td>NaN</td>\n",
       "      <td>[\\n, \\n, \\n108 g CO2/km (comb)\\n]</td>\n",
       "      <td>NaN</td>\n",
       "      <td>NaN</td>\n",
       "      <td>[]</td>\n",
       "      <td>\\nAudi\\n</td>\n",
       "      <td>[\\n, A1, \\n]</td>\n",
       "      <td>[\\n13468\\n]</td>\n",
       "      <td>NaN</td>\n",
       "      <td>NaN</td>\n",
       "      <td>NaN</td>\n",
       "      <td>[\\nwählbar\\n]</td>\n",
       "      <td>[\\nVelour\\n]</td>\n",
       "      <td>[\\n, Compact, \\n]</td>\n",
       "      <td>[\\n5\\n]</td>\n",
       "      <td>[\\n5\\n]</td>\n",
       "      <td>NaN</td>\n",
       "      <td>[\\n, Automatic, \\n]</td>\n",
       "      <td>[\\n999 cc\\n]</td>\n",
       "      <td>[\\n3\\n]</td>\n",
       "      <td>[\\n1,200 kg\\n]</td>\n",
       "      <td>[\\nfront\\n]</td>\n",
       "      <td>[\\n, Super 95 (Particulate Filter), \\n]</td>\n",
       "      <td>[[4.8 l/100 km (comb)], [5.8 l/100 km (city)],...</td>\n",
       "      <td>[\\n108 g CO2/km (comb)\\n]</td>\n",
       "      <td>[\\nEuro 6d-TEMP\\n]</td>\n",
       "      <td>[Air conditioning, Electrical side mirrors, Hi...</td>\n",
       "      <td>[Bluetooth, Hands-free equipment, On-board com...</td>\n",
       "      <td>NaN</td>\n",
       "      <td>[ABS, Daytime running lights, Driver-side airb...</td>\n",
       "      <td>[\\nPreise inklusive Mehrwertsteuer,  , Preisga...</td>\n",
       "      <td>[\\n4 (Green)\\n]</td>\n",
       "      <td>[\\n7\\n]</td>\n",
       "      <td>[\\nEuropean Union\\n]</td>\n",
       "      <td>NaN</td>\n",
       "      <td>NaN</td>\n",
       "      <td>NaN</td>\n",
       "      <td>\\nin 90 days from ordering\\n</td>\n",
       "      <td>NaN</td>\n",
       "      <td>NaN</td>\n",
       "      <td>NaN</td>\n",
       "      <td>New</td>\n",
       "    </tr>\n",
       "    <tr>\n",
       "      <th>710</th>\n",
       "      <td>https://www.autoscout24.com//offers/audi-a1-sp...</td>\n",
       "      <td>Audi A1</td>\n",
       "      <td>Sportback</td>\n",
       "      <td>Compact</td>\n",
       "      <td>31990</td>\n",
       "      <td>True</td>\n",
       "      <td>10.0</td>\n",
       "      <td>-/-</td>\n",
       "      <td>NaN</td>\n",
       "      <td>NaN</td>\n",
       "      <td>85.0</td>\n",
       "      <td>[, New, , Gasoline]</td>\n",
       "      <td>NaN</td>\n",
       "      <td>NaN</td>\n",
       "      <td>NaN</td>\n",
       "      <td>\\n24 months\\n</td>\n",
       "      <td>[\\n, \\n]</td>\n",
       "      <td>NaN</td>\n",
       "      <td>[]</td>\n",
       "      <td>\\nAudi\\n</td>\n",
       "      <td>[\\n, A1, \\n]</td>\n",
       "      <td>[\\n12743\\n]</td>\n",
       "      <td>NaN</td>\n",
       "      <td>[\\n, Yellow, \\n]</td>\n",
       "      <td>[\\nMetallic\\n]</td>\n",
       "      <td>[\\njaune\\n]</td>\n",
       "      <td>[\\nVelour, Black\\n]</td>\n",
       "      <td>[\\n, Compact, \\n]</td>\n",
       "      <td>[\\n5\\n]</td>\n",
       "      <td>NaN</td>\n",
       "      <td>NaN</td>\n",
       "      <td>[\\n, Semi-automatic, \\n]</td>\n",
       "      <td>[\\n999 cc\\n]</td>\n",
       "      <td>NaN</td>\n",
       "      <td>NaN</td>\n",
       "      <td>[\\nfront\\n]</td>\n",
       "      <td>[\\n, Gasoline, \\n]</td>\n",
       "      <td>NaN</td>\n",
       "      <td>[[], [], []]</td>\n",
       "      <td>NaN</td>\n",
       "      <td>[Air conditioning, Automatic climate control, ...</td>\n",
       "      <td>[On-board computer]</td>\n",
       "      <td>[Alloy wheels]</td>\n",
       "      <td>[Power steering]</td>\n",
       "      <td>[\\n, \\n]</td>\n",
       "      <td>NaN</td>\n",
       "      <td>[\\n7\\n]</td>\n",
       "      <td>NaN</td>\n",
       "      <td>NaN</td>\n",
       "      <td>NaN</td>\n",
       "      <td>NaN</td>\n",
       "      <td>NaN</td>\n",
       "      <td>NaN</td>\n",
       "      <td>NaN</td>\n",
       "      <td>NaN</td>\n",
       "      <td>New</td>\n",
       "    </tr>\n",
       "    <tr>\n",
       "      <th>741</th>\n",
       "      <td>https://www.autoscout24.com//offers/audi-a1-ad...</td>\n",
       "      <td>Audi A1</td>\n",
       "      <td>Advanced</td>\n",
       "      <td>Sedans</td>\n",
       "      <td>28290</td>\n",
       "      <td>True</td>\n",
       "      <td>5.0</td>\n",
       "      <td>-/-</td>\n",
       "      <td>NaN</td>\n",
       "      <td>NaN</td>\n",
       "      <td>85.0</td>\n",
       "      <td>[, New, , Gasoline]</td>\n",
       "      <td>NaN</td>\n",
       "      <td>NaN</td>\n",
       "      <td>NaN</td>\n",
       "      <td>\\n36 months\\n</td>\n",
       "      <td>NaN</td>\n",
       "      <td>NaN</td>\n",
       "      <td>[]</td>\n",
       "      <td>\\nAudi\\n</td>\n",
       "      <td>[\\n, A1, \\n]</td>\n",
       "      <td>[\\n6073\\n]</td>\n",
       "      <td>NaN</td>\n",
       "      <td>[\\n, Red, \\n]</td>\n",
       "      <td>[\\nPerl effect\\n]</td>\n",
       "      <td>[\\nrouge\\n]</td>\n",
       "      <td>[\\nVelour, Black\\n]</td>\n",
       "      <td>[\\n, Sedans, \\n]</td>\n",
       "      <td>[\\n5\\n]</td>\n",
       "      <td>NaN</td>\n",
       "      <td>NaN</td>\n",
       "      <td>[\\n, Semi-automatic, \\n]</td>\n",
       "      <td>[\\n999 cc\\n]</td>\n",
       "      <td>NaN</td>\n",
       "      <td>NaN</td>\n",
       "      <td>[\\nfront\\n]</td>\n",
       "      <td>[\\n, Gasoline, \\n]</td>\n",
       "      <td>NaN</td>\n",
       "      <td>[[], [], []]</td>\n",
       "      <td>[\\nEuro 6\\n]</td>\n",
       "      <td>[Air conditioning, Automatic climate control, ...</td>\n",
       "      <td>[Bluetooth]</td>\n",
       "      <td>[Alloy wheels]</td>\n",
       "      <td>NaN</td>\n",
       "      <td>[\\n, \\n]</td>\n",
       "      <td>NaN</td>\n",
       "      <td>[\\n7\\n]</td>\n",
       "      <td>NaN</td>\n",
       "      <td>NaN</td>\n",
       "      <td>NaN</td>\n",
       "      <td>NaN</td>\n",
       "      <td>NaN</td>\n",
       "      <td>NaN</td>\n",
       "      <td>NaN</td>\n",
       "      <td>NaN</td>\n",
       "      <td>New</td>\n",
       "    </tr>\n",
       "    <tr>\n",
       "      <th>946</th>\n",
       "      <td>https://www.autoscout24.com//offers/audi-a1-sp...</td>\n",
       "      <td>Audi A1</td>\n",
       "      <td>Sportback 35 TFSI S tronic</td>\n",
       "      <td>Compact</td>\n",
       "      <td>21406</td>\n",
       "      <td>True</td>\n",
       "      <td>NaN</td>\n",
       "      <td>-/-</td>\n",
       "      <td>NaN</td>\n",
       "      <td>NaN</td>\n",
       "      <td>110.0</td>\n",
       "      <td>[, New, , Gasoline]</td>\n",
       "      <td>NaN</td>\n",
       "      <td>NaN</td>\n",
       "      <td>NaN</td>\n",
       "      <td>NaN</td>\n",
       "      <td>NaN</td>\n",
       "      <td>NaN</td>\n",
       "      <td>[]</td>\n",
       "      <td>\\nAudi\\n</td>\n",
       "      <td>[\\n, A1, \\n]</td>\n",
       "      <td>[\\n2560806\\n]</td>\n",
       "      <td>NaN</td>\n",
       "      <td>NaN</td>\n",
       "      <td>NaN</td>\n",
       "      <td>NaN</td>\n",
       "      <td>NaN</td>\n",
       "      <td>[\\n, Compact, \\n]</td>\n",
       "      <td>[\\n5\\n]</td>\n",
       "      <td>[\\n5\\n]</td>\n",
       "      <td>NaN</td>\n",
       "      <td>[\\n, Automatic, \\n]</td>\n",
       "      <td>[\\n1,498 cc\\n]</td>\n",
       "      <td>[\\n4\\n]</td>\n",
       "      <td>[\\n1,180 kg\\n]</td>\n",
       "      <td>[\\nfront\\n]</td>\n",
       "      <td>[\\n, Gasoline, \\n]</td>\n",
       "      <td>[[5 l/100 km (comb)], [6 l/100 km (city)], [3 ...</td>\n",
       "      <td>NaN</td>\n",
       "      <td>NaN</td>\n",
       "      <td>NaN</td>\n",
       "      <td>NaN</td>\n",
       "      <td>NaN</td>\n",
       "      <td>NaN</td>\n",
       "      <td>[]</td>\n",
       "      <td>NaN</td>\n",
       "      <td>[\\n7\\n]</td>\n",
       "      <td>NaN</td>\n",
       "      <td>NaN</td>\n",
       "      <td>NaN</td>\n",
       "      <td>NaN</td>\n",
       "      <td>NaN</td>\n",
       "      <td>NaN</td>\n",
       "      <td>NaN</td>\n",
       "      <td>NaN</td>\n",
       "      <td>New</td>\n",
       "    </tr>\n",
       "    <tr>\n",
       "      <th>960</th>\n",
       "      <td>https://www.autoscout24.com//offers/audi-a1-sp...</td>\n",
       "      <td>Audi A1</td>\n",
       "      <td>Sportback basis 35 TFSI 150 S tronic Euro6d-Te...</td>\n",
       "      <td>Compact</td>\n",
       "      <td>20980</td>\n",
       "      <td>True</td>\n",
       "      <td>1.0</td>\n",
       "      <td>-/-</td>\n",
       "      <td>NaN</td>\n",
       "      <td>NaN</td>\n",
       "      <td>110.0</td>\n",
       "      <td>[, New, , Super 95 (Particulate Filter)]</td>\n",
       "      <td>NaN</td>\n",
       "      <td>NaN</td>\n",
       "      <td>NaN</td>\n",
       "      <td>[\\n, \\n, \\n116 g CO2/km (comb)\\n]</td>\n",
       "      <td>NaN</td>\n",
       "      <td>NaN</td>\n",
       "      <td>[]</td>\n",
       "      <td>\\nAudi\\n</td>\n",
       "      <td>[\\n, A1, \\n]</td>\n",
       "      <td>[\\n13785\\n]</td>\n",
       "      <td>NaN</td>\n",
       "      <td>NaN</td>\n",
       "      <td>NaN</td>\n",
       "      <td>[\\nwählbar\\n]</td>\n",
       "      <td>[\\nVelour\\n]</td>\n",
       "      <td>[\\n, Compact, \\n]</td>\n",
       "      <td>[\\n5\\n]</td>\n",
       "      <td>[\\n5\\n]</td>\n",
       "      <td>NaN</td>\n",
       "      <td>[\\n, Automatic, \\n]</td>\n",
       "      <td>[\\n1,498 cc\\n]</td>\n",
       "      <td>[\\n4\\n]</td>\n",
       "      <td>[\\n1,240 kg\\n]</td>\n",
       "      <td>[\\nfront\\n]</td>\n",
       "      <td>[\\n, Super 95 (Particulate Filter), \\n]</td>\n",
       "      <td>[[5.1 l/100 km (comb)], [6.5 l/100 km (city)],...</td>\n",
       "      <td>[\\n116 g CO2/km (comb)\\n]</td>\n",
       "      <td>[\\nEuro 6d-TEMP\\n]</td>\n",
       "      <td>[Air conditioning, Electrical side mirrors, Hi...</td>\n",
       "      <td>[Bluetooth, Hands-free equipment, On-board com...</td>\n",
       "      <td>NaN</td>\n",
       "      <td>[ABS, Daytime running lights, Driver-side airb...</td>\n",
       "      <td>[\\nPreise inklusive Mehrwertsteuer,  , Preisga...</td>\n",
       "      <td>[\\n4 (Green)\\n]</td>\n",
       "      <td>[\\n7\\n]</td>\n",
       "      <td>[\\nEuropean Union\\n]</td>\n",
       "      <td>NaN</td>\n",
       "      <td>NaN</td>\n",
       "      <td>NaN</td>\n",
       "      <td>\\nin 90 days from ordering\\n</td>\n",
       "      <td>NaN</td>\n",
       "      <td>NaN</td>\n",
       "      <td>NaN</td>\n",
       "      <td>New</td>\n",
       "    </tr>\n",
       "    <tr>\n",
       "      <th>...</th>\n",
       "      <td>...</td>\n",
       "      <td>...</td>\n",
       "      <td>...</td>\n",
       "      <td>...</td>\n",
       "      <td>...</td>\n",
       "      <td>...</td>\n",
       "      <td>...</td>\n",
       "      <td>...</td>\n",
       "      <td>...</td>\n",
       "      <td>...</td>\n",
       "      <td>...</td>\n",
       "      <td>...</td>\n",
       "      <td>...</td>\n",
       "      <td>...</td>\n",
       "      <td>...</td>\n",
       "      <td>...</td>\n",
       "      <td>...</td>\n",
       "      <td>...</td>\n",
       "      <td>...</td>\n",
       "      <td>...</td>\n",
       "      <td>...</td>\n",
       "      <td>...</td>\n",
       "      <td>...</td>\n",
       "      <td>...</td>\n",
       "      <td>...</td>\n",
       "      <td>...</td>\n",
       "      <td>...</td>\n",
       "      <td>...</td>\n",
       "      <td>...</td>\n",
       "      <td>...</td>\n",
       "      <td>...</td>\n",
       "      <td>...</td>\n",
       "      <td>...</td>\n",
       "      <td>...</td>\n",
       "      <td>...</td>\n",
       "      <td>...</td>\n",
       "      <td>...</td>\n",
       "      <td>...</td>\n",
       "      <td>...</td>\n",
       "      <td>...</td>\n",
       "      <td>...</td>\n",
       "      <td>...</td>\n",
       "      <td>...</td>\n",
       "      <td>...</td>\n",
       "      <td>...</td>\n",
       "      <td>...</td>\n",
       "      <td>...</td>\n",
       "      <td>...</td>\n",
       "      <td>...</td>\n",
       "      <td>...</td>\n",
       "      <td>...</td>\n",
       "      <td>...</td>\n",
       "      <td>...</td>\n",
       "      <td>...</td>\n",
       "      <td>...</td>\n",
       "      <td>...</td>\n",
       "    </tr>\n",
       "    <tr>\n",
       "      <th>15892</th>\n",
       "      <td>https://www.autoscout24.com//offers/renault-es...</td>\n",
       "      <td>Renault Espace</td>\n",
       "      <td>Intens Energy dCi 160 EDC</td>\n",
       "      <td>Van</td>\n",
       "      <td>41800</td>\n",
       "      <td>True</td>\n",
       "      <td>2.0</td>\n",
       "      <td>-/-</td>\n",
       "      <td>NaN</td>\n",
       "      <td>NaN</td>\n",
       "      <td>118.0</td>\n",
       "      <td>[, New, , Diesel (Particulate Filter)]</td>\n",
       "      <td>NaN</td>\n",
       "      <td>NaN</td>\n",
       "      <td>NaN</td>\n",
       "      <td>NaN</td>\n",
       "      <td>\\n</td>\n",
       "      <td>NaN</td>\n",
       "      <td>[]</td>\n",
       "      <td>\\nRenault\\n</td>\n",
       "      <td>[\\n, Espace, \\n]</td>\n",
       "      <td>[\\n2000422820\\n]</td>\n",
       "      <td>NaN</td>\n",
       "      <td>[\\n, White, \\n]</td>\n",
       "      <td>[\\nMetallic\\n]</td>\n",
       "      <td>[\\nweiß\\n]</td>\n",
       "      <td>[\\nFull leather\\n]</td>\n",
       "      <td>[\\n, Van, \\n]</td>\n",
       "      <td>[\\n5\\n]</td>\n",
       "      <td>[\\n5\\n]</td>\n",
       "      <td>NaN</td>\n",
       "      <td>[\\n, Automatic, \\n]</td>\n",
       "      <td>[\\n1,598 cc\\n]</td>\n",
       "      <td>NaN</td>\n",
       "      <td>[\\n1,659 kg\\n]</td>\n",
       "      <td>[\\nfront\\n]</td>\n",
       "      <td>[\\n, Diesel (Particulate Filter), \\n]</td>\n",
       "      <td>[[4.7 l/100 km (comb)], [5.1 l/100 km (city)],...</td>\n",
       "      <td>[\\n123 g CO2/km (comb)\\n]</td>\n",
       "      <td>[\\nEuro 6\\n]</td>\n",
       "      <td>[Air conditioning, Armrest, Automatic climate ...</td>\n",
       "      <td>[On-board computer, Radio, USB]</td>\n",
       "      <td>[Alloy wheels]</td>\n",
       "      <td>[ABS, Adaptive headlights, Alarm system, Centr...</td>\n",
       "      <td>[\\nAllradlenkung. Fahrwerk einstellbar. Spurha...</td>\n",
       "      <td>NaN</td>\n",
       "      <td>[\\n6\\n]</td>\n",
       "      <td>NaN</td>\n",
       "      <td>NaN</td>\n",
       "      <td>NaN</td>\n",
       "      <td>NaN</td>\n",
       "      <td>NaN</td>\n",
       "      <td>NaN</td>\n",
       "      <td>NaN</td>\n",
       "      <td>NaN</td>\n",
       "      <td>New</td>\n",
       "    </tr>\n",
       "    <tr>\n",
       "      <th>15902</th>\n",
       "      <td>https://www.autoscout24.com//offers/renault-es...</td>\n",
       "      <td>Renault Espace</td>\n",
       "      <td>BLUE dCi 200 EDC Initiale Paris</td>\n",
       "      <td>Sedans</td>\n",
       "      <td>41043</td>\n",
       "      <td>True</td>\n",
       "      <td>NaN</td>\n",
       "      <td>-/-</td>\n",
       "      <td>NaN</td>\n",
       "      <td>NaN</td>\n",
       "      <td>147.0</td>\n",
       "      <td>[, New, , Diesel (Particulate Filter)]</td>\n",
       "      <td>NaN</td>\n",
       "      <td>NaN</td>\n",
       "      <td>NaN</td>\n",
       "      <td>NaN</td>\n",
       "      <td>NaN</td>\n",
       "      <td>[\\n, \\n, \\n139 g CO2/km (comb)\\n]</td>\n",
       "      <td>[]</td>\n",
       "      <td>\\nRenault\\n</td>\n",
       "      <td>[\\n, Espace, \\n]</td>\n",
       "      <td>[\\nIM 157730\\n]</td>\n",
       "      <td>NaN</td>\n",
       "      <td>[\\n, Black, \\n]</td>\n",
       "      <td>NaN</td>\n",
       "      <td>[\\nGNE Noir Etoile\\n]</td>\n",
       "      <td>[\\nBrown\\n]</td>\n",
       "      <td>[\\n, Sedans, \\n]</td>\n",
       "      <td>[\\n4\\n]</td>\n",
       "      <td>[\\n5\\n]</td>\n",
       "      <td>[\\n3333/BDR\\n]</td>\n",
       "      <td>[\\n, Automatic, \\n]</td>\n",
       "      <td>[\\n1,997 cc\\n]</td>\n",
       "      <td>NaN</td>\n",
       "      <td>NaN</td>\n",
       "      <td>NaN</td>\n",
       "      <td>[\\n, Diesel (Particulate Filter), \\n]</td>\n",
       "      <td>[[5.3 l/100 km (comb)], [6.2 l/100 km (city)],...</td>\n",
       "      <td>[\\n139 g CO2/km (comb)\\n]</td>\n",
       "      <td>[\\nEuro 6c\\n]</td>\n",
       "      <td>[Air conditioning, Armrest, Automatic climate ...</td>\n",
       "      <td>[Bluetooth, Digital radio, Hands-free equipmen...</td>\n",
       "      <td>[Alloy wheels, Roof rack, Touch screen, Voice ...</td>\n",
       "      <td>[ABS, Blind spot monitor, Central door lock, D...</td>\n",
       "      <td>[\\n12V Anschluss, 19\" Leichtmetallfelgen, ABS,...</td>\n",
       "      <td>NaN</td>\n",
       "      <td>NaN</td>\n",
       "      <td>[\\nBelgium\\n]</td>\n",
       "      <td>NaN</td>\n",
       "      <td>NaN</td>\n",
       "      <td>NaN</td>\n",
       "      <td>NaN</td>\n",
       "      <td>NaN</td>\n",
       "      <td>\\n03/08/19\\n</td>\n",
       "      <td>NaN</td>\n",
       "      <td>New</td>\n",
       "    </tr>\n",
       "    <tr>\n",
       "      <th>15907</th>\n",
       "      <td>https://www.autoscout24.com//offers/renault-es...</td>\n",
       "      <td>Renault Espace</td>\n",
       "      <td>1.8 TCE 225 INITIALE PARIS, WINTER-, CRUISING-...</td>\n",
       "      <td>Van</td>\n",
       "      <td>39990</td>\n",
       "      <td>True</td>\n",
       "      <td>50.0</td>\n",
       "      <td>-/-</td>\n",
       "      <td>NaN</td>\n",
       "      <td>NaN</td>\n",
       "      <td>165.0</td>\n",
       "      <td>[, New, , Super 95 / Super Plus 98 / Super E10...</td>\n",
       "      <td>NaN</td>\n",
       "      <td>NaN</td>\n",
       "      <td>NaN</td>\n",
       "      <td>[\\n36 months\\n, \\n, 7.4 l/100 km (comb), \\n, 9...</td>\n",
       "      <td>NaN</td>\n",
       "      <td>NaN</td>\n",
       "      <td>[]</td>\n",
       "      <td>\\nRenault\\n</td>\n",
       "      <td>[\\n, Espace, \\n]</td>\n",
       "      <td>[\\n078265\\n]</td>\n",
       "      <td>NaN</td>\n",
       "      <td>[\\n, Grey, \\n]</td>\n",
       "      <td>[\\nMetallic\\n]</td>\n",
       "      <td>[\\ntitaniumgraumetallic\\n]</td>\n",
       "      <td>[\\nFull leather\\n]</td>\n",
       "      <td>[\\n, Van, \\n]</td>\n",
       "      <td>[\\n5\\n]</td>\n",
       "      <td>[\\n7\\n]</td>\n",
       "      <td>[\\n3333/BHJ\\n]</td>\n",
       "      <td>[\\n, Automatic, \\n]</td>\n",
       "      <td>[\\n1,798 cc\\n]</td>\n",
       "      <td>NaN</td>\n",
       "      <td>[\\n1,708 kg\\n]</td>\n",
       "      <td>NaN</td>\n",
       "      <td>[\\n, Super 95 / Super Plus 98 / Super E10 95 /...</td>\n",
       "      <td>[\\n, 7.4 l/100 km (comb), \\n, 9.6 l/100 km (ci...</td>\n",
       "      <td>[\\n168 g CO2/km (comb)\\n]</td>\n",
       "      <td>[\\nEuro 6d-TEMP\\n]</td>\n",
       "      <td>[Air conditioning, Armrest, Automatic climate ...</td>\n",
       "      <td>[Bluetooth, Digital radio, Hands-free equipmen...</td>\n",
       "      <td>[Alloy wheels, Touch screen, Voice Control]</td>\n",
       "      <td>[ABS, Adaptive Cruise Control, Adaptive headli...</td>\n",
       "      <td>[\\n, Sonderausstattung, 3.Sitzreihe mit Einzel...</td>\n",
       "      <td>[\\n4 (Green)\\n]</td>\n",
       "      <td>[\\n7\\n]</td>\n",
       "      <td>[\\nEuropean Union\\n]</td>\n",
       "      <td>NaN</td>\n",
       "      <td>NaN</td>\n",
       "      <td>[[], [], []]</td>\n",
       "      <td>\\nin 14 days from ordering\\n</td>\n",
       "      <td>NaN</td>\n",
       "      <td>NaN</td>\n",
       "      <td>NaN</td>\n",
       "      <td>New</td>\n",
       "    </tr>\n",
       "    <tr>\n",
       "      <th>15912</th>\n",
       "      <td>https://www.autoscout24.com//offers/renault-es...</td>\n",
       "      <td>Renault Espace</td>\n",
       "      <td>Blue dCi 200CV EDC Executive 4Control</td>\n",
       "      <td>Van</td>\n",
       "      <td>39950</td>\n",
       "      <td>True</td>\n",
       "      <td>NaN</td>\n",
       "      <td>-/-</td>\n",
       "      <td>NaN</td>\n",
       "      <td>NaN</td>\n",
       "      <td>147.0</td>\n",
       "      <td>[, New, , Diesel (Particulate Filter)]</td>\n",
       "      <td>NaN</td>\n",
       "      <td>NaN</td>\n",
       "      <td>NaN</td>\n",
       "      <td>\\n24 months\\n</td>\n",
       "      <td>NaN</td>\n",
       "      <td>NaN</td>\n",
       "      <td>[]</td>\n",
       "      <td>\\nRenault\\n</td>\n",
       "      <td>[\\n, Espace, \\n]</td>\n",
       "      <td>[\\n10988276\\n]</td>\n",
       "      <td>NaN</td>\n",
       "      <td>[\\n, Black, \\n]</td>\n",
       "      <td>[\\nMetallic\\n]</td>\n",
       "      <td>[\\nNero\\n]</td>\n",
       "      <td>NaN</td>\n",
       "      <td>[\\n, Van, \\n]</td>\n",
       "      <td>[\\n5\\n]</td>\n",
       "      <td>[\\n5\\n]</td>\n",
       "      <td>NaN</td>\n",
       "      <td>[\\n, Automatic, \\n]</td>\n",
       "      <td>[\\n1,997 cc\\n]</td>\n",
       "      <td>[\\n4\\n]</td>\n",
       "      <td>[\\n1,758 kg\\n]</td>\n",
       "      <td>[\\nfront\\n]</td>\n",
       "      <td>[\\n, Diesel (Particulate Filter), \\n]</td>\n",
       "      <td>[[5.3 l/100 km (comb)], [6.2 l/100 km (city)],...</td>\n",
       "      <td>[\\n139 g CO2/km (comb)\\n]</td>\n",
       "      <td>NaN</td>\n",
       "      <td>[Air conditioning, Automatic climate control, ...</td>\n",
       "      <td>[Bluetooth, Digital radio, Hands-free equipmen...</td>\n",
       "      <td>[Alloy wheels, Touch screen]</td>\n",
       "      <td>[ABS, Central door lock, Central door lock wit...</td>\n",
       "      <td>[\\nVettura visionabile nella sede in Via Roma ...</td>\n",
       "      <td>NaN</td>\n",
       "      <td>[\\n6\\n]</td>\n",
       "      <td>NaN</td>\n",
       "      <td>NaN</td>\n",
       "      <td>NaN</td>\n",
       "      <td>NaN</td>\n",
       "      <td>NaN</td>\n",
       "      <td>NaN</td>\n",
       "      <td>NaN</td>\n",
       "      <td>NaN</td>\n",
       "      <td>New</td>\n",
       "    </tr>\n",
       "    <tr>\n",
       "      <th>15914</th>\n",
       "      <td>https://www.autoscout24.com//offers/renault-es...</td>\n",
       "      <td>Renault Espace</td>\n",
       "      <td>Blue dCi 200CV EDC Executive 4Control</td>\n",
       "      <td>Van</td>\n",
       "      <td>39950</td>\n",
       "      <td>True</td>\n",
       "      <td>NaN</td>\n",
       "      <td>-/-</td>\n",
       "      <td>NaN</td>\n",
       "      <td>NaN</td>\n",
       "      <td>147.0</td>\n",
       "      <td>[, New, , Diesel (Particulate Filter)]</td>\n",
       "      <td>NaN</td>\n",
       "      <td>NaN</td>\n",
       "      <td>NaN</td>\n",
       "      <td>\\n24 months\\n</td>\n",
       "      <td>NaN</td>\n",
       "      <td>NaN</td>\n",
       "      <td>[]</td>\n",
       "      <td>\\nRenault\\n</td>\n",
       "      <td>[\\n, Espace, \\n]</td>\n",
       "      <td>[\\n10988301\\n]</td>\n",
       "      <td>NaN</td>\n",
       "      <td>[\\n, Grey, \\n]</td>\n",
       "      <td>[\\nMetallic\\n]</td>\n",
       "      <td>[\\nGrigio scuro\\n]</td>\n",
       "      <td>NaN</td>\n",
       "      <td>[\\n, Van, \\n]</td>\n",
       "      <td>[\\n5\\n]</td>\n",
       "      <td>[\\n5\\n]</td>\n",
       "      <td>NaN</td>\n",
       "      <td>[\\n, Automatic, \\n]</td>\n",
       "      <td>[\\n1,997 cc\\n]</td>\n",
       "      <td>[\\n4\\n]</td>\n",
       "      <td>[\\n1,758 kg\\n]</td>\n",
       "      <td>[\\nfront\\n]</td>\n",
       "      <td>[\\n, Diesel (Particulate Filter), \\n]</td>\n",
       "      <td>[[5.3 l/100 km (comb)], [6.2 l/100 km (city)],...</td>\n",
       "      <td>[\\n139 g CO2/km (comb)\\n]</td>\n",
       "      <td>NaN</td>\n",
       "      <td>[Air conditioning, Automatic climate control, ...</td>\n",
       "      <td>[Bluetooth, Digital radio, Hands-free equipmen...</td>\n",
       "      <td>[Alloy wheels, Touch screen]</td>\n",
       "      <td>[ABS, Central door lock, Central door lock wit...</td>\n",
       "      <td>[\\nVettura visionabile nella sede in Via Roma ...</td>\n",
       "      <td>NaN</td>\n",
       "      <td>[\\n6\\n]</td>\n",
       "      <td>NaN</td>\n",
       "      <td>NaN</td>\n",
       "      <td>NaN</td>\n",
       "      <td>NaN</td>\n",
       "      <td>NaN</td>\n",
       "      <td>NaN</td>\n",
       "      <td>NaN</td>\n",
       "      <td>NaN</td>\n",
       "      <td>New</td>\n",
       "    </tr>\n",
       "  </tbody>\n",
       "</table>\n",
       "<p>1499 rows × 56 columns</p>\n",
       "</div>"
      ],
      "text/plain": [
       "                                                     url      make_model  \\\n",
       "122    https://www.autoscout24.com//offers/audi-a1-sp...         Audi A1   \n",
       "710    https://www.autoscout24.com//offers/audi-a1-sp...         Audi A1   \n",
       "741    https://www.autoscout24.com//offers/audi-a1-ad...         Audi A1   \n",
       "946    https://www.autoscout24.com//offers/audi-a1-sp...         Audi A1   \n",
       "960    https://www.autoscout24.com//offers/audi-a1-sp...         Audi A1   \n",
       "...                                                  ...             ...   \n",
       "15892  https://www.autoscout24.com//offers/renault-es...  Renault Espace   \n",
       "15902  https://www.autoscout24.com//offers/renault-es...  Renault Espace   \n",
       "15907  https://www.autoscout24.com//offers/renault-es...  Renault Espace   \n",
       "15912  https://www.autoscout24.com//offers/renault-es...  Renault Espace   \n",
       "15914  https://www.autoscout24.com//offers/renault-es...  Renault Espace   \n",
       "\n",
       "                                       short_description body_type  price  \\\n",
       "122    Sportback basis 30 TFSI 116 S tronic Euro6d-Te...   Compact  18730   \n",
       "710                                            Sportback   Compact  31990   \n",
       "741                                             Advanced    Sedans  28290   \n",
       "946                           Sportback 35 TFSI S tronic   Compact  21406   \n",
       "960    Sportback basis 35 TFSI 150 S tronic Euro6d-Te...   Compact  20980   \n",
       "...                                                  ...       ...    ...   \n",
       "15892                          Intens Energy dCi 160 EDC       Van  41800   \n",
       "15902                    BLUE dCi 200 EDC Initiale Paris    Sedans  41043   \n",
       "15907  1.8 TCE 225 INITIALE PARIS, WINTER-, CRUISING-...       Van  39990   \n",
       "15912              Blue dCi 200CV EDC Executive 4Control       Van  39950   \n",
       "15914              Blue dCi 200CV EDC Executive 4Control       Van  39950   \n",
       "\n",
       "        vat    km registration  prev_owner  kW     hp  \\\n",
       "122    True   1.0          -/-         NaN NaN   85.0   \n",
       "710    True  10.0          -/-         NaN NaN   85.0   \n",
       "741    True   5.0          -/-         NaN NaN   85.0   \n",
       "946    True   NaN          -/-         NaN NaN  110.0   \n",
       "960    True   1.0          -/-         NaN NaN  110.0   \n",
       "...     ...   ...          ...         ...  ..    ...   \n",
       "15892  True   2.0          -/-         NaN NaN  118.0   \n",
       "15902  True   NaN          -/-         NaN NaN  147.0   \n",
       "15907  True  50.0          -/-         NaN NaN  165.0   \n",
       "15912  True   NaN          -/-         NaN NaN  147.0   \n",
       "15914  True   NaN          -/-         NaN NaN  147.0   \n",
       "\n",
       "                                                    Type  Previous Owners  \\\n",
       "122             [, New, , Super 95 (Particulate Filter)]              NaN   \n",
       "710                                  [, New, , Gasoline]              NaN   \n",
       "741                                  [, New, , Gasoline]              NaN   \n",
       "946                                  [, New, , Gasoline]              NaN   \n",
       "960             [, New, , Super 95 (Particulate Filter)]              NaN   \n",
       "...                                                  ...              ...   \n",
       "15892             [, New, , Diesel (Particulate Filter)]              NaN   \n",
       "15902             [, New, , Diesel (Particulate Filter)]              NaN   \n",
       "15907  [, New, , Super 95 / Super Plus 98 / Super E10...              NaN   \n",
       "15912             [, New, , Diesel (Particulate Filter)]              NaN   \n",
       "15914             [, New, , Diesel (Particulate Filter)]              NaN   \n",
       "\n",
       "      Next Inspection Inspection new  \\\n",
       "122               NaN            NaN   \n",
       "710               NaN            NaN   \n",
       "741               NaN            NaN   \n",
       "946               NaN            NaN   \n",
       "960               NaN            NaN   \n",
       "...               ...            ...   \n",
       "15892             NaN            NaN   \n",
       "15902             NaN            NaN   \n",
       "15907             NaN            NaN   \n",
       "15912             NaN            NaN   \n",
       "15914             NaN            NaN   \n",
       "\n",
       "                                                Warranty Full Service  \\\n",
       "122                    [\\n, \\n, \\n108 g CO2/km (comb)\\n]          NaN   \n",
       "710                                        \\n24 months\\n     [\\n, \\n]   \n",
       "741                                        \\n36 months\\n          NaN   \n",
       "946                                                  NaN          NaN   \n",
       "960                    [\\n, \\n, \\n116 g CO2/km (comb)\\n]          NaN   \n",
       "...                                                  ...          ...   \n",
       "15892                                                NaN           \\n   \n",
       "15902                                                NaN          NaN   \n",
       "15907  [\\n36 months\\n, \\n, 7.4 l/100 km (comb), \\n, 9...          NaN   \n",
       "15912                                      \\n24 months\\n          NaN   \n",
       "15914                                      \\n24 months\\n          NaN   \n",
       "\n",
       "                     Non-smoking Vehicle null         Make             Model  \\\n",
       "122                                  NaN   []     \\nAudi\\n      [\\n, A1, \\n]   \n",
       "710                                  NaN   []     \\nAudi\\n      [\\n, A1, \\n]   \n",
       "741                                  NaN   []     \\nAudi\\n      [\\n, A1, \\n]   \n",
       "946                                  NaN   []     \\nAudi\\n      [\\n, A1, \\n]   \n",
       "960                                  NaN   []     \\nAudi\\n      [\\n, A1, \\n]   \n",
       "...                                  ...  ...          ...               ...   \n",
       "15892                                NaN   []  \\nRenault\\n  [\\n, Espace, \\n]   \n",
       "15902  [\\n, \\n, \\n139 g CO2/km (comb)\\n]   []  \\nRenault\\n  [\\n, Espace, \\n]   \n",
       "15907                                NaN   []  \\nRenault\\n  [\\n, Espace, \\n]   \n",
       "15912                                NaN   []  \\nRenault\\n  [\\n, Espace, \\n]   \n",
       "15914                                NaN   []  \\nRenault\\n  [\\n, Espace, \\n]   \n",
       "\n",
       "           Offer Number  First Registration        Body Color  \\\n",
       "122         [\\n13468\\n]                 NaN               NaN   \n",
       "710         [\\n12743\\n]                 NaN  [\\n, Yellow, \\n]   \n",
       "741          [\\n6073\\n]                 NaN     [\\n, Red, \\n]   \n",
       "946       [\\n2560806\\n]                 NaN               NaN   \n",
       "960         [\\n13785\\n]                 NaN               NaN   \n",
       "...                 ...                 ...               ...   \n",
       "15892  [\\n2000422820\\n]                 NaN   [\\n, White, \\n]   \n",
       "15902   [\\nIM 157730\\n]                 NaN   [\\n, Black, \\n]   \n",
       "15907      [\\n078265\\n]                 NaN    [\\n, Grey, \\n]   \n",
       "15912    [\\n10988276\\n]                 NaN   [\\n, Black, \\n]   \n",
       "15914    [\\n10988301\\n]                 NaN    [\\n, Grey, \\n]   \n",
       "\n",
       "              Paint Type         Body Color Original           Upholstery  \\\n",
       "122                  NaN               [\\nwählbar\\n]         [\\nVelour\\n]   \n",
       "710       [\\nMetallic\\n]                 [\\njaune\\n]  [\\nVelour, Black\\n]   \n",
       "741    [\\nPerl effect\\n]                 [\\nrouge\\n]  [\\nVelour, Black\\n]   \n",
       "946                  NaN                         NaN                  NaN   \n",
       "960                  NaN               [\\nwählbar\\n]         [\\nVelour\\n]   \n",
       "...                  ...                         ...                  ...   \n",
       "15892     [\\nMetallic\\n]                  [\\nweiß\\n]   [\\nFull leather\\n]   \n",
       "15902                NaN       [\\nGNE Noir Etoile\\n]          [\\nBrown\\n]   \n",
       "15907     [\\nMetallic\\n]  [\\ntitaniumgraumetallic\\n]   [\\nFull leather\\n]   \n",
       "15912     [\\nMetallic\\n]                  [\\nNero\\n]                  NaN   \n",
       "15914     [\\nMetallic\\n]          [\\nGrigio scuro\\n]                  NaN   \n",
       "\n",
       "                    Body Nr. of Doors Nr. of Seats      Model Code  \\\n",
       "122    [\\n, Compact, \\n]      [\\n5\\n]      [\\n5\\n]             NaN   \n",
       "710    [\\n, Compact, \\n]      [\\n5\\n]          NaN             NaN   \n",
       "741     [\\n, Sedans, \\n]      [\\n5\\n]          NaN             NaN   \n",
       "946    [\\n, Compact, \\n]      [\\n5\\n]      [\\n5\\n]             NaN   \n",
       "960    [\\n, Compact, \\n]      [\\n5\\n]      [\\n5\\n]             NaN   \n",
       "...                  ...          ...          ...             ...   \n",
       "15892      [\\n, Van, \\n]      [\\n5\\n]      [\\n5\\n]             NaN   \n",
       "15902   [\\n, Sedans, \\n]      [\\n4\\n]      [\\n5\\n]  [\\n3333/BDR\\n]   \n",
       "15907      [\\n, Van, \\n]      [\\n5\\n]      [\\n7\\n]  [\\n3333/BHJ\\n]   \n",
       "15912      [\\n, Van, \\n]      [\\n5\\n]      [\\n5\\n]             NaN   \n",
       "15914      [\\n, Van, \\n]      [\\n5\\n]      [\\n5\\n]             NaN   \n",
       "\n",
       "                   Gearing Type    Displacement Cylinders          Weight  \\\n",
       "122         [\\n, Automatic, \\n]    [\\n999 cc\\n]   [\\n3\\n]  [\\n1,200 kg\\n]   \n",
       "710    [\\n, Semi-automatic, \\n]    [\\n999 cc\\n]       NaN             NaN   \n",
       "741    [\\n, Semi-automatic, \\n]    [\\n999 cc\\n]       NaN             NaN   \n",
       "946         [\\n, Automatic, \\n]  [\\n1,498 cc\\n]   [\\n4\\n]  [\\n1,180 kg\\n]   \n",
       "960         [\\n, Automatic, \\n]  [\\n1,498 cc\\n]   [\\n4\\n]  [\\n1,240 kg\\n]   \n",
       "...                         ...             ...       ...             ...   \n",
       "15892       [\\n, Automatic, \\n]  [\\n1,598 cc\\n]       NaN  [\\n1,659 kg\\n]   \n",
       "15902       [\\n, Automatic, \\n]  [\\n1,997 cc\\n]       NaN             NaN   \n",
       "15907       [\\n, Automatic, \\n]  [\\n1,798 cc\\n]       NaN  [\\n1,708 kg\\n]   \n",
       "15912       [\\n, Automatic, \\n]  [\\n1,997 cc\\n]   [\\n4\\n]  [\\n1,758 kg\\n]   \n",
       "15914       [\\n, Automatic, \\n]  [\\n1,997 cc\\n]   [\\n4\\n]  [\\n1,758 kg\\n]   \n",
       "\n",
       "       Drive chain                                               Fuel  \\\n",
       "122    [\\nfront\\n]            [\\n, Super 95 (Particulate Filter), \\n]   \n",
       "710    [\\nfront\\n]                                 [\\n, Gasoline, \\n]   \n",
       "741    [\\nfront\\n]                                 [\\n, Gasoline, \\n]   \n",
       "946    [\\nfront\\n]                                 [\\n, Gasoline, \\n]   \n",
       "960    [\\nfront\\n]            [\\n, Super 95 (Particulate Filter), \\n]   \n",
       "...            ...                                                ...   \n",
       "15892  [\\nfront\\n]              [\\n, Diesel (Particulate Filter), \\n]   \n",
       "15902          NaN              [\\n, Diesel (Particulate Filter), \\n]   \n",
       "15907          NaN  [\\n, Super 95 / Super Plus 98 / Super E10 95 /...   \n",
       "15912  [\\nfront\\n]              [\\n, Diesel (Particulate Filter), \\n]   \n",
       "15914  [\\nfront\\n]              [\\n, Diesel (Particulate Filter), \\n]   \n",
       "\n",
       "                                             Consumption  \\\n",
       "122    [[4.8 l/100 km (comb)], [5.8 l/100 km (city)],...   \n",
       "710                                                  NaN   \n",
       "741                                                  NaN   \n",
       "946    [[5 l/100 km (comb)], [6 l/100 km (city)], [3 ...   \n",
       "960    [[5.1 l/100 km (comb)], [6.5 l/100 km (city)],...   \n",
       "...                                                  ...   \n",
       "15892  [[4.7 l/100 km (comb)], [5.1 l/100 km (city)],...   \n",
       "15902  [[5.3 l/100 km (comb)], [6.2 l/100 km (city)],...   \n",
       "15907  [\\n, 7.4 l/100 km (comb), \\n, 9.6 l/100 km (ci...   \n",
       "15912  [[5.3 l/100 km (comb)], [6.2 l/100 km (city)],...   \n",
       "15914  [[5.3 l/100 km (comb)], [6.2 l/100 km (city)],...   \n",
       "\n",
       "                    CO2 Emission      Emission Class  \\\n",
       "122    [\\n108 g CO2/km (comb)\\n]  [\\nEuro 6d-TEMP\\n]   \n",
       "710                 [[], [], []]                 NaN   \n",
       "741                 [[], [], []]        [\\nEuro 6\\n]   \n",
       "946                          NaN                 NaN   \n",
       "960    [\\n116 g CO2/km (comb)\\n]  [\\nEuro 6d-TEMP\\n]   \n",
       "...                          ...                 ...   \n",
       "15892  [\\n123 g CO2/km (comb)\\n]        [\\nEuro 6\\n]   \n",
       "15902  [\\n139 g CO2/km (comb)\\n]       [\\nEuro 6c\\n]   \n",
       "15907  [\\n168 g CO2/km (comb)\\n]  [\\nEuro 6d-TEMP\\n]   \n",
       "15912  [\\n139 g CO2/km (comb)\\n]                 NaN   \n",
       "15914  [\\n139 g CO2/km (comb)\\n]                 NaN   \n",
       "\n",
       "                               \\nComfort & Convenience\\n  \\\n",
       "122    [Air conditioning, Electrical side mirrors, Hi...   \n",
       "710    [Air conditioning, Automatic climate control, ...   \n",
       "741    [Air conditioning, Automatic climate control, ...   \n",
       "946                                                  NaN   \n",
       "960    [Air conditioning, Electrical side mirrors, Hi...   \n",
       "...                                                  ...   \n",
       "15892  [Air conditioning, Armrest, Automatic climate ...   \n",
       "15902  [Air conditioning, Armrest, Automatic climate ...   \n",
       "15907  [Air conditioning, Armrest, Automatic climate ...   \n",
       "15912  [Air conditioning, Automatic climate control, ...   \n",
       "15914  [Air conditioning, Automatic climate control, ...   \n",
       "\n",
       "                               \\nEntertainment & Media\\n  \\\n",
       "122    [Bluetooth, Hands-free equipment, On-board com...   \n",
       "710                                  [On-board computer]   \n",
       "741                                          [Bluetooth]   \n",
       "946                                                  NaN   \n",
       "960    [Bluetooth, Hands-free equipment, On-board com...   \n",
       "...                                                  ...   \n",
       "15892                    [On-board computer, Radio, USB]   \n",
       "15902  [Bluetooth, Digital radio, Hands-free equipmen...   \n",
       "15907  [Bluetooth, Digital radio, Hands-free equipmen...   \n",
       "15912  [Bluetooth, Digital radio, Hands-free equipmen...   \n",
       "15914  [Bluetooth, Digital radio, Hands-free equipmen...   \n",
       "\n",
       "                                              \\nExtras\\n  \\\n",
       "122                                                  NaN   \n",
       "710                                       [Alloy wheels]   \n",
       "741                                       [Alloy wheels]   \n",
       "946                                                  NaN   \n",
       "960                                                  NaN   \n",
       "...                                                  ...   \n",
       "15892                                     [Alloy wheels]   \n",
       "15902  [Alloy wheels, Roof rack, Touch screen, Voice ...   \n",
       "15907        [Alloy wheels, Touch screen, Voice Control]   \n",
       "15912                       [Alloy wheels, Touch screen]   \n",
       "15914                       [Alloy wheels, Touch screen]   \n",
       "\n",
       "                                   \\nSafety & Security\\n  \\\n",
       "122    [ABS, Daytime running lights, Driver-side airb...   \n",
       "710                                     [Power steering]   \n",
       "741                                                  NaN   \n",
       "946                                                  NaN   \n",
       "960    [ABS, Daytime running lights, Driver-side airb...   \n",
       "...                                                  ...   \n",
       "15892  [ABS, Adaptive headlights, Alarm system, Centr...   \n",
       "15902  [ABS, Blind spot monitor, Central door lock, D...   \n",
       "15907  [ABS, Adaptive Cruise Control, Adaptive headli...   \n",
       "15912  [ABS, Central door lock, Central door lock wit...   \n",
       "15914  [ABS, Central door lock, Central door lock wit...   \n",
       "\n",
       "                                             description   Emission Label  \\\n",
       "122    [\\nPreise inklusive Mehrwertsteuer,  , Preisga...  [\\n4 (Green)\\n]   \n",
       "710                                             [\\n, \\n]              NaN   \n",
       "741                                             [\\n, \\n]              NaN   \n",
       "946                                                   []              NaN   \n",
       "960    [\\nPreise inklusive Mehrwertsteuer,  , Preisga...  [\\n4 (Green)\\n]   \n",
       "...                                                  ...              ...   \n",
       "15892  [\\nAllradlenkung. Fahrwerk einstellbar. Spurha...              NaN   \n",
       "15902  [\\n12V Anschluss, 19\" Leichtmetallfelgen, ABS,...              NaN   \n",
       "15907  [\\n, Sonderausstattung, 3.Sitzreihe mit Einzel...  [\\n4 (Green)\\n]   \n",
       "15912  [\\nVettura visionabile nella sede in Via Roma ...              NaN   \n",
       "15914  [\\nVettura visionabile nella sede in Via Roma ...              NaN   \n",
       "\n",
       "         Gears       Country version Electricity consumption  \\\n",
       "122    [\\n7\\n]  [\\nEuropean Union\\n]                     NaN   \n",
       "710    [\\n7\\n]                   NaN                     NaN   \n",
       "741    [\\n7\\n]                   NaN                     NaN   \n",
       "946    [\\n7\\n]                   NaN                     NaN   \n",
       "960    [\\n7\\n]  [\\nEuropean Union\\n]                     NaN   \n",
       "...        ...                   ...                     ...   \n",
       "15892  [\\n6\\n]                   NaN                     NaN   \n",
       "15902      NaN         [\\nBelgium\\n]                     NaN   \n",
       "15907  [\\n7\\n]  [\\nEuropean Union\\n]                     NaN   \n",
       "15912  [\\n6\\n]                   NaN                     NaN   \n",
       "15914  [\\n6\\n]                   NaN                     NaN   \n",
       "\n",
       "      Last Service Date Other Fuel Types                  Availability  \\\n",
       "122                 NaN              NaN  \\nin 90 days from ordering\\n   \n",
       "710                 NaN              NaN                           NaN   \n",
       "741                 NaN              NaN                           NaN   \n",
       "946                 NaN              NaN                           NaN   \n",
       "960                 NaN              NaN  \\nin 90 days from ordering\\n   \n",
       "...                 ...              ...                           ...   \n",
       "15892               NaN              NaN                           NaN   \n",
       "15902               NaN              NaN                           NaN   \n",
       "15907               NaN     [[], [], []]  \\nin 14 days from ordering\\n   \n",
       "15912               NaN              NaN                           NaN   \n",
       "15914               NaN              NaN                           NaN   \n",
       "\n",
       "      Last Timing Belt Service Date Available from  age vehicle_condition  \n",
       "122                             NaN            NaN  NaN               New  \n",
       "710                             NaN            NaN  NaN               New  \n",
       "741                             NaN            NaN  NaN               New  \n",
       "946                             NaN            NaN  NaN               New  \n",
       "960                             NaN            NaN  NaN               New  \n",
       "...                             ...            ...  ...               ...  \n",
       "15892                           NaN            NaN  NaN               New  \n",
       "15902                           NaN   \\n03/08/19\\n  NaN               New  \n",
       "15907                           NaN            NaN  NaN               New  \n",
       "15912                           NaN            NaN  NaN               New  \n",
       "15914                           NaN            NaN  NaN               New  \n",
       "\n",
       "[1499 rows x 56 columns]"
      ]
     },
     "execution_count": 53,
     "metadata": {},
     "output_type": "execute_result"
    }
   ],
   "source": [
    "df[(df.vehicle_condition == 'New') & (df['Previous Owners'].isnull())]"
   ]
  },
  {
   "cell_type": "code",
   "execution_count": 54,
   "metadata": {
    "scrolled": true
   },
   "outputs": [
    {
     "data": {
      "text/html": [
       "<div>\n",
       "<style scoped>\n",
       "    .dataframe tbody tr th:only-of-type {\n",
       "        vertical-align: middle;\n",
       "    }\n",
       "\n",
       "    .dataframe tbody tr th {\n",
       "        vertical-align: top;\n",
       "    }\n",
       "\n",
       "    .dataframe thead th {\n",
       "        text-align: right;\n",
       "    }\n",
       "</style>\n",
       "<table border=\"1\" class=\"dataframe\">\n",
       "  <thead>\n",
       "    <tr style=\"text-align: right;\">\n",
       "      <th></th>\n",
       "      <th>url</th>\n",
       "      <th>make_model</th>\n",
       "      <th>short_description</th>\n",
       "      <th>body_type</th>\n",
       "      <th>price</th>\n",
       "      <th>vat</th>\n",
       "      <th>km</th>\n",
       "      <th>registration</th>\n",
       "      <th>prev_owner</th>\n",
       "      <th>kW</th>\n",
       "      <th>hp</th>\n",
       "      <th>Type</th>\n",
       "      <th>Previous Owners</th>\n",
       "      <th>Next Inspection</th>\n",
       "      <th>Inspection new</th>\n",
       "      <th>Warranty</th>\n",
       "      <th>Full Service</th>\n",
       "      <th>Non-smoking Vehicle</th>\n",
       "      <th>null</th>\n",
       "      <th>Make</th>\n",
       "      <th>Model</th>\n",
       "      <th>Offer Number</th>\n",
       "      <th>First Registration</th>\n",
       "      <th>Body Color</th>\n",
       "      <th>Paint Type</th>\n",
       "      <th>Body Color Original</th>\n",
       "      <th>Upholstery</th>\n",
       "      <th>Body</th>\n",
       "      <th>Nr. of Doors</th>\n",
       "      <th>Nr. of Seats</th>\n",
       "      <th>Model Code</th>\n",
       "      <th>Gearing Type</th>\n",
       "      <th>Displacement</th>\n",
       "      <th>Cylinders</th>\n",
       "      <th>Weight</th>\n",
       "      <th>Drive chain</th>\n",
       "      <th>Fuel</th>\n",
       "      <th>Consumption</th>\n",
       "      <th>CO2 Emission</th>\n",
       "      <th>Emission Class</th>\n",
       "      <th>\\nComfort &amp; Convenience\\n</th>\n",
       "      <th>\\nEntertainment &amp; Media\\n</th>\n",
       "      <th>\\nExtras\\n</th>\n",
       "      <th>\\nSafety &amp; Security\\n</th>\n",
       "      <th>description</th>\n",
       "      <th>Emission Label</th>\n",
       "      <th>Gears</th>\n",
       "      <th>Country version</th>\n",
       "      <th>Electricity consumption</th>\n",
       "      <th>Last Service Date</th>\n",
       "      <th>Other Fuel Types</th>\n",
       "      <th>Availability</th>\n",
       "      <th>Last Timing Belt Service Date</th>\n",
       "      <th>Available from</th>\n",
       "      <th>age</th>\n",
       "      <th>vehicle_condition</th>\n",
       "    </tr>\n",
       "  </thead>\n",
       "  <tbody>\n",
       "    <tr>\n",
       "      <th>122</th>\n",
       "      <td>https://www.autoscout24.com//offers/audi-a1-sp...</td>\n",
       "      <td>Audi A1</td>\n",
       "      <td>Sportback basis 30 TFSI 116 S tronic Euro6d-Te...</td>\n",
       "      <td>Compact</td>\n",
       "      <td>18730</td>\n",
       "      <td>True</td>\n",
       "      <td>1.0</td>\n",
       "      <td>-/-</td>\n",
       "      <td>NaN</td>\n",
       "      <td>NaN</td>\n",
       "      <td>85.0</td>\n",
       "      <td>[, New, , Super 95 (Particulate Filter)]</td>\n",
       "      <td>NaN</td>\n",
       "      <td>NaN</td>\n",
       "      <td>NaN</td>\n",
       "      <td>[\\n, \\n, \\n108 g CO2/km (comb)\\n]</td>\n",
       "      <td>NaN</td>\n",
       "      <td>NaN</td>\n",
       "      <td>[]</td>\n",
       "      <td>\\nAudi\\n</td>\n",
       "      <td>[\\n, A1, \\n]</td>\n",
       "      <td>[\\n13468\\n]</td>\n",
       "      <td>NaN</td>\n",
       "      <td>NaN</td>\n",
       "      <td>NaN</td>\n",
       "      <td>[\\nwählbar\\n]</td>\n",
       "      <td>[\\nVelour\\n]</td>\n",
       "      <td>[\\n, Compact, \\n]</td>\n",
       "      <td>[\\n5\\n]</td>\n",
       "      <td>[\\n5\\n]</td>\n",
       "      <td>NaN</td>\n",
       "      <td>[\\n, Automatic, \\n]</td>\n",
       "      <td>[\\n999 cc\\n]</td>\n",
       "      <td>[\\n3\\n]</td>\n",
       "      <td>[\\n1,200 kg\\n]</td>\n",
       "      <td>[\\nfront\\n]</td>\n",
       "      <td>[\\n, Super 95 (Particulate Filter), \\n]</td>\n",
       "      <td>[[4.8 l/100 km (comb)], [5.8 l/100 km (city)],...</td>\n",
       "      <td>[\\n108 g CO2/km (comb)\\n]</td>\n",
       "      <td>[\\nEuro 6d-TEMP\\n]</td>\n",
       "      <td>[Air conditioning, Electrical side mirrors, Hi...</td>\n",
       "      <td>[Bluetooth, Hands-free equipment, On-board com...</td>\n",
       "      <td>NaN</td>\n",
       "      <td>[ABS, Daytime running lights, Driver-side airb...</td>\n",
       "      <td>[\\nPreise inklusive Mehrwertsteuer,  , Preisga...</td>\n",
       "      <td>[\\n4 (Green)\\n]</td>\n",
       "      <td>[\\n7\\n]</td>\n",
       "      <td>[\\nEuropean Union\\n]</td>\n",
       "      <td>NaN</td>\n",
       "      <td>NaN</td>\n",
       "      <td>NaN</td>\n",
       "      <td>\\nin 90 days from ordering\\n</td>\n",
       "      <td>NaN</td>\n",
       "      <td>NaN</td>\n",
       "      <td>NaN</td>\n",
       "      <td>New</td>\n",
       "    </tr>\n",
       "    <tr>\n",
       "      <th>710</th>\n",
       "      <td>https://www.autoscout24.com//offers/audi-a1-sp...</td>\n",
       "      <td>Audi A1</td>\n",
       "      <td>Sportback</td>\n",
       "      <td>Compact</td>\n",
       "      <td>31990</td>\n",
       "      <td>True</td>\n",
       "      <td>10.0</td>\n",
       "      <td>-/-</td>\n",
       "      <td>NaN</td>\n",
       "      <td>NaN</td>\n",
       "      <td>85.0</td>\n",
       "      <td>[, New, , Gasoline]</td>\n",
       "      <td>NaN</td>\n",
       "      <td>NaN</td>\n",
       "      <td>NaN</td>\n",
       "      <td>\\n24 months\\n</td>\n",
       "      <td>[\\n, \\n]</td>\n",
       "      <td>NaN</td>\n",
       "      <td>[]</td>\n",
       "      <td>\\nAudi\\n</td>\n",
       "      <td>[\\n, A1, \\n]</td>\n",
       "      <td>[\\n12743\\n]</td>\n",
       "      <td>NaN</td>\n",
       "      <td>[\\n, Yellow, \\n]</td>\n",
       "      <td>[\\nMetallic\\n]</td>\n",
       "      <td>[\\njaune\\n]</td>\n",
       "      <td>[\\nVelour, Black\\n]</td>\n",
       "      <td>[\\n, Compact, \\n]</td>\n",
       "      <td>[\\n5\\n]</td>\n",
       "      <td>NaN</td>\n",
       "      <td>NaN</td>\n",
       "      <td>[\\n, Semi-automatic, \\n]</td>\n",
       "      <td>[\\n999 cc\\n]</td>\n",
       "      <td>NaN</td>\n",
       "      <td>NaN</td>\n",
       "      <td>[\\nfront\\n]</td>\n",
       "      <td>[\\n, Gasoline, \\n]</td>\n",
       "      <td>NaN</td>\n",
       "      <td>[[], [], []]</td>\n",
       "      <td>NaN</td>\n",
       "      <td>[Air conditioning, Automatic climate control, ...</td>\n",
       "      <td>[On-board computer]</td>\n",
       "      <td>[Alloy wheels]</td>\n",
       "      <td>[Power steering]</td>\n",
       "      <td>[\\n, \\n]</td>\n",
       "      <td>NaN</td>\n",
       "      <td>[\\n7\\n]</td>\n",
       "      <td>NaN</td>\n",
       "      <td>NaN</td>\n",
       "      <td>NaN</td>\n",
       "      <td>NaN</td>\n",
       "      <td>NaN</td>\n",
       "      <td>NaN</td>\n",
       "      <td>NaN</td>\n",
       "      <td>NaN</td>\n",
       "      <td>New</td>\n",
       "    </tr>\n",
       "    <tr>\n",
       "      <th>734</th>\n",
       "      <td>https://www.autoscout24.com//offers/audi-a1-sp...</td>\n",
       "      <td>Audi A1</td>\n",
       "      <td>SPB 30 TFSI S tronic S line edition</td>\n",
       "      <td>Sedans</td>\n",
       "      <td>30000</td>\n",
       "      <td>True</td>\n",
       "      <td>0.0</td>\n",
       "      <td>-/-</td>\n",
       "      <td>NaN</td>\n",
       "      <td>NaN</td>\n",
       "      <td>85.0</td>\n",
       "      <td>[, New, , Gasoline]</td>\n",
       "      <td>0.0</td>\n",
       "      <td>NaN</td>\n",
       "      <td>NaN</td>\n",
       "      <td>NaN</td>\n",
       "      <td>NaN</td>\n",
       "      <td>NaN</td>\n",
       "      <td>[]</td>\n",
       "      <td>\\nAudi\\n</td>\n",
       "      <td>[\\n, A1, \\n]</td>\n",
       "      <td>NaN</td>\n",
       "      <td>NaN</td>\n",
       "      <td>[\\n, White, \\n]</td>\n",
       "      <td>[\\nMetallic\\n]</td>\n",
       "      <td>[\\nBianco Ghiacciaio\\n]</td>\n",
       "      <td>[\\nPart leather, Black\\n]</td>\n",
       "      <td>[\\n, Sedans, \\n]</td>\n",
       "      <td>[\\n5\\n]</td>\n",
       "      <td>[\\n5\\n]</td>\n",
       "      <td>NaN</td>\n",
       "      <td>[\\n, Semi-automatic, \\n]</td>\n",
       "      <td>[\\n999 cc\\n]</td>\n",
       "      <td>[\\n3\\n]</td>\n",
       "      <td>[\\n1,230 kg\\n]</td>\n",
       "      <td>NaN</td>\n",
       "      <td>[\\n, Gasoline, \\n]</td>\n",
       "      <td>[[4.8 l/100 km (comb)], [5.8 l/100 km (city)],...</td>\n",
       "      <td>[\\n108 g CO2/km (comb)\\n]</td>\n",
       "      <td>[\\nEuro 6d-TEMP\\n]</td>\n",
       "      <td>[Air conditioning, Seat ventilation, Split rea...</td>\n",
       "      <td>[Bluetooth, Radio]</td>\n",
       "      <td>[Alloy wheels, Sport suspension]</td>\n",
       "      <td>[ABS, Alarm system, Central door lock, Driver-...</td>\n",
       "      <td>[\\nINSERIRE QUI LA DESCRIZIONE DEL VEICOLO, AN...</td>\n",
       "      <td>NaN</td>\n",
       "      <td>[\\n7\\n]</td>\n",
       "      <td>[\\nItaly\\n]</td>\n",
       "      <td>NaN</td>\n",
       "      <td>NaN</td>\n",
       "      <td>NaN</td>\n",
       "      <td>NaN</td>\n",
       "      <td>NaN</td>\n",
       "      <td>NaN</td>\n",
       "      <td>NaN</td>\n",
       "      <td>New</td>\n",
       "    </tr>\n",
       "    <tr>\n",
       "      <th>741</th>\n",
       "      <td>https://www.autoscout24.com//offers/audi-a1-ad...</td>\n",
       "      <td>Audi A1</td>\n",
       "      <td>Advanced</td>\n",
       "      <td>Sedans</td>\n",
       "      <td>28290</td>\n",
       "      <td>True</td>\n",
       "      <td>5.0</td>\n",
       "      <td>-/-</td>\n",
       "      <td>NaN</td>\n",
       "      <td>NaN</td>\n",
       "      <td>85.0</td>\n",
       "      <td>[, New, , Gasoline]</td>\n",
       "      <td>NaN</td>\n",
       "      <td>NaN</td>\n",
       "      <td>NaN</td>\n",
       "      <td>\\n36 months\\n</td>\n",
       "      <td>NaN</td>\n",
       "      <td>NaN</td>\n",
       "      <td>[]</td>\n",
       "      <td>\\nAudi\\n</td>\n",
       "      <td>[\\n, A1, \\n]</td>\n",
       "      <td>[\\n6073\\n]</td>\n",
       "      <td>NaN</td>\n",
       "      <td>[\\n, Red, \\n]</td>\n",
       "      <td>[\\nPerl effect\\n]</td>\n",
       "      <td>[\\nrouge\\n]</td>\n",
       "      <td>[\\nVelour, Black\\n]</td>\n",
       "      <td>[\\n, Sedans, \\n]</td>\n",
       "      <td>[\\n5\\n]</td>\n",
       "      <td>NaN</td>\n",
       "      <td>NaN</td>\n",
       "      <td>[\\n, Semi-automatic, \\n]</td>\n",
       "      <td>[\\n999 cc\\n]</td>\n",
       "      <td>NaN</td>\n",
       "      <td>NaN</td>\n",
       "      <td>[\\nfront\\n]</td>\n",
       "      <td>[\\n, Gasoline, \\n]</td>\n",
       "      <td>NaN</td>\n",
       "      <td>[[], [], []]</td>\n",
       "      <td>[\\nEuro 6\\n]</td>\n",
       "      <td>[Air conditioning, Automatic climate control, ...</td>\n",
       "      <td>[Bluetooth]</td>\n",
       "      <td>[Alloy wheels]</td>\n",
       "      <td>NaN</td>\n",
       "      <td>[\\n, \\n]</td>\n",
       "      <td>NaN</td>\n",
       "      <td>[\\n7\\n]</td>\n",
       "      <td>NaN</td>\n",
       "      <td>NaN</td>\n",
       "      <td>NaN</td>\n",
       "      <td>NaN</td>\n",
       "      <td>NaN</td>\n",
       "      <td>NaN</td>\n",
       "      <td>NaN</td>\n",
       "      <td>NaN</td>\n",
       "      <td>New</td>\n",
       "    </tr>\n",
       "    <tr>\n",
       "      <th>743</th>\n",
       "      <td>https://www.autoscout24.com//offers/audi-a1-sp...</td>\n",
       "      <td>Audi A1</td>\n",
       "      <td>SPB 30 TFSI S tronic Admired</td>\n",
       "      <td>Sedans</td>\n",
       "      <td>25900</td>\n",
       "      <td>True</td>\n",
       "      <td>NaN</td>\n",
       "      <td>-/-</td>\n",
       "      <td>NaN</td>\n",
       "      <td>NaN</td>\n",
       "      <td>85.0</td>\n",
       "      <td>[, New, , Gasoline]</td>\n",
       "      <td>0.0</td>\n",
       "      <td>NaN</td>\n",
       "      <td>NaN</td>\n",
       "      <td>NaN</td>\n",
       "      <td>NaN</td>\n",
       "      <td>NaN</td>\n",
       "      <td>[]</td>\n",
       "      <td>\\nAudi\\n</td>\n",
       "      <td>[\\n, A1, \\n]</td>\n",
       "      <td>NaN</td>\n",
       "      <td>NaN</td>\n",
       "      <td>[\\n, Black, \\n]</td>\n",
       "      <td>NaN</td>\n",
       "      <td>NaN</td>\n",
       "      <td>[\\nCloth, Black\\n]</td>\n",
       "      <td>[\\n, Sedans, \\n]</td>\n",
       "      <td>[\\n5\\n]</td>\n",
       "      <td>[\\n4\\n]</td>\n",
       "      <td>NaN</td>\n",
       "      <td>[\\n, Semi-automatic, \\n]</td>\n",
       "      <td>[\\n999 cc\\n]</td>\n",
       "      <td>[\\n3\\n]</td>\n",
       "      <td>[\\n1,255 kg\\n]</td>\n",
       "      <td>[\\nfront\\n]</td>\n",
       "      <td>[\\n, Gasoline, \\n]</td>\n",
       "      <td>[[4.8 l/100 km (comb)], [5.8 l/100 km (city)],...</td>\n",
       "      <td>[\\n108 g CO2/km (comb)\\n]</td>\n",
       "      <td>[\\nEuro 6d-TEMP\\n]</td>\n",
       "      <td>[Air conditioning, Automatic climate control, ...</td>\n",
       "      <td>[Bluetooth, CD player, Digital radio, Hands-fr...</td>\n",
       "      <td>[Alloy wheels, Sport suspension, Touch screen,...</td>\n",
       "      <td>[ABS, Alarm system, Central door lock, Central...</td>\n",
       "      <td>[\\n, NUOVA AUDI A1! VETTURA UFFICIALE ITA IN P...</td>\n",
       "      <td>NaN</td>\n",
       "      <td>[\\n7\\n]</td>\n",
       "      <td>[\\nItaly\\n]</td>\n",
       "      <td>NaN</td>\n",
       "      <td>NaN</td>\n",
       "      <td>NaN</td>\n",
       "      <td>NaN</td>\n",
       "      <td>NaN</td>\n",
       "      <td>NaN</td>\n",
       "      <td>NaN</td>\n",
       "      <td>New</td>\n",
       "    </tr>\n",
       "    <tr>\n",
       "      <th>...</th>\n",
       "      <td>...</td>\n",
       "      <td>...</td>\n",
       "      <td>...</td>\n",
       "      <td>...</td>\n",
       "      <td>...</td>\n",
       "      <td>...</td>\n",
       "      <td>...</td>\n",
       "      <td>...</td>\n",
       "      <td>...</td>\n",
       "      <td>...</td>\n",
       "      <td>...</td>\n",
       "      <td>...</td>\n",
       "      <td>...</td>\n",
       "      <td>...</td>\n",
       "      <td>...</td>\n",
       "      <td>...</td>\n",
       "      <td>...</td>\n",
       "      <td>...</td>\n",
       "      <td>...</td>\n",
       "      <td>...</td>\n",
       "      <td>...</td>\n",
       "      <td>...</td>\n",
       "      <td>...</td>\n",
       "      <td>...</td>\n",
       "      <td>...</td>\n",
       "      <td>...</td>\n",
       "      <td>...</td>\n",
       "      <td>...</td>\n",
       "      <td>...</td>\n",
       "      <td>...</td>\n",
       "      <td>...</td>\n",
       "      <td>...</td>\n",
       "      <td>...</td>\n",
       "      <td>...</td>\n",
       "      <td>...</td>\n",
       "      <td>...</td>\n",
       "      <td>...</td>\n",
       "      <td>...</td>\n",
       "      <td>...</td>\n",
       "      <td>...</td>\n",
       "      <td>...</td>\n",
       "      <td>...</td>\n",
       "      <td>...</td>\n",
       "      <td>...</td>\n",
       "      <td>...</td>\n",
       "      <td>...</td>\n",
       "      <td>...</td>\n",
       "      <td>...</td>\n",
       "      <td>...</td>\n",
       "      <td>...</td>\n",
       "      <td>...</td>\n",
       "      <td>...</td>\n",
       "      <td>...</td>\n",
       "      <td>...</td>\n",
       "      <td>...</td>\n",
       "      <td>...</td>\n",
       "    </tr>\n",
       "    <tr>\n",
       "      <th>15892</th>\n",
       "      <td>https://www.autoscout24.com//offers/renault-es...</td>\n",
       "      <td>Renault Espace</td>\n",
       "      <td>Intens Energy dCi 160 EDC</td>\n",
       "      <td>Van</td>\n",
       "      <td>41800</td>\n",
       "      <td>True</td>\n",
       "      <td>2.0</td>\n",
       "      <td>-/-</td>\n",
       "      <td>NaN</td>\n",
       "      <td>NaN</td>\n",
       "      <td>118.0</td>\n",
       "      <td>[, New, , Diesel (Particulate Filter)]</td>\n",
       "      <td>NaN</td>\n",
       "      <td>NaN</td>\n",
       "      <td>NaN</td>\n",
       "      <td>NaN</td>\n",
       "      <td>\\n</td>\n",
       "      <td>NaN</td>\n",
       "      <td>[]</td>\n",
       "      <td>\\nRenault\\n</td>\n",
       "      <td>[\\n, Espace, \\n]</td>\n",
       "      <td>[\\n2000422820\\n]</td>\n",
       "      <td>NaN</td>\n",
       "      <td>[\\n, White, \\n]</td>\n",
       "      <td>[\\nMetallic\\n]</td>\n",
       "      <td>[\\nweiß\\n]</td>\n",
       "      <td>[\\nFull leather\\n]</td>\n",
       "      <td>[\\n, Van, \\n]</td>\n",
       "      <td>[\\n5\\n]</td>\n",
       "      <td>[\\n5\\n]</td>\n",
       "      <td>NaN</td>\n",
       "      <td>[\\n, Automatic, \\n]</td>\n",
       "      <td>[\\n1,598 cc\\n]</td>\n",
       "      <td>NaN</td>\n",
       "      <td>[\\n1,659 kg\\n]</td>\n",
       "      <td>[\\nfront\\n]</td>\n",
       "      <td>[\\n, Diesel (Particulate Filter), \\n]</td>\n",
       "      <td>[[4.7 l/100 km (comb)], [5.1 l/100 km (city)],...</td>\n",
       "      <td>[\\n123 g CO2/km (comb)\\n]</td>\n",
       "      <td>[\\nEuro 6\\n]</td>\n",
       "      <td>[Air conditioning, Armrest, Automatic climate ...</td>\n",
       "      <td>[On-board computer, Radio, USB]</td>\n",
       "      <td>[Alloy wheels]</td>\n",
       "      <td>[ABS, Adaptive headlights, Alarm system, Centr...</td>\n",
       "      <td>[\\nAllradlenkung. Fahrwerk einstellbar. Spurha...</td>\n",
       "      <td>NaN</td>\n",
       "      <td>[\\n6\\n]</td>\n",
       "      <td>NaN</td>\n",
       "      <td>NaN</td>\n",
       "      <td>NaN</td>\n",
       "      <td>NaN</td>\n",
       "      <td>NaN</td>\n",
       "      <td>NaN</td>\n",
       "      <td>NaN</td>\n",
       "      <td>NaN</td>\n",
       "      <td>New</td>\n",
       "    </tr>\n",
       "    <tr>\n",
       "      <th>15902</th>\n",
       "      <td>https://www.autoscout24.com//offers/renault-es...</td>\n",
       "      <td>Renault Espace</td>\n",
       "      <td>BLUE dCi 200 EDC Initiale Paris</td>\n",
       "      <td>Sedans</td>\n",
       "      <td>41043</td>\n",
       "      <td>True</td>\n",
       "      <td>NaN</td>\n",
       "      <td>-/-</td>\n",
       "      <td>NaN</td>\n",
       "      <td>NaN</td>\n",
       "      <td>147.0</td>\n",
       "      <td>[, New, , Diesel (Particulate Filter)]</td>\n",
       "      <td>NaN</td>\n",
       "      <td>NaN</td>\n",
       "      <td>NaN</td>\n",
       "      <td>NaN</td>\n",
       "      <td>NaN</td>\n",
       "      <td>[\\n, \\n, \\n139 g CO2/km (comb)\\n]</td>\n",
       "      <td>[]</td>\n",
       "      <td>\\nRenault\\n</td>\n",
       "      <td>[\\n, Espace, \\n]</td>\n",
       "      <td>[\\nIM 157730\\n]</td>\n",
       "      <td>NaN</td>\n",
       "      <td>[\\n, Black, \\n]</td>\n",
       "      <td>NaN</td>\n",
       "      <td>[\\nGNE Noir Etoile\\n]</td>\n",
       "      <td>[\\nBrown\\n]</td>\n",
       "      <td>[\\n, Sedans, \\n]</td>\n",
       "      <td>[\\n4\\n]</td>\n",
       "      <td>[\\n5\\n]</td>\n",
       "      <td>[\\n3333/BDR\\n]</td>\n",
       "      <td>[\\n, Automatic, \\n]</td>\n",
       "      <td>[\\n1,997 cc\\n]</td>\n",
       "      <td>NaN</td>\n",
       "      <td>NaN</td>\n",
       "      <td>NaN</td>\n",
       "      <td>[\\n, Diesel (Particulate Filter), \\n]</td>\n",
       "      <td>[[5.3 l/100 km (comb)], [6.2 l/100 km (city)],...</td>\n",
       "      <td>[\\n139 g CO2/km (comb)\\n]</td>\n",
       "      <td>[\\nEuro 6c\\n]</td>\n",
       "      <td>[Air conditioning, Armrest, Automatic climate ...</td>\n",
       "      <td>[Bluetooth, Digital radio, Hands-free equipmen...</td>\n",
       "      <td>[Alloy wheels, Roof rack, Touch screen, Voice ...</td>\n",
       "      <td>[ABS, Blind spot monitor, Central door lock, D...</td>\n",
       "      <td>[\\n12V Anschluss, 19\" Leichtmetallfelgen, ABS,...</td>\n",
       "      <td>NaN</td>\n",
       "      <td>NaN</td>\n",
       "      <td>[\\nBelgium\\n]</td>\n",
       "      <td>NaN</td>\n",
       "      <td>NaN</td>\n",
       "      <td>NaN</td>\n",
       "      <td>NaN</td>\n",
       "      <td>NaN</td>\n",
       "      <td>\\n03/08/19\\n</td>\n",
       "      <td>NaN</td>\n",
       "      <td>New</td>\n",
       "    </tr>\n",
       "    <tr>\n",
       "      <th>15907</th>\n",
       "      <td>https://www.autoscout24.com//offers/renault-es...</td>\n",
       "      <td>Renault Espace</td>\n",
       "      <td>1.8 TCE 225 INITIALE PARIS, WINTER-, CRUISING-...</td>\n",
       "      <td>Van</td>\n",
       "      <td>39990</td>\n",
       "      <td>True</td>\n",
       "      <td>50.0</td>\n",
       "      <td>-/-</td>\n",
       "      <td>NaN</td>\n",
       "      <td>NaN</td>\n",
       "      <td>165.0</td>\n",
       "      <td>[, New, , Super 95 / Super Plus 98 / Super E10...</td>\n",
       "      <td>NaN</td>\n",
       "      <td>NaN</td>\n",
       "      <td>NaN</td>\n",
       "      <td>[\\n36 months\\n, \\n, 7.4 l/100 km (comb), \\n, 9...</td>\n",
       "      <td>NaN</td>\n",
       "      <td>NaN</td>\n",
       "      <td>[]</td>\n",
       "      <td>\\nRenault\\n</td>\n",
       "      <td>[\\n, Espace, \\n]</td>\n",
       "      <td>[\\n078265\\n]</td>\n",
       "      <td>NaN</td>\n",
       "      <td>[\\n, Grey, \\n]</td>\n",
       "      <td>[\\nMetallic\\n]</td>\n",
       "      <td>[\\ntitaniumgraumetallic\\n]</td>\n",
       "      <td>[\\nFull leather\\n]</td>\n",
       "      <td>[\\n, Van, \\n]</td>\n",
       "      <td>[\\n5\\n]</td>\n",
       "      <td>[\\n7\\n]</td>\n",
       "      <td>[\\n3333/BHJ\\n]</td>\n",
       "      <td>[\\n, Automatic, \\n]</td>\n",
       "      <td>[\\n1,798 cc\\n]</td>\n",
       "      <td>NaN</td>\n",
       "      <td>[\\n1,708 kg\\n]</td>\n",
       "      <td>NaN</td>\n",
       "      <td>[\\n, Super 95 / Super Plus 98 / Super E10 95 /...</td>\n",
       "      <td>[\\n, 7.4 l/100 km (comb), \\n, 9.6 l/100 km (ci...</td>\n",
       "      <td>[\\n168 g CO2/km (comb)\\n]</td>\n",
       "      <td>[\\nEuro 6d-TEMP\\n]</td>\n",
       "      <td>[Air conditioning, Armrest, Automatic climate ...</td>\n",
       "      <td>[Bluetooth, Digital radio, Hands-free equipmen...</td>\n",
       "      <td>[Alloy wheels, Touch screen, Voice Control]</td>\n",
       "      <td>[ABS, Adaptive Cruise Control, Adaptive headli...</td>\n",
       "      <td>[\\n, Sonderausstattung, 3.Sitzreihe mit Einzel...</td>\n",
       "      <td>[\\n4 (Green)\\n]</td>\n",
       "      <td>[\\n7\\n]</td>\n",
       "      <td>[\\nEuropean Union\\n]</td>\n",
       "      <td>NaN</td>\n",
       "      <td>NaN</td>\n",
       "      <td>[[], [], []]</td>\n",
       "      <td>\\nin 14 days from ordering\\n</td>\n",
       "      <td>NaN</td>\n",
       "      <td>NaN</td>\n",
       "      <td>NaN</td>\n",
       "      <td>New</td>\n",
       "    </tr>\n",
       "    <tr>\n",
       "      <th>15912</th>\n",
       "      <td>https://www.autoscout24.com//offers/renault-es...</td>\n",
       "      <td>Renault Espace</td>\n",
       "      <td>Blue dCi 200CV EDC Executive 4Control</td>\n",
       "      <td>Van</td>\n",
       "      <td>39950</td>\n",
       "      <td>True</td>\n",
       "      <td>NaN</td>\n",
       "      <td>-/-</td>\n",
       "      <td>NaN</td>\n",
       "      <td>NaN</td>\n",
       "      <td>147.0</td>\n",
       "      <td>[, New, , Diesel (Particulate Filter)]</td>\n",
       "      <td>NaN</td>\n",
       "      <td>NaN</td>\n",
       "      <td>NaN</td>\n",
       "      <td>\\n24 months\\n</td>\n",
       "      <td>NaN</td>\n",
       "      <td>NaN</td>\n",
       "      <td>[]</td>\n",
       "      <td>\\nRenault\\n</td>\n",
       "      <td>[\\n, Espace, \\n]</td>\n",
       "      <td>[\\n10988276\\n]</td>\n",
       "      <td>NaN</td>\n",
       "      <td>[\\n, Black, \\n]</td>\n",
       "      <td>[\\nMetallic\\n]</td>\n",
       "      <td>[\\nNero\\n]</td>\n",
       "      <td>NaN</td>\n",
       "      <td>[\\n, Van, \\n]</td>\n",
       "      <td>[\\n5\\n]</td>\n",
       "      <td>[\\n5\\n]</td>\n",
       "      <td>NaN</td>\n",
       "      <td>[\\n, Automatic, \\n]</td>\n",
       "      <td>[\\n1,997 cc\\n]</td>\n",
       "      <td>[\\n4\\n]</td>\n",
       "      <td>[\\n1,758 kg\\n]</td>\n",
       "      <td>[\\nfront\\n]</td>\n",
       "      <td>[\\n, Diesel (Particulate Filter), \\n]</td>\n",
       "      <td>[[5.3 l/100 km (comb)], [6.2 l/100 km (city)],...</td>\n",
       "      <td>[\\n139 g CO2/km (comb)\\n]</td>\n",
       "      <td>NaN</td>\n",
       "      <td>[Air conditioning, Automatic climate control, ...</td>\n",
       "      <td>[Bluetooth, Digital radio, Hands-free equipmen...</td>\n",
       "      <td>[Alloy wheels, Touch screen]</td>\n",
       "      <td>[ABS, Central door lock, Central door lock wit...</td>\n",
       "      <td>[\\nVettura visionabile nella sede in Via Roma ...</td>\n",
       "      <td>NaN</td>\n",
       "      <td>[\\n6\\n]</td>\n",
       "      <td>NaN</td>\n",
       "      <td>NaN</td>\n",
       "      <td>NaN</td>\n",
       "      <td>NaN</td>\n",
       "      <td>NaN</td>\n",
       "      <td>NaN</td>\n",
       "      <td>NaN</td>\n",
       "      <td>NaN</td>\n",
       "      <td>New</td>\n",
       "    </tr>\n",
       "    <tr>\n",
       "      <th>15914</th>\n",
       "      <td>https://www.autoscout24.com//offers/renault-es...</td>\n",
       "      <td>Renault Espace</td>\n",
       "      <td>Blue dCi 200CV EDC Executive 4Control</td>\n",
       "      <td>Van</td>\n",
       "      <td>39950</td>\n",
       "      <td>True</td>\n",
       "      <td>NaN</td>\n",
       "      <td>-/-</td>\n",
       "      <td>NaN</td>\n",
       "      <td>NaN</td>\n",
       "      <td>147.0</td>\n",
       "      <td>[, New, , Diesel (Particulate Filter)]</td>\n",
       "      <td>NaN</td>\n",
       "      <td>NaN</td>\n",
       "      <td>NaN</td>\n",
       "      <td>\\n24 months\\n</td>\n",
       "      <td>NaN</td>\n",
       "      <td>NaN</td>\n",
       "      <td>[]</td>\n",
       "      <td>\\nRenault\\n</td>\n",
       "      <td>[\\n, Espace, \\n]</td>\n",
       "      <td>[\\n10988301\\n]</td>\n",
       "      <td>NaN</td>\n",
       "      <td>[\\n, Grey, \\n]</td>\n",
       "      <td>[\\nMetallic\\n]</td>\n",
       "      <td>[\\nGrigio scuro\\n]</td>\n",
       "      <td>NaN</td>\n",
       "      <td>[\\n, Van, \\n]</td>\n",
       "      <td>[\\n5\\n]</td>\n",
       "      <td>[\\n5\\n]</td>\n",
       "      <td>NaN</td>\n",
       "      <td>[\\n, Automatic, \\n]</td>\n",
       "      <td>[\\n1,997 cc\\n]</td>\n",
       "      <td>[\\n4\\n]</td>\n",
       "      <td>[\\n1,758 kg\\n]</td>\n",
       "      <td>[\\nfront\\n]</td>\n",
       "      <td>[\\n, Diesel (Particulate Filter), \\n]</td>\n",
       "      <td>[[5.3 l/100 km (comb)], [6.2 l/100 km (city)],...</td>\n",
       "      <td>[\\n139 g CO2/km (comb)\\n]</td>\n",
       "      <td>NaN</td>\n",
       "      <td>[Air conditioning, Automatic climate control, ...</td>\n",
       "      <td>[Bluetooth, Digital radio, Hands-free equipmen...</td>\n",
       "      <td>[Alloy wheels, Touch screen]</td>\n",
       "      <td>[ABS, Central door lock, Central door lock wit...</td>\n",
       "      <td>[\\nVettura visionabile nella sede in Via Roma ...</td>\n",
       "      <td>NaN</td>\n",
       "      <td>[\\n6\\n]</td>\n",
       "      <td>NaN</td>\n",
       "      <td>NaN</td>\n",
       "      <td>NaN</td>\n",
       "      <td>NaN</td>\n",
       "      <td>NaN</td>\n",
       "      <td>NaN</td>\n",
       "      <td>NaN</td>\n",
       "      <td>NaN</td>\n",
       "      <td>New</td>\n",
       "    </tr>\n",
       "  </tbody>\n",
       "</table>\n",
       "<p>1635 rows × 56 columns</p>\n",
       "</div>"
      ],
      "text/plain": [
       "                                                     url      make_model  \\\n",
       "122    https://www.autoscout24.com//offers/audi-a1-sp...         Audi A1   \n",
       "710    https://www.autoscout24.com//offers/audi-a1-sp...         Audi A1   \n",
       "734    https://www.autoscout24.com//offers/audi-a1-sp...         Audi A1   \n",
       "741    https://www.autoscout24.com//offers/audi-a1-ad...         Audi A1   \n",
       "743    https://www.autoscout24.com//offers/audi-a1-sp...         Audi A1   \n",
       "...                                                  ...             ...   \n",
       "15892  https://www.autoscout24.com//offers/renault-es...  Renault Espace   \n",
       "15902  https://www.autoscout24.com//offers/renault-es...  Renault Espace   \n",
       "15907  https://www.autoscout24.com//offers/renault-es...  Renault Espace   \n",
       "15912  https://www.autoscout24.com//offers/renault-es...  Renault Espace   \n",
       "15914  https://www.autoscout24.com//offers/renault-es...  Renault Espace   \n",
       "\n",
       "                                       short_description body_type  price  \\\n",
       "122    Sportback basis 30 TFSI 116 S tronic Euro6d-Te...   Compact  18730   \n",
       "710                                            Sportback   Compact  31990   \n",
       "734                  SPB 30 TFSI S tronic S line edition    Sedans  30000   \n",
       "741                                             Advanced    Sedans  28290   \n",
       "743                         SPB 30 TFSI S tronic Admired    Sedans  25900   \n",
       "...                                                  ...       ...    ...   \n",
       "15892                          Intens Energy dCi 160 EDC       Van  41800   \n",
       "15902                    BLUE dCi 200 EDC Initiale Paris    Sedans  41043   \n",
       "15907  1.8 TCE 225 INITIALE PARIS, WINTER-, CRUISING-...       Van  39990   \n",
       "15912              Blue dCi 200CV EDC Executive 4Control       Van  39950   \n",
       "15914              Blue dCi 200CV EDC Executive 4Control       Van  39950   \n",
       "\n",
       "        vat    km registration  prev_owner  kW     hp  \\\n",
       "122    True   1.0          -/-         NaN NaN   85.0   \n",
       "710    True  10.0          -/-         NaN NaN   85.0   \n",
       "734    True   0.0          -/-         NaN NaN   85.0   \n",
       "741    True   5.0          -/-         NaN NaN   85.0   \n",
       "743    True   NaN          -/-         NaN NaN   85.0   \n",
       "...     ...   ...          ...         ...  ..    ...   \n",
       "15892  True   2.0          -/-         NaN NaN  118.0   \n",
       "15902  True   NaN          -/-         NaN NaN  147.0   \n",
       "15907  True  50.0          -/-         NaN NaN  165.0   \n",
       "15912  True   NaN          -/-         NaN NaN  147.0   \n",
       "15914  True   NaN          -/-         NaN NaN  147.0   \n",
       "\n",
       "                                                    Type  Previous Owners  \\\n",
       "122             [, New, , Super 95 (Particulate Filter)]              NaN   \n",
       "710                                  [, New, , Gasoline]              NaN   \n",
       "734                                  [, New, , Gasoline]              0.0   \n",
       "741                                  [, New, , Gasoline]              NaN   \n",
       "743                                  [, New, , Gasoline]              0.0   \n",
       "...                                                  ...              ...   \n",
       "15892             [, New, , Diesel (Particulate Filter)]              NaN   \n",
       "15902             [, New, , Diesel (Particulate Filter)]              NaN   \n",
       "15907  [, New, , Super 95 / Super Plus 98 / Super E10...              NaN   \n",
       "15912             [, New, , Diesel (Particulate Filter)]              NaN   \n",
       "15914             [, New, , Diesel (Particulate Filter)]              NaN   \n",
       "\n",
       "      Next Inspection Inspection new  \\\n",
       "122               NaN            NaN   \n",
       "710               NaN            NaN   \n",
       "734               NaN            NaN   \n",
       "741               NaN            NaN   \n",
       "743               NaN            NaN   \n",
       "...               ...            ...   \n",
       "15892             NaN            NaN   \n",
       "15902             NaN            NaN   \n",
       "15907             NaN            NaN   \n",
       "15912             NaN            NaN   \n",
       "15914             NaN            NaN   \n",
       "\n",
       "                                                Warranty Full Service  \\\n",
       "122                    [\\n, \\n, \\n108 g CO2/km (comb)\\n]          NaN   \n",
       "710                                        \\n24 months\\n     [\\n, \\n]   \n",
       "734                                                  NaN          NaN   \n",
       "741                                        \\n36 months\\n          NaN   \n",
       "743                                                  NaN          NaN   \n",
       "...                                                  ...          ...   \n",
       "15892                                                NaN           \\n   \n",
       "15902                                                NaN          NaN   \n",
       "15907  [\\n36 months\\n, \\n, 7.4 l/100 km (comb), \\n, 9...          NaN   \n",
       "15912                                      \\n24 months\\n          NaN   \n",
       "15914                                      \\n24 months\\n          NaN   \n",
       "\n",
       "                     Non-smoking Vehicle null         Make             Model  \\\n",
       "122                                  NaN   []     \\nAudi\\n      [\\n, A1, \\n]   \n",
       "710                                  NaN   []     \\nAudi\\n      [\\n, A1, \\n]   \n",
       "734                                  NaN   []     \\nAudi\\n      [\\n, A1, \\n]   \n",
       "741                                  NaN   []     \\nAudi\\n      [\\n, A1, \\n]   \n",
       "743                                  NaN   []     \\nAudi\\n      [\\n, A1, \\n]   \n",
       "...                                  ...  ...          ...               ...   \n",
       "15892                                NaN   []  \\nRenault\\n  [\\n, Espace, \\n]   \n",
       "15902  [\\n, \\n, \\n139 g CO2/km (comb)\\n]   []  \\nRenault\\n  [\\n, Espace, \\n]   \n",
       "15907                                NaN   []  \\nRenault\\n  [\\n, Espace, \\n]   \n",
       "15912                                NaN   []  \\nRenault\\n  [\\n, Espace, \\n]   \n",
       "15914                                NaN   []  \\nRenault\\n  [\\n, Espace, \\n]   \n",
       "\n",
       "           Offer Number  First Registration        Body Color  \\\n",
       "122         [\\n13468\\n]                 NaN               NaN   \n",
       "710         [\\n12743\\n]                 NaN  [\\n, Yellow, \\n]   \n",
       "734                 NaN                 NaN   [\\n, White, \\n]   \n",
       "741          [\\n6073\\n]                 NaN     [\\n, Red, \\n]   \n",
       "743                 NaN                 NaN   [\\n, Black, \\n]   \n",
       "...                 ...                 ...               ...   \n",
       "15892  [\\n2000422820\\n]                 NaN   [\\n, White, \\n]   \n",
       "15902   [\\nIM 157730\\n]                 NaN   [\\n, Black, \\n]   \n",
       "15907      [\\n078265\\n]                 NaN    [\\n, Grey, \\n]   \n",
       "15912    [\\n10988276\\n]                 NaN   [\\n, Black, \\n]   \n",
       "15914    [\\n10988301\\n]                 NaN    [\\n, Grey, \\n]   \n",
       "\n",
       "              Paint Type         Body Color Original  \\\n",
       "122                  NaN               [\\nwählbar\\n]   \n",
       "710       [\\nMetallic\\n]                 [\\njaune\\n]   \n",
       "734       [\\nMetallic\\n]     [\\nBianco Ghiacciaio\\n]   \n",
       "741    [\\nPerl effect\\n]                 [\\nrouge\\n]   \n",
       "743                  NaN                         NaN   \n",
       "...                  ...                         ...   \n",
       "15892     [\\nMetallic\\n]                  [\\nweiß\\n]   \n",
       "15902                NaN       [\\nGNE Noir Etoile\\n]   \n",
       "15907     [\\nMetallic\\n]  [\\ntitaniumgraumetallic\\n]   \n",
       "15912     [\\nMetallic\\n]                  [\\nNero\\n]   \n",
       "15914     [\\nMetallic\\n]          [\\nGrigio scuro\\n]   \n",
       "\n",
       "                      Upholstery               Body Nr. of Doors Nr. of Seats  \\\n",
       "122                 [\\nVelour\\n]  [\\n, Compact, \\n]      [\\n5\\n]      [\\n5\\n]   \n",
       "710          [\\nVelour, Black\\n]  [\\n, Compact, \\n]      [\\n5\\n]          NaN   \n",
       "734    [\\nPart leather, Black\\n]   [\\n, Sedans, \\n]      [\\n5\\n]      [\\n5\\n]   \n",
       "741          [\\nVelour, Black\\n]   [\\n, Sedans, \\n]      [\\n5\\n]          NaN   \n",
       "743           [\\nCloth, Black\\n]   [\\n, Sedans, \\n]      [\\n5\\n]      [\\n4\\n]   \n",
       "...                          ...                ...          ...          ...   \n",
       "15892         [\\nFull leather\\n]      [\\n, Van, \\n]      [\\n5\\n]      [\\n5\\n]   \n",
       "15902                [\\nBrown\\n]   [\\n, Sedans, \\n]      [\\n4\\n]      [\\n5\\n]   \n",
       "15907         [\\nFull leather\\n]      [\\n, Van, \\n]      [\\n5\\n]      [\\n7\\n]   \n",
       "15912                        NaN      [\\n, Van, \\n]      [\\n5\\n]      [\\n5\\n]   \n",
       "15914                        NaN      [\\n, Van, \\n]      [\\n5\\n]      [\\n5\\n]   \n",
       "\n",
       "           Model Code              Gearing Type    Displacement Cylinders  \\\n",
       "122               NaN       [\\n, Automatic, \\n]    [\\n999 cc\\n]   [\\n3\\n]   \n",
       "710               NaN  [\\n, Semi-automatic, \\n]    [\\n999 cc\\n]       NaN   \n",
       "734               NaN  [\\n, Semi-automatic, \\n]    [\\n999 cc\\n]   [\\n3\\n]   \n",
       "741               NaN  [\\n, Semi-automatic, \\n]    [\\n999 cc\\n]       NaN   \n",
       "743               NaN  [\\n, Semi-automatic, \\n]    [\\n999 cc\\n]   [\\n3\\n]   \n",
       "...               ...                       ...             ...       ...   \n",
       "15892             NaN       [\\n, Automatic, \\n]  [\\n1,598 cc\\n]       NaN   \n",
       "15902  [\\n3333/BDR\\n]       [\\n, Automatic, \\n]  [\\n1,997 cc\\n]       NaN   \n",
       "15907  [\\n3333/BHJ\\n]       [\\n, Automatic, \\n]  [\\n1,798 cc\\n]       NaN   \n",
       "15912             NaN       [\\n, Automatic, \\n]  [\\n1,997 cc\\n]   [\\n4\\n]   \n",
       "15914             NaN       [\\n, Automatic, \\n]  [\\n1,997 cc\\n]   [\\n4\\n]   \n",
       "\n",
       "               Weight  Drive chain  \\\n",
       "122    [\\n1,200 kg\\n]  [\\nfront\\n]   \n",
       "710               NaN  [\\nfront\\n]   \n",
       "734    [\\n1,230 kg\\n]          NaN   \n",
       "741               NaN  [\\nfront\\n]   \n",
       "743    [\\n1,255 kg\\n]  [\\nfront\\n]   \n",
       "...               ...          ...   \n",
       "15892  [\\n1,659 kg\\n]  [\\nfront\\n]   \n",
       "15902             NaN          NaN   \n",
       "15907  [\\n1,708 kg\\n]          NaN   \n",
       "15912  [\\n1,758 kg\\n]  [\\nfront\\n]   \n",
       "15914  [\\n1,758 kg\\n]  [\\nfront\\n]   \n",
       "\n",
       "                                                    Fuel  \\\n",
       "122              [\\n, Super 95 (Particulate Filter), \\n]   \n",
       "710                                   [\\n, Gasoline, \\n]   \n",
       "734                                   [\\n, Gasoline, \\n]   \n",
       "741                                   [\\n, Gasoline, \\n]   \n",
       "743                                   [\\n, Gasoline, \\n]   \n",
       "...                                                  ...   \n",
       "15892              [\\n, Diesel (Particulate Filter), \\n]   \n",
       "15902              [\\n, Diesel (Particulate Filter), \\n]   \n",
       "15907  [\\n, Super 95 / Super Plus 98 / Super E10 95 /...   \n",
       "15912              [\\n, Diesel (Particulate Filter), \\n]   \n",
       "15914              [\\n, Diesel (Particulate Filter), \\n]   \n",
       "\n",
       "                                             Consumption  \\\n",
       "122    [[4.8 l/100 km (comb)], [5.8 l/100 km (city)],...   \n",
       "710                                                  NaN   \n",
       "734    [[4.8 l/100 km (comb)], [5.8 l/100 km (city)],...   \n",
       "741                                                  NaN   \n",
       "743    [[4.8 l/100 km (comb)], [5.8 l/100 km (city)],...   \n",
       "...                                                  ...   \n",
       "15892  [[4.7 l/100 km (comb)], [5.1 l/100 km (city)],...   \n",
       "15902  [[5.3 l/100 km (comb)], [6.2 l/100 km (city)],...   \n",
       "15907  [\\n, 7.4 l/100 km (comb), \\n, 9.6 l/100 km (ci...   \n",
       "15912  [[5.3 l/100 km (comb)], [6.2 l/100 km (city)],...   \n",
       "15914  [[5.3 l/100 km (comb)], [6.2 l/100 km (city)],...   \n",
       "\n",
       "                    CO2 Emission      Emission Class  \\\n",
       "122    [\\n108 g CO2/km (comb)\\n]  [\\nEuro 6d-TEMP\\n]   \n",
       "710                 [[], [], []]                 NaN   \n",
       "734    [\\n108 g CO2/km (comb)\\n]  [\\nEuro 6d-TEMP\\n]   \n",
       "741                 [[], [], []]        [\\nEuro 6\\n]   \n",
       "743    [\\n108 g CO2/km (comb)\\n]  [\\nEuro 6d-TEMP\\n]   \n",
       "...                          ...                 ...   \n",
       "15892  [\\n123 g CO2/km (comb)\\n]        [\\nEuro 6\\n]   \n",
       "15902  [\\n139 g CO2/km (comb)\\n]       [\\nEuro 6c\\n]   \n",
       "15907  [\\n168 g CO2/km (comb)\\n]  [\\nEuro 6d-TEMP\\n]   \n",
       "15912  [\\n139 g CO2/km (comb)\\n]                 NaN   \n",
       "15914  [\\n139 g CO2/km (comb)\\n]                 NaN   \n",
       "\n",
       "                               \\nComfort & Convenience\\n  \\\n",
       "122    [Air conditioning, Electrical side mirrors, Hi...   \n",
       "710    [Air conditioning, Automatic climate control, ...   \n",
       "734    [Air conditioning, Seat ventilation, Split rea...   \n",
       "741    [Air conditioning, Automatic climate control, ...   \n",
       "743    [Air conditioning, Automatic climate control, ...   \n",
       "...                                                  ...   \n",
       "15892  [Air conditioning, Armrest, Automatic climate ...   \n",
       "15902  [Air conditioning, Armrest, Automatic climate ...   \n",
       "15907  [Air conditioning, Armrest, Automatic climate ...   \n",
       "15912  [Air conditioning, Automatic climate control, ...   \n",
       "15914  [Air conditioning, Automatic climate control, ...   \n",
       "\n",
       "                               \\nEntertainment & Media\\n  \\\n",
       "122    [Bluetooth, Hands-free equipment, On-board com...   \n",
       "710                                  [On-board computer]   \n",
       "734                                   [Bluetooth, Radio]   \n",
       "741                                          [Bluetooth]   \n",
       "743    [Bluetooth, CD player, Digital radio, Hands-fr...   \n",
       "...                                                  ...   \n",
       "15892                    [On-board computer, Radio, USB]   \n",
       "15902  [Bluetooth, Digital radio, Hands-free equipmen...   \n",
       "15907  [Bluetooth, Digital radio, Hands-free equipmen...   \n",
       "15912  [Bluetooth, Digital radio, Hands-free equipmen...   \n",
       "15914  [Bluetooth, Digital radio, Hands-free equipmen...   \n",
       "\n",
       "                                              \\nExtras\\n  \\\n",
       "122                                                  NaN   \n",
       "710                                       [Alloy wheels]   \n",
       "734                     [Alloy wheels, Sport suspension]   \n",
       "741                                       [Alloy wheels]   \n",
       "743    [Alloy wheels, Sport suspension, Touch screen,...   \n",
       "...                                                  ...   \n",
       "15892                                     [Alloy wheels]   \n",
       "15902  [Alloy wheels, Roof rack, Touch screen, Voice ...   \n",
       "15907        [Alloy wheels, Touch screen, Voice Control]   \n",
       "15912                       [Alloy wheels, Touch screen]   \n",
       "15914                       [Alloy wheels, Touch screen]   \n",
       "\n",
       "                                   \\nSafety & Security\\n  \\\n",
       "122    [ABS, Daytime running lights, Driver-side airb...   \n",
       "710                                     [Power steering]   \n",
       "734    [ABS, Alarm system, Central door lock, Driver-...   \n",
       "741                                                  NaN   \n",
       "743    [ABS, Alarm system, Central door lock, Central...   \n",
       "...                                                  ...   \n",
       "15892  [ABS, Adaptive headlights, Alarm system, Centr...   \n",
       "15902  [ABS, Blind spot monitor, Central door lock, D...   \n",
       "15907  [ABS, Adaptive Cruise Control, Adaptive headli...   \n",
       "15912  [ABS, Central door lock, Central door lock wit...   \n",
       "15914  [ABS, Central door lock, Central door lock wit...   \n",
       "\n",
       "                                             description   Emission Label  \\\n",
       "122    [\\nPreise inklusive Mehrwertsteuer,  , Preisga...  [\\n4 (Green)\\n]   \n",
       "710                                             [\\n, \\n]              NaN   \n",
       "734    [\\nINSERIRE QUI LA DESCRIZIONE DEL VEICOLO, AN...              NaN   \n",
       "741                                             [\\n, \\n]              NaN   \n",
       "743    [\\n, NUOVA AUDI A1! VETTURA UFFICIALE ITA IN P...              NaN   \n",
       "...                                                  ...              ...   \n",
       "15892  [\\nAllradlenkung. Fahrwerk einstellbar. Spurha...              NaN   \n",
       "15902  [\\n12V Anschluss, 19\" Leichtmetallfelgen, ABS,...              NaN   \n",
       "15907  [\\n, Sonderausstattung, 3.Sitzreihe mit Einzel...  [\\n4 (Green)\\n]   \n",
       "15912  [\\nVettura visionabile nella sede in Via Roma ...              NaN   \n",
       "15914  [\\nVettura visionabile nella sede in Via Roma ...              NaN   \n",
       "\n",
       "         Gears       Country version Electricity consumption  \\\n",
       "122    [\\n7\\n]  [\\nEuropean Union\\n]                     NaN   \n",
       "710    [\\n7\\n]                   NaN                     NaN   \n",
       "734    [\\n7\\n]           [\\nItaly\\n]                     NaN   \n",
       "741    [\\n7\\n]                   NaN                     NaN   \n",
       "743    [\\n7\\n]           [\\nItaly\\n]                     NaN   \n",
       "...        ...                   ...                     ...   \n",
       "15892  [\\n6\\n]                   NaN                     NaN   \n",
       "15902      NaN         [\\nBelgium\\n]                     NaN   \n",
       "15907  [\\n7\\n]  [\\nEuropean Union\\n]                     NaN   \n",
       "15912  [\\n6\\n]                   NaN                     NaN   \n",
       "15914  [\\n6\\n]                   NaN                     NaN   \n",
       "\n",
       "      Last Service Date Other Fuel Types                  Availability  \\\n",
       "122                 NaN              NaN  \\nin 90 days from ordering\\n   \n",
       "710                 NaN              NaN                           NaN   \n",
       "734                 NaN              NaN                           NaN   \n",
       "741                 NaN              NaN                           NaN   \n",
       "743                 NaN              NaN                           NaN   \n",
       "...                 ...              ...                           ...   \n",
       "15892               NaN              NaN                           NaN   \n",
       "15902               NaN              NaN                           NaN   \n",
       "15907               NaN     [[], [], []]  \\nin 14 days from ordering\\n   \n",
       "15912               NaN              NaN                           NaN   \n",
       "15914               NaN              NaN                           NaN   \n",
       "\n",
       "      Last Timing Belt Service Date Available from  age vehicle_condition  \n",
       "122                             NaN            NaN  NaN               New  \n",
       "710                             NaN            NaN  NaN               New  \n",
       "734                             NaN            NaN  NaN               New  \n",
       "741                             NaN            NaN  NaN               New  \n",
       "743                             NaN            NaN  NaN               New  \n",
       "...                             ...            ...  ...               ...  \n",
       "15892                           NaN            NaN  NaN               New  \n",
       "15902                           NaN   \\n03/08/19\\n  NaN               New  \n",
       "15907                           NaN            NaN  NaN               New  \n",
       "15912                           NaN            NaN  NaN               New  \n",
       "15914                           NaN            NaN  NaN               New  \n",
       "\n",
       "[1635 rows x 56 columns]"
      ]
     },
     "execution_count": 54,
     "metadata": {},
     "output_type": "execute_result"
    }
   ],
   "source": [
    "df[(df.vehicle_condition == 'New') & (df['prev_owner'].isnull())] \n",
    "# prev_owner sütunum vehicle condition sütunuyla daha çok örtüşüyor."
   ]
  },
  {
   "cell_type": "markdown",
   "metadata": {},
   "source": [
    "### fuel_type"
   ]
  },
  {
   "cell_type": "code",
   "execution_count": 55,
   "metadata": {
    "scrolled": true
   },
   "outputs": [
    {
     "data": {
      "text/plain": [
       "0                          Diesel (Particulate Filter)\n",
       "1                                             Gasoline\n",
       "2                          Diesel (Particulate Filter)\n",
       "3                          Diesel (Particulate Filter)\n",
       "4                          Diesel (Particulate Filter)\n",
       "                             ...                      \n",
       "15914                      Diesel (Particulate Filter)\n",
       "15915    Super 95 / Super Plus 98 (Particulate Filter)\n",
       "15916                                           Diesel\n",
       "15917                                           Diesel\n",
       "15918                                         Super 95\n",
       "Name: Type, Length: 15919, dtype: object"
      ]
     },
     "execution_count": 55,
     "metadata": {},
     "output_type": "execute_result"
    }
   ],
   "source": [
    "df.Type.map(lambda x : x[3], na_action = 'ignore')"
   ]
  },
  {
   "cell_type": "code",
   "execution_count": 56,
   "metadata": {},
   "outputs": [],
   "source": [
    "df['fuel_type'] = df.Type.map(lambda x : x[3], na_action = 'ignore')"
   ]
  },
  {
   "cell_type": "code",
   "execution_count": 57,
   "metadata": {
    "scrolled": true
   },
   "outputs": [
    {
     "data": {
      "text/plain": [
       "Diesel (Particulate Filter)                                                                                  4315\n",
       "Super 95                                                                                                     3338\n",
       "Gasoline                                                                                                     3175\n",
       "Diesel                                                                                                       2982\n",
       "Super 95 / Regular/Benzine 91                                                                                 424\n",
       "                                                                                                             ... \n",
       "Domestic gas H                                                                                                  1\n",
       "Super Plus E10 98                                                                                               1\n",
       "Super E10 95 / Regular/Benzine 91 / Super 95 / Super Plus 98 / Regular/Benzine E10 91 / Super Plus E10 98       1\n",
       "Super 95 / Super Plus 98 / Super Plus E10 98                                                                    1\n",
       "Super 95 / Super Plus 98 / Regular/Benzine E10 91 / Super Plus E10 98 / Super E10 95 / Regular/Benzine 91       1\n",
       "Name: fuel_type, Length: 77, dtype: int64"
      ]
     },
     "execution_count": 57,
     "metadata": {},
     "output_type": "execute_result"
    }
   ],
   "source": [
    "df['fuel_type'].value_counts()"
   ]
  },
  {
   "attachments": {
    "image.png": {
     "image/png": "[encoded data removed]"
    }
   },
   "cell_type": "markdown",
   "metadata": {},
   "source": [
    "![image.png](attachment:image.png)\n",
    "Tüm yakıt türlerini sitedeki bu yakıt türlerine indirgemeye çalıştık."
   ]
  },
  {
   "cell_type": "code",
   "execution_count": 58,
   "metadata": {},
   "outputs": [],
   "source": [
    "df['fuel_type'] = df['fuel_type'].str.replace('Super 95', 'Gasoline')\\\n",
    ".str.replace('Super Plus 98', 'Gasoline')\\\n",
    ".str.replace('Regular/Benzine 91', 'Gasoline')\\\n",
    ".str.replace('(Particulate Filter)','')\\\n",
    ".str.replace('Super E10 95','Gasoline')\\\n",
    ".str.replace('/','')\\\n",
    ".str.replace('RegularBenzine E10 91','Gasoline')\\\n",
    ".str.replace('Super Plus E10 98','Gasoline')\\\n",
    ".str.replace('Liquid petroleum gas', 'LPG')\\\n",
    ".str.replace('Domestic gas H', 'LPG')\\\n",
    ".str.replace('(','')\\\n",
    ".str.strip('() ')"
   ]
  },
  {
   "cell_type": "code",
   "execution_count": 59,
   "metadata": {},
   "outputs": [
    {
     "data": {
      "text/plain": [
       "Gasoline                                                      7669\n",
       "Diesel                                                        7297\n",
       "Gasoline  Gasoline                                             735\n",
       "Gasoline  Gasoline  Gasoline  Gasoline                          78\n",
       "Gasoline  Gasoline  Gasoline  Gasoline  Gasoline  Gasoline      38\n",
       "CNG                                                             36\n",
       "Gasoline  Gasoline  Gasoline                                    23\n",
       "LPG                                                             17\n",
       "LPG LPG                                                         10\n",
       "Others                                                           6\n",
       "ElectricGasoline                                                 4\n",
       "Gasoline  Gasoline  Gasoline  Gasoline  Gasoline                 1\n",
       "Biogas                                                           1\n",
       "Gasoline  Biodiesel                                              1\n",
       "Electric                                                         1\n",
       "Name: fuel_type, dtype: int64"
      ]
     },
     "execution_count": 59,
     "metadata": {},
     "output_type": "execute_result"
    }
   ],
   "source": [
    "df.fuel_type.value_counts() # çift olan değerleri teke indirmek için set yapılabilir"
   ]
  },
  {
   "cell_type": "code",
   "execution_count": 60,
   "metadata": {},
   "outputs": [
    {
     "data": {
      "text/plain": [
       "0          Diesel\n",
       "1        Gasoline\n",
       "2          Diesel\n",
       "3          Diesel\n",
       "4          Diesel\n",
       "           ...   \n",
       "15914      Diesel\n",
       "15915    Gasoline\n",
       "15916      Diesel\n",
       "15917      Diesel\n",
       "15918    Gasoline\n",
       "Name: fuel_type, Length: 15919, dtype: object"
      ]
     },
     "execution_count": 60,
     "metadata": {},
     "output_type": "execute_result"
    }
   ],
   "source": [
    "df.fuel_type.map(lambda x :list(set(x.split()))[0], na_action = 'ignore')"
   ]
  },
  {
   "cell_type": "code",
   "execution_count": 61,
   "metadata": {},
   "outputs": [],
   "source": [
    "df.fuel_type = df.fuel_type.map(lambda x :list(set(x.split()))[0], na_action = 'ignore')"
   ]
  },
  {
   "cell_type": "code",
   "execution_count": 62,
   "metadata": {},
   "outputs": [
    {
     "data": {
      "text/plain": [
       "Gasoline            8545\n",
       "Diesel              7297\n",
       "CNG                   36\n",
       "LPG                   27\n",
       "Others                 6\n",
       "ElectricGasoline       4\n",
       "Biogas                 1\n",
       "Electric               1\n",
       "Name: fuel_type, dtype: int64"
      ]
     },
     "execution_count": 62,
     "metadata": {},
     "output_type": "execute_result"
    }
   ],
   "source": [
    "df.fuel_type.value_counts() "
   ]
  },
  {
   "cell_type": "code",
   "execution_count": 63,
   "metadata": {},
   "outputs": [
    {
     "data": {
      "text/plain": [
       "2"
      ]
     },
     "execution_count": 63,
     "metadata": {},
     "output_type": "execute_result"
    }
   ],
   "source": [
    "df.fuel_type.isnull().sum()"
   ]
  },
  {
   "cell_type": "markdown",
   "metadata": {},
   "source": [
    "# Fuel(drop)"
   ]
  },
  {
   "cell_type": "code",
   "execution_count": 64,
   "metadata": {},
   "outputs": [
    {
     "data": {
      "text/plain": [
       "0                    [\\n, Diesel (Particulate Filter), \\n]\n",
       "1                                       [\\n, Gasoline, \\n]\n",
       "2                    [\\n, Diesel (Particulate Filter), \\n]\n",
       "3                    [\\n, Diesel (Particulate Filter), \\n]\n",
       "4                    [\\n, Diesel (Particulate Filter), \\n]\n",
       "                               ...                        \n",
       "15914                [\\n, Diesel (Particulate Filter), \\n]\n",
       "15915    [\\n, Super 95 / Super Plus 98 (Particulate Fil...\n",
       "15916                                     [\\n, Diesel, \\n]\n",
       "15917                                     [\\n, Diesel, \\n]\n",
       "15918                                   [\\n, Super 95, \\n]\n",
       "Name: Fuel, Length: 15919, dtype: object"
      ]
     },
     "execution_count": 64,
     "metadata": {},
     "output_type": "execute_result"
    }
   ],
   "source": [
    "df.Fuel"
   ]
  },
  {
   "cell_type": "code",
   "execution_count": 65,
   "metadata": {},
   "outputs": [],
   "source": [
    "#yeni oluşturduğum fuel_type ile aynı bilgiyi içerdiği için ve \n",
    "#fuel_type null değer sadece 2 tane olduğu için bu sütunu drop edicez."
   ]
  },
  {
   "cell_type": "markdown",
   "metadata": {},
   "source": [
    "# Other Fuel Types(drop)"
   ]
  },
  {
   "cell_type": "code",
   "execution_count": 66,
   "metadata": {},
   "outputs": [
    {
     "data": {
      "text/plain": [
       "0                 NaN\n",
       "1                 NaN\n",
       "2                 NaN\n",
       "3                 NaN\n",
       "4                 NaN\n",
       "             ...     \n",
       "15914             NaN\n",
       "15915    [[], [], []]\n",
       "15916             NaN\n",
       "15917             NaN\n",
       "15918             NaN\n",
       "Name: Other Fuel Types, Length: 15919, dtype: object"
      ]
     },
     "execution_count": 66,
     "metadata": {},
     "output_type": "execute_result"
    }
   ],
   "source": [
    "df['Other Fuel Types']"
   ]
  },
  {
   "cell_type": "code",
   "execution_count": 67,
   "metadata": {},
   "outputs": [
    {
     "ename": "TypeError",
     "evalue": "unhashable type: 'list'",
     "output_type": "error",
     "traceback": [
      "\u001b[1;31m---------------------------------------------------------------------------\u001b[0m",
      "\u001b[1;31mTypeError\u001b[0m                                 Traceback (most recent call last)",
      "\u001b[1;32mpandas\\_libs\\hashtable_class_helper.pxi\u001b[0m in \u001b[0;36mpandas._libs.hashtable.PyObjectHashTable.map_locations\u001b[1;34m()\u001b[0m\n",
      "\u001b[1;31mTypeError\u001b[0m: unhashable type: 'list'"
     ]
    },
    {
     "name": "stderr",
     "output_type": "stream",
     "text": [
      "Exception ignored in: 'pandas._libs.index.IndexEngine._call_map_locations'\n",
      "Traceback (most recent call last):\n",
      "  File \"pandas\\_libs\\hashtable_class_helper.pxi\", line 4588, in pandas._libs.hashtable.PyObjectHashTable.map_locations\n",
      "TypeError: unhashable type: 'list'\n"
     ]
    },
    {
     "data": {
      "text/plain": [
       "[[], [], []]    880\n",
       "Name: Other Fuel Types, dtype: int64"
      ]
     },
     "execution_count": 67,
     "metadata": {},
     "output_type": "execute_result"
    }
   ],
   "source": [
    "df['Other Fuel Types'].value_counts() #sütunda hiç veri olmadığı için düşülmeli."
   ]
  },
  {
   "cell_type": "markdown",
   "metadata": {},
   "source": [
    "# Next Inspection(drop)"
   ]
  },
  {
   "cell_type": "code",
   "execution_count": 68,
   "metadata": {},
   "outputs": [
    {
     "data": {
      "text/plain": [
       "0         [\\n06/2021\\n, \\n99 g CO2/km (comb)\\n]\n",
       "1                                           NaN\n",
       "2                                           NaN\n",
       "3                                           NaN\n",
       "4                                           NaN\n",
       "                          ...                  \n",
       "15914                                       NaN\n",
       "15915    [\\n01/2022\\n, \\n168 g CO2/km (comb)\\n]\n",
       "15916                                       NaN\n",
       "15917                                       NaN\n",
       "15918                                       NaN\n",
       "Name: Next Inspection, Length: 15919, dtype: object"
      ]
     },
     "execution_count": 68,
     "metadata": {},
     "output_type": "execute_result"
    }
   ],
   "source": [
    "df['Next Inspection'] #listenin 0. indexindeki tarihleri almak gerekiyor."
   ]
  },
  {
   "cell_type": "code",
   "execution_count": 69,
   "metadata": {},
   "outputs": [
    {
     "data": {
      "text/plain": [
       "0        06/2021\n",
       "1            NaN\n",
       "2            NaN\n",
       "3            NaN\n",
       "4            NaN\n",
       "          ...   \n",
       "15914        NaN\n",
       "15915    01/2022\n",
       "15916        NaN\n",
       "15917        NaN\n",
       "15918        NaN\n",
       "Name: Next Inspection, Length: 15919, dtype: object"
      ]
     },
     "execution_count": 69,
     "metadata": {},
     "output_type": "execute_result"
    }
   ],
   "source": [
    "df['Next Inspection'].map(lambda x : x[0].strip('\\n '), na_action = 'ignore') \n",
    "#0. indexteki değerleri alıp sağınki ve solundaki \\n'lardan kurtulduk."
   ]
  },
  {
   "cell_type": "code",
   "execution_count": 70,
   "metadata": {},
   "outputs": [],
   "source": [
    "df['Next Inspection'] = df['Next Inspection'].map(lambda x : x[0].strip('\\n '), na_action = 'ignore')"
   ]
  },
  {
   "cell_type": "code",
   "execution_count": 71,
   "metadata": {},
   "outputs": [
    {
     "data": {
      "text/plain": [
       "0       2021-06-01\n",
       "1              NaT\n",
       "2              NaT\n",
       "3              NaT\n",
       "4              NaT\n",
       "           ...    \n",
       "15914          NaT\n",
       "15915   2022-01-01\n",
       "15916          NaT\n",
       "15917          NaT\n",
       "15918          NaT\n",
       "Name: Next Inspection, Length: 15919, dtype: datetime64[ns]"
      ]
     },
     "execution_count": 71,
     "metadata": {},
     "output_type": "execute_result"
    }
   ],
   "source": [
    "pd.to_datetime(df['Next Inspection']) \n",
    "#object idi datetime a çevrildi."
   ]
  },
  {
   "cell_type": "code",
   "execution_count": 72,
   "metadata": {},
   "outputs": [],
   "source": [
    "df['Next Inspection']= pd.to_datetime(df['Next Inspection'])"
   ]
  },
  {
   "cell_type": "code",
   "execution_count": 73,
   "metadata": {},
   "outputs": [
    {
     "data": {
      "text/plain": [
       "13094"
      ]
     },
     "execution_count": 73,
     "metadata": {},
     "output_type": "execute_result"
    }
   ],
   "source": [
    "df['Next Inspection'].isnull().sum()"
   ]
  },
  {
   "cell_type": "markdown",
   "metadata": {},
   "source": [
    "# Inspection new"
   ]
  },
  {
   "cell_type": "code",
   "execution_count": 74,
   "metadata": {},
   "outputs": [
    {
     "data": {
      "text/plain": [
       "0                     [\\nYes\\n, \\nEuro 6\\n]\n",
       "1                                       NaN\n",
       "2                                       NaN\n",
       "3                                       NaN\n",
       "4        [\\nYes\\n, \\n109 g CO2/km (comb)\\n]\n",
       "                        ...                \n",
       "15914                                   NaN\n",
       "15915                                   NaN\n",
       "15916           [\\nYes\\n, \\nEuro 6d-TEMP\\n]\n",
       "15917                                   NaN\n",
       "15918    [\\nYes\\n, \\n153 g CO2/km (comb)\\n]\n",
       "Name: Inspection new, Length: 15919, dtype: object"
      ]
     },
     "execution_count": 74,
     "metadata": {},
     "output_type": "execute_result"
    }
   ],
   "source": [
    "df['Inspection new'] #0. indexteki Yes değerlerini alıcaz"
   ]
  },
  {
   "cell_type": "code",
   "execution_count": 75,
   "metadata": {},
   "outputs": [
    {
     "data": {
      "text/plain": [
       "0        Yes\n",
       "1        NaN\n",
       "2        NaN\n",
       "3        NaN\n",
       "4        Yes\n",
       "        ... \n",
       "15914    NaN\n",
       "15915    NaN\n",
       "15916    Yes\n",
       "15917    NaN\n",
       "15918    Yes\n",
       "Name: Inspection new, Length: 15919, dtype: object"
      ]
     },
     "execution_count": 75,
     "metadata": {},
     "output_type": "execute_result"
    }
   ],
   "source": [
    "df['Inspection new'].map(lambda x : x[0].strip('\\n '), na_action = 'ignore') #Yes değerlerini aldık."
   ]
  },
  {
   "cell_type": "code",
   "execution_count": 76,
   "metadata": {},
   "outputs": [],
   "source": [
    "df['Inspection new'] = df['Inspection new'].map(lambda x : x[0].strip('\\n '), na_action = 'ignore')"
   ]
  },
  {
   "cell_type": "code",
   "execution_count": 77,
   "metadata": {
    "scrolled": true
   },
   "outputs": [
    {
     "data": {
      "text/plain": [
       "0         True\n",
       "1        False\n",
       "2        False\n",
       "3        False\n",
       "4         True\n",
       "         ...  \n",
       "15914    False\n",
       "15915    False\n",
       "15916     True\n",
       "15917    False\n",
       "15918     True\n",
       "Name: Inspection new, Length: 15919, dtype: bool"
      ]
     },
     "execution_count": 77,
     "metadata": {},
     "output_type": "execute_result"
    }
   ],
   "source": [
    "df['Inspection new'].map(lambda x :False if type(x) == float  else True) \n",
    "#Yes olanlara True Nan değerlere False atadık"
   ]
  },
  {
   "cell_type": "code",
   "execution_count": 78,
   "metadata": {},
   "outputs": [],
   "source": [
    "df['Inspection new'] = df['Inspection new'].map(lambda x :False if type(x) == float  else True) "
   ]
  },
  {
   "cell_type": "code",
   "execution_count": 79,
   "metadata": {},
   "outputs": [
    {
     "data": {
      "text/plain": [
       "(3118, 57)"
      ]
     },
     "execution_count": 79,
     "metadata": {},
     "output_type": "execute_result"
    }
   ],
   "source": [
    "df[(df['Inspection new'] == True) & (df['Next Inspection'].isnull())].shape\n",
    "#Inspection new sütunundaki örtüşen 3118 tane değeri yakın tarih ile doldursak bile geriye 10000 tane null değer kalıyor.\n",
    "#df['Inspection new'] sütunu da tarihini vermese de inspectionun new olup olmadığını verdiği için Next Inspection stununu düşürürüz."
   ]
  },
  {
   "cell_type": "markdown",
   "metadata": {},
   "source": [
    "# Warranty"
   ]
  },
  {
   "cell_type": "code",
   "execution_count": 80,
   "metadata": {},
   "outputs": [
    {
     "data": {
      "text/plain": [
       "10786                                         NaN\n",
       "1927     [\\n24 months\\n, \\n108 g CO2/km (comb)\\n]\n",
       "1084                         [\\n, \\n, \\nEuro 6\\n]\n",
       "1556                         [\\n, \\n, \\nEuro 6\\n]\n",
       "1754                         [\\n, \\n, \\nEuro 6\\n]\n",
       "Name: Warranty, dtype: object"
      ]
     },
     "execution_count": 80,
     "metadata": {},
     "output_type": "execute_result"
    }
   ],
   "source": [
    "df.Warranty.sample(5) #0.indexteki garanti sürelerini çekicem"
   ]
  },
  {
   "cell_type": "code",
   "execution_count": 81,
   "metadata": {},
   "outputs": [
    {
     "data": {
      "text/plain": [
       "0           \n",
       "1        NaN\n",
       "2           \n",
       "3        NaN\n",
       "4           \n",
       "        ... \n",
       "15914       \n",
       "15915       \n",
       "15916       \n",
       "15917       \n",
       "15918    NaN\n",
       "Name: Warranty, Length: 15919, dtype: object"
      ]
     },
     "execution_count": 81,
     "metadata": {},
     "output_type": "execute_result"
    }
   ],
   "source": [
    "df.Warranty.map(lambda x : x[0].strip('\\nmonths '), na_action = 'ignore')\n"
   ]
  },
  {
   "cell_type": "code",
   "execution_count": 82,
   "metadata": {},
   "outputs": [],
   "source": [
    "df.Warranty = df.Warranty.map(lambda x : x[0].strip('\\nmonths '), na_action = 'ignore')\n"
   ]
  },
  {
   "cell_type": "code",
   "execution_count": 83,
   "metadata": {},
   "outputs": [
    {
     "data": {
      "text/plain": [
       "1058      NaN\n",
       "2498      NaN\n",
       "6038     12.0\n",
       "1626      NaN\n",
       "2222      NaN\n",
       "9707      NaN\n",
       "10590     NaN\n",
       "9174      NaN\n",
       "2564      NaN\n",
       "12690     NaN\n",
       "Name: Warranty, dtype: float64"
      ]
     },
     "execution_count": 83,
     "metadata": {},
     "output_type": "execute_result"
    }
   ],
   "source": [
    "df.Warranty.replace('', np.nan).astype(float).sample(10)"
   ]
  },
  {
   "cell_type": "code",
   "execution_count": 84,
   "metadata": {},
   "outputs": [
    {
     "data": {
      "text/plain": [
       "0        0.0\n",
       "1        0.0\n",
       "2        0.0\n",
       "3        0.0\n",
       "4        0.0\n",
       "        ... \n",
       "15914    0.0\n",
       "15915    0.0\n",
       "15916    0.0\n",
       "15917    0.0\n",
       "15918    0.0\n",
       "Name: Warranty, Length: 15919, dtype: float64"
      ]
     },
     "execution_count": 84,
     "metadata": {},
     "output_type": "execute_result"
    }
   ],
   "source": [
    "df.Warranty.replace('', np.nan).astype(float).replace(np.nan, 0)"
   ]
  },
  {
   "cell_type": "code",
   "execution_count": 85,
   "metadata": {
    "scrolled": true
   },
   "outputs": [],
   "source": [
    "df.Warranty = df.Warranty.replace('', np.nan).astype(float).replace(np.nan, 0)\n",
    "#null değerleri 0 ile doldurdum. "
   ]
  },
  {
   "cell_type": "code",
   "execution_count": 86,
   "metadata": {},
   "outputs": [
    {
     "data": {
      "text/plain": [
       "0"
      ]
     },
     "execution_count": 86,
     "metadata": {},
     "output_type": "execute_result"
    }
   ],
   "source": [
    "df.Warranty.isnull().sum() "
   ]
  },
  {
   "cell_type": "markdown",
   "metadata": {},
   "source": [
    "# Full Service(drop)"
   ]
  },
  {
   "cell_type": "code",
   "execution_count": 88,
   "metadata": {},
   "outputs": [
    {
     "data": {
      "text/plain": [
       "1824                      NaN\n",
       "11928                     NaN\n",
       "9998                 [\\n, \\n]\n",
       "4678                      NaN\n",
       "514                  [\\n, \\n]\n",
       "3692     [\\n, \\n, \\nEuro 6\\n]\n",
       "6996                      NaN\n",
       "5516     [\\n, \\n, \\nEuro 6\\n]\n",
       "46                        NaN\n",
       "13248                     NaN\n",
       "Name: Full Service, dtype: object"
      ]
     },
     "execution_count": 88,
     "metadata": {},
     "output_type": "execute_result"
    }
   ],
   "source": [
    "df['Full Service'].sample(10)\n",
    "#Bu sütun diğer bazı sütunların karışık değerler içeriyor. Anlamlı bir sütun oluştumak zor. Drop edilmeli"
   ]
  },
  {
   "cell_type": "code",
   "execution_count": 6,
   "metadata": {},
   "outputs": [
    {
     "data": {
      "text/plain": [
       "0                          \n",
       "1                       NaN\n",
       "2                       NaN\n",
       "3        99 g CO2/km (comb)\n",
       "4                 4 (Green)\n",
       "                ...        \n",
       "15914                   NaN\n",
       "15915                   NaN\n",
       "15916                      \n",
       "15917                   NaN\n",
       "15918                   NaN\n",
       "Name: Full Service, Length: 15919, dtype: object"
      ]
     },
     "execution_count": 6,
     "metadata": {},
     "output_type": "execute_result"
    }
   ],
   "source": [
    "df['Emission Class'].map(lambda x : x[-1].strip('\\n'), na_action = 'ignore')"
   ]
  },
  {
   "cell_type": "code",
   "execution_count": null,
   "metadata": {},
   "outputs": [],
   "source": [
    "df[sütun].str.contains('Euro')"
   ]
  },
  {
   "cell_type": "markdown",
   "metadata": {},
   "source": [
    "# Non-smoking Vehicle(drop)"
   ]
  },
  {
   "cell_type": "code",
   "execution_count": 89,
   "metadata": {},
   "outputs": [
    {
     "data": {
      "text/plain": [
       "11779                                 NaN\n",
       "4128                             [\\n, \\n]\n",
       "6671                 [\\n, \\n, \\nEuro 6\\n]\n",
       "11428                                 NaN\n",
       "13993                                 NaN\n",
       "14895                                 NaN\n",
       "9132                             [\\n, \\n]\n",
       "13904                                 NaN\n",
       "3736                                  NaN\n",
       "3968     [\\n, \\n, \\n99 g CO2/km (comb)\\n]\n",
       "Name: Non-smoking Vehicle, dtype: object"
      ]
     },
     "execution_count": 89,
     "metadata": {},
     "output_type": "execute_result"
    }
   ],
   "source": [
    "df['Non-smoking Vehicle'].sample(10)\n",
    "#Anlamlı bir sütun çıkarması zor olan bir sütun. Düşürülmeli"
   ]
  },
  {
   "cell_type": "markdown",
   "metadata": {},
   "source": [
    "# null(drop)"
   ]
  },
  {
   "cell_type": "code",
   "execution_count": 90,
   "metadata": {},
   "outputs": [
    {
     "ename": "TypeError",
     "evalue": "unhashable type: 'list'",
     "output_type": "error",
     "traceback": [
      "\u001b[1;31m---------------------------------------------------------------------------\u001b[0m",
      "\u001b[1;31mTypeError\u001b[0m                                 Traceback (most recent call last)",
      "\u001b[1;32mpandas\\_libs\\hashtable_class_helper.pxi\u001b[0m in \u001b[0;36mpandas._libs.hashtable.PyObjectHashTable.map_locations\u001b[1;34m()\u001b[0m\n",
      "\u001b[1;31mTypeError\u001b[0m: unhashable type: 'list'"
     ]
    },
    {
     "name": "stderr",
     "output_type": "stream",
     "text": [
      "Exception ignored in: 'pandas._libs.index.IndexEngine._call_map_locations'\n",
      "Traceback (most recent call last):\n",
      "  File \"pandas\\_libs\\hashtable_class_helper.pxi\", line 4588, in pandas._libs.hashtable.PyObjectHashTable.map_locations\n",
      "TypeError: unhashable type: 'list'\n"
     ]
    },
    {
     "data": {
      "text/plain": [
       "[]    15919\n",
       "Name: null, dtype: int64"
      ]
     },
     "execution_count": 90,
     "metadata": {},
     "output_type": "execute_result"
    }
   ],
   "source": [
    "df.null.value_counts() #Tüm değerleri boş liste. Düşürülmeli"
   ]
  },
  {
   "cell_type": "markdown",
   "metadata": {},
   "source": [
    "# Make(drop)"
   ]
  },
  {
   "cell_type": "code",
   "execution_count": 91,
   "metadata": {},
   "outputs": [
    {
     "data": {
      "text/plain": [
       "0           \\nAudi\\n\n",
       "1           \\nAudi\\n\n",
       "2           \\nAudi\\n\n",
       "3           \\nAudi\\n\n",
       "4           \\nAudi\\n\n",
       "            ...     \n",
       "15914    \\nRenault\\n\n",
       "15915    \\nRenault\\n\n",
       "15916    \\nRenault\\n\n",
       "15917    \\nRenault\\n\n",
       "15918    \\nRenault\\n\n",
       "Name: Make, Length: 15919, dtype: object"
      ]
     },
     "execution_count": 91,
     "metadata": {},
     "output_type": "execute_result"
    }
   ],
   "source": [
    "df.Make #make_model stününda bu veri olduğu için drop ediyoruz."
   ]
  },
  {
   "cell_type": "code",
   "execution_count": 92,
   "metadata": {},
   "outputs": [
    {
     "data": {
      "text/plain": [
       "Audi A3           3097\n",
       "Audi A1           2614\n",
       "Opel Insignia     2598\n",
       "Opel Astra        2526\n",
       "Opel Corsa        2219\n",
       "Renault Clio      1839\n",
       "Renault Espace     991\n",
       "Renault Duster      34\n",
       "Audi A2              1\n",
       "Name: make_model, dtype: int64"
      ]
     },
     "execution_count": 92,
     "metadata": {},
     "output_type": "execute_result"
    }
   ],
   "source": [
    "df.make_model.value_counts()"
   ]
  },
  {
   "cell_type": "code",
   "execution_count": 93,
   "metadata": {
    "scrolled": false
   },
   "outputs": [
    {
     "data": {
      "text/plain": [
       "\\nOpel\\n       7343\n",
       "\\nAudi\\n       5712\n",
       "\\nRenault\\n    2864\n",
       "Name: Make, dtype: int64"
      ]
     },
     "execution_count": 93,
     "metadata": {},
     "output_type": "execute_result"
    }
   ],
   "source": [
    "df.Make.value_counts() # make_model ve Make sütunları karşılaştırıldığında değerler aynı, örtüşüyor."
   ]
  },
  {
   "cell_type": "markdown",
   "metadata": {},
   "source": [
    "# Model(drop)"
   ]
  },
  {
   "cell_type": "code",
   "execution_count": 94,
   "metadata": {},
   "outputs": [
    {
     "data": {
      "text/plain": [
       "0            [\\n, A1, \\n]\n",
       "1            [\\n, A1, \\n]\n",
       "2            [\\n, A1, \\n]\n",
       "3            [\\n, A1, \\n]\n",
       "4            [\\n, A1, \\n]\n",
       "               ...       \n",
       "15914    [\\n, Espace, \\n]\n",
       "15915    [\\n, Espace, \\n]\n",
       "15916    [\\n, Espace, \\n]\n",
       "15917    [\\n, Espace, \\n]\n",
       "15918    [\\n, Espace, \\n]\n",
       "Name: Model, Length: 15919, dtype: object"
      ]
     },
     "execution_count": 94,
     "metadata": {},
     "output_type": "execute_result"
    }
   ],
   "source": [
    "df.Model"
   ]
  },
  {
   "cell_type": "code",
   "execution_count": 95,
   "metadata": {},
   "outputs": [
    {
     "data": {
      "text/plain": [
       "Audi A3           3097\n",
       "Audi A1           2614\n",
       "Opel Insignia     2598\n",
       "Opel Astra        2526\n",
       "Opel Corsa        2219\n",
       "Renault Clio      1839\n",
       "Renault Espace     991\n",
       "Renault Duster      34\n",
       "Audi A2              1\n",
       "Name: make_model, dtype: int64"
      ]
     },
     "execution_count": 95,
     "metadata": {},
     "output_type": "execute_result"
    }
   ],
   "source": [
    "df.make_model.value_counts()"
   ]
  },
  {
   "cell_type": "code",
   "execution_count": 96,
   "metadata": {},
   "outputs": [
    {
     "ename": "TypeError",
     "evalue": "unhashable type: 'list'",
     "output_type": "error",
     "traceback": [
      "\u001b[1;31m---------------------------------------------------------------------------\u001b[0m",
      "\u001b[1;31mTypeError\u001b[0m                                 Traceback (most recent call last)",
      "\u001b[1;32mpandas\\_libs\\hashtable_class_helper.pxi\u001b[0m in \u001b[0;36mpandas._libs.hashtable.PyObjectHashTable.map_locations\u001b[1;34m()\u001b[0m\n",
      "\u001b[1;31mTypeError\u001b[0m: unhashable type: 'list'"
     ]
    },
    {
     "name": "stderr",
     "output_type": "stream",
     "text": [
      "Exception ignored in: 'pandas._libs.index.IndexEngine._call_map_locations'\n",
      "Traceback (most recent call last):\n",
      "  File \"pandas\\_libs\\hashtable_class_helper.pxi\", line 4588, in pandas._libs.hashtable.PyObjectHashTable.map_locations\n",
      "TypeError: unhashable type: 'list'\n"
     ]
    },
    {
     "data": {
      "text/plain": [
       "[\\n, A3, \\n]          3097\n",
       "[\\n, A1, \\n]          2614\n",
       "[\\n, Insignia, \\n]    2598\n",
       "[\\n, Astra, \\n]       2526\n",
       "[\\n, Corsa, \\n]       2219\n",
       "[\\n, Clio, \\n]        1839\n",
       "[\\n, Espace, \\n]       991\n",
       "[\\n, Duster, \\n]        34\n",
       "[\\n, A2, \\n]             1\n",
       "Name: Model, dtype: int64"
      ]
     },
     "execution_count": 96,
     "metadata": {},
     "output_type": "execute_result"
    }
   ],
   "source": [
    "df.Model.value_counts() \n",
    "#Model ve make_model sütunlarındaki değerler aynı. O sebeple model sütununu düşüreceğiz."
   ]
  },
  {
   "cell_type": "markdown",
   "metadata": {},
   "source": [
    "# Offer Number(drop)"
   ]
  },
  {
   "cell_type": "code",
   "execution_count": 97,
   "metadata": {},
   "outputs": [
    {
     "data": {
      "text/plain": [
       "0             [\\nLR-062483\\n]\n",
       "1                         NaN\n",
       "2              [\\nAM-95365\\n]\n",
       "3                         NaN\n",
       "4                 [\\nC1626\\n]\n",
       "                 ...         \n",
       "15914          [\\n10988301\\n]\n",
       "15915       [\\n507370_3223\\n]\n",
       "15916          [\\nEspace16\\n]\n",
       "15917           [\\n2691331\\n]\n",
       "15918    [\\nRe_30000008029\\n]\n",
       "Name: Offer Number, Length: 15919, dtype: object"
      ]
     },
     "execution_count": 97,
     "metadata": {},
     "output_type": "execute_result"
    }
   ],
   "source": [
    "df['Offer Number']\n",
    "#ilan numarası olduğu için bu sütunu düşürüyoruz."
   ]
  },
  {
   "cell_type": "markdown",
   "metadata": {},
   "source": [
    "# Body Color"
   ]
  },
  {
   "cell_type": "code",
   "execution_count": 98,
   "metadata": {},
   "outputs": [
    {
     "data": {
      "text/plain": [
       "0        [\\n, Black, \\n]\n",
       "1          [\\n, Red, \\n]\n",
       "2        [\\n, Black, \\n]\n",
       "3        [\\n, Brown, \\n]\n",
       "4        [\\n, Black, \\n]\n",
       "              ...       \n",
       "15914     [\\n, Grey, \\n]\n",
       "15915     [\\n, Grey, \\n]\n",
       "15916    [\\n, White, \\n]\n",
       "15917     [\\n, Grey, \\n]\n",
       "15918     [\\n, Grey, \\n]\n",
       "Name: Body Color, Length: 15919, dtype: object"
      ]
     },
     "execution_count": 98,
     "metadata": {},
     "output_type": "execute_result"
    }
   ],
   "source": [
    "df['Body Color'] #listelerin 1.indextteki değerlerini çekicem."
   ]
  },
  {
   "cell_type": "code",
   "execution_count": 99,
   "metadata": {},
   "outputs": [
    {
     "data": {
      "text/plain": [
       "0        Black\n",
       "1          Red\n",
       "2        Black\n",
       "3        Brown\n",
       "4        Black\n",
       "         ...  \n",
       "15914     Grey\n",
       "15915     Grey\n",
       "15916    White\n",
       "15917     Grey\n",
       "15918     Grey\n",
       "Name: Body Color, Length: 15919, dtype: object"
      ]
     },
     "execution_count": 99,
     "metadata": {},
     "output_type": "execute_result"
    }
   ],
   "source": [
    "df['Body Color'].map(lambda x : x[1], na_action = 'ignore')"
   ]
  },
  {
   "cell_type": "code",
   "execution_count": 100,
   "metadata": {},
   "outputs": [],
   "source": [
    "df['Body Color'] = df['Body Color'].map(lambda x : x[1], na_action = 'ignore')"
   ]
  },
  {
   "cell_type": "code",
   "execution_count": 101,
   "metadata": {},
   "outputs": [
    {
     "data": {
      "text/plain": [
       "597"
      ]
     },
     "execution_count": 101,
     "metadata": {},
     "output_type": "execute_result"
    }
   ],
   "source": [
    "df['Body Color'].isnull().sum()"
   ]
  },
  {
   "cell_type": "markdown",
   "metadata": {},
   "source": [
    "# Paint Type(drop)\n",
    "*Çünkü is_metalik sütunu olşturduk bu sütundan*"
   ]
  },
  {
   "cell_type": "code",
   "execution_count": 102,
   "metadata": {},
   "outputs": [
    {
     "ename": "TypeError",
     "evalue": "unhashable type: 'list'",
     "output_type": "error",
     "traceback": [
      "\u001b[1;31m---------------------------------------------------------------------------\u001b[0m",
      "\u001b[1;31mTypeError\u001b[0m                                 Traceback (most recent call last)",
      "\u001b[1;32mpandas\\_libs\\hashtable_class_helper.pxi\u001b[0m in \u001b[0;36mpandas._libs.hashtable.PyObjectHashTable.map_locations\u001b[1;34m()\u001b[0m\n",
      "\u001b[1;31mTypeError\u001b[0m: unhashable type: 'list'"
     ]
    },
    {
     "name": "stderr",
     "output_type": "stream",
     "text": [
      "Exception ignored in: 'pandas._libs.index.IndexEngine._call_map_locations'\n",
      "Traceback (most recent call last):\n",
      "  File \"pandas\\_libs\\hashtable_class_helper.pxi\", line 4588, in pandas._libs.hashtable.PyObjectHashTable.map_locations\n",
      "TypeError: unhashable type: 'list'\n"
     ]
    },
    {
     "data": {
      "text/plain": [
       "[\\nMetallic\\n]       9794\n",
       "[\\nUni/basic\\n]       347\n",
       "[\\nPerl effect\\n]       6\n",
       "Name: Paint Type, dtype: int64"
      ]
     },
     "execution_count": 102,
     "metadata": {},
     "output_type": "execute_result"
    }
   ],
   "source": [
    "df['Paint Type'].value_counts()"
   ]
  },
  {
   "attachments": {
    "image.png": {
     "image/png": "[encoded data removed]"
    }
   },
   "cell_type": "markdown",
   "metadata": {},
   "source": [
    "![image.png](attachment:image.png) \n",
    "Arabaları metalik veya değil diye gruplandıracağız"
   ]
  },
  {
   "cell_type": "code",
   "execution_count": 103,
   "metadata": {},
   "outputs": [
    {
     "data": {
      "text/plain": [
       "0        Metallic\n",
       "1             NaN\n",
       "2        Metallic\n",
       "3        Metallic\n",
       "4        Metallic\n",
       "           ...   \n",
       "15914    Metallic\n",
       "15915    Metallic\n",
       "15916         NaN\n",
       "15917         NaN\n",
       "15918    Metallic\n",
       "Name: Paint Type, Length: 15919, dtype: object"
      ]
     },
     "execution_count": 103,
     "metadata": {},
     "output_type": "execute_result"
    }
   ],
   "source": [
    "df['Paint Type'].map(lambda x : x[0].strip('\\n '), na_action = 'ignore')  #listenin içindeki stringleri çektim\n",
    "#Uni/basic ve perl effect in sayılarının az olmasından dolayı sütunu metalik olanlara True \n",
    "#metalik olmayanlara False olacak şeilde oluşturmaya karar verdik"
   ]
  },
  {
   "cell_type": "code",
   "execution_count": 104,
   "metadata": {},
   "outputs": [],
   "source": [
    "df['Paint Type'] = df['Paint Type'].map(lambda x : x[0].strip('\\n '), na_action = 'ignore')"
   ]
  },
  {
   "cell_type": "code",
   "execution_count": 105,
   "metadata": {},
   "outputs": [
    {
     "data": {
      "text/plain": [
       "0         True\n",
       "1        False\n",
       "2         True\n",
       "3         True\n",
       "4         True\n",
       "         ...  \n",
       "15914     True\n",
       "15915     True\n",
       "15916    False\n",
       "15917    False\n",
       "15918     True\n",
       "Name: Paint Type, Length: 15919, dtype: bool"
      ]
     },
     "execution_count": 105,
     "metadata": {},
     "output_type": "execute_result"
    }
   ],
   "source": [
    "df['Paint Type'].map(lambda x :  True if x == 'Metallic' else False)"
   ]
  },
  {
   "cell_type": "code",
   "execution_count": 106,
   "metadata": {},
   "outputs": [],
   "source": [
    "df['is_metalic'] = df['Paint Type'].map(lambda x :  True if x == 'Metallic' else False)"
   ]
  },
  {
   "cell_type": "code",
   "execution_count": 107,
   "metadata": {},
   "outputs": [
    {
     "data": {
      "text/plain": [
       "True     9794\n",
       "False    6125\n",
       "Name: is_metalic, dtype: int64"
      ]
     },
     "execution_count": 107,
     "metadata": {},
     "output_type": "execute_result"
    }
   ],
   "source": [
    "df.is_metalic.value_counts()"
   ]
  },
  {
   "cell_type": "markdown",
   "metadata": {},
   "source": [
    "# Body Color Original(drop)"
   ]
  },
  {
   "cell_type": "code",
   "execution_count": 108,
   "metadata": {},
   "outputs": [
    {
     "data": {
      "text/plain": [
       "0                 [\\nMythosschwarz\\n]\n",
       "1                                 NaN\n",
       "2        [\\nmythosschwarz metallic\\n]\n",
       "3                                 NaN\n",
       "4        [\\nMythosschwarz Metallic\\n]\n",
       "                     ...             \n",
       "15914              [\\nGrigio scuro\\n]\n",
       "15915       [\\nStahl-Grau Metallic\\n]\n",
       "15916               [\\narktis-weiß\\n]\n",
       "15917                    [\\nGrigio\\n]\n",
       "15918    [\\nTitanium-Grau Metallic\\n]\n",
       "Name: Body Color Original, Length: 15919, dtype: object"
      ]
     },
     "execution_count": 108,
     "metadata": {},
     "output_type": "execute_result"
    }
   ],
   "source": [
    "df['Body Color Original']\n",
    "#body_color ve paint type sütunlarının karışık hali olduğu için aynı zamanda almanca olduğu için bu sütunu düşüyoruz"
   ]
  },
  {
   "cell_type": "markdown",
   "metadata": {},
   "source": [
    "# Upholstery(drop)\n",
    "**Çünkü bu sütundan Upholstery_color ve Upholstery_type olarak iki columns oluşturduk**"
   ]
  },
  {
   "attachments": {
    "image.png": {
     "image/png": "[encoded data removed]"
    }
   },
   "cell_type": "markdown",
   "metadata": {},
   "source": [
    "![image.png](attachment:image.png)"
   ]
  },
  {
   "cell_type": "code",
   "execution_count": 109,
   "metadata": {
    "scrolled": false
   },
   "outputs": [
    {
     "data": {
      "text/plain": [
       "0               [\\nCloth, Black\\n]\n",
       "1                [\\nCloth, Grey\\n]\n",
       "2               [\\nCloth, Black\\n]\n",
       "3                              NaN\n",
       "4               [\\nCloth, Black\\n]\n",
       "                   ...            \n",
       "15914                          NaN\n",
       "15915                  [\\nCloth\\n]\n",
       "15916    [\\nFull leather, Black\\n]\n",
       "15917           [\\nPart leather\\n]\n",
       "15918    [\\nFull leather, Brown\\n]\n",
       "Name: Upholstery, Length: 15919, dtype: object"
      ]
     },
     "execution_count": 109,
     "metadata": {},
     "output_type": "execute_result"
    }
   ],
   "source": [
    "df.Upholstery\n",
    "#bu sütunda upholstery nin rengi ve tipi var. Yani 2 tane sütun oluşturucaz"
   ]
  },
  {
   "cell_type": "markdown",
   "metadata": {},
   "source": [
    "### Upholsery_type"
   ]
  },
  {
   "cell_type": "code",
   "execution_count": 110,
   "metadata": {
    "scrolled": true
   },
   "outputs": [
    {
     "data": {
      "text/plain": [
       "Cloth           8423\n",
       "Part leather    1499\n",
       "Full leather    1009\n",
       "Black            491\n",
       "Other            368\n",
       "Grey             273\n",
       "Velour            60\n",
       "alcantara         57\n",
       "Brown             12\n",
       "Beige              3\n",
       "White              2\n",
       "Blue               2\n",
       "Name: Upholstery, dtype: int64"
      ]
     },
     "execution_count": 110,
     "metadata": {},
     "output_type": "execute_result"
    }
   ],
   "source": [
    "df['Upholstery'].map(lambda x:x[0].strip('\\n').split(',')[0], na_action = 'ignore').value_counts()\n",
    "#Ilk üç seçenek haricindeki diğer seçeneklerden bazıları renk ile ilgili olduğu bazılarının da (velour ve alcantra) sayıları çok az olduğu için\n",
    "#ilk üçü alıp diğerlerine de othera ekledik"
   ]
  },
  {
   "cell_type": "code",
   "execution_count": 111,
   "metadata": {},
   "outputs": [
    {
     "data": {
      "text/plain": [
       "0               Cloth\n",
       "1               Cloth\n",
       "2               Cloth\n",
       "3                 NaN\n",
       "4               Cloth\n",
       "             ...     \n",
       "15914             NaN\n",
       "15915           Cloth\n",
       "15916    Full leather\n",
       "15917    Part leather\n",
       "15918    Full leather\n",
       "Name: Upholstery, Length: 15919, dtype: object"
      ]
     },
     "execution_count": 111,
     "metadata": {},
     "output_type": "execute_result"
    }
   ],
   "source": [
    "df['Upholstery'].map(lambda x:x[0].strip('\\n').split(',')[0]\\\n",
    "                                        if x[0].strip('\\n').split(',')[0] == \"Cloth\" or\\\n",
    "                                         x[0].strip('\\n').split(',')[0] == \"Part leather\" or\\\n",
    "                                         x[0].strip('\\n').split(',')[0] == \"Full leather\" else np.nan, na_action = 'ignore')\n",
    "#cloth,full leather ve part leather olanları aldık diğerlerini nan yaptık. "
   ]
  },
  {
   "cell_type": "code",
   "execution_count": 112,
   "metadata": {},
   "outputs": [],
   "source": [
    "df['Upholstery_type'] = df['Upholstery'].map(lambda x:x[0].strip('\\n').split(',')[0]\\\n",
    "                                        if x[0].strip('\\n').split(',')[0] == \"Cloth\" or\\\n",
    "                                         x[0].strip('\\n').split(',')[0] == \"Part leather\" or\\\n",
    "                                         x[0].strip('\\n').split(',')[0] == \"Full leather\" else np.nan, na_action = 'ignore')"
   ]
  },
  {
   "cell_type": "code",
   "execution_count": 113,
   "metadata": {},
   "outputs": [
    {
     "data": {
      "text/plain": [
       "0               Cloth\n",
       "1               Cloth\n",
       "2               Cloth\n",
       "3               Other\n",
       "4               Cloth\n",
       "             ...     \n",
       "15914           Other\n",
       "15915           Cloth\n",
       "15916    Full leather\n",
       "15917    Part leather\n",
       "15918    Full leather\n",
       "Name: Upholstery_type, Length: 15919, dtype: object"
      ]
     },
     "execution_count": 113,
     "metadata": {},
     "output_type": "execute_result"
    }
   ],
   "source": [
    "df['Upholstery_type'].replace(np.nan, 'Other') # Tüm nanları othera çevirdim."
   ]
  },
  {
   "cell_type": "code",
   "execution_count": 114,
   "metadata": {},
   "outputs": [],
   "source": [
    "df['Upholstery_type'] = df['Upholstery_type'].replace(np.nan, 'Other')"
   ]
  },
  {
   "cell_type": "code",
   "execution_count": 115,
   "metadata": {},
   "outputs": [
    {
     "data": {
      "text/plain": [
       "Cloth           8423\n",
       "Other           4988\n",
       "Part leather    1499\n",
       "Full leather    1009\n",
       "Name: Upholstery_type, dtype: int64"
      ]
     },
     "execution_count": 115,
     "metadata": {},
     "output_type": "execute_result"
    }
   ],
   "source": [
    "df['Upholstery_type'].value_counts()"
   ]
  },
  {
   "cell_type": "markdown",
   "metadata": {},
   "source": [
    "### Upholstery_color"
   ]
  },
  {
   "cell_type": "code",
   "execution_count": 116,
   "metadata": {},
   "outputs": [
    {
     "data": {
      "text/plain": [
       "0               [\\nCloth, Black\\n]\n",
       "1                [\\nCloth, Grey\\n]\n",
       "2               [\\nCloth, Black\\n]\n",
       "3                              NaN\n",
       "4               [\\nCloth, Black\\n]\n",
       "                   ...            \n",
       "15914                          NaN\n",
       "15915                  [\\nCloth\\n]\n",
       "15916    [\\nFull leather, Black\\n]\n",
       "15917           [\\nPart leather\\n]\n",
       "15918    [\\nFull leather, Brown\\n]\n",
       "Name: Upholstery, Length: 15919, dtype: object"
      ]
     },
     "execution_count": 116,
     "metadata": {},
     "output_type": "execute_result"
    }
   ],
   "source": [
    "df.Upholstery"
   ]
  },
  {
   "cell_type": "code",
   "execution_count": 117,
   "metadata": {},
   "outputs": [
    {
     "data": {
      "text/plain": [
       "0               Black\n",
       "1                Grey\n",
       "2               Black\n",
       "3                 NaN\n",
       "4               Black\n",
       "             ...     \n",
       "15914             NaN\n",
       "15915           Cloth\n",
       "15916           Black\n",
       "15917    Part leather\n",
       "15918           Brown\n",
       "Name: Upholstery, Length: 15919, dtype: object"
      ]
     },
     "execution_count": 117,
     "metadata": {},
     "output_type": "execute_result"
    }
   ],
   "source": [
    "df.Upholstery.map(lambda x : x[0].split(',')[1].strip('\\n ') if len(x[0].split(',')) ==2\\\n",
    "                  else x[0].strip('\\n '), na_action = 'ignore')"
   ]
  },
  {
   "cell_type": "code",
   "execution_count": 118,
   "metadata": {},
   "outputs": [
    {
     "data": {
      "text/plain": [
       "Black           8201\n",
       "Grey            1376\n",
       "Other           1016\n",
       "Cloth           1005\n",
       "Brown            207\n",
       "Part leather     140\n",
       "Full leather     139\n",
       "Beige             54\n",
       "Velour            16\n",
       "Blue              16\n",
       "White             13\n",
       "Red                9\n",
       "Yellow             4\n",
       "alcantara          2\n",
       "Orange             1\n",
       "Name: Upholstery, dtype: int64"
      ]
     },
     "execution_count": 118,
     "metadata": {},
     "output_type": "execute_result"
    }
   ],
   "source": [
    "df.Upholstery.map(lambda x : x[0].split(',')[1].strip(' \\n ') if len(x[0].split(',')) ==2\\\n",
    "                  else x[0].strip(' \\n '), na_action = 'ignore').value_counts()"
   ]
  },
  {
   "cell_type": "code",
   "execution_count": 119,
   "metadata": {},
   "outputs": [],
   "source": [
    "df.Upholstery_color = df.Upholstery.map(lambda x : x[0].split(',')[1].strip(' \\n ') if len(x[0].split(',')) ==2\\\n",
    "                  else x[0].strip(' \\n '), na_action = 'ignore')\n",
    "#içinde upholstery typlar da var tekrar düzenlemek gerekir."
   ]
  },
  {
   "cell_type": "code",
   "execution_count": 120,
   "metadata": {},
   "outputs": [
    {
     "data": {
      "text/plain": [
       "Black           8201\n",
       "NaN             3720\n",
       "Grey            1376\n",
       "Other           1016\n",
       "Cloth           1005\n",
       "Brown            207\n",
       "Part leather     140\n",
       "Full leather     139\n",
       "Beige             54\n",
       "Velour            16\n",
       "Blue              16\n",
       "White             13\n",
       "Red                9\n",
       "Yellow             4\n",
       "alcantara          2\n",
       "Orange             1\n",
       "Name: Upholstery, dtype: int64"
      ]
     },
     "execution_count": 120,
     "metadata": {},
     "output_type": "execute_result"
    }
   ],
   "source": [
    "df.Upholstery_color.value_counts(dropna = False)"
   ]
  },
  {
   "cell_type": "code",
   "execution_count": 121,
   "metadata": {},
   "outputs": [
    {
     "data": {
      "text/plain": [
       "Black    8201\n",
       "Other    6135\n",
       "Grey     1376\n",
       "Brown     207\n",
       "Name: Upholstery, dtype: int64"
      ]
     },
     "execution_count": 121,
     "metadata": {},
     "output_type": "execute_result"
    }
   ],
   "source": [
    "df.Upholstery_color.map(lambda x : x if x == 'Black' or x == 'Grey' or x == 'Brown' else 'Other').value_counts()\n",
    "#Black, Grey, Brown renklerini aldık sadece. Çünkü diğer renklerin sayısı çok az. Nan ve diğer renkleri Othera ekledik."
   ]
  },
  {
   "cell_type": "code",
   "execution_count": 122,
   "metadata": {
    "scrolled": true
   },
   "outputs": [],
   "source": [
    "df.Upholstery_color = df.Upholstery_color.map(lambda x : x if x == 'Black' or x == 'Grey' or x == 'Brown' else 'Other')"
   ]
  },
  {
   "cell_type": "markdown",
   "metadata": {},
   "source": [
    "# Nr. of Doors"
   ]
  },
  {
   "cell_type": "code",
   "execution_count": 123,
   "metadata": {},
   "outputs": [
    {
     "data": {
      "text/plain": [
       "0        [\\n5\\n]\n",
       "1        [\\n3\\n]\n",
       "2        [\\n4\\n]\n",
       "3        [\\n3\\n]\n",
       "4        [\\n5\\n]\n",
       "          ...   \n",
       "15914    [\\n5\\n]\n",
       "15915    [\\n5\\n]\n",
       "15916    [\\n5\\n]\n",
       "15917    [\\n5\\n]\n",
       "15918    [\\n5\\n]\n",
       "Name: Nr. of Doors, Length: 15919, dtype: object"
      ]
     },
     "execution_count": 123,
     "metadata": {},
     "output_type": "execute_result"
    }
   ],
   "source": [
    "df['Nr. of Doors']"
   ]
  },
  {
   "cell_type": "code",
   "execution_count": 124,
   "metadata": {},
   "outputs": [
    {
     "data": {
      "text/plain": [
       "0        5.0\n",
       "1        3.0\n",
       "2        4.0\n",
       "3        3.0\n",
       "4        5.0\n",
       "        ... \n",
       "15914    5.0\n",
       "15915    5.0\n",
       "15916    5.0\n",
       "15917    5.0\n",
       "15918    5.0\n",
       "Name: Nr. of Doors, Length: 15919, dtype: float64"
      ]
     },
     "execution_count": 124,
     "metadata": {},
     "output_type": "execute_result"
    }
   ],
   "source": [
    "df['Nr. of Doors'].map(lambda x : float(x [0].strip('\\n')), na_action = 'ignore')\n",
    "#Listenin içindeki sayıları çektik. Nan değerler olduğu için flata çevirdik."
   ]
  },
  {
   "cell_type": "code",
   "execution_count": 125,
   "metadata": {},
   "outputs": [],
   "source": [
    "df['Nr. of Doors'] = df['Nr. of Doors'].map(lambda x : float(x [0].strip('\\n')), na_action = 'ignore')"
   ]
  },
  {
   "cell_type": "code",
   "execution_count": 126,
   "metadata": {},
   "outputs": [
    {
     "data": {
      "text/plain": [
       "5.0    11575\n",
       "4.0     3079\n",
       "3.0      832\n",
       "2.0      219\n",
       "7.0        1\n",
       "1.0        1\n",
       "Name: Nr. of Doors, dtype: int64"
      ]
     },
     "execution_count": 126,
     "metadata": {},
     "output_type": "execute_result"
    }
   ],
   "source": [
    "df['Nr. of Doors'].value_counts()"
   ]
  },
  {
   "cell_type": "markdown",
   "metadata": {},
   "source": [
    "# Nr of Seats"
   ]
  },
  {
   "cell_type": "code",
   "execution_count": 127,
   "metadata": {},
   "outputs": [
    {
     "data": {
      "text/plain": [
       "0        [\\n5\\n]\n",
       "1        [\\n4\\n]\n",
       "2        [\\n4\\n]\n",
       "3        [\\n4\\n]\n",
       "4        [\\n5\\n]\n",
       "          ...   \n",
       "15914    [\\n5\\n]\n",
       "15915    [\\n5\\n]\n",
       "15916    [\\n7\\n]\n",
       "15917    [\\n7\\n]\n",
       "15918    [\\n5\\n]\n",
       "Name: Nr. of Seats, Length: 15919, dtype: object"
      ]
     },
     "execution_count": 127,
     "metadata": {},
     "output_type": "execute_result"
    }
   ],
   "source": [
    "df['Nr. of Seats']"
   ]
  },
  {
   "cell_type": "code",
   "execution_count": 128,
   "metadata": {
    "scrolled": true
   },
   "outputs": [
    {
     "data": {
      "text/plain": [
       "0        5.0\n",
       "1        4.0\n",
       "2        4.0\n",
       "3        4.0\n",
       "4        5.0\n",
       "        ... \n",
       "15914    5.0\n",
       "15915    5.0\n",
       "15916    7.0\n",
       "15917    7.0\n",
       "15918    5.0\n",
       "Name: Nr. of Seats, Length: 15919, dtype: float64"
      ]
     },
     "execution_count": 128,
     "metadata": {},
     "output_type": "execute_result"
    }
   ],
   "source": [
    "df['Nr. of Seats'].map(lambda x : float(x[0].strip('\\n')), na_action = 'ignore')\n",
    "#Listenin içindeki sayıları çektik"
   ]
  },
  {
   "cell_type": "code",
   "execution_count": 129,
   "metadata": {},
   "outputs": [],
   "source": [
    "df['Nr. of Seats'] = df['Nr. of Seats'].map(lambda x : float(x[0].strip('\\n')), na_action = 'ignore')"
   ]
  },
  {
   "cell_type": "code",
   "execution_count": 130,
   "metadata": {},
   "outputs": [
    {
     "data": {
      "text/plain": [
       "5.0    13336\n",
       "4.0     1125\n",
       "NaN      977\n",
       "7.0      362\n",
       "2.0      116\n",
       "6.0        2\n",
       "3.0        1\n",
       "Name: Nr. of Seats, dtype: int64"
      ]
     },
     "execution_count": 130,
     "metadata": {},
     "output_type": "execute_result"
    }
   ],
   "source": [
    "df['Nr. of Seats'].value_counts(dropna = False)"
   ]
  },
  {
   "cell_type": "markdown",
   "metadata": {},
   "source": [
    "# Model Code(drop)"
   ]
  },
  {
   "cell_type": "code",
   "execution_count": 131,
   "metadata": {},
   "outputs": [
    {
     "ename": "TypeError",
     "evalue": "unhashable type: 'list'",
     "output_type": "error",
     "traceback": [
      "\u001b[1;31m---------------------------------------------------------------------------\u001b[0m",
      "\u001b[1;31mTypeError\u001b[0m                                 Traceback (most recent call last)",
      "\u001b[1;32mpandas\\_libs\\hashtable_class_helper.pxi\u001b[0m in \u001b[0;36mpandas._libs.hashtable.PyObjectHashTable.map_locations\u001b[1;34m()\u001b[0m\n",
      "\u001b[1;31mTypeError\u001b[0m: unhashable type: 'list'"
     ]
    },
    {
     "name": "stderr",
     "output_type": "stream",
     "text": [
      "Exception ignored in: 'pandas._libs.index.IndexEngine._call_map_locations'\n",
      "Traceback (most recent call last):\n",
      "  File \"pandas\\_libs\\hashtable_class_helper.pxi\", line 4588, in pandas._libs.hashtable.PyObjectHashTable.map_locations\n",
      "TypeError: unhashable type: 'list'\n"
     ]
    },
    {
     "data": {
      "text/plain": [
       "NaN               10941\n",
       "[\\n0035/BCB\\n]      268\n",
       "[\\n0588/BNO\\n]      245\n",
       "[\\n0588/BDB\\n]      206\n",
       "[\\n0588/BHX\\n]      188\n",
       "                  ...  \n",
       "[\\n0035/BHX\\n]        1\n",
       "[\\n0588/AVR\\n]        1\n",
       "[\\n0035/ASN\\n]        1\n",
       "[\\n1844/AEG\\n]        1\n",
       "[\\n3333/BBL\\n]        1\n",
       "Name: Model Code, Length: 233, dtype: int64"
      ]
     },
     "execution_count": 131,
     "metadata": {},
     "output_type": "execute_result"
    }
   ],
   "source": [
    "df['Model Code'].value_counts(dropna = False)\n",
    "#Çok fazla nan değer olduğu için ve aynı zamanda elimizde arabanın model bilgileri olduğu için bu sütunu düşürdük"
   ]
  },
  {
   "cell_type": "markdown",
   "metadata": {},
   "source": [
    "# Gearing Type"
   ]
  },
  {
   "cell_type": "code",
   "execution_count": 132,
   "metadata": {},
   "outputs": [
    {
     "data": {
      "text/plain": [
       "0        [\\n, Automatic, \\n]\n",
       "1        [\\n, Automatic, \\n]\n",
       "2        [\\n, Automatic, \\n]\n",
       "3        [\\n, Automatic, \\n]\n",
       "4        [\\n, Automatic, \\n]\n",
       "                ...         \n",
       "15914    [\\n, Automatic, \\n]\n",
       "15915    [\\n, Automatic, \\n]\n",
       "15916    [\\n, Automatic, \\n]\n",
       "15917    [\\n, Automatic, \\n]\n",
       "15918    [\\n, Automatic, \\n]\n",
       "Name: Gearing Type, Length: 15919, dtype: object"
      ]
     },
     "execution_count": 132,
     "metadata": {},
     "output_type": "execute_result"
    }
   ],
   "source": [
    "df['Gearing Type']"
   ]
  },
  {
   "cell_type": "code",
   "execution_count": 133,
   "metadata": {},
   "outputs": [
    {
     "data": {
      "text/plain": [
       "0        Automatic\n",
       "1        Automatic\n",
       "2        Automatic\n",
       "3        Automatic\n",
       "4        Automatic\n",
       "           ...    \n",
       "15914    Automatic\n",
       "15915    Automatic\n",
       "15916    Automatic\n",
       "15917    Automatic\n",
       "15918    Automatic\n",
       "Name: Gearing Type, Length: 15919, dtype: object"
      ]
     },
     "execution_count": 133,
     "metadata": {},
     "output_type": "execute_result"
    }
   ],
   "source": [
    "df['Gearing Type'].map(lambda x: x[1].strip())"
   ]
  },
  {
   "cell_type": "code",
   "execution_count": 134,
   "metadata": {},
   "outputs": [],
   "source": [
    "df['Gearing Type'] = df['Gearing Type'].map(lambda x: x[1].strip())"
   ]
  },
  {
   "cell_type": "code",
   "execution_count": 135,
   "metadata": {},
   "outputs": [
    {
     "data": {
      "text/plain": [
       "Manual            8153\n",
       "Automatic         7297\n",
       "Semi-automatic     469\n",
       "Name: Gearing Type, dtype: int64"
      ]
     },
     "execution_count": 135,
     "metadata": {},
     "output_type": "execute_result"
    }
   ],
   "source": [
    "df['Gearing Type'].value_counts(dropna= False)\n",
    "#Nan değerleri olmayan temiz bir sütun"
   ]
  },
  {
   "cell_type": "markdown",
   "metadata": {},
   "source": [
    "# Displacement"
   ]
  },
  {
   "cell_type": "code",
   "execution_count": 136,
   "metadata": {},
   "outputs": [
    {
     "data": {
      "text/plain": [
       "0        [\\n1,422 cc\\n]\n",
       "1        [\\n1,798 cc\\n]\n",
       "2        [\\n1,598 cc\\n]\n",
       "3        [\\n1,422 cc\\n]\n",
       "4        [\\n1,422 cc\\n]\n",
       "              ...      \n",
       "15914    [\\n1,997 cc\\n]\n",
       "15915    [\\n1,798 cc\\n]\n",
       "15916    [\\n1,997 cc\\n]\n",
       "15917    [\\n1,997 cc\\n]\n",
       "15918    [\\n1,798 cc\\n]\n",
       "Name: Displacement, Length: 15919, dtype: object"
      ]
     },
     "execution_count": 136,
     "metadata": {},
     "output_type": "execute_result"
    }
   ],
   "source": [
    "df.Displacement"
   ]
  },
  {
   "cell_type": "code",
   "execution_count": 137,
   "metadata": {},
   "outputs": [
    {
     "data": {
      "text/plain": [
       "0        1422.0\n",
       "1        1798.0\n",
       "2        1598.0\n",
       "3        1422.0\n",
       "4        1422.0\n",
       "          ...  \n",
       "15914    1997.0\n",
       "15915    1798.0\n",
       "15916    1997.0\n",
       "15917    1997.0\n",
       "15918    1798.0\n",
       "Name: Displacement, Length: 15919, dtype: float64"
      ]
     },
     "execution_count": 137,
     "metadata": {},
     "output_type": "execute_result"
    }
   ],
   "source": [
    "df.Displacement.map(lambda x : x[0].strip(' cc\\n ').replace(',',''), na_action = 'ignore').astype(float)"
   ]
  },
  {
   "cell_type": "code",
   "execution_count": 138,
   "metadata": {},
   "outputs": [],
   "source": [
    "df.Displacement = df.Displacement.map(lambda x : x[0].strip(' cc\\n ').replace(',',''), na_action = 'ignore').astype(float)"
   ]
  },
  {
   "cell_type": "code",
   "execution_count": 139,
   "metadata": {},
   "outputs": [
    {
     "data": {
      "text/plain": [
       "496"
      ]
     },
     "execution_count": 139,
     "metadata": {},
     "output_type": "execute_result"
    }
   ],
   "source": [
    "df.Displacement.isnull().sum()"
   ]
  },
  {
   "cell_type": "markdown",
   "metadata": {},
   "source": [
    "# Cyclinders"
   ]
  },
  {
   "cell_type": "code",
   "execution_count": 140,
   "metadata": {
    "scrolled": true
   },
   "outputs": [
    {
     "data": {
      "text/plain": [
       "0        [\\n3\\n]\n",
       "1        [\\n4\\n]\n",
       "2            NaN\n",
       "3        [\\n3\\n]\n",
       "4        [\\n3\\n]\n",
       "          ...   \n",
       "15914    [\\n4\\n]\n",
       "15915    [\\n4\\n]\n",
       "15916    [\\n4\\n]\n",
       "15917    [\\n4\\n]\n",
       "15918    [\\n4\\n]\n",
       "Name: Cylinders, Length: 15919, dtype: object"
      ]
     },
     "execution_count": 140,
     "metadata": {},
     "output_type": "execute_result"
    }
   ],
   "source": [
    "df.Cylinders"
   ]
  },
  {
   "cell_type": "code",
   "execution_count": 141,
   "metadata": {},
   "outputs": [
    {
     "data": {
      "text/plain": [
       "0        3.0\n",
       "1        4.0\n",
       "2        NaN\n",
       "3        3.0\n",
       "4        3.0\n",
       "        ... \n",
       "15914    4.0\n",
       "15915    4.0\n",
       "15916    4.0\n",
       "15917    4.0\n",
       "15918    4.0\n",
       "Name: Cylinders, Length: 15919, dtype: float64"
      ]
     },
     "execution_count": 141,
     "metadata": {},
     "output_type": "execute_result"
    }
   ],
   "source": [
    "df.Cylinders.map(lambda x: float(x[0].strip('\\n')), na_action = 'ignore')"
   ]
  },
  {
   "cell_type": "code",
   "execution_count": 142,
   "metadata": {},
   "outputs": [],
   "source": [
    "df.Cylinders = df.Cylinders.map(lambda x: float(x[0].strip('\\n')), na_action = 'ignore')"
   ]
  },
  {
   "cell_type": "code",
   "execution_count": 143,
   "metadata": {},
   "outputs": [
    {
     "data": {
      "text/plain": [
       "4.0    8105\n",
       "NaN    5680\n",
       "3.0    2104\n",
       "5.0      22\n",
       "6.0       3\n",
       "8.0       2\n",
       "2.0       2\n",
       "1.0       1\n",
       "Name: Cylinders, dtype: int64"
      ]
     },
     "execution_count": 143,
     "metadata": {},
     "output_type": "execute_result"
    }
   ],
   "source": [
    "df.Cylinders.value_counts(dropna = False)"
   ]
  },
  {
   "cell_type": "markdown",
   "metadata": {},
   "source": [
    "# Weight(drop)\n",
    "**Çünkü Weight_kg diye bir sütun oluşturduk**"
   ]
  },
  {
   "cell_type": "code",
   "execution_count": 144,
   "metadata": {},
   "outputs": [
    {
     "data": {
      "text/plain": [
       "0        [\\n1,220 kg\\n]\n",
       "1        [\\n1,255 kg\\n]\n",
       "2                   NaN\n",
       "3        [\\n1,195 kg\\n]\n",
       "4                   NaN\n",
       "              ...      \n",
       "15914    [\\n1,758 kg\\n]\n",
       "15915    [\\n1,708 kg\\n]\n",
       "15916               NaN\n",
       "15917    [\\n1,758 kg\\n]\n",
       "15918    [\\n1,685 kg\\n]\n",
       "Name: Weight, Length: 15919, dtype: object"
      ]
     },
     "execution_count": 144,
     "metadata": {},
     "output_type": "execute_result"
    }
   ],
   "source": [
    "df.Weight"
   ]
  },
  {
   "cell_type": "code",
   "execution_count": 145,
   "metadata": {},
   "outputs": [
    {
     "data": {
      "text/plain": [
       "0        1220.0\n",
       "1        1255.0\n",
       "2           NaN\n",
       "3        1195.0\n",
       "4           NaN\n",
       "          ...  \n",
       "15914    1758.0\n",
       "15915    1708.0\n",
       "15916       NaN\n",
       "15917    1758.0\n",
       "15918    1685.0\n",
       "Name: Weight, Length: 15919, dtype: float64"
      ]
     },
     "execution_count": 145,
     "metadata": {},
     "output_type": "execute_result"
    }
   ],
   "source": [
    "df.Weight.map(lambda x : float(x[0].strip('\\nkg ').replace(',','')), na_action = 'ignore')"
   ]
  },
  {
   "cell_type": "code",
   "execution_count": 146,
   "metadata": {},
   "outputs": [],
   "source": [
    "df.Weight_kg = df.Weight.map(lambda x : float(x[0].strip('\\nkg ').replace(',','')), na_action = 'ignore')"
   ]
  },
  {
   "cell_type": "markdown",
   "metadata": {},
   "source": [
    "# Drive chain"
   ]
  },
  {
   "cell_type": "code",
   "execution_count": 147,
   "metadata": {},
   "outputs": [
    {
     "ename": "TypeError",
     "evalue": "unhashable type: 'list'",
     "output_type": "error",
     "traceback": [
      "\u001b[1;31m---------------------------------------------------------------------------\u001b[0m",
      "\u001b[1;31mTypeError\u001b[0m                                 Traceback (most recent call last)",
      "\u001b[1;32mpandas\\_libs\\hashtable_class_helper.pxi\u001b[0m in \u001b[0;36mpandas._libs.hashtable.PyObjectHashTable.map_locations\u001b[1;34m()\u001b[0m\n",
      "\u001b[1;31mTypeError\u001b[0m: unhashable type: 'list'"
     ]
    },
    {
     "name": "stderr",
     "output_type": "stream",
     "text": [
      "Exception ignored in: 'pandas._libs.index.IndexEngine._call_map_locations'\n",
      "Traceback (most recent call last):\n",
      "  File \"pandas\\_libs\\hashtable_class_helper.pxi\", line 4588, in pandas._libs.hashtable.PyObjectHashTable.map_locations\n",
      "TypeError: unhashable type: 'list'\n"
     ]
    },
    {
     "data": {
      "text/plain": [
       "[\\nfront\\n]    8886\n",
       "NaN            6858\n",
       "[\\n4WD\\n]       171\n",
       "[\\nrear\\n]        4\n",
       "Name: Drive chain, dtype: int64"
      ]
     },
     "execution_count": 147,
     "metadata": {},
     "output_type": "execute_result"
    }
   ],
   "source": [
    "df['Drive chain'].value_counts(dropna = False)"
   ]
  },
  {
   "cell_type": "code",
   "execution_count": 148,
   "metadata": {},
   "outputs": [
    {
     "data": {
      "text/plain": [
       "0        front\n",
       "1        front\n",
       "2        front\n",
       "3          NaN\n",
       "4        front\n",
       "         ...  \n",
       "15914    front\n",
       "15915    front\n",
       "15916    front\n",
       "15917    front\n",
       "15918      4WD\n",
       "Name: Drive chain, Length: 15919, dtype: object"
      ]
     },
     "execution_count": 148,
     "metadata": {},
     "output_type": "execute_result"
    }
   ],
   "source": [
    "df['Drive chain'].map(lambda x : x[0].strip('\\n '), na_action = 'ignore')"
   ]
  },
  {
   "cell_type": "code",
   "execution_count": 149,
   "metadata": {},
   "outputs": [],
   "source": [
    "df['Drive chain'] = df['Drive chain'].map(lambda x : x[0].strip('\\n '), na_action = 'ignore')"
   ]
  },
  {
   "cell_type": "code",
   "execution_count": 150,
   "metadata": {},
   "outputs": [
    {
     "data": {
      "text/plain": [
       "front    8886\n",
       "NaN      6858\n",
       "4WD       171\n",
       "rear        4\n",
       "Name: Drive chain, dtype: int64"
      ]
     },
     "execution_count": 150,
     "metadata": {},
     "output_type": "execute_result"
    }
   ],
   "source": [
    "df['Drive chain'].value_counts(dropna= False)"
   ]
  },
  {
   "cell_type": "markdown",
   "metadata": {},
   "source": [
    "# Consumption(drop)"
   ]
  },
  {
   "cell_type": "code",
   "execution_count": 151,
   "metadata": {},
   "outputs": [
    {
     "data": {
      "text/plain": [
       "0        [[3.8 l/100 km (comb)], [4.3 l/100 km (city)],...\n",
       "1        [[5.6 l/100 km (comb)], [7.1 l/100 km (city)],...\n",
       "2        [[3.8 l/100 km (comb)], [4.4 l/100 km (city)],...\n",
       "3        [[3.8 l/100 km (comb)], [4.3 l/100 km (city)],...\n",
       "4        [[4.1 l/100 km (comb)], [4.6 l/100 km (city)],...\n",
       "                               ...                        \n",
       "15914    [[5.3 l/100 km (comb)], [6.2 l/100 km (city)],...\n",
       "15915    [\\n, 7.4 l/100 km (comb), \\n, 9.2 l/100 km (ci...\n",
       "15916    [[5.3 l/100 km (comb)], [6.2 l/100 km (city)],...\n",
       "15917    [[5.3 l/100 km (comb)], [6.2 l/100 km (city)],...\n",
       "15918    [[6.8 l/100 km (comb)], [8.7 l/100 km (city)],...\n",
       "Name: Consumption, Length: 15919, dtype: object"
      ]
     },
     "execution_count": 151,
     "metadata": {},
     "output_type": "execute_result"
    }
   ],
   "source": [
    "df.Consumption\n",
    "# Bu sütundan iki sütun oluşturucaz city ve comb için ayrı ayrı"
   ]
  },
  {
   "cell_type": "markdown",
   "metadata": {},
   "source": [
    "### Consumption(comb)"
   ]
  },
  {
   "cell_type": "code",
   "execution_count": 152,
   "metadata": {},
   "outputs": [
    {
     "data": {
      "text/plain": [
       "0        [3.8 l/100 km (comb)]\n",
       "1        [5.6 l/100 km (comb)]\n",
       "2        [3.8 l/100 km (comb)]\n",
       "3        [3.8 l/100 km (comb)]\n",
       "4        [4.1 l/100 km (comb)]\n",
       "                 ...          \n",
       "15914    [5.3 l/100 km (comb)]\n",
       "15915    [7.4 l/100 km (comb)]\n",
       "15916    [5.3 l/100 km (comb)]\n",
       "15917    [5.3 l/100 km (comb)]\n",
       "15918    [6.8 l/100 km (comb)]\n",
       "Name: Consumption, Length: 15919, dtype: object"
      ]
     },
     "execution_count": 152,
     "metadata": {},
     "output_type": "execute_result"
    }
   ],
   "source": [
    "df.Consumption.map(lambda x : [x[1]] if x[0] =='\\n' else x[0], na_action = 'ignore')\n",
    "# Bazı satırlardaki değerler tek liste bazı satırlardaki değerler iki listenin içerisinde \n",
    "#olduğu için bu şekilde önce standartlaştırdım."
   ]
  },
  {
   "cell_type": "code",
   "execution_count": 153,
   "metadata": {},
   "outputs": [],
   "source": [
    "df['Consumption(comb)'] = df.Consumption.map(lambda x : [x[1]] if x[0] =='\\n' else x[0], na_action = 'ignore')"
   ]
  },
  {
   "cell_type": "code",
   "execution_count": 154,
   "metadata": {
    "scrolled": true
   },
   "outputs": [
    {
     "data": {
      "text/plain": [
       "0        3.8 l/100 km (comb)\n",
       "1        5.6 l/100 km (comb)\n",
       "2        3.8 l/100 km (comb)\n",
       "3        3.8 l/100 km (comb)\n",
       "4        4.1 l/100 km (comb)\n",
       "                ...         \n",
       "15914    5.3 l/100 km (comb)\n",
       "15915    7.4 l/100 km (comb)\n",
       "15916    5.3 l/100 km (comb)\n",
       "15917    5.3 l/100 km (comb)\n",
       "15918    6.8 l/100 km (comb)\n",
       "Name: Consumption(comb), Length: 15919, dtype: object"
      ]
     },
     "execution_count": 154,
     "metadata": {},
     "output_type": "execute_result"
    }
   ],
   "source": [
    "df['Consumption(comb)'].map(lambda x: np.nan if x == [] else x[0], na_action = 'ignore')\n",
    "#Liste boş iste nan dönmesini değer varsa içindeki değerin dönmesini sağladık."
   ]
  },
  {
   "cell_type": "code",
   "execution_count": 155,
   "metadata": {},
   "outputs": [],
   "source": [
    "df['Consumption(comb)'] = df['Consumption(comb)'].map(lambda x: np.nan if x == [] else x[0], na_action = 'ignore')"
   ]
  },
  {
   "cell_type": "code",
   "execution_count": 156,
   "metadata": {},
   "outputs": [
    {
     "data": {
      "text/plain": [
       "0        3.8\n",
       "1        5.6\n",
       "2        3.8\n",
       "3        3.8\n",
       "4        4.1\n",
       "        ... \n",
       "15914    5.3\n",
       "15915    7.4\n",
       "15916    5.3\n",
       "15917    5.3\n",
       "15918    6.8\n",
       "Name: Consumption(comb), Length: 15919, dtype: object"
      ]
     },
     "execution_count": 156,
     "metadata": {},
     "output_type": "execute_result"
    }
   ],
   "source": [
    "df['Consumption(comb)'].str.replace(' l/100 km ', '')\\\n",
    "                        .str.replace('comb', '').str.replace( 'kg/100 km', '')\\\n",
    "                        .str.strip('() ')\n",
    "#Sayıların sağ tarafındaki harf ve sayılar temizlendi."
   ]
  },
  {
   "cell_type": "code",
   "execution_count": 157,
   "metadata": {},
   "outputs": [],
   "source": [
    "df['Consumption(comb)'] = df['Consumption(comb)'].str.replace(' l/100 km ', '')\\\n",
    ".str.replace('comb', '').str.replace( 'kg/100 km', '')\\\n",
    ".str.strip('() ')"
   ]
  },
  {
   "cell_type": "code",
   "execution_count": 158,
   "metadata": {},
   "outputs": [],
   "source": [
    "df['Consumption(comb)'] = df['Consumption(comb)'].astype(float) \n",
    "#floata çevrildi."
   ]
  },
  {
   "cell_type": "markdown",
   "metadata": {},
   "source": [
    "### Comsumption(city)"
   ]
  },
  {
   "cell_type": "code",
   "execution_count": 159,
   "metadata": {},
   "outputs": [
    {
     "data": {
      "text/plain": [
       "0        [4.3 l/100 km (city)]\n",
       "1        [7.1 l/100 km (city)]\n",
       "2        [4.4 l/100 km (city)]\n",
       "3        [4.3 l/100 km (city)]\n",
       "4        [4.6 l/100 km (city)]\n",
       "                 ...          \n",
       "15914    [6.2 l/100 km (city)]\n",
       "15915    [9.2 l/100 km (city)]\n",
       "15916    [6.2 l/100 km (city)]\n",
       "15917    [6.2 l/100 km (city)]\n",
       "15918    [8.7 l/100 km (city)]\n",
       "Name: Consumption, Length: 15919, dtype: object"
      ]
     },
     "execution_count": 159,
     "metadata": {},
     "output_type": "execute_result"
    }
   ],
   "source": [
    "df.Consumption.map(lambda x : [x[3]] if x[0] =='\\n' else x[1], na_action = 'ignore')"
   ]
  },
  {
   "cell_type": "code",
   "execution_count": 160,
   "metadata": {},
   "outputs": [],
   "source": [
    "df['Consumption(city)'] = df.Consumption.map(lambda x : [x[3]] if x[0] =='\\n' else x[1], na_action = 'ignore')"
   ]
  },
  {
   "cell_type": "code",
   "execution_count": 161,
   "metadata": {},
   "outputs": [
    {
     "data": {
      "text/plain": [
       "0        4.3 l/100 km (city)\n",
       "1        7.1 l/100 km (city)\n",
       "2        4.4 l/100 km (city)\n",
       "3        4.3 l/100 km (city)\n",
       "4        4.6 l/100 km (city)\n",
       "                ...         \n",
       "15914    6.2 l/100 km (city)\n",
       "15915    9.2 l/100 km (city)\n",
       "15916    6.2 l/100 km (city)\n",
       "15917    6.2 l/100 km (city)\n",
       "15918    8.7 l/100 km (city)\n",
       "Name: Consumption(city), Length: 15919, dtype: object"
      ]
     },
     "execution_count": 161,
     "metadata": {},
     "output_type": "execute_result"
    }
   ],
   "source": [
    "df['Consumption(city)'].map(lambda x: np.nan if x == [] else x[0], na_action = 'ignore')"
   ]
  },
  {
   "cell_type": "code",
   "execution_count": 162,
   "metadata": {},
   "outputs": [],
   "source": [
    "df['Consumption(city)'] = df['Consumption(city)'].map(lambda x: np.nan if x == [] else x[0], na_action = 'ignore')"
   ]
  },
  {
   "cell_type": "code",
   "execution_count": 163,
   "metadata": {},
   "outputs": [
    {
     "data": {
      "text/plain": [
       "0        4.3\n",
       "1        7.1\n",
       "2        4.4\n",
       "3        4.3\n",
       "4        4.6\n",
       "        ... \n",
       "15914    6.2\n",
       "15915    9.2\n",
       "15916    6.2\n",
       "15917    6.2\n",
       "15918    8.7\n",
       "Name: Consumption(city), Length: 15919, dtype: object"
      ]
     },
     "execution_count": 163,
     "metadata": {},
     "output_type": "execute_result"
    }
   ],
   "source": [
    "df['Consumption(city)'].str.replace('l/100 km', '')\\\n",
    "                        .str.replace('city', '').str.strip('\\n() ')\\\n",
    "                        .str.replace( ' kg/100 km', '')"
   ]
  },
  {
   "cell_type": "code",
   "execution_count": 164,
   "metadata": {},
   "outputs": [],
   "source": [
    "df['Consumption(city)'] = df['Consumption(city)'].str.replace('l/100 km', '')\\\n",
    "                        .str.replace('city', '').str.strip('\\n() ')\\\n",
    "                        .str.replace( ' kg/100 km', '')"
   ]
  },
  {
   "cell_type": "code",
   "execution_count": 165,
   "metadata": {},
   "outputs": [
    {
     "data": {
      "text/plain": [
       "array(['4.3', '7.1', '4.4', '4.6', '4.2', nan, '6.2', '5', '5.5', '5.4',\n",
       "       '3.8', '5.2', '3', '4', '3.9', '4.1', '4.7', '6.3', '6.7', '5.6',\n",
       "       '4.8', '6.6', '4.5', '5.8', '7.4', '6.1', '3.7', '5.1', '19.9',\n",
       "       '6.4', '8.2', '6', '6.5', '5.9', '8', '62', '6.8', '7.5', '3.5',\n",
       "       '5.3', '3.4', '6.9', '5.7', '7.3', '4.9', '3.6', '11.3', '9',\n",
       "       '11.2', '', '45', '43', '8.3', '10.5', '0', '7.2', '8.5', '7.7',\n",
       "       '9.9', '8.9', '7.8', '8.4', '8.6', '7', '7.9', '8.7', '10.4',\n",
       "       '7.6', '8.1', '66', '9.8', '1', '11', '16.1', '11.5', '9.5', '9.2',\n",
       "       '9.6', '9.4', '10.8', '8.8', '10.2', '10.1', '3.3', '64', '10',\n",
       "       '9.1', '9.7'], dtype=object)"
      ]
     },
     "execution_count": 165,
     "metadata": {},
     "output_type": "execute_result"
    }
   ],
   "source": [
    "df['Consumption(city)'].unique()\n",
    "# '' stringini nan a çevirmek lazım."
   ]
  },
  {
   "cell_type": "code",
   "execution_count": 166,
   "metadata": {
    "scrolled": true
   },
   "outputs": [
    {
     "data": {
      "text/plain": [
       "0        4.3\n",
       "1        7.1\n",
       "2        4.4\n",
       "3        4.3\n",
       "4        4.6\n",
       "        ... \n",
       "15914    6.2\n",
       "15915    9.2\n",
       "15916    6.2\n",
       "15917    6.2\n",
       "15918    8.7\n",
       "Name: Consumption(city), Length: 15919, dtype: float64"
      ]
     },
     "execution_count": 166,
     "metadata": {},
     "output_type": "execute_result"
    }
   ],
   "source": [
    "df['Consumption(city)'].map(lambda x : np.nan if x == '' else float(x))"
   ]
  },
  {
   "cell_type": "code",
   "execution_count": 167,
   "metadata": {},
   "outputs": [],
   "source": [
    "df['Consumption(city)'] = df['Consumption(city)'].map(lambda x : np.nan if x == '' else float(x))"
   ]
  },
  {
   "cell_type": "code",
   "execution_count": 168,
   "metadata": {},
   "outputs": [
    {
     "data": {
      "text/plain": [
       "array([ 4.3,  7.1,  4.4,  4.6,  4.2,  nan,  6.2,  5. ,  5.5,  5.4,  3.8,\n",
       "        5.2,  3. ,  4. ,  3.9,  4.1,  4.7,  6.3,  6.7,  5.6,  4.8,  6.6,\n",
       "        4.5,  5.8,  7.4,  6.1,  3.7,  5.1, 19.9,  6.4,  8.2,  6. ,  6.5,\n",
       "        5.9,  8. , 62. ,  6.8,  7.5,  3.5,  5.3,  3.4,  6.9,  5.7,  7.3,\n",
       "        4.9,  3.6, 11.3,  9. , 11.2, 45. , 43. ,  8.3, 10.5,  0. ,  7.2,\n",
       "        8.5,  7.7,  9.9,  8.9,  7.8,  8.4,  8.6,  7. ,  7.9,  8.7, 10.4,\n",
       "        7.6,  8.1, 66. ,  9.8,  1. , 11. , 16.1, 11.5,  9.5,  9.2,  9.6,\n",
       "        9.4, 10.8,  8.8, 10.2, 10.1,  3.3, 64. , 10. ,  9.1,  9.7])"
      ]
     },
     "execution_count": 168,
     "metadata": {},
     "output_type": "execute_result"
    }
   ],
   "source": [
    "df['Consumption(city)'].unique()"
   ]
  },
  {
   "cell_type": "markdown",
   "metadata": {},
   "source": [
    "# Co2 Emission"
   ]
  },
  {
   "cell_type": "code",
   "execution_count": 169,
   "metadata": {},
   "outputs": [
    {
     "data": {
      "text/plain": [
       "0         [\\n99 g CO2/km (comb)\\n]\n",
       "1        [\\n129 g CO2/km (comb)\\n]\n",
       "2         [\\n99 g CO2/km (comb)\\n]\n",
       "3         [\\n99 g CO2/km (comb)\\n]\n",
       "4        [\\n109 g CO2/km (comb)\\n]\n",
       "                   ...            \n",
       "15914    [\\n139 g CO2/km (comb)\\n]\n",
       "15915    [\\n168 g CO2/km (comb)\\n]\n",
       "15916    [\\n139 g CO2/km (comb)\\n]\n",
       "15917    [\\n139 g CO2/km (comb)\\n]\n",
       "15918    [\\n153 g CO2/km (comb)\\n]\n",
       "Name: CO2 Emission, Length: 15919, dtype: object"
      ]
     },
     "execution_count": 169,
     "metadata": {},
     "output_type": "execute_result"
    }
   ],
   "source": [
    "df['CO2 Emission']"
   ]
  },
  {
   "cell_type": "code",
   "execution_count": 1,
   "metadata": {},
   "outputs": [
    {
     "ename": "NameError",
     "evalue": "name 'df' is not defined",
     "output_type": "error",
     "traceback": [
      "\u001b[1;31m---------------------------------------------------------------------------\u001b[0m",
      "\u001b[1;31mNameError\u001b[0m                                 Traceback (most recent call last)",
      "\u001b[1;32m<ipython-input-1-4bdf6a6f5da8>\u001b[0m in \u001b[0;36m<module>\u001b[1;34m\u001b[0m\n\u001b[1;32m----> 1\u001b[1;33m \u001b[0mdf\u001b[0m\u001b[1;33m[\u001b[0m\u001b[1;34m'CO2 Emission'\u001b[0m\u001b[1;33m]\u001b[0m\u001b[1;33m[\u001b[0m\u001b[1;36m0\u001b[0m\u001b[1;33m]\u001b[0m\u001b[1;33m\u001b[0m\u001b[1;33m\u001b[0m\u001b[0m\n\u001b[0m",
      "\u001b[1;31mNameError\u001b[0m: name 'df' is not defined"
     ]
    }
   ],
   "source": [
    "df['CO2 Emission'][0]"
   ]
  },
  {
   "cell_type": "code",
   "execution_count": 170,
   "metadata": {},
   "outputs": [
    {
     "data": {
      "text/plain": [
       "0         99.0\n",
       "1        129.0\n",
       "2         99.0\n",
       "3         99.0\n",
       "4        109.0\n",
       "         ...  \n",
       "15914    139.0\n",
       "15915    168.0\n",
       "15916    139.0\n",
       "15917    139.0\n",
       "15918    153.0\n",
       "Name: CO2 Emission, Length: 15919, dtype: float64"
      ]
     },
     "execution_count": 170,
     "metadata": {},
     "output_type": "execute_result"
    }
   ],
   "source": [
    "df['CO2 Emission'].map(lambda x : np.nan if x[0] == [] else float(x[0]\\\n",
    "                                        .replace(' g CO2/km (comb)\\n', '')\\\n",
    "                                        .strip(' \\n').replace(',', '.')), na_action = 'ignore')"
   ]
  },
  {
   "cell_type": "code",
   "execution_count": 171,
   "metadata": {},
   "outputs": [],
   "source": [
    "df['CO2 Emission'] = df['CO2 Emission'].map(lambda x : np.nan if x[0] == [] else float(x[0]\\\n",
    "                                        .replace(' g CO2/km (comb)\\n', '')\\\n",
    "                                        .strip(' \\n').replace(',', '.')), na_action = 'ignore')"
   ]
  },
  {
   "cell_type": "markdown",
   "metadata": {},
   "source": [
    "# Emission Class"
   ]
  },
  {
   "attachments": {
    "image.png": {
     "image/png": "[encoded data removed]"
    }
   },
   "cell_type": "markdown",
   "metadata": {},
   "source": [
    "![image.png](attachment:image.png)\n",
    "emission class çeşitleri"
   ]
  },
  {
   "cell_type": "code",
   "execution_count": 172,
   "metadata": {
    "scrolled": false
   },
   "outputs": [
    {
     "data": {
      "text/plain": [
       "0              [\\nEuro 6\\n]\n",
       "1              [\\nEuro 6\\n]\n",
       "2              [\\nEuro 6\\n]\n",
       "3              [\\nEuro 6\\n]\n",
       "4              [\\nEuro 6\\n]\n",
       "                ...        \n",
       "15914                   NaN\n",
       "15915                   NaN\n",
       "15916    [\\nEuro 6d-TEMP\\n]\n",
       "15917          [\\nEuro 6\\n]\n",
       "15918          [\\nEuro 6\\n]\n",
       "Name: Emission Class, Length: 15919, dtype: object"
      ]
     },
     "execution_count": 172,
     "metadata": {},
     "output_type": "execute_result"
    }
   ],
   "source": [
    "df['Emission Class']\n",
    "#buradaki sadece sayıları almak istiyorum"
   ]
  },
  {
   "cell_type": "code",
   "execution_count": 173,
   "metadata": {},
   "outputs": [
    {
     "data": {
      "text/plain": [
       "0              6\n",
       "1              6\n",
       "2              6\n",
       "3              6\n",
       "4              6\n",
       "          ...   \n",
       "15914        NaN\n",
       "15915        NaN\n",
       "15916    6d-TEMP\n",
       "15917          6\n",
       "15918          6\n",
       "Name: Emission Class, Length: 15919, dtype: object"
      ]
     },
     "execution_count": 173,
     "metadata": {},
     "output_type": "execute_result"
    }
   ],
   "source": [
    "df['Emission Class'].map(lambda x :np.nan if x == [] or x[0] == [] else x[0]\\\n",
    "                                                .strip(' \\nEuro'), na_action = 'ignore')"
   ]
  },
  {
   "cell_type": "code",
   "execution_count": 174,
   "metadata": {},
   "outputs": [],
   "source": [
    "df['Emission Class'] = df['Emission Class'].map(lambda x :np.nan if x == [] or x[0] == [] else x[0]\\\n",
    "                                                .strip(' \\nEuro'), na_action = 'ignore')"
   ]
  },
  {
   "cell_type": "code",
   "execution_count": 175,
   "metadata": {},
   "outputs": [
    {
     "data": {
      "text/plain": [
       "6          10139\n",
       "NaN         3628\n",
       "6d-TEMP     1845\n",
       "6c           127\n",
       "5             78\n",
       "6d            62\n",
       "4             40\n",
       "Name: Emission Class, dtype: int64"
      ]
     },
     "execution_count": 175,
     "metadata": {},
     "output_type": "execute_result"
    }
   ],
   "source": [
    "df['Emission Class'].value_counts(dropna = False)"
   ]
  },
  {
   "cell_type": "markdown",
   "metadata": {},
   "source": [
    "# Emission Label(drop)"
   ]
  },
  {
   "cell_type": "code",
   "execution_count": 176,
   "metadata": {},
   "outputs": [
    {
     "ename": "TypeError",
     "evalue": "unhashable type: 'list'",
     "output_type": "error",
     "traceback": [
      "\u001b[1;31m---------------------------------------------------------------------------\u001b[0m",
      "\u001b[1;31mTypeError\u001b[0m                                 Traceback (most recent call last)",
      "\u001b[1;32mpandas\\_libs\\hashtable_class_helper.pxi\u001b[0m in \u001b[0;36mpandas._libs.hashtable.PyObjectHashTable.map_locations\u001b[1;34m()\u001b[0m\n",
      "\u001b[1;31mTypeError\u001b[0m: unhashable type: 'list'"
     ]
    },
    {
     "name": "stderr",
     "output_type": "stream",
     "text": [
      "Exception ignored in: 'pandas._libs.index.IndexEngine._call_map_locations'\n",
      "Traceback (most recent call last):\n",
      "  File \"pandas\\_libs\\hashtable_class_helper.pxi\", line 4588, in pandas._libs.hashtable.PyObjectHashTable.map_locations\n",
      "TypeError: unhashable type: 'list'\n"
     ]
    },
    {
     "data": {
      "text/plain": [
       "NaN                     11934\n",
       "[\\n4 (Green)\\n]          3553\n",
       "[\\n1 (No sticker)\\n]      381\n",
       "[[], [], []]               40\n",
       "[\\n5 (Blue)\\n]              8\n",
       "[\\n3 (Yellow)\\n]            2\n",
       "[\\n2 (Red)\\n]               1\n",
       "Name: Emission Label, dtype: int64"
      ]
     },
     "execution_count": 176,
     "metadata": {},
     "output_type": "execute_result"
    }
   ],
   "source": [
    "df['Emission Label'].value_counts(dropna = False)\n",
    "#Bu sütunu düşücez.Elimizde emission class sütunu var zaten"
   ]
  },
  {
   "cell_type": "markdown",
   "metadata": {},
   "source": [
    "# '\\nEntertainment & Media\\n'(drop)\n",
    "**Çünkü bu sütunu kullanarak başka sütunlar oluşturduk**"
   ]
  },
  {
   "cell_type": "code",
   "execution_count": 177,
   "metadata": {},
   "outputs": [
    {
     "data": {
      "text/plain": [
       "0        [Bluetooth, Hands-free equipment, On-board com...\n",
       "1        [Bluetooth, Hands-free equipment, On-board com...\n",
       "2                                 [MP3, On-board computer]\n",
       "3        [Bluetooth, CD player, Hands-free equipment, M...\n",
       "4        [Bluetooth, CD player, Hands-free equipment, M...\n",
       "                               ...                        \n",
       "15914    [Bluetooth, Digital radio, Hands-free equipmen...\n",
       "15915    [Bluetooth, Digital radio, Hands-free equipmen...\n",
       "15916    [Bluetooth, Hands-free equipment, On-board com...\n",
       "15917               [Bluetooth, Digital radio, Radio, USB]\n",
       "15918                                                [USB]\n",
       "Name: \\nEntertainment & Media\\n, Length: 15919, dtype: object"
      ]
     },
     "execution_count": 177,
     "metadata": {},
     "output_type": "execute_result"
    }
   ],
   "source": [
    "df['\\nEntertainment & Media\\n']"
   ]
  },
  {
   "cell_type": "code",
   "execution_count": 178,
   "metadata": {},
   "outputs": [],
   "source": [
    "entertainment = list({j for i in df['\\nEntertainment & Media\\n'][df['\\nEntertainment & Media\\n'].notna()] for j in i})"
   ]
  },
  {
   "cell_type": "code",
   "execution_count": 179,
   "metadata": {},
   "outputs": [
    {
     "data": {
      "text/plain": [
       "['Bluetooth',\n",
       " 'Sound system',\n",
       " 'Hands-free equipment',\n",
       " 'On-board computer',\n",
       " 'USB',\n",
       " 'Radio',\n",
       " 'Television',\n",
       " 'Digital radio',\n",
       " 'CD player',\n",
       " 'MP3']"
      ]
     },
     "execution_count": 179,
     "metadata": {},
     "output_type": "execute_result"
    }
   ],
   "source": [
    "entertainment #'\\nEntertainment & Media\\n' sütununda yer alan özlellikler"
   ]
  },
  {
   "cell_type": "code",
   "execution_count": 180,
   "metadata": {},
   "outputs": [
    {
     "data": {
      "text/plain": [
       "0        Bluetooth, Hands-free equipment, On-board comp...\n",
       "1        Bluetooth, Hands-free equipment, On-board comp...\n",
       "2                                   MP3, On-board computer\n",
       "3        Bluetooth, CD player, Hands-free equipment, MP...\n",
       "4        Bluetooth, CD player, Hands-free equipment, MP...\n",
       "                               ...                        \n",
       "15914    Bluetooth, Digital radio, Hands-free equipment...\n",
       "15915    Bluetooth, Digital radio, Hands-free equipment...\n",
       "15916    Bluetooth, Hands-free equipment, On-board comp...\n",
       "15917                 Bluetooth, Digital radio, Radio, USB\n",
       "15918                                                  USB\n",
       "Name: \\nEntertainment & Media\\n, Length: 15919, dtype: object"
      ]
     },
     "execution_count": 180,
     "metadata": {},
     "output_type": "execute_result"
    }
   ],
   "source": [
    "df['\\nEntertainment & Media\\n'].map(lambda x : ', '.join(x), na_action = 'ignore')"
   ]
  },
  {
   "cell_type": "code",
   "execution_count": 181,
   "metadata": {},
   "outputs": [],
   "source": [
    "df['\\nEntertainment & Media\\n'] = df['\\nEntertainment & Media\\n'].map(lambda x : ', '.join(x), na_action = 'ignore')"
   ]
  },
  {
   "cell_type": "code",
   "execution_count": 182,
   "metadata": {},
   "outputs": [
    {
     "name": "stdout",
     "output_type": "stream",
     "text": [
      "{'Bluetooth': 11650, 'Sound system': 2240, 'Hands-free equipment': 9305, 'On-board computer': 11938, 'USB': 8158, 'Radio': 11989, 'Television': 35, 'Digital radio': 2229, 'CD player': 4791, 'MP3': 5853}\n"
     ]
    }
   ],
   "source": [
    "sözlük = {}\n",
    "for i in entertainment:\n",
    "    sözlük[i] = df['\\nEntertainment & Media\\n'].str.contains(i).sum()\n",
    "print(sözlük)\n",
    "#Sayıları az olmadığı için True False olan ayrı sütunlar oluşturucaz."
   ]
  },
  {
   "cell_type": "code",
   "execution_count": 183,
   "metadata": {},
   "outputs": [],
   "source": [
    "for i in entertainment:\n",
    "    df[i] = df['\\nEntertainment & Media\\n'].str.contains(i)"
   ]
  },
  {
   "cell_type": "markdown",
   "metadata": {},
   "source": [
    "# '\\nComfort & Convenience\\n'(drop)\n",
    "**Çünkü yeni columnslar oluşturduk bu sütunun içindeki verilerle**"
   ]
  },
  {
   "cell_type": "code",
   "execution_count": 184,
   "metadata": {},
   "outputs": [
    {
     "data": {
      "text/plain": [
       "0        [Air conditioning, Armrest, Automatic climate ...\n",
       "1        [Air conditioning, Automatic climate control, ...\n",
       "2        [Air conditioning, Cruise control, Electrical ...\n",
       "3        [Air suspension, Armrest, Auxiliary heating, E...\n",
       "4        [Air conditioning, Armrest, Automatic climate ...\n",
       "                               ...                        \n",
       "15914    [Air conditioning, Automatic climate control, ...\n",
       "15915    [Air conditioning, Automatic climate control, ...\n",
       "15916    [Air conditioning, Armrest, Automatic climate ...\n",
       "15917    [Air conditioning, Automatic climate control, ...\n",
       "15918    [Air conditioning, Automatic climate control, ...\n",
       "Name: \\nComfort & Convenience\\n, Length: 15919, dtype: object"
      ]
     },
     "execution_count": 184,
     "metadata": {},
     "output_type": "execute_result"
    }
   ],
   "source": [
    "df['\\nComfort & Convenience\\n']"
   ]
  },
  {
   "cell_type": "code",
   "execution_count": 185,
   "metadata": {},
   "outputs": [],
   "source": [
    "comfort = list({j for i in df['\\nComfort & Convenience\\n'][df['\\nComfort & Convenience\\n'].notna()] for j in i})\n",
    "#sütundaki unique değerleri listede topladım"
   ]
  },
  {
   "cell_type": "code",
   "execution_count": 186,
   "metadata": {},
   "outputs": [
    {
     "data": {
      "text/plain": [
       "['Leather seats',\n",
       " 'Navigation system',\n",
       " 'Panorama roof',\n",
       " 'Keyless central door lock',\n",
       " 'Heads-up display',\n",
       " 'Seat ventilation',\n",
       " 'Wind deflector',\n",
       " 'Parking assist system sensors rear',\n",
       " 'Start-stop system',\n",
       " 'Massage seats',\n",
       " 'Parking assist system camera',\n",
       " 'Split rear seats',\n",
       " 'Tinted windows',\n",
       " 'Leather steering wheel',\n",
       " 'Light sensor',\n",
       " 'Power windows',\n",
       " 'Parking assist system sensors front',\n",
       " 'Heated steering wheel',\n",
       " 'Auxiliary heating',\n",
       " 'Windshield',\n",
       " 'Electric tailgate',\n",
       " 'Automatic climate control',\n",
       " 'Air suspension',\n",
       " 'Seat heating',\n",
       " 'Sunroof',\n",
       " 'Hill Holder',\n",
       " 'Cruise control',\n",
       " 'Air conditioning',\n",
       " 'Multi-function steering wheel',\n",
       " 'Lumbar support',\n",
       " 'Electrically heated windshield',\n",
       " 'Electrically adjustable seats',\n",
       " 'Electrical side mirrors',\n",
       " 'Parking assist system self-steering',\n",
       " 'Rain sensor',\n",
       " 'Electric Starter',\n",
       " 'Armrest',\n",
       " 'Park Distance Control']"
      ]
     },
     "execution_count": 186,
     "metadata": {},
     "output_type": "execute_result"
    }
   ],
   "source": [
    "comfort"
   ]
  },
  {
   "cell_type": "code",
   "execution_count": 187,
   "metadata": {},
   "outputs": [
    {
     "data": {
      "text/plain": [
       "0        Air conditioning, Armrest, Automatic climate c...\n",
       "1        Air conditioning, Automatic climate control, H...\n",
       "2        Air conditioning, Cruise control, Electrical s...\n",
       "3        Air suspension, Armrest, Auxiliary heating, El...\n",
       "4        Air conditioning, Armrest, Automatic climate c...\n",
       "                               ...                        \n",
       "15914    Air conditioning, Automatic climate control, C...\n",
       "15915    Air conditioning, Automatic climate control, C...\n",
       "15916    Air conditioning, Armrest, Automatic climate c...\n",
       "15917    Air conditioning, Automatic climate control, C...\n",
       "15918    Air conditioning, Automatic climate control, C...\n",
       "Name: \\nComfort & Convenience\\n, Length: 15919, dtype: object"
      ]
     },
     "execution_count": 187,
     "metadata": {},
     "output_type": "execute_result"
    }
   ],
   "source": [
    "df['\\nComfort & Convenience\\n'].map(lambda x : ', '.join(x), na_action = 'ignore')\n",
    "#Listeleri stringe çevirdik."
   ]
  },
  {
   "cell_type": "code",
   "execution_count": 188,
   "metadata": {},
   "outputs": [],
   "source": [
    "df['\\nComfort & Convenience\\n'] = df['\\nComfort & Convenience\\n'].map(lambda x : ', '.join(x), na_action = 'ignore')"
   ]
  },
  {
   "cell_type": "code",
   "execution_count": 189,
   "metadata": {},
   "outputs": [
    {
     "name": "stdout",
     "output_type": "stream",
     "text": [
      "{'Leather seats': 48, 'Navigation system': 8166, 'Panorama roof': 551, 'Keyless central door lock': 2613, 'Heads-up display': 606, 'Seat ventilation': 834, 'Wind deflector': 41, 'Parking assist system sensors rear': 9694, 'Start-stop system': 8881, 'Massage seats': 360, 'Parking assist system camera': 3421, 'Split rear seats': 2387, 'Tinted windows': 1444, 'Leather steering wheel': 9386, 'Light sensor': 7672, 'Power windows': 13914, 'Parking assist system sensors front': 5838, 'Heated steering wheel': 3017, 'Auxiliary heating': 266, 'Windshield': 12, 'Electric tailgate': 1003, 'Automatic climate control': 8747, 'Air suspension': 62, 'Seat heating': 7078, 'Sunroof': 372, 'Hill Holder': 6745, 'Cruise control': 10881, 'Air conditioning': 14315, 'Multi-function steering wheel': 11083, 'Lumbar support': 3226, 'Electrically heated windshield': 937, 'Electrically adjustable seats': 1866, 'Electrical side mirrors': 11881, 'Parking assist system self-steering': 768, 'Rain sensor': 8615, 'Electric Starter': 1, 'Armrest': 7225, 'Park Distance Control': 10190}\n"
     ]
    }
   ],
   "source": [
    "dictt = {}\n",
    "for i in comfort:\n",
    "     dictt[i] = df['\\nComfort & Convenience\\n'].str.contains(i).sum()\n",
    "print(dictt)\n",
    "#Az sayıda olanlar sütuna dönüştürlmeyebilir. Ama kaçtan az olanlar sınırını koyamıyorum :))"
   ]
  },
  {
   "cell_type": "code",
   "execution_count": 190,
   "metadata": {},
   "outputs": [],
   "source": [
    "for i in comfort:\n",
    "     df[i] = df['\\nComfort & Convenience\\n'].str.contains(i)"
   ]
  },
  {
   "cell_type": "markdown",
   "metadata": {},
   "source": [
    "# \\nExtras\\n(drop)\n",
    "**Çünkü yeni columnslar oluşturuldu bu sütunun içindeki verilerle**"
   ]
  },
  {
   "cell_type": "code",
   "execution_count": 191,
   "metadata": {},
   "outputs": [
    {
     "data": {
      "text/plain": [
       "0        [Alloy wheels, Catalytic Converter, Voice Cont...\n",
       "1        [Alloy wheels, Sport seats, Sport suspension, ...\n",
       "2                            [Alloy wheels, Voice Control]\n",
       "3               [Alloy wheels, Sport seats, Voice Control]\n",
       "4        [Alloy wheels, Sport package, Sport suspension...\n",
       "                               ...                        \n",
       "15914                         [Alloy wheels, Touch screen]\n",
       "15915          [Alloy wheels, Touch screen, Voice Control]\n",
       "15916                                       [Alloy wheels]\n",
       "15917                         [Alloy wheels, Touch screen]\n",
       "15918                         [Alloy wheels, Touch screen]\n",
       "Name: \\nExtras\\n, Length: 15919, dtype: object"
      ]
     },
     "execution_count": 191,
     "metadata": {},
     "output_type": "execute_result"
    }
   ],
   "source": [
    "df['\\nExtras\\n']"
   ]
  },
  {
   "cell_type": "code",
   "execution_count": 192,
   "metadata": {},
   "outputs": [],
   "source": [
    "extras = list({j for i in df['\\nExtras\\n'][df['\\nExtras\\n'].notna()] for j in i})"
   ]
  },
  {
   "cell_type": "code",
   "execution_count": 193,
   "metadata": {},
   "outputs": [
    {
     "data": {
      "text/plain": [
       "['Sport seats',\n",
       " 'Handicapped enabled',\n",
       " 'Cab or rented Car',\n",
       " 'Alloy wheels',\n",
       " 'Catalytic Converter',\n",
       " 'Sport package',\n",
       " 'Roof rack',\n",
       " 'Voice Control',\n",
       " 'Sliding door',\n",
       " 'Tuned car',\n",
       " 'Winter tyres',\n",
       " 'Right hand drive',\n",
       " 'Touch screen',\n",
       " 'Ski bag',\n",
       " 'Shift paddles',\n",
       " 'Trailer hitch',\n",
       " 'Sport suspension']"
      ]
     },
     "execution_count": 193,
     "metadata": {},
     "output_type": "execute_result"
    }
   ],
   "source": [
    "extras"
   ]
  },
  {
   "cell_type": "code",
   "execution_count": 194,
   "metadata": {},
   "outputs": [
    {
     "data": {
      "text/plain": [
       "0         Alloy wheels, Catalytic Converter, Voice Control\n",
       "1        Alloy wheels, Sport seats, Sport suspension, V...\n",
       "2                              Alloy wheels, Voice Control\n",
       "3                 Alloy wheels, Sport seats, Voice Control\n",
       "4        Alloy wheels, Sport package, Sport suspension,...\n",
       "                               ...                        \n",
       "15914                           Alloy wheels, Touch screen\n",
       "15915            Alloy wheels, Touch screen, Voice Control\n",
       "15916                                         Alloy wheels\n",
       "15917                           Alloy wheels, Touch screen\n",
       "15918                           Alloy wheels, Touch screen\n",
       "Name: \\nExtras\\n, Length: 15919, dtype: object"
      ]
     },
     "execution_count": 194,
     "metadata": {},
     "output_type": "execute_result"
    }
   ],
   "source": [
    "df['\\nExtras\\n'].map(lambda x : ', '.join(x), na_action = 'ignore')\n",
    "#Listeleri içindeki değerleri alıp birleştirdim."
   ]
  },
  {
   "cell_type": "code",
   "execution_count": 195,
   "metadata": {},
   "outputs": [],
   "source": [
    "df['\\nExtras\\n'] = df['\\nExtras\\n'].map(lambda x : ', '.join(x), na_action = 'ignore')"
   ]
  },
  {
   "cell_type": "code",
   "execution_count": 196,
   "metadata": {},
   "outputs": [
    {
     "name": "stdout",
     "output_type": "stream",
     "text": [
      "{'Sport seats': 3098, 'Handicapped enabled': 52, 'Cab or rented Car': 310, 'Alloy wheels': 11294, 'Catalytic Converter': 2258, 'Sport package': 1198, 'Roof rack': 2647, 'Voice Control': 4326, 'Sliding door': 3, 'Tuned car': 13, 'Winter tyres': 246, 'Right hand drive': 3, 'Touch screen': 4043, 'Ski bag': 247, 'Shift paddles': 508, 'Trailer hitch': 654, 'Sport suspension': 1619}\n"
     ]
    }
   ],
   "source": [
    "extra_s = {}\n",
    "for i in extras:\n",
    "    extra_s[i] = df['\\nExtras\\n'].str.contains(i).sum()\n",
    "print(extra_s)"
   ]
  },
  {
   "cell_type": "code",
   "execution_count": 197,
   "metadata": {},
   "outputs": [],
   "source": [
    "for i in extras:\n",
    "    df[i] = df['\\nExtras\\n'].str.contains(i)"
   ]
  },
  {
   "cell_type": "markdown",
   "metadata": {},
   "source": [
    "# \\nSafety & Security\\n(drop)\n",
    "**Çünkü bu sütunun içindeki verilerle başka sütunlar oluşturduk**"
   ]
  },
  {
   "cell_type": "code",
   "execution_count": 198,
   "metadata": {},
   "outputs": [],
   "source": [
    "safety = {j for i in df['\\nSafety & Security\\n'][df['\\nSafety & Security\\n'].notna()] for j in i}"
   ]
  },
  {
   "cell_type": "code",
   "execution_count": 199,
   "metadata": {},
   "outputs": [
    {
     "data": {
      "text/plain": [
       "{'ABS',\n",
       " 'Adaptive Cruise Control',\n",
       " 'Adaptive headlights',\n",
       " 'Alarm system',\n",
       " 'Blind spot monitor',\n",
       " 'Central door lock',\n",
       " 'Central door lock with remote control',\n",
       " 'Daytime running lights',\n",
       " 'Driver drowsiness detection',\n",
       " 'Driver-side airbag',\n",
       " 'Electronic stability control',\n",
       " 'Emergency brake assistant',\n",
       " 'Emergency system',\n",
       " 'Fog lights',\n",
       " 'Head airbag',\n",
       " 'Immobilizer',\n",
       " 'Isofix',\n",
       " 'LED Daytime Running Lights',\n",
       " 'LED Headlights',\n",
       " 'Lane departure warning system',\n",
       " 'Night view assist',\n",
       " 'Passenger-side airbag',\n",
       " 'Power steering',\n",
       " 'Rear airbag',\n",
       " 'Side airbag',\n",
       " 'Tire pressure monitoring system',\n",
       " 'Traction control',\n",
       " 'Traffic sign recognition',\n",
       " 'Xenon headlights'}"
      ]
     },
     "execution_count": 199,
     "metadata": {},
     "output_type": "execute_result"
    }
   ],
   "source": [
    "safety"
   ]
  },
  {
   "cell_type": "code",
   "execution_count": 200,
   "metadata": {},
   "outputs": [
    {
     "data": {
      "text/plain": [
       "0        ABS, Central door lock, Daytime running lights...\n",
       "1        ABS, Central door lock, Central door lock with...\n",
       "2        ABS, Central door lock, Daytime running lights...\n",
       "3        ABS, Alarm system, Central door lock with remo...\n",
       "4        ABS, Central door lock, Driver-side airbag, El...\n",
       "                               ...                        \n",
       "15914    ABS, Central door lock, Central door lock with...\n",
       "15915    ABS, Adaptive Cruise Control, Blind spot monit...\n",
       "15916    ABS, Adaptive Cruise Control, Blind spot monit...\n",
       "15917    ABS, Blind spot monitor, Driver-side airbag, E...\n",
       "15918    ABS, Blind spot monitor, Daytime running light...\n",
       "Name: \\nSafety & Security\\n, Length: 15919, dtype: object"
      ]
     },
     "execution_count": 200,
     "metadata": {},
     "output_type": "execute_result"
    }
   ],
   "source": [
    "df['\\nSafety & Security\\n'].map(lambda x : ', '.join(x), na_action = 'ignore')"
   ]
  },
  {
   "cell_type": "code",
   "execution_count": 201,
   "metadata": {},
   "outputs": [],
   "source": [
    "df['\\nSafety & Security\\n'] = df['\\nSafety & Security\\n'].map(lambda x : ', '.join(x), na_action = 'ignore')"
   ]
  },
  {
   "cell_type": "code",
   "execution_count": 202,
   "metadata": {},
   "outputs": [
    {
     "name": "stdout",
     "output_type": "stream",
     "text": [
      "{'Daytime running lights': 10412, 'Side airbag': 13203, 'Xenon headlights': 3539, 'Central door lock with remote control': 2397, 'Emergency system': 1576, 'Lane departure warning system': 3054, 'Alarm system': 1922, 'Adaptive headlights': 2041, 'Fog lights': 8212, 'Emergency brake assistant': 3151, 'Adaptive Cruise Control': 1303, 'LED Headlights': 3065, 'Traction control': 11004, 'Immobilizer': 10499, 'Electronic stability control': 13187, 'Rear airbag': 866, 'Blind spot monitor': 1291, 'Tire pressure monitoring system': 10604, 'Power steering': 13599, 'Driver drowsiness detection': 506, 'Isofix': 11744, 'Head airbag': 2186, 'Driver-side airbag': 13902, 'LED Daytime Running Lights': 5506, 'Traffic sign recognition': 1976, 'Central door lock': 13531, 'Night view assist': 75, 'Passenger-side airbag': 13435, 'ABS': 14130}\n"
     ]
    }
   ],
   "source": [
    "safety_s = {}\n",
    "for i in safety:\n",
    "    safety_s[i] = df['\\nSafety & Security\\n'].str.contains(i).sum()\n",
    "print(safety_s)"
   ]
  },
  {
   "cell_type": "code",
   "execution_count": 203,
   "metadata": {},
   "outputs": [],
   "source": [
    "for i in safety:\n",
    "    df[i] = df['\\nSafety & Security\\n'].str.contains(i)"
   ]
  },
  {
   "cell_type": "markdown",
   "metadata": {},
   "source": [
    "# Gears"
   ]
  },
  {
   "cell_type": "code",
   "execution_count": 204,
   "metadata": {},
   "outputs": [
    {
     "data": {
      "text/plain": [
       "0            NaN\n",
       "1        [\\n7\\n]\n",
       "2            NaN\n",
       "3        [\\n6\\n]\n",
       "4            NaN\n",
       "          ...   \n",
       "15914    [\\n6\\n]\n",
       "15915    [\\n7\\n]\n",
       "15916    [\\n6\\n]\n",
       "15917    [\\n6\\n]\n",
       "15918        NaN\n",
       "Name: Gears, Length: 15919, dtype: object"
      ]
     },
     "execution_count": 204,
     "metadata": {},
     "output_type": "execute_result"
    }
   ],
   "source": [
    "df.Gears"
   ]
  },
  {
   "cell_type": "code",
   "execution_count": 205,
   "metadata": {
    "scrolled": true
   },
   "outputs": [
    {
     "data": {
      "text/plain": [
       "0        NaN\n",
       "1        7.0\n",
       "2        NaN\n",
       "3        6.0\n",
       "4        NaN\n",
       "        ... \n",
       "15914    6.0\n",
       "15915    7.0\n",
       "15916    6.0\n",
       "15917    6.0\n",
       "15918    NaN\n",
       "Name: Gears, Length: 15919, dtype: float64"
      ]
     },
     "execution_count": 205,
     "metadata": {},
     "output_type": "execute_result"
    }
   ],
   "source": [
    "df['Gears'].map(lambda x: float(x[0].strip('\\n')), na_action = 'ignore')"
   ]
  },
  {
   "cell_type": "code",
   "execution_count": 206,
   "metadata": {},
   "outputs": [],
   "source": [
    "df['Gears'] = df['Gears'].map(lambda x: float(x[0].strip('\\n')), na_action = 'ignore')"
   ]
  },
  {
   "cell_type": "code",
   "execution_count": 207,
   "metadata": {},
   "outputs": [
    {
     "data": {
      "text/plain": [
       "6.0     5822\n",
       "NaN     4712\n",
       "5.0     3239\n",
       "7.0     1908\n",
       "8.0      224\n",
       "9.0        6\n",
       "4.0        2\n",
       "1.0        2\n",
       "3.0        2\n",
       "50.0       1\n",
       "2.0        1\n",
       "Name: Gears, dtype: int64"
      ]
     },
     "execution_count": 207,
     "metadata": {},
     "output_type": "execute_result"
    }
   ],
   "source": [
    "df['Gears'].value_counts(dropna = False)"
   ]
  },
  {
   "cell_type": "markdown",
   "metadata": {},
   "source": [
    "# Country version"
   ]
  },
  {
   "cell_type": "code",
   "execution_count": 208,
   "metadata": {},
   "outputs": [
    {
     "data": {
      "text/plain": [
       "0            NaN\n",
       "1            NaN\n",
       "2            NaN\n",
       "3            NaN\n",
       "4        Germany\n",
       "          ...   \n",
       "15914        NaN\n",
       "15915    Germany\n",
       "15916    Austria\n",
       "15917        NaN\n",
       "15918    Germany\n",
       "Name: Country version, Length: 15919, dtype: object"
      ]
     },
     "execution_count": 208,
     "metadata": {},
     "output_type": "execute_result"
    }
   ],
   "source": [
    "df['Country version'].map(lambda x : x[0].strip('\\n'), na_action = 'ignore')"
   ]
  },
  {
   "cell_type": "code",
   "execution_count": 209,
   "metadata": {},
   "outputs": [],
   "source": [
    "df['Country version'] = df['Country version'].map(lambda x : x[0].strip('\\n'), na_action = 'ignore')"
   ]
  },
  {
   "cell_type": "code",
   "execution_count": 210,
   "metadata": {},
   "outputs": [
    {
     "data": {
      "text/plain": [
       "NaN               8333\n",
       "Germany           4502\n",
       "Italy             1038\n",
       "European Union     507\n",
       "Netherlands        464\n",
       "Spain              325\n",
       "Belgium            314\n",
       "Austria            208\n",
       "Czech Republic      52\n",
       "Poland              49\n",
       "France              38\n",
       "Denmark             33\n",
       "Hungary             28\n",
       "Japan                8\n",
       "Slovakia             4\n",
       "Croatia              4\n",
       "Sweden               3\n",
       "Romania              2\n",
       "Bulgaria             2\n",
       "Egypt                1\n",
       "Luxembourg           1\n",
       "Switzerland          1\n",
       "Serbia               1\n",
       "Slovenia             1\n",
       "Name: Country version, dtype: int64"
      ]
     },
     "execution_count": 210,
     "metadata": {},
     "output_type": "execute_result"
    }
   ],
   "source": [
    "df['Country version'].value_counts(dropna = False)"
   ]
  },
  {
   "cell_type": "markdown",
   "metadata": {},
   "source": [
    "# Electricity consumption(drop)"
   ]
  },
  {
   "cell_type": "code",
   "execution_count": 211,
   "metadata": {},
   "outputs": [
    {
     "ename": "TypeError",
     "evalue": "unhashable type: 'list'",
     "output_type": "error",
     "traceback": [
      "\u001b[1;31m---------------------------------------------------------------------------\u001b[0m",
      "\u001b[1;31mTypeError\u001b[0m                                 Traceback (most recent call last)",
      "\u001b[1;32mpandas\\_libs\\hashtable_class_helper.pxi\u001b[0m in \u001b[0;36mpandas._libs.hashtable.PyObjectHashTable.map_locations\u001b[1;34m()\u001b[0m\n",
      "\u001b[1;31mTypeError\u001b[0m: unhashable type: 'list'"
     ]
    },
    {
     "name": "stderr",
     "output_type": "stream",
     "text": [
      "Exception ignored in: 'pandas._libs.index.IndexEngine._call_map_locations'\n",
      "Traceback (most recent call last):\n",
      "  File \"pandas\\_libs\\hashtable_class_helper.pxi\", line 4588, in pandas._libs.hashtable.PyObjectHashTable.map_locations\n",
      "TypeError: unhashable type: 'list'\n"
     ]
    },
    {
     "data": {
      "text/plain": [
       "NaN                          15782\n",
       "[\\n0 kWh/100 km (comb)\\n]      137\n",
       "Name: Electricity consumption, dtype: int64"
      ]
     },
     "execution_count": 211,
     "metadata": {},
     "output_type": "execute_result"
    }
   ],
   "source": [
    "df['Electricity consumption'].value_counts(dropna = False)\n",
    "#Hepsi null değer olduğu için düşürülür."
   ]
  },
  {
   "cell_type": "markdown",
   "metadata": {},
   "source": [
    "# Last Service Date(drop)"
   ]
  },
  {
   "cell_type": "code",
   "execution_count": 212,
   "metadata": {},
   "outputs": [
    {
     "ename": "TypeError",
     "evalue": "unhashable type: 'list'",
     "output_type": "error",
     "traceback": [
      "\u001b[1;31m---------------------------------------------------------------------------\u001b[0m",
      "\u001b[1;31mTypeError\u001b[0m                                 Traceback (most recent call last)",
      "\u001b[1;32mpandas\\_libs\\hashtable_class_helper.pxi\u001b[0m in \u001b[0;36mpandas._libs.hashtable.PyObjectHashTable.map_locations\u001b[1;34m()\u001b[0m\n",
      "\u001b[1;31mTypeError\u001b[0m: unhashable type: 'list'"
     ]
    },
    {
     "name": "stderr",
     "output_type": "stream",
     "text": [
      "Exception ignored in: 'pandas._libs.index.IndexEngine._call_map_locations'\n",
      "Traceback (most recent call last):\n",
      "  File \"pandas\\_libs\\hashtable_class_helper.pxi\", line 4588, in pandas._libs.hashtable.PyObjectHashTable.map_locations\n",
      "TypeError: unhashable type: 'list'\n"
     ]
    },
    {
     "data": {
      "text/plain": [
       "NaN                                       15353\n",
       "[\\n02/2019\\n, \\nEuro 6\\n]                    23\n",
       "[\\n05/2019\\n, \\nEuro 6\\n]                    16\n",
       "[\\n01/2018\\n, \\n118 g CO2/km (comb)\\n]       15\n",
       "[\\n03/2019\\n, \\nEuro 6\\n]                    15\n",
       "                                          ...  \n",
       "[\\n01/2019\\n, \\n108 g CO2/km (comb)\\n]        1\n",
       "\\n01/2018\\n                                   1\n",
       "[\\n05/2018\\n, \\n116 g CO2/km (comb)\\n]        1\n",
       "[\\n05/2019\\n, \\n133 g CO2/km (comb)\\n]        1\n",
       "\\n02/2018\\n                                   1\n",
       "Name: Last Service Date, Length: 267, dtype: int64"
      ]
     },
     "execution_count": 212,
     "metadata": {},
     "output_type": "execute_result"
    }
   ],
   "source": [
    "df['Last Service Date'].value_counts(dropna = False)\n",
    "#Neredeyse tamamı null olduğu için düşürülür."
   ]
  },
  {
   "cell_type": "markdown",
   "metadata": {},
   "source": [
    "# Availability(drop)"
   ]
  },
  {
   "cell_type": "code",
   "execution_count": 213,
   "metadata": {},
   "outputs": [
    {
     "data": {
      "text/plain": [
       "NaN                              15284\n",
       "\\nin 90 days from ordering\\n       196\n",
       "\\nin 120 days from ordering\\n      182\n",
       "\\nin 1 day from ordering\\n          51\n",
       "\\nin 3 days from ordering\\n         35\n",
       "\\nin 5 days from ordering\\n         35\n",
       "\\nin 180 days from ordering\\n       24\n",
       "\\nin 14 days from ordering\\n        24\n",
       "\\nin 7 days from ordering\\n         20\n",
       "\\nin 150 days from ordering\\n       18\n",
       "\\nin 2 days from ordering\\n         16\n",
       "\\nin 60 days from ordering\\n        13\n",
       "\\nin 42 days from ordering\\n        10\n",
       "\\nin 21 days from ordering\\n         8\n",
       "\\nin 4 days from ordering\\n          2\n",
       "\\nin 6 days from ordering\\n          1\n",
       "Name: Availability, dtype: int64"
      ]
     },
     "execution_count": 213,
     "metadata": {},
     "output_type": "execute_result"
    }
   ],
   "source": [
    "df.Availability.value_counts(dropna = False)\n",
    "# Neredeyse tamamı null olduğu için düşürülür."
   ]
  },
  {
   "cell_type": "markdown",
   "metadata": {},
   "source": [
    "# Last Timing Belt Service Date(drop)"
   ]
  },
  {
   "cell_type": "code",
   "execution_count": 214,
   "metadata": {
    "scrolled": true
   },
   "outputs": [
    {
     "ename": "TypeError",
     "evalue": "unhashable type: 'list'",
     "output_type": "error",
     "traceback": [
      "\u001b[1;31m---------------------------------------------------------------------------\u001b[0m",
      "\u001b[1;31mTypeError\u001b[0m                                 Traceback (most recent call last)",
      "\u001b[1;32mpandas\\_libs\\hashtable_class_helper.pxi\u001b[0m in \u001b[0;36mpandas._libs.hashtable.PyObjectHashTable.map_locations\u001b[1;34m()\u001b[0m\n",
      "\u001b[1;31mTypeError\u001b[0m: unhashable type: 'list'"
     ]
    },
    {
     "name": "stderr",
     "output_type": "stream",
     "text": [
      "Exception ignored in: 'pandas._libs.index.IndexEngine._call_map_locations'\n",
      "Traceback (most recent call last):\n",
      "  File \"pandas\\_libs\\hashtable_class_helper.pxi\", line 4588, in pandas._libs.hashtable.PyObjectHashTable.map_locations\n",
      "TypeError: unhashable type: 'list'\n"
     ]
    },
    {
     "data": {
      "text/plain": [
       "NaN                          15903\n",
       "[\\n04/2016\\n]                    2\n",
       "[\\n01/2019\\n]                    1\n",
       "[\\n01/1970\\n]                    1\n",
       "[\\n05/2019\\n]                    1\n",
       "[\\n06/2017\\n]                    1\n",
       "[\\n04/2019\\n]                    1\n",
       "[\\n01/1900\\n]                    1\n",
       "[\\n02/2018\\n]                    1\n",
       "[\\n05/2018\\n, \\nEuro 6\\n]        1\n",
       "[\\n01/2018\\n]                    1\n",
       "[\\n07/2018\\n]                    1\n",
       "[\\n02/2019\\n]                    1\n",
       "[\\n09/2018\\n]                    1\n",
       "[\\n06/2019\\n]                    1\n",
       "[\\n12/1900\\n]                    1\n",
       "Name: Last Timing Belt Service Date, dtype: int64"
      ]
     },
     "execution_count": 214,
     "metadata": {},
     "output_type": "execute_result"
    }
   ],
   "source": [
    "df['Last Timing Belt Service Date'].value_counts(dropna = False)\n",
    "#Neredeyse hepsi null değer olduğu için düşürülür."
   ]
  },
  {
   "cell_type": "markdown",
   "metadata": {},
   "source": [
    "# Available from(drop)"
   ]
  },
  {
   "cell_type": "code",
   "execution_count": 215,
   "metadata": {},
   "outputs": [
    {
     "data": {
      "text/plain": [
       "NaN             15647\n",
       "\\n31/08/19\\n       98\n",
       "\\n30/07/19\\n       25\n",
       "\\n15/08/19\\n       24\n",
       "\\n16/09/19\\n       14\n",
       "\\n29/06/19\\n       12\n",
       "\\n01/07/19\\n       11\n",
       "\\n28/06/19\\n       10\n",
       "\\n19/08/19\\n        7\n",
       "\\n10/09/19\\n        6\n",
       "\\n26/06/19\\n        5\n",
       "\\n27/06/19\\n        5\n",
       "\\n10/11/19\\n        5\n",
       "\\n08/07/19\\n        4\n",
       "\\n25/10/19\\n        3\n",
       "\\n01/08/19\\n        3\n",
       "\\n15/07/19\\n        3\n",
       "\\n05/08/19\\n        2\n",
       "\\n04/07/19\\n        2\n",
       "\\n30/06/19\\n        2\n",
       "\\n05/07/19\\n        2\n",
       "\\n20/07/19\\n        2\n",
       "\\n16/07/19\\n        2\n",
       "\\n24/08/19\\n        2\n",
       "\\n29/09/19\\n        1\n",
       "\\n24/09/19\\n        1\n",
       "\\n14/09/19\\n        1\n",
       "\\n19/07/19\\n        1\n",
       "\\n03/08/19\\n        1\n",
       "\\n30/09/19\\n        1\n",
       "\\n24/07/19\\n        1\n",
       "\\n06/12/19\\n        1\n",
       "\\n18/07/19\\n        1\n",
       "\\n10/10/19\\n        1\n",
       "\\n18/08/19\\n        1\n",
       "\\n10/07/19\\n        1\n",
       "\\n29/07/19\\n        1\n",
       "\\n11/08/19\\n        1\n",
       "\\n27/07/19\\n        1\n",
       "\\n03/12/19\\n        1\n",
       "\\n01/09/19\\n        1\n",
       "\\n17/08/19\\n        1\n",
       "\\n10/12/19\\n        1\n",
       "\\n05/12/19\\n        1\n",
       "\\n16/08/19\\n        1\n",
       "\\n02/07/19\\n        1\n",
       "\\n31/10/19\\n        1\n",
       "Name: Available from, dtype: int64"
      ]
     },
     "execution_count": 215,
     "metadata": {},
     "output_type": "execute_result"
    }
   ],
   "source": [
    "df['Available from'].value_counts(dropna = False)\n",
    "#Neredeyse hepsi null olduğu için düşürülür."
   ]
  },
  {
   "cell_type": "markdown",
   "metadata": {},
   "source": [
    "## Düşürülecek sütunları bir listede toplayıp drop edelim."
   ]
  },
  {
   "cell_type": "code",
   "execution_count": 216,
   "metadata": {},
   "outputs": [],
   "source": [
    "all_columns = df.columns.to_list()"
   ]
  },
  {
   "cell_type": "code",
   "execution_count": 217,
   "metadata": {},
   "outputs": [
    {
     "data": {
      "text/plain": [
       "['url',\n",
       " 'make_model',\n",
       " 'short_description',\n",
       " 'body_type',\n",
       " 'price',\n",
       " 'vat',\n",
       " 'km',\n",
       " 'registration',\n",
       " 'prev_owner',\n",
       " 'kW',\n",
       " 'hp',\n",
       " 'Type',\n",
       " 'Previous Owners',\n",
       " 'Next Inspection',\n",
       " 'Inspection new',\n",
       " 'Warranty',\n",
       " 'Full Service',\n",
       " 'Non-smoking Vehicle',\n",
       " 'null',\n",
       " 'Make',\n",
       " 'Model',\n",
       " 'Offer Number',\n",
       " 'First Registration',\n",
       " 'Body Color',\n",
       " 'Paint Type',\n",
       " 'Body Color Original',\n",
       " 'Upholstery',\n",
       " 'Body',\n",
       " 'Nr. of Doors',\n",
       " 'Nr. of Seats',\n",
       " 'Model Code',\n",
       " 'Gearing Type',\n",
       " 'Displacement',\n",
       " 'Cylinders',\n",
       " 'Weight',\n",
       " 'Drive chain',\n",
       " 'Fuel',\n",
       " 'Consumption',\n",
       " 'CO2 Emission',\n",
       " 'Emission Class',\n",
       " '\\nComfort & Convenience\\n',\n",
       " '\\nEntertainment & Media\\n',\n",
       " '\\nExtras\\n',\n",
       " '\\nSafety & Security\\n',\n",
       " 'description',\n",
       " 'Emission Label',\n",
       " 'Gears',\n",
       " 'Country version',\n",
       " 'Electricity consumption',\n",
       " 'Last Service Date',\n",
       " 'Other Fuel Types',\n",
       " 'Availability',\n",
       " 'Last Timing Belt Service Date',\n",
       " 'Available from',\n",
       " 'age',\n",
       " 'vehicle_condition',\n",
       " 'fuel_type',\n",
       " 'is_metalic',\n",
       " 'Upholstery_type',\n",
       " 'Consumption(comb)',\n",
       " 'Consumption(city)',\n",
       " 'Bluetooth',\n",
       " 'Sound system',\n",
       " 'Hands-free equipment',\n",
       " 'On-board computer',\n",
       " 'USB',\n",
       " 'Radio',\n",
       " 'Television',\n",
       " 'Digital radio',\n",
       " 'CD player',\n",
       " 'MP3',\n",
       " 'Leather seats',\n",
       " 'Navigation system',\n",
       " 'Panorama roof',\n",
       " 'Keyless central door lock',\n",
       " 'Heads-up display',\n",
       " 'Seat ventilation',\n",
       " 'Wind deflector',\n",
       " 'Parking assist system sensors rear',\n",
       " 'Start-stop system',\n",
       " 'Massage seats',\n",
       " 'Parking assist system camera',\n",
       " 'Split rear seats',\n",
       " 'Tinted windows',\n",
       " 'Leather steering wheel',\n",
       " 'Light sensor',\n",
       " 'Power windows',\n",
       " 'Parking assist system sensors front',\n",
       " 'Heated steering wheel',\n",
       " 'Auxiliary heating',\n",
       " 'Windshield',\n",
       " 'Electric tailgate',\n",
       " 'Automatic climate control',\n",
       " 'Air suspension',\n",
       " 'Seat heating',\n",
       " 'Sunroof',\n",
       " 'Hill Holder',\n",
       " 'Cruise control',\n",
       " 'Air conditioning',\n",
       " 'Multi-function steering wheel',\n",
       " 'Lumbar support',\n",
       " 'Electrically heated windshield',\n",
       " 'Electrically adjustable seats',\n",
       " 'Electrical side mirrors',\n",
       " 'Parking assist system self-steering',\n",
       " 'Rain sensor',\n",
       " 'Electric Starter',\n",
       " 'Armrest',\n",
       " 'Park Distance Control',\n",
       " 'Sport seats',\n",
       " 'Handicapped enabled',\n",
       " 'Cab or rented Car',\n",
       " 'Alloy wheels',\n",
       " 'Catalytic Converter',\n",
       " 'Sport package',\n",
       " 'Roof rack',\n",
       " 'Voice Control',\n",
       " 'Sliding door',\n",
       " 'Tuned car',\n",
       " 'Winter tyres',\n",
       " 'Right hand drive',\n",
       " 'Touch screen',\n",
       " 'Ski bag',\n",
       " 'Shift paddles',\n",
       " 'Trailer hitch',\n",
       " 'Sport suspension',\n",
       " 'Daytime running lights',\n",
       " 'Side airbag',\n",
       " 'Xenon headlights',\n",
       " 'Central door lock with remote control',\n",
       " 'Emergency system',\n",
       " 'Lane departure warning system',\n",
       " 'Alarm system',\n",
       " 'Adaptive headlights',\n",
       " 'Fog lights',\n",
       " 'Emergency brake assistant',\n",
       " 'Adaptive Cruise Control',\n",
       " 'LED Headlights',\n",
       " 'Traction control',\n",
       " 'Immobilizer',\n",
       " 'Electronic stability control',\n",
       " 'Rear airbag',\n",
       " 'Blind spot monitor',\n",
       " 'Tire pressure monitoring system',\n",
       " 'Power steering',\n",
       " 'Driver drowsiness detection',\n",
       " 'Isofix',\n",
       " 'Head airbag',\n",
       " 'Driver-side airbag',\n",
       " 'LED Daytime Running Lights',\n",
       " 'Traffic sign recognition',\n",
       " 'Central door lock',\n",
       " 'Night view assist',\n",
       " 'Passenger-side airbag',\n",
       " 'ABS']"
      ]
     },
     "execution_count": 217,
     "metadata": {},
     "output_type": "execute_result"
    }
   ],
   "source": [
    "all_columns"
   ]
  },
  {
   "cell_type": "code",
   "execution_count": 218,
   "metadata": {},
   "outputs": [],
   "source": [
    "drop_columns = ['url',\n",
    "'short_description',\n",
    " 'registration',\n",
    " 'kW',\n",
    " 'Type',\n",
    " 'Previous Owners',\n",
    " 'Next Inspection',\n",
    " 'Full Service',\n",
    " 'Non-smoking Vehicle',\n",
    " 'null',\n",
    " 'Make',\n",
    " 'Model',\n",
    " 'Offer Number',\n",
    " 'First Registration',\n",
    " 'Paint Type',\n",
    " 'Body Color Original',\n",
    " 'Upholstery',\n",
    " 'Body',\n",
    " 'Model Code',\n",
    " 'Weight',\n",
    " 'Fuel',\n",
    " 'Consumption',\n",
    " '\\nComfort & Convenience\\n',\n",
    " '\\nEntertainment & Media\\n',\n",
    " '\\nExtras\\n',\n",
    " '\\nSafety & Security\\n',\n",
    " 'description',\n",
    " 'Emission Label',\n",
    " 'Electricity consumption',\n",
    " 'Last Service Date',\n",
    " 'Other Fuel Types',\n",
    " 'Availability',\n",
    " 'Last Timing Belt Service Date',\n",
    " 'Available from']"
   ]
  },
  {
   "cell_type": "code",
   "execution_count": 219,
   "metadata": {},
   "outputs": [],
   "source": [
    "df.drop(drop_columns, axis = 1, inplace = True)"
   ]
  },
  {
   "cell_type": "code",
   "execution_count": 220,
   "metadata": {},
   "outputs": [],
   "source": [
    "df.to_csv('designed.csv', index = False)"
   ]
  },
  {
   "cell_type": "code",
   "execution_count": 221,
   "metadata": {},
   "outputs": [],
   "source": [
    "df1 = pd.read_csv('designed.csv')"
   ]
  },
  {
   "cell_type": "code",
   "execution_count": null,
   "metadata": {},
   "outputs": [],
   "source": []
  },
  {
   "cell_type": "code",
   "execution_count": null,
   "metadata": {},
   "outputs": [],
   "source": []
  },
  {
   "cell_type": "code",
   "execution_count": null,
   "metadata": {},
   "outputs": [],
   "source": []
  },
  {
   "cell_type": "code",
   "execution_count": null,
   "metadata": {},
   "outputs": [],
   "source": []
  }
 ],
 "metadata": {
  "kernelspec": {
   "display_name": "Python 3 (ipykernel)",
   "language": "python",
   "name": "python3"
  },
  "language_info": {
   "codemirror_mode": {
    "name": "ipython",
    "version": 3
   },
   "file_extension": ".py",
   "mimetype": "text/x-python",
   "name": "python",
   "nbconvert_exporter": "python",
   "pygments_lexer": "ipython3",
   "version": "3.8.12"
  }
 },
 "nbformat": 4,
 "nbformat_minor": 4
}
