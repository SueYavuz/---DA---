{
 "cells": [
  {
   "cell_type": "code",
   "execution_count": 1,
   "id": "283d9c5c",
   "metadata": {},
   "outputs": [],
   "source": [
    "fibo = [1,1]"
   ]
  },
  {
   "cell_type": "code",
   "execution_count": 2,
   "id": "cdb147f8",
   "metadata": {},
   "outputs": [],
   "source": [
    "for i in range(8):\n",
    "    \n",
    "    fibo.append(fibo[i]+fibo[i+1])"
   ]
  },
  {
   "cell_type": "code",
   "execution_count": 3,
   "id": "a13b3ab3",
   "metadata": {},
   "outputs": [
    {
     "data": {
      "text/plain": [
       "[1, 1, 2, 3, 5, 8, 13, 21, 34, 55]"
      ]
     },
     "execution_count": 3,
     "metadata": {},
     "output_type": "execute_result"
    }
   ],
   "source": [
    "fibo"
   ]
  },
  {
   "cell_type": "code",
   "execution_count": 5,
   "id": "5a62627d",
   "metadata": {},
   "outputs": [
    {
     "name": "stdout",
     "output_type": "stream",
     "text": [
      "enter a number of squence of fibonacci.8\n"
     ]
    },
    {
     "data": {
      "text/plain": [
       "[1, 1, 2, 3, 5, 8, 13, 21]"
      ]
     },
     "execution_count": 5,
     "metadata": {},
     "output_type": "execute_result"
    }
   ],
   "source": [
    "n = int(input('enter a number of squence of fibonacci.'))\n",
    "fibo = [1,1]\n",
    "for i in range(n-2):\n",
    "    \n",
    "    fibo.append(fibo[i]+fibo[i+1])\n",
    "\n",
    "fibo\n"
   ]
  },
  {
   "cell_type": "code",
   "execution_count": null,
   "id": "7116a7c2",
   "metadata": {},
   "outputs": [],
   "source": []
  },
  {
   "cell_type": "code",
   "execution_count": null,
   "id": "69d4471d",
   "metadata": {},
   "outputs": [],
   "source": []
  }
 ],
 "metadata": {
  "kernelspec": {
   "display_name": "Python 3 (ipykernel)",
   "language": "python",
   "name": "python3"
  },
  "language_info": {
   "codemirror_mode": {
    "name": "ipython",
    "version": 3
   },
   "file_extension": ".py",
   "mimetype": "text/x-python",
   "name": "python",
   "nbconvert_exporter": "python",
   "pygments_lexer": "ipython3",
   "version": "3.9.7"
  }
 },
 "nbformat": 4,
 "nbformat_minor": 5
}
