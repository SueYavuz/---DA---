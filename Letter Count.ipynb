{
 "cells": [
  {
   "cell_type": "code",
   "execution_count": 3,
   "id": "c9c20b8f",
   "metadata": {},
   "outputs": [
    {
     "name": "stdout",
     "output_type": "stream",
     "text": [
      "please type a sentences hippo runs to us!\n",
      "{'a': 0, 'e': 0, 'u': 2, 'i': 1, 'o': 2, 'q': 0, 'w': 0, 'r': 1, 't': 1, 'y': 0, 'p': 2, 's': 2, 'd': 0, 'f': 0, 'g': 0, 'h': 1, 'j': 0, 'k': 0, 'l': 0, 'z': 0, 'x': 0, 'c': 0, 'v': 0, 'b': 0, 'n': 1, 'm': 0, '!': 1, '?': 0, '.': 0, ',': 0}\n",
      "[0, 0, 2, 1, 2, 0, 0, 1, 1, 0, 2, 2, 0, 0, 0, 1, 0, 0, 0, 0, 0, 0, 0, 0, 1, 0, 1, 0, 0, 0]\n"
     ]
    }
   ],
   "source": [
    "letters = ['a','e','u','i','o','q','w','r','t','y','p','s','d','f','g','h','j','k','l','z','x','c','v','b','n','m','!','?','.',',']\n",
    "string = input('Please type a sentences '.lower())\n",
    "sentences_letter = {}\n",
    "\n",
    "\n",
    "for i in letters:\n",
    "    count = string.count(i)\n",
    "    sentences_letter[i] = count\n",
    "print(sentences_letter)\n",
    "               \n",
    "new = list(sentences_letter.values())\n",
    "print(new)"
   ]
  },
  {
   "cell_type": "code",
   "execution_count": null,
   "id": "460d3cd9",
   "metadata": {},
   "outputs": [],
   "source": []
  },
  {
   "cell_type": "code",
   "execution_count": null,
   "id": "3ba05758",
   "metadata": {},
   "outputs": [],
   "source": []
  }
 ],
 "metadata": {
  "kernelspec": {
   "display_name": "Python 3 (ipykernel)",
   "language": "python",
   "name": "python3"
  },
  "language_info": {
   "codemirror_mode": {
    "name": "ipython",
    "version": 3
   },
   "file_extension": ".py",
   "mimetype": "text/x-python",
   "name": "python",
   "nbconvert_exporter": "python",
   "pygments_lexer": "ipython3",
   "version": "3.9.7"
  }
 },
 "nbformat": 4,
 "nbformat_minor": 5
}
