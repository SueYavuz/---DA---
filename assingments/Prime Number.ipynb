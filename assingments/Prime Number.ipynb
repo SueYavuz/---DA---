{
 "cells": [
  {
   "cell_type": "code",
   "execution_count": 2,
   "id": "ba41dac6",
   "metadata": {},
   "outputs": [
    {
     "name": "stdout",
     "output_type": "stream",
     "text": [
      "Enter a positive int number to check if it is a Prime Number. 444\n",
      "444  is not a Prime Number.\n"
     ]
    }
   ],
   "source": [
    "n = int(input(\"Enter a positive int number to check if it is a Prime Number. \"))\n",
    "\n",
    "counter = 0\n",
    "\n",
    "for i in range(1, n+1):\n",
    "    if n % i == 0:\n",
    "        counter += 1\n",
    "\n",
    "if (n == 0) or (n == 1) or (counter >= 3):\n",
    "    print(n, ' is not a Prime Number.')\n",
    "\n",
    "else:\n",
    "    print(n, ' is a Prime Nuumber.')"
   ]
  },
  {
   "cell_type": "markdown",
   "id": "eaef64f2",
   "metadata": {},
   "source": [
    "#### "
   ]
  },
  {
   "cell_type": "code",
   "execution_count": null,
   "id": "c996a2a3",
   "metadata": {},
   "outputs": [],
   "source": []
  },
  {
   "cell_type": "code",
   "execution_count": null,
   "id": "baf40c97",
   "metadata": {},
   "outputs": [],
   "source": []
  }
 ],
 "metadata": {
  "kernelspec": {
   "display_name": "Python 3 (ipykernel)",
   "language": "python",
   "name": "python3"
  },
  "language_info": {
   "codemirror_mode": {
    "name": "ipython",
    "version": 3
   },
   "file_extension": ".py",
   "mimetype": "text/x-python",
   "name": "python",
   "nbconvert_exporter": "python",
   "pygments_lexer": "ipython3",
   "version": "3.9.7"
  }
 },
 "nbformat": 4,
 "nbformat_minor": 5
}
