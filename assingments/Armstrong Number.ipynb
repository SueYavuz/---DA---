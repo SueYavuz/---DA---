{
 "cells": [
  {
   "cell_type": "code",
   "execution_count": 3,
   "id": "de47ee63",
   "metadata": {},
   "outputs": [
    {
     "name": "stdout",
     "output_type": "stream",
     "text": [
      "Enter a positive integer number :123\n",
      "123 is not an Amstront Number.\n"
     ]
    }
   ],
   "source": [
    "while True:\n",
    "    \n",
    "    number = input('Enter a positive integer number :')\n",
    "    digits = len(number)\n",
    "    summ = 0\n",
    "    \n",
    "    if not number.isdigit():\n",
    "        print(number, 'is invalid entry. Please enter valid input.')\n",
    "        \n",
    "    elif int(number) >= 0:\n",
    "        for i in range(digits):\n",
    "            \n",
    "            summ = summ + int(number[i]) ** digits\n",
    "            \n",
    "            \n",
    "        if summ == int(number):\n",
    "            print(number, 'is an Armstront Number.')\n",
    "            break\n",
    "                \n",
    "        else: \n",
    "            print(number, 'is not an Amstront Number.')\n",
    "            break        \n",
    "                    \n",
    "                \n",
    "            \n",
    "        "
   ]
  },
  {
   "cell_type": "code",
   "execution_count": null,
   "id": "752b3f22",
   "metadata": {},
   "outputs": [],
   "source": []
  }
 ],
 "metadata": {
  "kernelspec": {
   "display_name": "Python 3 (ipykernel)",
   "language": "python",
   "name": "python3"
  },
  "language_info": {
   "codemirror_mode": {
    "name": "ipython",
    "version": 3
   },
   "file_extension": ".py",
   "mimetype": "text/x-python",
   "name": "python",
   "nbconvert_exporter": "python",
   "pygments_lexer": "ipython3",
   "version": "3.9.7"
  }
 },
 "nbformat": 4,
 "nbformat_minor": 5
}
